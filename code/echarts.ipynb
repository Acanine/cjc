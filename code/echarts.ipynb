{
 "cells": [
  {
   "cell_type": "markdown",
   "metadata": {},
   "source": [
    "pip install echarts-python"
   ]
  },
  {
   "cell_type": "markdown",
   "metadata": {},
   "source": [
    "https://github.com/yufeiminds/echarts-python"
   ]
  },
  {
   "cell_type": "code",
   "execution_count": 3,
   "metadata": {
    "ExecuteTime": {
     "end_time": "2017-05-17T22:27:55.448906",
     "start_time": "2017-05-17T22:27:55.440705"
    },
    "collapsed": false
   },
   "outputs": [
    {
     "data": {
      "text/plain": [
       "<echarts.Echart at 0x10750a750>"
      ]
     },
     "execution_count": 3,
     "metadata": {},
     "output_type": "execute_result"
    }
   ],
   "source": [
    "from echarts import Echart, Legend, Bar, Axis, Line\n",
    "from IPython.display import HTML\n",
    "\n",
    "chart = Echart('GDP', 'This is a fake chart')\n",
    "chart.use(Bar('China', [2, 3, 4, 5]))\n",
    "chart.use(Legend(['GDP']))\n",
    "chart.use(Axis('category', 'bottom', data=['Nov', 'Dec', 'Jan', 'Feb']))\n"
   ]
  },
  {
   "cell_type": "code",
   "execution_count": 6,
   "metadata": {
    "ExecuteTime": {
     "end_time": "2017-05-17T22:28:33.014709",
     "start_time": "2017-05-17T22:28:33.007739"
    },
    "collapsed": false
   },
   "outputs": [
    {
     "data": {
      "text/plain": [
       "<echarts.Echart at 0x10750a890>"
      ]
     },
     "execution_count": 6,
     "metadata": {},
     "output_type": "execute_result"
    }
   ],
   "source": [
    "chart = Echart('GDP', 'This is a fake chart')\n",
    "chart.use(Line('China', [2, 5, 4, 7]))\n",
    "chart.use(Legend(['GDP']))\n",
    "chart.use(Axis('category', 'bottom', data=['Nov', 'Dec', 'Jan', 'Feb']))"
   ]
  },
  {
   "cell_type": "code",
   "execution_count": 7,
   "metadata": {
    "ExecuteTime": {
     "end_time": "2017-05-17T22:28:34.017149",
     "start_time": "2017-05-17T22:28:33.934223"
    },
    "collapsed": true
   },
   "outputs": [],
   "source": [
    "chart.plot()"
   ]
  },
  {
   "cell_type": "code",
   "execution_count": null,
   "metadata": {
    "collapsed": true
   },
   "outputs": [],
   "source": []
  }
 ],
 "metadata": {
  "kernelspec": {
   "display_name": "Python 2",
   "language": "python",
   "name": "python2"
  },
  "language_info": {
   "codemirror_mode": {
    "name": "ipython",
    "version": 2
   },
   "file_extension": ".py",
   "mimetype": "text/x-python",
   "name": "python",
   "nbconvert_exporter": "python",
   "pygments_lexer": "ipython2",
   "version": "2.7.12"
  },
  "latex_envs": {
   "bibliofile": "biblio.bib",
   "cite_by": "apalike",
   "current_citInitial": 1,
   "eqLabelWithNumbers": true,
   "eqNumInitial": 0
  },
  "toc": {
   "toc_cell": false,
   "toc_number_sections": true,
   "toc_threshold": 6,
   "toc_window_display": false
  }
 },
 "nbformat": 4,
 "nbformat_minor": 0
}
