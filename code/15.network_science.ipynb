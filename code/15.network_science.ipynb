{
 "cells": [
  {
   "cell_type": "markdown",
   "metadata": {
    "slideshow": {
     "slide_type": "slide"
    }
   },
   "source": [
    "***\n",
    "***\n",
    "# 网络科学简介\n",
    "***\n",
    "***\n",
    "\n",
    "王成军 \n",
    "\n",
    "wangchengjun@nju.edu.cn\n",
    "\n",
    "计算传播网 http://computational-communication.com"
   ]
  },
  {
   "cell_type": "markdown",
   "metadata": {
    "slideshow": {
     "slide_type": "slide"
    }
   },
   "source": [
    "# FROM SADDAM HUSSEIN TO NETWORK THEORY \n",
    "A SIMPLE STORY (1)      The fate of Saddam and network science\n",
    "\n",
    "- Invasion that started in March 19,  2003. Many of the regime's high ranking officials, including Saddam Hussein, avoided capture. \n",
    "- Hussein was last spotted kissing a baby in Baghdad in April 2003, and then his trace went cold. \n",
    "\n",
    "- Designed a deck of cards, each card engraved with the images of the 55 most wanted. \n",
    "    - It worked: by May 1, 2003, 15 men on the cards were captured, and by the end of the month another 12 were under custody. \n",
    "    - Yet, the ace of spades, i.e. Hussein himself, remained at large.\n",
    "\n",
    "\n",
    "\n"
   ]
  },
  {
   "cell_type": "markdown",
   "metadata": {
    "collapsed": true,
    "slideshow": {
     "slide_type": "slide"
    }
   },
   "source": [
    "<img src = './img/saddam.png' width = 500>"
   ]
  },
  {
   "cell_type": "markdown",
   "metadata": {
    "collapsed": true,
    "slideshow": {
     "slide_type": "slide"
    }
   },
   "source": [
    "The capture of Saddam Hussein:\n",
    "\n",
    "- shows the strong predictive power of networks.  \n",
    "\n",
    "- underlies the need to obtain accurate maps of the networks we aim to study; and the often heroic difficulties we encounter during the mapping process.\n",
    "\n",
    "- demonstrates the remarkable stability of these networks:  The capture of Hussein was not based on fresh intelligence, but rather on his pre-invasion social links, unearthed from old photos stacked in his family album.\n",
    "\n",
    "- shows that the choice of network we focus on makes a huge difference: the hierarchical tree, that captured the official organization of the Iraqi government, was of no use when it came to Saddam Hussein's whereabouts.  \n"
   ]
  },
  {
   "cell_type": "markdown",
   "metadata": {
    "collapsed": true,
    "slideshow": {
     "slide_type": "slide"
    }
   },
   "source": [
    "A SIMPLE STORY (2): August 15, 2003 blackout.\n",
    "\n",
    "<img src='./img/blackout.png' width = 800>\n"
   ]
  },
  {
   "cell_type": "markdown",
   "metadata": {
    "collapsed": true,
    "slideshow": {
     "slide_type": "slide"
    }
   },
   "source": [
    "# VULNERABILITY DUE TO INTERCONNECTIVITY \n",
    "\n",
    "- The 2003 blackout is a typical example of a cascading failure. \n",
    "- 1997, when the International Monetary Fund pressured the central banks of several Pacific nations to limit their credit. \n",
    "- 2009-2011 financial melt-down"
   ]
  },
  {
   "cell_type": "markdown",
   "metadata": {
    "collapsed": true,
    "slideshow": {
     "slide_type": "slide"
    }
   },
   "source": [
    "An important theme of this class:  \n",
    "\n",
    "- we must understand how network structure affects the robustness of a complex system. \n",
    "\n",
    "- develop quantitative tools to assess the interplay between network structure and the dynamical processes on the networks, and their impact on failures.  \n",
    "\n",
    "- We will learn that failures reality failures follow reproducible laws, that can be quantified and even predicted using the tools of network science.\n"
   ]
  },
  {
   "cell_type": "markdown",
   "metadata": {
    "collapsed": true,
    "slideshow": {
     "slide_type": "slide"
    }
   },
   "source": [
    "# NETWORKS AT THE HEART OF COMPLEX SYSTEMS \n"
   ]
  },
  {
   "cell_type": "markdown",
   "metadata": {
    "collapsed": true,
    "slideshow": {
     "slide_type": "slide"
    }
   },
   "source": [
    "# Complex\n",
    "\n",
    "[adj., v. kuh m-pleks, kom-pleks; n. kom-pleks] \n",
    "–adjective \n",
    "- 1. composed of many interconnected parts; compound; composite: a complex highway system. \n",
    "- 2. characterized by a very complicated or involved arrangement of parts, units, etc.: complex machinery. \n",
    "- 3. so complicated or intricate as to be hard to understand or deal with: a complex problem. \n",
    "\t\t\t\tSource: Dictionary.com\n"
   ]
  },
  {
   "cell_type": "markdown",
   "metadata": {
    "collapsed": true,
    "slideshow": {
     "slide_type": "slide"
    }
   },
   "source": [
    "\n",
    "# Complexity\n",
    "\n",
    "a scientific theory which asserts that some systems display behavioral phenomena that are completely inexplicable by any conventional analysis of the systems’ constituent parts. These phenomena, commonly referred to as emergent behaviour, seem to occur in many complex systems involving living organisms, such as a stock market or the human brain.\n",
    " \n",
    "Source: John L. Casti, Encyclopædia Britannica\n",
    " \n"
   ]
  },
  {
   "cell_type": "markdown",
   "metadata": {
    "collapsed": true,
    "slideshow": {
     "slide_type": "slide"
    }
   },
   "source": [
    "# COMPLEX SYSTEMS\n",
    "\n",
    "- society\n",
    "- brain\n",
    "- market\n",
    "- cell\n",
    "\n",
    "## Stephen Hawking: I think the next century will be the century of complexity. "
   ]
  },
  {
   "cell_type": "markdown",
   "metadata": {
    "collapsed": true,
    "slideshow": {
     "slide_type": "slide"
    }
   },
   "source": [
    "# Behind each complex system there is a network, that defines the interactions between the component. \n"
   ]
  },
  {
   "cell_type": "markdown",
   "metadata": {
    "collapsed": true,
    "slideshow": {
     "slide_type": "slide"
    }
   },
   "source": [
    "<img src = './img/facebook.png' width = 800>"
   ]
  },
  {
   "cell_type": "markdown",
   "metadata": {
    "collapsed": true,
    "slideshow": {
     "slide_type": "slide"
    }
   },
   "source": [
    "- Social graph\n",
    "- Organization\n",
    "- Brain\n",
    "- finantial network\n",
    "- business \n",
    "- Internet\n",
    "- Genes"
   ]
  },
  {
   "cell_type": "markdown",
   "metadata": {
    "collapsed": true,
    "slideshow": {
     "slide_type": "slide"
    }
   },
   "source": [
    "Behind each system studied in complexity there is an intricate wiring diagram, or a network, that defines the interactions between the component.   \n",
    "\n",
    "# We will never understand complex system unless we map out and understand the networks behind them.\n",
    "  \n"
   ]
  },
  {
   "cell_type": "markdown",
   "metadata": {
    "collapsed": true,
    "slideshow": {
     "slide_type": "slide"
    }
   },
   "source": [
    "# TWO FORCES HELPED THE EMERGENCE OF NETWORK SCIENCE \n"
   ]
  },
  {
   "cell_type": "markdown",
   "metadata": {
    "collapsed": true,
    "slideshow": {
     "slide_type": "slide"
    }
   },
   "source": [
    "# THE HISTORY OF NETWORK ANALYSIS\n",
    "\n",
    "- Graph theory: 1735, Euler\n",
    "\n",
    "- Social Network Research:  1930s, Moreno\n",
    "\n",
    "- Communication networks/internet: 1960s\n",
    "\n",
    "- Ecological Networks: May, 1979.\n"
   ]
  },
  {
   "cell_type": "markdown",
   "metadata": {
    "collapsed": true,
    "slideshow": {
     "slide_type": "slide"
    }
   },
   "source": [
    "<img src = './img/citation.png' width = 500>"
   ]
  },
  {
   "cell_type": "markdown",
   "metadata": {
    "collapsed": true,
    "slideshow": {
     "slide_type": "slide"
    }
   },
   "source": [
    "\n",
    "While the study of networks has a long history from graph theory to sociology, the modern chapter of network science emerged only during the first decade of the 21st century, following the publication of two seminal papers in 1998 [2] and 1999 [3]. The explosive interest in network science is well documented by the citation pattern of two classic network papers, the 1959 paper by Paul Erdos and Alfréd Rényi that marks the beginning of the study of random networks in graph theory [4] and the 1973 paper by Mark Granovetter, the most cited social network paper [5]. Both papers were hardly or only moderately cited before 2000. The explosive growth of citations to these papers in the 21st century documents the emergence of network science, drawing a new, interdisciplinary audience to these classic publications. \n"
   ]
  },
  {
   "cell_type": "markdown",
   "metadata": {
    "collapsed": true,
    "slideshow": {
     "slide_type": "slide"
    }
   },
   "source": [
    "# THE EMERGENCE OF NETWORK SCIENCE\n",
    "- Movie Actor Network,  1998;\n",
    "- World Wide Web,  1999.\n",
    "- C elegans neural wiring diagram 1990\n",
    "- Citation Network,  1998\n",
    "- Metabolic Network, 2000; \n",
    "- PPI network, 2001\n"
   ]
  },
  {
   "cell_type": "markdown",
   "metadata": {
    "collapsed": true,
    "slideshow": {
     "slide_type": "slide"
    }
   },
   "source": [
    "# The universality of network characteristics: \n",
    "The architecture of networks emerging in various domains of science, nature, and technology are more similar to each other than one would have expected. \n"
   ]
  },
  {
   "cell_type": "markdown",
   "metadata": {
    "collapsed": true,
    "slideshow": {
     "slide_type": "slide"
    }
   },
   "source": [
    "# THE CHARACTERISTICS OF NETWORK SCIENCE \n",
    "- Interdisciplinary \n",
    "- Empirical\n",
    "- Quantitative and Mathematical \n",
    "- Computational \n"
   ]
  },
  {
   "cell_type": "markdown",
   "metadata": {
    "collapsed": true,
    "slideshow": {
     "slide_type": "slide"
    }
   },
   "source": [
    "# THE IMPACT OF NETWORK SCIENCE \n"
   ]
  },
  {
   "cell_type": "markdown",
   "metadata": {
    "collapsed": true,
    "slideshow": {
     "slide_type": "slide"
    }
   },
   "source": [
    "# Google\n",
    "Market Cap(2010 Jan 1): \n",
    "$189 billion\n",
    "\n",
    "# Cisco Systems\n",
    "networking gear Market cap (Jan 1, 2919): \n",
    "$112 billion\n",
    "\n",
    "# Facebook\n",
    "market cap: \n",
    "$50 billion\n"
   ]
  },
  {
   "cell_type": "markdown",
   "metadata": {
    "collapsed": true,
    "slideshow": {
     "slide_type": "slide"
    }
   },
   "source": [
    "# Health: From drug design to metabolic engineering. \n",
    "The human genome project, completed in 2001, offered the first comprehensive list of all human genes. Yet, to fully understand how our cells function, and the origin of disease, we need accurate maps that tell us how these genes and other cellular components interact with each other. "
   ]
  },
  {
   "cell_type": "markdown",
   "metadata": {
    "collapsed": true,
    "slideshow": {
     "slide_type": "slide"
    }
   },
   "source": [
    "# Security: Fighting Terrorism. \n",
    "Terrorism is one of the maladies of the 21st century, absorbing significant resources to combat it worldwide. Network thinking is increasingly present in the arsenal of various law enforcement agencies in charge of limiting terrorist activities. It is used to disrupt the financial network of terrorist organizations, to map terrorist networks, and to uncover the role of their members and their capabilities. While much of the work in this area is classified, several success stories have surfaced. Examples include the use of social networks to capture Saddam Hussein or the capture of the individuals behind the March 11, 2004 Madrid train bombings through the examination of the mobile call net- work. \n"
   ]
  },
  {
   "cell_type": "markdown",
   "metadata": {
    "collapsed": true,
    "slideshow": {
     "slide_type": "slide"
    }
   },
   "source": [
    "# Epidemics: From forecasting to halting deadly viruses. \n",
    "While the H1N1 pandemic was not as devastating as it was feared at the beginning of the outbreak in 2009, it gained a special role in the history of epidemics: it was the first pandemic whose course and time evolution was accurately predicted months before the pandemic reached its peak (Image 1.9) [14]. This was possible thanks to fundamental advances in understanding the role of networks in the spread of viruses. Indeed, before 2000 epidemic modeling was dominated by compartment models, assuming that everyone can infect everyone else one word the same socio-physical compartment. The emergence of a network-based framework has fundamentally changed this, offering a new level of predictability in epidemic phenomena. \n",
    "Today epidemic prediction is one of the most active applications of network science. It is the source several fundamental results, covered in this book, that are used to predict the spread of both biological and electronic viruses. The impact of these advances are felt beyond biological viruses. In January 2010 network science tools have predicted the conditions necessary for the emergence of viruses spreading through mobile phones. The first major mobile epidemic outbreak that started in the fall of 2010 in China, infecting over 300,000 phones each day, closely followed the predicted scenario. \n"
   ]
  },
  {
   "cell_type": "markdown",
   "metadata": {
    "collapsed": true,
    "slideshow": {
     "slide_type": "slide"
    }
   },
   "source": [
    "# Brain Research: Mapping neural network. \n",
    "The human brain, consisting of hundreds of billions of interlinked neurons, is one of the least understood net- works from the perspective of network science. The reason is simple: we lack maps telling us which neurons link to each other. The only fully mapped neural map available for research is that of the C.Elegans worm, with only 300 neurons. Should detailed maps of mammalian brains become available, brain research could become the most prolific application area of network science. Driven by the potential impact of such maps, in 2010 the National Institutes of Health has initiated the Connectome project, aimed at developing the technologies that could provide an accurate neuron-level map of mammalian brains. \n"
   ]
  },
  {
   "cell_type": "markdown",
   "metadata": {
    "collapsed": true,
    "slideshow": {
     "slide_type": "slide"
    }
   },
   "source": [
    "# The Bridges of Konigsberg\n"
   ]
  },
  {
   "cell_type": "markdown",
   "metadata": {
    "collapsed": true,
    "slideshow": {
     "slide_type": "slide"
    }
   },
   "source": [
    "<img src = './img/konigsberg.png' width = 500>"
   ]
  },
  {
   "cell_type": "markdown",
   "metadata": {
    "slideshow": {
     "slide_type": "fragment"
    }
   },
   "source": [
    "# Can one walk across the seven bridges and never cross the same bridge twice and get back to the starting place?     \n"
   ]
  },
  {
   "cell_type": "markdown",
   "metadata": {
    "slideshow": {
     "slide_type": "subslide"
    }
   },
   "source": [
    "Can one walk across the seven bridges and never cross the same bridge twice and get back to the starting place?     \n",
    "\n",
    "<img src ='./img/euler.png' width = 300>"
   ]
  },
  {
   "cell_type": "markdown",
   "metadata": {
    "collapsed": true,
    "slideshow": {
     "slide_type": "slide"
    }
   },
   "source": [
    "1735: Euler’s theorem:\n",
    "\n",
    "- If a graph has more than two nodes of odd degree, there is no path. \n",
    "- If a graph is connected and has no odd degree nodes, it has at least one path.\n"
   ]
  },
  {
   "cell_type": "markdown",
   "metadata": {
    "slideshow": {
     "slide_type": "slide"
    }
   },
   "source": [
    "COMPONENTS OF A COMPLEX SYSTEM\n",
    "\n",
    "# Networks and graphs\n",
    " - components: nodes, vertices\t\t  N\n",
    " - interactions:  links, edges\t\t\t   L\n",
    " - system:  \t  network, graph\t\t(N,L)\n"
   ]
  },
  {
   "cell_type": "markdown",
   "metadata": {
    "slideshow": {
     "slide_type": "subslide"
    }
   },
   "source": [
    "network often refers to real systems\n",
    "- www, \n",
    "- social network\n",
    "- metabolic network. \n",
    "\n",
    "Language: (Network, node, link)\n"
   ]
  },
  {
   "cell_type": "markdown",
   "metadata": {
    "slideshow": {
     "slide_type": "subslide"
    }
   },
   "source": [
    "graph: mathematical representation of a network\n",
    "- web graph, \n",
    "- social graph (a Facebook term)\n",
    "\n",
    "Language: (Graph, vertex, edge)\n"
   ]
  },
  {
   "cell_type": "markdown",
   "metadata": {
    "slideshow": {
     "slide_type": "subslide"
    }
   },
   "source": [
    "<img src = './img/net.png' width = 800>"
   ]
  },
  {
   "cell_type": "markdown",
   "metadata": {
    "slideshow": {
     "slide_type": "subslide"
    }
   },
   "source": [
    "# CHOOSING A PROPER REPRESENTATION\n",
    "\n",
    "The choice of the proper network representation determines our ability to use network theory successfully.\n",
    "\n",
    "In some cases there is a unique, unambiguous representation. \n",
    "In other cases, the representation is by no means unique.\n",
    " \n",
    "For example, the way we assign the links between a group of individuals will determine the nature of the question we can study.\n"
   ]
  },
  {
   "cell_type": "markdown",
   "metadata": {
    "slideshow": {
     "slide_type": "slide"
    }
   },
   "source": [
    "If you connect individuals that work with each other, you will explore the professional network.\n",
    "\n",
    "http://www.theyrule.net"
   ]
  },
  {
   "cell_type": "markdown",
   "metadata": {
    "collapsed": true,
    "slideshow": {
     "slide_type": "fragment"
    }
   },
   "source": [
    "If you connect those that have a romantic and sexual relationship, you will be exploring the sexual networks.\n"
   ]
  },
  {
   "cell_type": "markdown",
   "metadata": {
    "collapsed": true,
    "slideshow": {
     "slide_type": "fragment"
    }
   },
   "source": [
    "If you connect individuals based on their first name (all Peters connected to each other), you will be exploring what? \n",
    "\n",
    "# It is a network, nevertheless.\n"
   ]
  },
  {
   "cell_type": "markdown",
   "metadata": {
    "collapsed": true,
    "slideshow": {
     "slide_type": "fragment"
    }
   },
   "source": [
    "# UNDIRECTED VS. DIRECTED NETWORKS\n"
   ]
  },
  {
   "cell_type": "markdown",
   "metadata": {
    "collapsed": true,
    "slideshow": {
     "slide_type": "fragment"
    }
   },
   "source": [
    "# Undirected\n",
    "Links: undirected\n",
    "- coauthorship \n",
    "- actor network\n",
    "- protein interactions"
   ]
  },
  {
   "cell_type": "code",
   "execution_count": 13,
   "metadata": {
    "collapsed": false,
    "slideshow": {
     "slide_type": "fragment"
    }
   },
   "outputs": [
    {
     "data": {
      "image/png": "[encoded data removed]",
      "text/plain": [
       "<matplotlib.figure.Figure at 0x10f133910>"
      ]
     },
     "metadata": {},
     "output_type": "display_data"
    }
   ],
   "source": [
    "%matplotlib inline\n",
    "import matplotlib.pyplot as plt\n",
    "\n",
    "import networkx as nx\n",
    "Gu = nx.Graph()\n",
    "for i, j in [(1, 2), (2, 3), (3, 4), (1, 3)]:\n",
    "    Gu.add_edge(i,j)\n",
    "nx.draw(Gu, with_labels = True)\n"
   ]
  },
  {
   "cell_type": "markdown",
   "metadata": {
    "collapsed": true,
    "slideshow": {
     "slide_type": "fragment"
    }
   },
   "source": [
    "# Directed\n",
    "Links: directed\n",
    "- urls on the www\n",
    "- phone callss\n",
    "- metabolic reactions"
   ]
  },
  {
   "cell_type": "code",
   "execution_count": 14,
   "metadata": {
    "collapsed": false,
    "slideshow": {
     "slide_type": "fragment"
    }
   },
   "outputs": [
    {
     "data": {
      "image/png": "[encoded data removed]",
      "text/plain": [
       "<matplotlib.figure.Figure at 0x10f56e7d0>"
      ]
     },
     "metadata": {},
     "output_type": "display_data"
    }
   ],
   "source": [
    "import networkx as nx\n",
    "Gd = nx.DiGraph()\n",
    "for i, j in [(1, 2), (2, 3), (3, 4), (1, 3)]:\n",
    "    Gd.add_edge(i,j)\n",
    "nx.draw(Gd, with_labels = True)"
   ]
  },
  {
   "cell_type": "markdown",
   "metadata": {
    "collapsed": true,
    "slideshow": {
     "slide_type": "fragment"
    }
   },
   "source": [
    "<img src = './img/networks.png' width = 1000>"
   ]
  },
  {
   "cell_type": "markdown",
   "metadata": {
    "collapsed": true,
    "slideshow": {
     "slide_type": "fragment"
    }
   },
   "source": [
    "# Degree, Average Degree and Degree Distribution\n"
   ]
  },
  {
   "cell_type": "code",
   "execution_count": 15,
   "metadata": {
    "collapsed": false,
    "slideshow": {
     "slide_type": "fragment"
    }
   },
   "outputs": [
    {
     "data": {
      "image/png": "[encoded data removed]",
      "text/plain": [
       "<matplotlib.figure.Figure at 0x10e6fd310>"
      ]
     },
     "metadata": {},
     "output_type": "display_data"
    }
   ],
   "source": [
    "nx.draw(Gu, with_labels = True)"
   ]
  },
  {
   "cell_type": "markdown",
   "metadata": {
    "collapsed": true,
    "slideshow": {
     "slide_type": "fragment"
    }
   },
   "source": [
    "# Undirected network: \n",
    "Node degree: the number of links connected to the node.\n",
    "## $k_1 = k_2 = 2, k_3 = 3, k_4 = 1$"
   ]
  },
  {
   "cell_type": "code",
   "execution_count": 16,
   "metadata": {
    "collapsed": false,
    "slideshow": {
     "slide_type": "fragment"
    }
   },
   "outputs": [
    {
     "data": {
      "image/png": "[encoded data removed]",
      "text/plain": [
       "<matplotlib.figure.Figure at 0x10f24f310>"
      ]
     },
     "metadata": {},
     "output_type": "display_data"
    }
   ],
   "source": [
    "nx.draw(Gd, with_labels = True)"
   ]
  },
  {
   "cell_type": "markdown",
   "metadata": {
    "collapsed": true,
    "slideshow": {
     "slide_type": "fragment"
    }
   },
   "source": [
    "# Directed network\n",
    "In directed networks we can define an in-degree and out-degree. The (total) degree is the sum of in-and out-degree.\n",
    "\n",
    "##  $k_3^{in} = 2, k_3^{out} = 1, k_3 = 3$\n",
    "\n",
    "Source: a node with $k^{in}= 0$; Sink: a node with $k^{out}= 0$.\n"
   ]
  },
  {
   "cell_type": "markdown",
   "metadata": {
    "collapsed": true,
    "slideshow": {
     "slide_type": "fragment"
    }
   },
   "source": [
    "For a sample of N values: $x_1, x_2, ..., x_N$:\n",
    "\n",
    "# Average(mean):\n",
    "\n",
    "## $<x> = \\frac{x_1 +x_2 + ...+x_N}{N} = \\frac{1}{N}\\sum_{i = 1}^{N} x_i$ "
   ]
  },
  {
   "cell_type": "markdown",
   "metadata": {
    "collapsed": true,
    "slideshow": {
     "slide_type": "fragment"
    }
   },
   "source": [
    "For a sample of N values: $x_1, x_2, ..., x_N$:\n",
    "\n",
    "# The nth moment:\n",
    "\n",
    "## $<x^n> = \\frac{x_1^n +x_2^n + ...+x_N^n}{N} = \\frac{1}{N}\\sum_{i = 1}^{N} x_i^n$ "
   ]
  },
  {
   "cell_type": "markdown",
   "metadata": {
    "collapsed": true,
    "slideshow": {
     "slide_type": "fragment"
    }
   },
   "source": [
    "For a sample of N values: $x_1, x_2, ..., x_N$:\n",
    "\n",
    "# Standard deviation:\n",
    "\n",
    "## $\\sigma_x = \\sqrt{\\frac{1}{N}\\sum_{i = 1}^{N} (x_i - <x>)^2}$ "
   ]
  },
  {
   "cell_type": "markdown",
   "metadata": {
    "collapsed": true,
    "slideshow": {
     "slide_type": "fragment"
    }
   },
   "source": [
    "For a sample of N values: $x_1, x_2, ..., x_N$:\n",
    "\n",
    "# Distribution of x:\n",
    "\n",
    "$<x> = \\frac{x_1 +x_2 + ...+x_N}{N} = \\frac{1}{N}\\sum_{i = 1}^{N} x_i$ "
   ]
  },
  {
   "cell_type": "code",
   "execution_count": 20,
   "metadata": {
    "collapsed": false
   },
   "outputs": [
    {
     "data": {
      "text/plain": [
       "(1.6666666666666667, 10, 0.7453559924999299)"
      ]
     },
     "execution_count": 20,
     "metadata": {},
     "output_type": "execute_result"
    }
   ],
   "source": [
    "import numpy as np\n",
    "x = [1, 1, 1, 2, 2, 3]\n",
    "np.mean(x), np.sum(x), np.std(x)"
   ]
  },
  {
   "cell_type": "code",
   "execution_count": 22,
   "metadata": {
    "collapsed": false
   },
   "outputs": [
    {
     "data": {
      "image/png": "[encoded data removed]",
      "text/plain": [
       "<matplotlib.figure.Figure at 0x10e7cac50>"
      ]
     },
     "metadata": {},
     "output_type": "display_data"
    }
   ],
   "source": [
    "plt.hist(x)\n",
    "plt.show()"
   ]
  },
  {
   "cell_type": "code",
   "execution_count": 25,
   "metadata": {
    "collapsed": false
   },
   "outputs": [
    {
     "data": {
      "text/plain": [
       "[2, 2, 3, 1]"
      ]
     },
     "execution_count": 25,
     "metadata": {},
     "output_type": "execute_result"
    }
   ],
   "source": [
    "Gu.degree().values()"
   ]
  },
  {
   "cell_type": "code",
   "execution_count": 26,
   "metadata": {
    "collapsed": false
   },
   "outputs": [
    {
     "data": {
      "text/plain": [
       "[0, 1, 2, 1]"
      ]
     },
     "execution_count": 26,
     "metadata": {},
     "output_type": "execute_result"
    }
   ],
   "source": [
    "nx.degree_histogram(Gu)"
   ]
  },
  {
   "cell_type": "code",
   "execution_count": null,
   "metadata": {
    "collapsed": true
   },
   "outputs": [],
   "source": []
  }
 ],
 "metadata": {
  "celltoolbar": "Slideshow",
  "kernelspec": {
   "display_name": "Python 2",
   "language": "python",
   "name": "python2"
  },
  "language_info": {
   "codemirror_mode": {
    "name": "ipython",
    "version": 2
   },
   "file_extension": ".py",
   "mimetype": "text/x-python",
   "name": "python",
   "nbconvert_exporter": "python",
   "pygments_lexer": "ipython2",
   "version": "2.7.11"
  }
 },
 "nbformat": 4,
 "nbformat_minor": 0
}
