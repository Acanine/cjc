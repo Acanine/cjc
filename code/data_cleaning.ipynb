{
 "cells": [
  {
   "cell_type": "code",
   "execution_count": 18,
   "metadata": {
    "collapsed": true
   },
   "outputs": [],
   "source": [
    "with open(\"/Users/chengjun/百度云同步盘/Computational Communication/Data/占中数据20150328/zz-hk-2013.1-2013.3.rtf\") as f:\n",
    "   news = f.readlines()"
   ]
  },
  {
   "cell_type": "code",
   "execution_count": 19,
   "metadata": {
    "collapsed": true
   },
   "outputs": [],
   "source": [
    "\n",
    "def stringclean(s):\n",
    "    s = s.replace(r'\\loch\\af0\\hich\\af0\\dbch\\f15 \\b\\cf6 ', '')\n",
    "    s = s.replace(r'\\loch\\af0\\hich\\af0\\dbch\\f15 \\b0\\cf0 ', '')\n",
    "    s = s.replace('\\par', '').replace('\\n', '')\n",
    "    return s\n",
    "    \n",
    "def readblocks(data):\n",
    "    copy = False\n",
    "    n = 0\n",
    "    block = []\n",
    "    for i in data:\n",
    "        if \"~~~~~~~~~~~~~~~~~~~~~~~~~~  #\" in i:\n",
    "            copy = True\n",
    "        elif \"文章编号:\" in i:\n",
    "            id = stringclean(i).replace('文章编号: ', '')\n",
    "            source, date = stringclean(block[0]).split('|')\n",
    "            info = stringclean(block[1]).split('|')\n",
    "            section = info[0]\n",
    "            att = info[1]\n",
    "            if len(info) ==3:  \n",
    "                title1 = info[2]\n",
    "                author = ''\n",
    "            elif len(info) == 4:\n",
    "                title1 = info[2]\n",
    "                author = info[3]\n",
    "            else:\n",
    "                title1 = ''\n",
    "                author = ''\n",
    "            title2 = stringclean(block[3])\n",
    "            body = [j for j in block[6:] if j != '\\n']\n",
    "            body = ' '.join(body)\n",
    "            body = stringclean(body)\n",
    "            body = '\"' + body  + '\"'\n",
    "            print id, source, date#, section, att, title1, title2, author#, body\n",
    "            block = []\n",
    "            n += 1\n",
    "            copy = False\n",
    "        elif copy:\n",
    "            block.append(i)\n",
    "    return block\n",
    "\n",
    "\n"
   ]
  },
  {
   "cell_type": "code",
   "execution_count": 20,
   "metadata": {
    "collapsed": false
   },
   "outputs": [],
   "source": [
    "news = readblocks(news)"
   ]
  },
  {
   "cell_type": "code",
   "execution_count": 21,
   "metadata": {
    "collapsed": false
   },
   "outputs": [
    {
     "data": {
      "text/plain": [
       "22003"
      ]
     },
     "execution_count": 21,
     "metadata": {},
     "output_type": "execute_result"
    }
   ],
   "source": [
    "len(news)"
   ]
  },
  {
   "cell_type": "code",
   "execution_count": 22,
   "metadata": {
    "collapsed": false
   },
   "outputs": [
    {
     "name": "stdout",
     "output_type": "stream",
     "text": [
      "~~~~~~~~~~~~~~~~~~~~~~~~~~~~~~~~~~~~~~~~~~~~~~~~~~~~~~~~~~ \\par\n",
      "\n"
     ]
    }
   ],
   "source": [
    "print news[5]"
   ]
  },
  {
   "cell_type": "code",
   "execution_count": null,
   "metadata": {
    "collapsed": true
   },
   "outputs": [],
   "source": []
  }
 ],
 "metadata": {
  "kernelspec": {
   "display_name": "Python 2",
   "language": "python",
   "name": "python2"
  },
  "language_info": {
   "codemirror_mode": {
    "name": "ipython",
    "version": 2
   },
   "file_extension": ".py",
   "mimetype": "text/x-python",
   "name": "python",
   "nbconvert_exporter": "python",
   "pygments_lexer": "ipython2",
   "version": "2.7.11"
  }
 },
 "nbformat": 4,
 "nbformat_minor": 0
}
