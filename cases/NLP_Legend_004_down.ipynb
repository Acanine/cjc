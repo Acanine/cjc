{
 "cells": [
  {
   "cell_type": "markdown",
   "metadata": {},
   "source": [
    "![](http://wiki.swarma.net/images/e/e7/集智AI学园首页左上角logo_2017.8.17.png)"
   ]
  },
  {
   "cell_type": "markdown",
   "metadata": {},
   "source": [
    "# AI 有嘻哈 "
   ]
  },
  {
   "cell_type": "markdown",
   "metadata": {},
   "source": [
    "最近“中国有嘻哈”特别火。\n",
    "\n",
    "我也来跟风，所以本周的 NLP 教程是拿循环神经网络（RNN）来生成嘻哈歌词。\n",
    "\n",
    "先让我们看看一个简单的深度神经网络模型，能生成什么样的“嘻哈歌词”。"
   ]
  },
  {
   "cell_type": "markdown",
   "metadata": {},
   "source": [
    "```bash\n",
    "我的世界\n",
    "能够有\n",
    "看透\n",
    "我的兄弟在我身边\n",
    "每个人\n",
    "或许他们是我的眼\n",
    "我的能够将别约别约我\n",
    "\n",
    "在这种角度\n",
    "我就是你你的帮派\n",
    "他们的声音\n",
    "原本地方叫\n",
    "别约你约我\n",
    "别约我\n",
    "别约我\n",
    "```"
   ]
  },
  {
   "cell_type": "markdown",
   "metadata": {},
   "source": [
    "还不错哈！"
   ]
  },
  {
   "cell_type": "markdown",
   "metadata": {},
   "source": [
    "## 原理"
   ]
  },
  {
   "cell_type": "markdown",
   "metadata": {},
   "source": [
    "简单来说，中文句子中的每个字在统计上是相关的。比如对于“多想你陪我透透气”这句话，如果我们知道第一个字“多”，那下一字有可能是“想”；如果知道前两个字“多想”，那么第三个字是“你”的可能性就大些，以此类推，如果知道“多想你陪我透透”，那么最后一个字很有可能就是“气”字。"
   ]
  },
  {
   "cell_type": "markdown",
   "metadata": {},
   "source": [
    "<img src=\"http://thumbsnap.com/s/T1pYyFE0.jpg\" alt=\"Free Photo Sharing by ThumbSnap\" />"
   ]
  },
  {
   "cell_type": "markdown",
   "metadata": {},
   "source": [
    "所以这次搭建的循环神经网络（RNN）模型，就是要在训练的过程中学习到“歌词之间的规律”。\n",
    "\n",
    "我们只要给训练好的模型一个开头，比如“我们”，模型就能按照学习到的规律，继续预测生成“我们”之后的嘻哈歌词。"
   ]
  },
  {
   "cell_type": "markdown",
   "metadata": {},
   "source": [
    "## 清理训练数据"
   ]
  },
  {
   "cell_type": "markdown",
   "metadata": {},
   "source": [
    "首先准备训练模型的数据。\n",
    "\n",
    "我从网上爬了大约三万四千行嘻哈歌词（想知道我怎么爬的么？请持续关注集智AI学园）。"
   ]
  },
  {
   "cell_type": "code",
   "execution_count": 2,
   "metadata": {},
   "outputs": [
    {
     "name": "stdout",
     "output_type": "stream",
     "text": [
      "['\\n', ' 作曲 : Mixtape\\n', ' 作词 : 啊之\\n', '\\n', '录音 MISO MUSIC\\n', '混缩 MAI\\n', 'MIX BY MAI\\n', \"hey baby Don't worry\\n\", \"hey baby Don't worry\\n\", \"hey baby Don't worry\\n\", \"hey baby Don't worry\\n\", '抱歉我依旧不稳定 DAMN\\n', '鱼龙混杂的街头不只靠努力 REAL 别烦恼\\n', '多想你陪我透透气 发发牢骚\\n', '倾诉着最近不如意 let me let me\\n', '这就是生活里 的问题 不必不报忧\\n', '做真实的自己 不用比 早晚都能够\\n', '我始终担心你 出问题 人心难看透\\n', '我怎么都可以 唯有你 所以 所以\\n', '我早已日夜颠倒 烟酒成瘾 制作巧克力\\n']\n"
     ]
    }
   ],
   "source": [
    "lrc_lines = open('../data/rapper.txt').readlines()\n",
    "print(lrc_lines[:20])"
   ]
  },
  {
   "cell_type": "markdown",
   "metadata": {},
   "source": [
    "### 去除无关信息"
   ]
  },
  {
   "cell_type": "markdown",
   "metadata": {},
   "source": [
    "歌词中包含“作词”，“作曲”等信息，这对训练模型生成歌词是没有任何帮助的，先去掉他们。"
   ]
  },
  {
   "cell_type": "code",
   "execution_count": 3,
   "metadata": {
    "collapsed": true
   },
   "outputs": [],
   "source": [
    "# 去除文本中不是属于歌词的行\n",
    "# 我的程序写的都比较水啦\n",
    "# 大家可以自由发挥写出更好的程序\n",
    "for i in range(len(lrc_lines)):\n",
    "    line = lrc_lines[i]\n",
    "    if \"作词\" in line or \"作曲\" in line or \"编曲\" in line or \"录音\" in line or \"混缩\" in line or \"制作人\" in line:\n",
    "        lrc_lines[i] = \"\\n\""
   ]
  },
  {
   "cell_type": "markdown",
   "metadata": {},
   "source": [
    "观察下已经去除作者信息的歌词文本："
   ]
  },
  {
   "cell_type": "code",
   "execution_count": 4,
   "metadata": {
    "scrolled": false
   },
   "outputs": [
    {
     "name": "stdout",
     "output_type": "stream",
     "text": [
      "['\\n', '\\n', '\\n', '\\n', '\\n', '\\n', 'MIX BY MAI\\n', \"hey baby Don't worry\\n\", \"hey baby Don't worry\\n\", \"hey baby Don't worry\\n\", \"hey baby Don't worry\\n\", '抱歉我依旧不稳定 DAMN\\n', '鱼龙混杂的街头不只靠努力 REAL 别烦恼\\n', '多想你陪我透透气 发发牢骚\\n', '倾诉着最近不如意 let me let me\\n', '这就是生活里 的问题 不必不报忧\\n', '做真实的自己 不用比 早晚都能够\\n', '我始终担心你 出问题 人心难看透\\n', '我怎么都可以 唯有你 所以 所以\\n', '我早已日夜颠倒 烟酒成瘾 制作巧克力\\n']\n"
     ]
    }
   ],
   "source": [
    "print(lrc_lines[:20])"
   ]
  },
  {
   "cell_type": "markdown",
   "metadata": {},
   "source": [
    "可以看到现在歌词中还包括一些英文，这是嘻哈的特色。"
   ]
  },
  {
   "cell_type": "markdown",
   "metadata": {},
   "source": [
    "### 减少语言种类"
   ]
  },
  {
   "cell_type": "markdown",
   "metadata": {},
   "source": [
    "训练数据中存在的语言种类越多，意味着深度神经网络模型学习起来的难度越大。\n",
    "\n",
    "因为这次做的是一个简单的模型，所以我不打算让模型再去预测英文歌词，所以我要把歌词中的英文去掉。"
   ]
  },
  {
   "cell_type": "code",
   "execution_count": 5,
   "metadata": {
    "scrolled": true
   },
   "outputs": [
    {
     "name": "stdout",
     "output_type": "stream",
     "text": [
      "['抱歉我依旧不稳定\\n', '鱼龙混杂的街头不只靠努力\\n', '别烦恼\\n', '多想你陪我透透气\\n', '发发牢骚\\n', '倾诉着最近不如意\\n', '这就是生活里\\n', '的问题\\n', '不必不报忧\\n', '做真实的自己\\n']\n"
     ]
    }
   ],
   "source": [
    "import re\n",
    "\n",
    "final_lrc = []\n",
    "# 使用正则表达式的手段识别中文\n",
    "# 中文（包括繁体）在unicode中的编码范围是u4e00~u9fa5\n",
    "zhPattern = re.compile(u'[\\u4e00-\\u9fa5]+')\n",
    "\n",
    "# 遍历所有歌词行\n",
    "for line in lrc_lines:\n",
    "    # findall会返回一个列表\n",
    "    zh_list = zhPattern.findall(line)\n",
    "    # 将中文拷贝到 final_lrc 中去\n",
    "    for item in zh_list:\n",
    "        final_lrc.append(item + '\\n')\n",
    "\n",
    "# 这样就只剩中文啦！\n",
    "print(final_lrc[:10])"
   ]
  },
  {
   "cell_type": "markdown",
   "metadata": {},
   "source": [
    "## 建立“字典”"
   ]
  },
  {
   "cell_type": "markdown",
   "metadata": {},
   "source": [
    "还是像之前一样对所有文字建立一个“文字表”，因为其中元素都是独立的汉字，所以这次我们称它为“字典”。\n",
    "\n",
    "在字典中所有的文字都会有对应的一个索引号。\n",
    "\n",
    "在训练神经网络模型的时候，传入神经网络的是某个字的“索引号”，而不是这个字本身。"
   ]
  },
  {
   "cell_type": "code",
   "execution_count": 6,
   "metadata": {
    "scrolled": true
   },
   "outputs": [
    {
     "name": "stdout",
     "output_type": "stream",
     "text": [
      "蜚 : 1687\n",
      "减 : 1873\n",
      "顺 : 120\n",
      "九 : 1476\n",
      "呀 : 1786\n",
      "圆 : 1628\n",
      "瓣 : 3474\n",
      "霜 : 3012\n",
      "锡 : 3346\n",
      "撑 : 1642\n"
     ]
    }
   ],
   "source": [
    "# 字典\n",
    "word_to_ix = {}\n",
    "\n",
    "for line in final_lrc:\n",
    "    for word in line:\n",
    "        if word not in word_to_ix:\n",
    "            # 在单词表的末端添加这个单词\n",
    "            word_to_ix[word] = len(word_to_ix)\n",
    "            \n",
    "# 打印出字典中的前10个元素，注意它是无序的\n",
    "for i, key in zip(range(10), word_to_ix):\n",
    "    print(key, \":\", word_to_ix[key])"
   ]
  },
  {
   "cell_type": "markdown",
   "metadata": {},
   "source": [
    "除了“字典”，还需要建立一个“有序列表”。\n",
    "\n",
    "“有序列表”就是将“字典”按照索引号从小到大的顺序排序。"
   ]
  },
  {
   "cell_type": "code",
   "execution_count": 7,
   "metadata": {},
   "outputs": [
    {
     "name": "stdout",
     "output_type": "stream",
     "text": [
      "['抱', '歉', '我', '依', '旧', '不', '稳', '定', '\\n', '鱼']\n",
      "抱 : 0\n",
      "歉 : 1\n",
      "我 : 2\n",
      "依 : 3\n",
      "旧 : 4\n",
      "不 : 5\n",
      "稳 : 6\n",
      "定 : 7\n",
      "\n",
      " : 8\n",
      "鱼 : 9\n"
     ]
    }
   ],
   "source": [
    "import operator\n",
    "# 排序\n",
    "sorted_char_list = sorted(word_to_ix.items(), key=operator.itemgetter(1), reverse=False) \n",
    "\n",
    "# 有序列表\n",
    "# 这里注意字典是“dict”类型\n",
    "# 有序列表是“list”类型\n",
    "char_list = []\n",
    "for item in sorted_char_list:\n",
    "    char_list.append(item[0])\n",
    "\n",
    "# 有序列表中的元素\n",
    "print(char_list[:10])\n",
    "\n",
    "# 观察有序列表中的元素即字典的有序排列\n",
    "for ch in char_list[:10]:\n",
    "    print(ch, \":\", word_to_ix[ch])"
   ]
  },
  {
   "cell_type": "markdown",
   "metadata": {},
   "source": [
    "“字典”的长度代表训练数据中有多少不同的字，这个长度即是我们模型输入层的大小，我们建立一个变量 `nn_characters` 来保存它。"
   ]
  },
  {
   "cell_type": "code",
   "execution_count": 8,
   "metadata": {},
   "outputs": [
    {
     "name": "stdout",
     "output_type": "stream",
     "text": [
      "3801\n"
     ]
    }
   ],
   "source": [
    "n_characters = len(word_to_ix)\n",
    "print(n_characters)"
   ]
  },
  {
   "cell_type": "markdown",
   "metadata": {},
   "source": [
    "## 训练前的准备"
   ]
  },
  {
   "cell_type": "markdown",
   "metadata": {},
   "source": [
    "### 数据随机选择器"
   ]
  },
  {
   "cell_type": "markdown",
   "metadata": {},
   "source": [
    "这次搭建的神经网络模型是“字符级”的，即每次输入“一个字”。\n",
    "\n",
    "所以先要把上面处理过后的“一条条”的数据，都保存到一个“大字符串”里，便于随机取用。"
   ]
  },
  {
   "cell_type": "code",
   "execution_count": 9,
   "metadata": {
    "scrolled": true
   },
   "outputs": [
    {
     "name": "stdout",
     "output_type": "stream",
     "text": [
      "抱歉我依旧不稳定\n",
      "鱼龙混杂的街头不只靠努\n"
     ]
    }
   ],
   "source": [
    "big_string = ''\n",
    "for line in final_lrc:\n",
    "    for ch in line:\n",
    "        big_string += ch\n",
    "        \n",
    "print(big_string[:20])"
   ]
  },
  {
   "cell_type": "markdown",
   "metadata": {},
   "source": [
    "然后我们再编写一个工具方法“random_chunk”，用于每次从训练数据中随机选择201个字。"
   ]
  },
  {
   "cell_type": "code",
   "execution_count": 10,
   "metadata": {
    "scrolled": true
   },
   "outputs": [
    {
     "name": "stdout",
     "output_type": "stream",
     "text": [
      "201\n"
     ]
    }
   ],
   "source": [
    "import random\n",
    "\n",
    "chunk_len = 200\n",
    "\n",
    "# 随机选取200 + 1个字符的数据\n",
    "def random_chunk():\n",
    "    # 起点的可选范围：0 ~ final_lrc_len-chunk_len\n",
    "    start_index = random.randrange(0, len(big_string) - chunk_len)\n",
    "    end_index = start_index + chunk_len + 1\n",
    "    # 将抽取的列表项转化为字符串再返回\n",
    "    return big_string[start_index:end_index]\n",
    "\n",
    "result = random_chunk()\n",
    "print(len(result))"
   ]
  },
  {
   "cell_type": "markdown",
   "metadata": {},
   "source": [
    "注意这里选取的字符串长度实际为201，为什么是201，到下面建立输入和目标数据的时候你就知道。"
   ]
  },
  {
   "cell_type": "markdown",
   "metadata": {},
   "source": [
    "### 将数据转化为张量（Tensor）"
   ]
  },
  {
   "cell_type": "markdown",
   "metadata": {},
   "source": [
    "建立一个辅助方法“char_tensor”，用于将文字转化为张量（Tensor）。\n",
    "\n",
    "张量中保存的是文字对应的索引。"
   ]
  },
  {
   "cell_type": "code",
   "execution_count": 11,
   "metadata": {
    "scrolled": true
   },
   "outputs": [
    {
     "name": "stdout",
     "output_type": "stream",
     "text": [
      "201\n",
      "Variable containing:\n",
      "  189\n",
      " 1325\n",
      " 1019\n",
      "    5\n",
      "  863\n",
      " 3088\n",
      "    8\n",
      "    5\n",
      "   24\n",
      "  253\n",
      "[torch.LongTensor of size 10]\n",
      "\n"
     ]
    }
   ],
   "source": [
    "import torch\n",
    "import torch.nn as nn\n",
    "from torch.autograd import Variable\n",
    "\n",
    "def char_tensor(string):\n",
    "    # 先按指定长度创建一个longTensor，填充0\n",
    "    tensor = torch.zeros(len(string)).long()\n",
    "    # 逐字查找字典\n",
    "    # 取出每个字的索引号，保存到 Tensor 中\n",
    "    for c in range(len(string)):\n",
    "        tensor[c] = word_to_ix[string[c]]\n",
    "    return Variable(tensor)\n",
    "\n",
    "# 来试试这个方法\n",
    "index_tensor = char_tensor(random_chunk())\n",
    "\n",
    "# 查看 Tensor 长度\n",
    "print(len(index_tensor))\n",
    "# 查看 Tensor 中保存的索引\n",
    "print(index_tensor[:10])"
   ]
  },
  {
   "cell_type": "markdown",
   "metadata": {},
   "source": [
    "### 输入和目标"
   ]
  },
  {
   "cell_type": "markdown",
   "metadata": {},
   "source": [
    "上面我们建立了“random_chunk”，用于选取201条数据。\n",
    "\n",
    "为什么是201条？让我们回头看看文章开头的那张图：\n",
    "\n",
    "<a href=\"http://thumbsnap.com/T1pYyFE0\" title=\"Image Hosted by ThumbSnap\"><img src=\"http://thumbsnap.com/s/T1pYyFE0.jpg\" alt=\"Free Photo Sharing by ThumbSnap\" /></a>\n"
   ]
  },
  {
   "cell_type": "markdown",
   "metadata": {},
   "source": [
    "RNN 模型在输入“多”时，需要预测出“想”；在输入“想”时，需要预测“你”。\n",
    "\n",
    "即如果我们随机选取的总数据是“多想你陪我透透气”，那么训练输入数据是“多想你陪我”，训练目标数据是“想你陪我透透气”。\n",
    "\n",
    "训练输入数据与训练目标数据正好错开一个字，那么当我们选取了201条数据，那输入数据和目标数据就正好是各200条。"
   ]
  },
  {
   "cell_type": "code",
   "execution_count": 12,
   "metadata": {},
   "outputs": [
    {
     "name": "stdout",
     "output_type": "stream",
     "text": [
      "200\n",
      "200\n"
     ]
    }
   ],
   "source": [
    "def random_training_set():    \n",
    "    # 先选取201字符长度的文本\n",
    "    chunk = random_chunk()\n",
    "    # 将选取的文本全部转化为 Tensor\n",
    "    inp = char_tensor(chunk[:-1])\n",
    "    target = char_tensor(chunk[1:])\n",
    "    return inp, target\n",
    "\n",
    "inp, target = random_training_set()\n",
    "print(len(inp))\n",
    "print(len(target))"
   ]
  },
  {
   "cell_type": "markdown",
   "metadata": {},
   "source": [
    "到这里我们在训练前要做的准备就全部完成了，下面要做的就是搭建模型、训练模型、评估模型了。\n",
    "\n",
    "为了控制篇幅长度，对模型操作的内容我都放在“终篇”中了。不出意外的话，“终篇”将在周五晚间放出，敬请期待！"
   ]
  },
  {
   "cell_type": "markdown",
   "metadata": {},
   "source": [
    "# AI 有嘻哈 终篇"
   ]
  },
  {
   "cell_type": "markdown",
   "metadata": {},
   "source": [
    "我们在上节课中说到要用循环神经网络生成嘻哈说唱词，它能生成的说唱词是这个样子的："
   ]
  },
  {
   "cell_type": "markdown",
   "metadata": {},
   "source": [
    "```bash\n",
    "我的世界\n",
    "能够有\n",
    "看透\n",
    "我的兄弟在我身边\n",
    "每个人\n",
    "或许他们是我的眼\n",
    "```"
   ]
  },
  {
   "cell_type": "markdown",
   "metadata": {},
   "source": [
    "而循环神经网络（RNN）能生成嘻哈说唱词的原理是这个样子的："
   ]
  },
  {
   "cell_type": "markdown",
   "metadata": {},
   "source": [
    "简单来说，中文句子中的每个字在统计上是相关的。比如对于“多想你陪我透透气”这句话，如果我们知道第一个字“多”，那下一字有可能是“想”；如果知道前两个字“多想”，那么第三个字是“你”的可能性就大些，以此类推，如果知道“多想你陪我透透”，那么最后一个字很有可能就是“气”字。"
   ]
  },
  {
   "cell_type": "markdown",
   "metadata": {},
   "source": [
    "<img src=\"http://thumbsnap.com/s/T1pYyFE0.jpg\" alt=\"Free Photo Sharing by ThumbSnap\" />"
   ]
  },
  {
   "cell_type": "markdown",
   "metadata": {},
   "source": [
    "换句话说，对于“多想你陪我透透气”这句话，在训练循环神经网络（RNN）时，输入数据是“多”，那目标数据就是“想”；输入数据是“想”，那目标数据就是“你”，以此类推。\n",
    "\n",
    "所以这次循环神经网络（RNN）的任务就是要在训练的过程中学习到“嘻哈说唱词中字与字之间的规律”。\n",
    "\n",
    "然后我们给训练好的模型一个开头，比如“我们”，模型就能按照学习到的规律，一字字地继续预测生成“我们”之后的嘻哈说唱词。"
   ]
  },
  {
   "cell_type": "markdown",
   "metadata": {},
   "source": [
    "## 前情回顾"
   ]
  },
  {
   "cell_type": "markdown",
   "metadata": {},
   "source": [
    "我们在上回已经把训练数据处理到了可用的程度，比如我们去除了原始数据中像“作者名、编曲名”这样与嘻哈说唱词不相干的信息，同时去除了说唱词中的英文以降低循环神经网络模型学习起来的难度。"
   ]
  },
  {
   "cell_type": "markdown",
   "metadata": {},
   "source": [
    "我们处理前的原始数据是这样的："
   ]
  },
  {
   "cell_type": "code",
   "execution_count": 13,
   "metadata": {
    "scrolled": true
   },
   "outputs": [
    {
     "name": "stdout",
     "output_type": "stream",
     "text": [
      "['\\n', ' 作曲 : Mixtape\\n', ' 作词 : 啊之\\n', '\\n', '录音 MISO MUSIC\\n', '混缩 MAI\\n', 'MIX BY MAI\\n', \"hey baby Don't worry\\n\", \"hey baby Don't worry\\n\", \"hey baby Don't worry\\n\", \"hey baby Don't worry\\n\", '抱歉我依旧不稳定 DAMN\\n', '鱼龙混杂的街头不只靠努力 REAL 别烦恼\\n', '多想你陪我透透气 发发牢骚\\n', '倾诉着最近不如意 let me let me\\n', '这就是生活里 的问题 不必不报忧\\n', '做真实的自己 不用比 早晚都能够\\n', '我始终担心你 出问题 人心难看透\\n', '我怎么都可以 唯有你 所以 所以\\n', '我早已日夜颠倒 烟酒成瘾 制作巧克力\\n']\n"
     ]
    }
   ],
   "source": [
    "lrc_lines = open('../data/rapper.txt').readlines()\n",
    "print(lrc_lines[:20])"
   ]
  },
  {
   "cell_type": "markdown",
   "metadata": {},
   "source": [
    "处理之后的数据是这样的："
   ]
  },
  {
   "cell_type": "code",
   "execution_count": 14,
   "metadata": {
    "scrolled": false
   },
   "outputs": [
    {
     "name": "stdout",
     "output_type": "stream",
     "text": [
      "['抱歉我依旧不稳定\\n', '鱼龙混杂的街头不只靠努力\\n', '别烦恼\\n', '多想你陪我透透气\\n', '发发牢骚\\n', '倾诉着最近不如意\\n', '这就是生活里\\n', '的问题\\n', '不必不报忧\\n', '做真实的自己\\n']\n"
     ]
    }
   ],
   "source": [
    "print(final_lrc[:10])"
   ]
  },
  {
   "cell_type": "markdown",
   "metadata": {},
   "source": [
    "有兴趣的同学可以再回上一课看看我们处理数据的方法。"
   ]
  },
  {
   "cell_type": "markdown",
   "metadata": {},
   "source": [
    "除此之外，我们还为数据建立了字典索引表 `word_to_ix`，字典有序列表 `char_list`，代表字典/字向量长度的 `n_characters`。"
   ]
  },
  {
   "cell_type": "code",
   "execution_count": 15,
   "metadata": {
    "scrolled": true
   },
   "outputs": [
    {
     "name": "stdout",
     "output_type": "stream",
     "text": [
      "n_characters： 3801\n",
      "蜚 : 1687\n",
      "减 : 1873\n",
      "顺 : 120\n",
      "九 : 1476\n",
      "呀 : 1786\n",
      "圆 : 1628\n",
      "瓣 : 3474\n",
      "霜 : 3012\n",
      "锡 : 3346\n",
      "撑 : 1642\n"
     ]
    }
   ],
   "source": [
    "print(\"n_characters：\", n_characters)\n",
    "for i, key in zip(range(10), word_to_ix):\n",
    "    print(key, \":\", word_to_ix[key])"
   ]
  },
  {
   "cell_type": "code",
   "execution_count": 16,
   "metadata": {
    "scrolled": true
   },
   "outputs": [
    {
     "name": "stdout",
     "output_type": "stream",
     "text": [
      "抱 : 0\n",
      "歉 : 1\n",
      "我 : 2\n",
      "依 : 3\n",
      "旧 : 4\n",
      "不 : 5\n",
      "稳 : 6\n",
      "定 : 7\n",
      "\n",
      " : 8\n",
      "鱼 : 9\n",
      "3801\n"
     ]
    }
   ],
   "source": [
    "# 观察有序列表中的元素即字典的有序排列\n",
    "for ch in char_list[:10]:\n",
    "    print(ch, \":\", word_to_ix[ch])\n",
    "    \n",
    "print(len(char_list))"
   ]
  },
  {
   "cell_type": "markdown",
   "metadata": {},
   "source": [
    "以及定义好了训练模型时使用的工具： `random_training_set`，它每次从数据集中随机选择出200条训练输入数据和200条目标数据，并转化为 Tensor。"
   ]
  },
  {
   "cell_type": "markdown",
   "metadata": {},
   "source": [
    "数据方面万事俱备啦！让我们赶紧着手模型的训练吧！"
   ]
  },
  {
   "cell_type": "markdown",
   "metadata": {},
   "source": [
    "## 让 RNN 开始嘻哈！"
   ]
  },
  {
   "cell_type": "markdown",
   "metadata": {},
   "source": [
    "### 建立模型"
   ]
  },
  {
   "cell_type": "markdown",
   "metadata": {},
   "source": [
    "我们本次建立的神经网络模型共有三层。\n",
    "\n",
    "第一层是一个“编码器（encoder）”，可以将我们输入的字（字向量）嵌入（映射）到一个“谜之空间”中。通过这种操作，可以将稀疏的字向量（维度为3801的字向量只有代表自己的位置为1，其余全为0）降维，减少循环神经网络（RNN）输入层的规模，从而让 RNN 学习的更快更好！\n",
    "\n",
    "第二层是一种有特殊结构的循环神经网络（RNN），这次我们用的是 Gated Recurrent Unit（GRU），有兴趣的同学可以自行查找 GRU 的资料做深入了解。\n",
    "\n",
    "第三层是一个“解码器（decoder）”，也就是将模型生成的结果从“谜之空间”中转回来，转成我们的“字向量”，继而表示成文字。"
   ]
  },
  {
   "cell_type": "code",
   "execution_count": 17,
   "metadata": {
    "collapsed": true
   },
   "outputs": [],
   "source": [
    "import torch\n",
    "import torch.nn as nn\n",
    "from torch.autograd import Variable\n",
    "\n",
    "class RNN(nn.Module):\n",
    "    def __init__(self, input_size, hidden_size, output_size, n_layers=1):\n",
    "        super(RNN, self).__init__()\n",
    "        self.input_size = input_size\n",
    "        self.hidden_size = hidden_size\n",
    "        self.output_size = output_size\n",
    "        self.n_layers = n_layers\n",
    "        \n",
    "        # 编码器\n",
    "        self.encoder = nn.Embedding(input_size, hidden_size)\n",
    "        # GRU\n",
    "        self.gru = nn.GRU(hidden_size, hidden_size, n_layers)\n",
    "        # 解码器\n",
    "        self.decoder = nn.Linear(hidden_size, output_size)\n",
    "    \n",
    "    def forward(self, input, hidden):\n",
    "        input = self.encoder(input.view(1, -1))\n",
    "        output, hidden = self.gru(input.view(1, 1, -1), hidden)\n",
    "        output = self.decoder(output.view(1, -1))\n",
    "        return output, hidden\n",
    "\n",
    "    def init_hidden(self):\n",
    "        return Variable(torch.zeros(self.n_layers, 1, self.hidden_size))"
   ]
  },
  {
   "cell_type": "markdown",
   "metadata": {},
   "source": [
    "在训练之前，先让我们定义“超参数”，并实例化模型。"
   ]
  },
  {
   "cell_type": "code",
   "execution_count": 24,
   "metadata": {},
   "outputs": [],
   "source": [
    "n_epochs = 3500   # 迭代次数\n",
    "print_every = 500 # 每隔多少次迭代打印\n",
    "plot_every = 10   # 每个多少次迭代记录图表值\n",
    "hidden_size = 100 # 隐藏单元的数量\n",
    "n_layers = 1      # 隐藏层层数\n",
    "lr = 0.005        # 学习率\n",
    "\n",
    "# 实例化RNN模型为decoder\n",
    "decoder = RNN(n_characters, hidden_size, n_characters, n_layers)\n",
    "# 本次使用 Adam 优化算法\n",
    "decoder_optimizer = torch.optim.Adam(decoder.parameters(), lr=lr)\n",
    "# 使用交叉熵损失\n",
    "criterion = nn.CrossEntropyLoss()"
   ]
  },
  {
   "cell_type": "markdown",
   "metadata": {},
   "source": [
    "### 定义训练函数"
   ]
  },
  {
   "cell_type": "markdown",
   "metadata": {},
   "source": [
    "老规矩，先把训练函数定义好，方便迭代调用。"
   ]
  },
  {
   "cell_type": "code",
   "execution_count": 19,
   "metadata": {
    "collapsed": true
   },
   "outputs": [],
   "source": [
    "# inp，训练输入数据，包含200个字\n",
    "# target，目标，包含200个字\n",
    "def train(inp, target):\n",
    "    # 将隐藏层置零\n",
    "    hidden = decoder.init_hidden()\n",
    "    # 将模型的梯度置零\n",
    "    decoder.zero_grad()\n",
    "    # 损失值初始化\n",
    "    loss = 0\n",
    "\n",
    "    # chunk_len是在上节定义的训练数据及目标数据的长度\n",
    "    # 值为200\n",
    "    for c in range(chunk_len):\n",
    "        # 调用RNN的forward函数，进行一次正向传播\n",
    "        output, hidden = decoder(inp[c], hidden)\n",
    "        # 与目标值相比计算交叉熵损失\n",
    "        loss += criterion(output, target[c])\n",
    "\n",
    "    # 循环完200个字后进行一次反向传播\n",
    "    loss.backward()\n",
    "    decoder_optimizer.step()\n",
    "\n",
    "    # 返回平均损失\n",
    "    return loss.data[0] / chunk_len"
   ]
  },
  {
   "cell_type": "markdown",
   "metadata": {},
   "source": [
    "## 验证函数"
   ]
  },
  {
   "cell_type": "markdown",
   "metadata": {},
   "source": [
    "验证函数就是测试函数，在模型训练后，我们就是直接调用它来让模型生成嘻哈说唱词。在模型训练的过程中我们也需要调用这个函数，以观察在训练的不同阶段模型生成嘻哈歌词的效果。"
   ]
  },
  {
   "cell_type": "markdown",
   "metadata": {},
   "source": [
    "我在前面说过，RNN 模型生成嘻哈说唱词是通过“预测下一个字”来完成的，这就意味着在一开始，我们得先为模型指定一个“开头”，模型才能开始预测并生成后续的嘻哈歌词。"
   ]
  },
  {
   "cell_type": "markdown",
   "metadata": {},
   "source": [
    "验证函数的第三个参数 `temperature` 起到标识“混乱度”的作用。关于“混乱度”的意义，我们在下面验证模型时再讲。"
   ]
  },
  {
   "cell_type": "code",
   "execution_count": 20,
   "metadata": {
    "collapsed": true
   },
   "outputs": [],
   "source": [
    "# prime_str：用户给的“开头”\n",
    "# predict_len：要预测多少个字，每次产生歌词的长度\n",
    "# temperature：混乱度\n",
    "def evaluate(prime_str='我', predict_len=100, temperature=0.8):\n",
    "    # 隐藏层置零\n",
    "    hidden = decoder.init_hidden()\n",
    "    # 将我们给模型的“开头”转化为 Tensor\n",
    "    prime_input = char_tensor(prime_str)\n",
    "    # predicted保存生成的嘻哈歌词\n",
    "    predicted = prime_str\n",
    "\n",
    "    # 首先用用户给的“开头”运行模型的forward\n",
    "    # 也就是使用“开头”建立RNN隐藏层状态\n",
    "    for p in range(len(prime_str) - 1):\n",
    "        _, hidden = decoder(prime_input[p], hidden)\n",
    "    inp = prime_input[-1]\n",
    "    \n",
    "    for p in range(predict_len):\n",
    "        # 输出以及隐藏层状态\n",
    "        output, hidden = decoder(inp, hidden)\n",
    "        \n",
    "        # 根据“混乱度”从输出的多项式分布中采样\n",
    "        output_dist = output.data.view(-1).div(temperature).exp()\n",
    "        top_i = torch.multinomial(output_dist, 1)[0]\n",
    "        \n",
    "        # 将采样的值转化为文字\n",
    "        predicted_char = char_list[top_i]\n",
    "        # 将模型预测出的字加入到predicted中\n",
    "        predicted += predicted_char\n",
    "        # 下一次预测的“输入”就是这次预测的输出\n",
    "        inp = char_tensor(predicted_char)\n",
    "\n",
    "    return predicted"
   ]
  },
  {
   "cell_type": "markdown",
   "metadata": {},
   "source": [
    "### 开始训练！"
   ]
  },
  {
   "cell_type": "markdown",
   "metadata": {},
   "source": [
    "终于到了这个激动人心的时刻！"
   ]
  },
  {
   "cell_type": "code",
   "execution_count": 21,
   "metadata": {
    "collapsed": true
   },
   "outputs": [],
   "source": [
    "import time, math\n",
    "\n",
    "# 用于计算训练时间的函数\n",
    "def time_since(since):\n",
    "    s = time.time() - since\n",
    "    m = math.floor(s / 60)\n",
    "    s -= m * 60\n",
    "    return '%dm %ds' % (m, s)"
   ]
  },
  {
   "cell_type": "code",
   "execution_count": 25,
   "metadata": {
    "scrolled": true
   },
   "outputs": [
    {
     "name": "stdout",
     "output_type": "stream",
     "text": [
      "[4m 17s (500 14%) 4.4077]\n",
      "我啪啪\n",
      "吃饭脑壳\n",
      "谁息\n",
      "他们都想设法是我家\n",
      "都来家\n",
      "我们像过都来\n",
      "他们眼疑\n",
      "别惑的铁票儿\n",
      "一辈的\n",
      "自愿有\n",
      "这个城市功记滚\n",
      "有人经跟着我的孤单\n",
      "我想能说唱\n",
      "听\n",
      "他们就会再要有付出\n",
      "不留下下\n",
      "好头\n",
      "我都知道 \n",
      "\n",
      "[8m 40s (1000 28%) 4.5038]\n",
      "我规维下\n",
      "但占兄弟收集\n",
      "都别也曾寻冲设\n",
      "如果我不安装的年龄\n",
      "西性个我做的\n",
      "老子都是我说唱\n",
      "都拿们都想踩得很多\n",
      "想要紧言道\n",
      "我听\n",
      "每过\n",
      "我看我懂我的差星\n",
      "阿迪\n",
      "我绝些叫你的温度\n",
      "跟我上的世界特别约\n",
      "我经受 \n",
      "\n",
      "[13m 4s (1500 42%) 4.2766]\n",
      "我赚了\n",
      "再开始一建笑\n",
      "在花了花了花了花了花了花了花了花了花了花了\n",
      "光明白在意外\n",
      "呵\n",
      "姑娘的\n",
      "有些煽情绪\n",
      "我知下像我至少些煽情能力填补\n",
      "我的心我怎么好\n",
      "别早不管多么多\n",
      "依旧固执\n",
      "我做伴着随规散让他们\n",
      "来调 \n",
      "\n",
      "[17m 20s (2000 57%) 5.6671]\n",
      "我们年轻\n",
      "因为我们\n",
      "\n",
      "新疆\n",
      "做到困难\n",
      "我说\n",
      "好多想你我的做音乐\n",
      "让我穿过你摔定理害\n",
      "让你我的生活\n",
      "就像是否他们失败\n",
      "让你干变\n",
      "为了亲奇\n",
      "不知道生在留下我们的柴\n",
      "然后静静在这里\n",
      "卸下了浮夸\n",
      "让我来开在我家 \n",
      "\n",
      "[21m 50s (2500 71%) 4.1695]\n",
      "我隔壁\n",
      "一直好炸\n",
      "给你楼松\n",
      "放假\n",
      "你说说\n",
      "可能是否太惨\n",
      "所说\n",
      "我们牛皮的歌手\n",
      "再下赌\n",
      "他们都是我真的\n",
      "我说什么棒\n",
      "我做人\n",
      "在夜里\n",
      "我都不能怕\n",
      "我兄弟都要说我说坤到\n",
      "怎么做\n",
      "我不用担心\n",
      "我做\n",
      "他们说都不会 \n",
      "\n",
      "[26m 33s (3000 85%) 1.6237]\n",
      "我们都是刷\n",
      "不想跟我来玩\n",
      "我也不解\n",
      "听\n",
      "你知道我们\n",
      "我们都想要\n",
      "我们\n",
      "我们去出的青春\n",
      "当我爱情让我陪伴我放弃\n",
      "你们在我的进入你\n",
      "請你自己手攻死\n",
      "都有哏\n",
      "不会把人嘻了別块\n",
      "要学不会从来没有\n",
      "从何声出发体\n",
      " \n",
      "\n",
      "[30m 43s (3500 100%) 4.0963]\n",
      "我听\n",
      "我早应重复\n",
      "请你不想要\n",
      "你知道我的话可是不会好与坏\n",
      "不耍不值\n",
      "不你麻烦\n",
      "我打败他们只能说着我的他们\n",
      "就会来及到\n",
      "\n",
      "你们张开你\n",
      "的时候\n",
      "但我的情况你的衣场\n",
      "在你耳朵我的个拍斗记录我们加倍的\n",
      "我和你的 \n",
      "\n"
     ]
    }
   ],
   "source": [
    "# 开始时间\n",
    "start = time.time()\n",
    "all_losses = []\n",
    "loss_avg = 0\n",
    "\n",
    "for epoch in range(1, n_epochs + 1):\n",
    "    loss = train(*random_training_set())       \n",
    "    loss_avg += loss\n",
    "\n",
    "    # 每个一段时间，让模型生成一次看看效果\n",
    "    if epoch % print_every == 0:\n",
    "        print('[%s (%d %d%%) %.4f]' % (time_since(start), epoch, epoch / n_epochs * 100, loss))\n",
    "        print(evaluate('我', 100), '\\n')\n",
    "\n",
    "    if epoch % plot_every == 0:\n",
    "        all_losses.append(loss_avg / plot_every)\n",
    "        loss_avg = 0"
   ]
  },
  {
   "cell_type": "markdown",
   "metadata": {},
   "source": [
    "## 分析模型"
   ]
  },
  {
   "cell_type": "markdown",
   "metadata": {},
   "source": [
    "### 绘制图表，查看模型学习效果"
   ]
  },
  {
   "cell_type": "code",
   "execution_count": 26,
   "metadata": {},
   "outputs": [
    {
     "data": {
      "text/plain": [
       "[<matplotlib.lines.Line2D at 0x1163b6d68>]"
      ]
     },
     "execution_count": 26,
     "metadata": {},
     "output_type": "execute_result"
    },
    {
     "data": {
      "image/png": "[encoded data removed]",
      "text/plain": [
       "<matplotlib.figure.Figure at 0x1167962e8>"
      ]
     },
     "metadata": {},
     "output_type": "display_data"
    }
   ],
   "source": [
    "import matplotlib.pyplot as plt\n",
    "import matplotlib.ticker as ticker\n",
    "%matplotlib inline\n",
    "\n",
    "plt.figure()\n",
    "plt.plot(all_losses)"
   ]
  },
  {
   "cell_type": "markdown",
   "metadata": {},
   "source": [
    "### 调整“混乱度”"
   ]
  },
  {
   "cell_type": "markdown",
   "metadata": {},
   "source": [
    "上面遗留了一个“混乱度”的问题。\n",
    "\n",
    "混乱度的意义是这样的：\n",
    "\n",
    "当混乱度太低时，RNN 模型就趋向于选择“概率最大的下一个字”，注意哦！概率最大不代表效果最好。因为 RNN 模型是用固定的嘻哈歌词训练的，每次都选择“概率最大的下一个字”，意味着每次输出的值都一样。"
   ]
  },
  {
   "cell_type": "code",
   "execution_count": 31,
   "metadata": {
    "scrolled": false
   },
   "outputs": [
    {
     "name": "stdout",
     "output_type": "stream",
     "text": [
      "药药切克闹\n",
      "我们在一边的\n",
      "我们的\n",
      "我们的\n",
      "我们的\n",
      "我们的\n",
      "我们的\n",
      "我们\n",
      "我们的\n",
      "我们的\n",
      "我们都是你的\n",
      "我们都是我的\n",
      "我们\n",
      "我们都是我的\n",
      "我们都是我的\n",
      "我需要你的\n",
      "我们\n",
      "你\n"
     ]
    }
   ],
   "source": [
    "print(evaluate('药药切克闹', 80, temperature=0.2))"
   ]
  },
  {
   "cell_type": "markdown",
   "metadata": {},
   "source": [
    "当混乱度太高时，RNN 模型趋向于选择“概率不大的下一个字”，实际产生的效果与随机选择类似，就像 RNN 模型没经过训练时的样子似的。\n",
    "\n",
    "可以观察到“混乱度”太高时生成的嘻哈歌词几乎没有意义。"
   ]
  },
  {
   "cell_type": "code",
   "execution_count": 32,
   "metadata": {},
   "outputs": [
    {
     "name": "stdout",
     "output_type": "stream",
     "text": [
      "药药切克闹\n",
      "学影愿这怒尸市\n",
      "骆驼眼儿房降临\n",
      "我意内来犯錯它低手话\n",
      "沉灭电风枉天雾大自己善技能夠走掉梦变的生魂\n",
      "垮青靠为每扯查幻都来说棋\n",
      "直到欺\n",
      "白边已工队放切不是爷英先\n",
      "\n"
     ]
    }
   ],
   "source": [
    "print(evaluate('药药切克闹', 80, temperature=1.4))"
   ]
  },
  {
   "cell_type": "markdown",
   "metadata": {},
   "source": [
    "当混乱度适中，才能生成较好的嘻哈歌词，既不会千篇一律，也不会出现每个字前后没有关联的情况。"
   ]
  },
  {
   "cell_type": "code",
   "execution_count": 39,
   "metadata": {
    "scrolled": false
   },
   "outputs": [
    {
     "name": "stdout",
     "output_type": "stream",
     "text": [
      "我的世界\n",
      "有铜磨灭\n",
      "有我锤子事事情不止给你说\n",
      "第来觉得我把人民是我锤子事\n",
      "跟我们看你的眼神都遭到了\n",
      "把到哪一天天上起副糕\n",
      "我不是通利福尼亚\n",
      "艾夫杰尼\n",
      "你用戴着德我的土鸡炖\n",
      "我一起长到的地边\n",
      "我能像梦想\n",
      "快把雪\n"
     ]
    }
   ],
   "source": [
    "print(evaluate('我的世界', 100, temperature=0.8))"
   ]
  },
  {
   "cell_type": "markdown",
   "metadata": {},
   "source": [
    "### 还可以改进的点"
   ]
  },
  {
   "cell_type": "markdown",
   "metadata": {},
   "source": [
    "模型可以改进的地方还有很多。\n",
    "\n",
    "第一，原始嘻哈歌词数据中包含有“英文歌词”，而我为了降低模型训练难度直接去掉了这些“英文歌词”。没有英文歌词的衔接，原歌词中有些句子转折会比较生硬，这也是模型最后生成的嘻哈歌词有时候衔接生硬的原因。\n",
    "\n",
    "可以将原数据中的“整句英文歌词”视为“一个字”，给予映射成一个字向量，进行训练和生成。\n",
    "\n",
    "第二，嘻哈说唱的灵魂是押韵！我们这次只考虑了“字”，没有考虑“音”。\n",
    "\n",
    "“xpinyin”可以将文字转化为拼音。将押韵考虑进去可以打造生成双押韵乃至三押韵的嘻哈歌词模型，这也是我的“AI 有嘻哈2.0”计划！"
   ]
  },
  {
   "cell_type": "markdown",
   "metadata": {},
   "source": [
    "### 课后作业"
   ]
  },
  {
   "cell_type": "markdown",
   "metadata": {},
   "source": [
    "学习曲线波动率很大不是？尝试一下更小的学习率？\n",
    "\n",
    "增加迭代次数、增加隐藏层层数、调整隐藏层单元数能够改进模型吗？\n",
    "\n",
    "这是你的 FreeStyle 时间！"
   ]
  },
  {
   "cell_type": "markdown",
   "metadata": {},
   "source": [
    "![](http://wiki.swarma.net/images/c/ca/AI学园.jpg)"
   ]
  }
 ],
 "metadata": {
  "kernelspec": {
   "display_name": "Python 3",
   "language": "python",
   "name": "python3"
  },
  "language_info": {
   "codemirror_mode": {
    "name": "ipython",
    "version": 3
   },
   "file_extension": ".py",
   "mimetype": "text/x-python",
   "name": "python",
   "nbconvert_exporter": "python",
   "pygments_lexer": "ipython3",
   "version": "3.5.3"
  }
 },
 "nbformat": 4,
 "nbformat_minor": 2
}
