{
 "cells": [
  {
   "cell_type": "code",
   "execution_count": 1,
   "metadata": {
    "ExecuteTime": {
     "end_time": "2017-04-28T09:04:23.878533",
     "start_time": "2017-04-28T09:04:21.928915"
    },
    "collapsed": true
   },
   "outputs": [],
   "source": [
    "%matplotlib inline\n",
    "\n",
    "import networkx as nx \n",
    "import matplotlib.pyplot as plt\n",
    "from collections import defaultdict\n",
    "import numpy as np\n",
    "import pandas as pd "
   ]
  },
  {
   "cell_type": "code",
   "execution_count": 7,
   "metadata": {
    "ExecuteTime": {
     "end_time": "2017-04-28T09:12:57.177620",
     "start_time": "2017-04-28T09:12:49.369857"
    },
    "collapsed": false
   },
   "outputs": [],
   "source": [
    "file = u'/Users/chengjun/bigdata/流动人口数据2009-2015_官方来源/2015/a卷(STATA).dta'\n",
    "\n",
    "adf = pd.read_stata(file, encoding = 'gbk')\n",
    "# variable labels\n",
    "reader = pd.io.stata.StataReader(file, encoding = 'gbk')\n",
    "labels = reader.variable_labels()"
   ]
  },
  {
   "cell_type": "code",
   "execution_count": 90,
   "metadata": {
    "ExecuteTime": {
     "end_time": "2017-04-28T13:51:24.552075",
     "start_time": "2017-04-28T13:51:24.497128"
    },
    "collapsed": false
   },
   "outputs": [
    {
     "data": {
      "text/html": [
       "<div>\n",
       "<table border=\"1\" class=\"dataframe\">\n",
       "  <thead>\n",
       "    <tr style=\"text-align: right;\">\n",
       "      <th></th>\n",
       "      <th>newBID</th>\n",
       "      <th>pro</th>\n",
       "      <th>F1</th>\n",
       "      <th>F2</th>\n",
       "      <th>F3</th>\n",
       "      <th>F7</th>\n",
       "      <th>F8</th>\n",
       "      <th>bq101id1</th>\n",
       "      <th>bq101a1</th>\n",
       "      <th>bq101b1</th>\n",
       "      <th>...</th>\n",
       "      <th>BQ405K3a</th>\n",
       "      <th>BQ405K3b</th>\n",
       "      <th>BQ405L3a</th>\n",
       "      <th>BQ405L3b</th>\n",
       "      <th>BQ405M3</th>\n",
       "      <th>BQ405N3</th>\n",
       "      <th>BQ405O3</th>\n",
       "      <th>BQ405P3</th>\n",
       "      <th>BQ405Q3</th>\n",
       "      <th>W_L</th>\n",
       "    </tr>\n",
       "  </thead>\n",
       "  <tbody>\n",
       "    <tr>\n",
       "      <th>0</th>\n",
       "      <td>16</td>\n",
       "      <td>北京</td>\n",
       "      <td>北京市</td>\n",
       "      <td>市辖区</td>\n",
       "      <td>东城区</td>\n",
       "      <td>居委会</td>\n",
       "      <td>80</td>\n",
       "      <td>1</td>\n",
       "      <td>本人</td>\n",
       "      <td>女</td>\n",
       "      <td>...</td>\n",
       "      <td>NaN</td>\n",
       "      <td>NaN</td>\n",
       "      <td>NaN</td>\n",
       "      <td>NaN</td>\n",
       "      <td>NaN</td>\n",
       "      <td>NaN</td>\n",
       "      <td>NaN</td>\n",
       "      <td>NaN</td>\n",
       "      <td>NaN</td>\n",
       "      <td>2.323153</td>\n",
       "    </tr>\n",
       "    <tr>\n",
       "      <th>1</th>\n",
       "      <td>21</td>\n",
       "      <td>北京</td>\n",
       "      <td>北京市</td>\n",
       "      <td>市辖区</td>\n",
       "      <td>东城区</td>\n",
       "      <td>居委会</td>\n",
       "      <td>2</td>\n",
       "      <td>1</td>\n",
       "      <td>本人</td>\n",
       "      <td>女</td>\n",
       "      <td>...</td>\n",
       "      <td>NaN</td>\n",
       "      <td>NaN</td>\n",
       "      <td>NaN</td>\n",
       "      <td>NaN</td>\n",
       "      <td>NaN</td>\n",
       "      <td>NaN</td>\n",
       "      <td>NaN</td>\n",
       "      <td>NaN</td>\n",
       "      <td>NaN</td>\n",
       "      <td>2.323153</td>\n",
       "    </tr>\n",
       "    <tr>\n",
       "      <th>2</th>\n",
       "      <td>22</td>\n",
       "      <td>北京</td>\n",
       "      <td>北京市</td>\n",
       "      <td>市辖区</td>\n",
       "      <td>东城区</td>\n",
       "      <td>居委会</td>\n",
       "      <td>3</td>\n",
       "      <td>1</td>\n",
       "      <td>本人</td>\n",
       "      <td>女</td>\n",
       "      <td>...</td>\n",
       "      <td>NaN</td>\n",
       "      <td>NaN</td>\n",
       "      <td>NaN</td>\n",
       "      <td>NaN</td>\n",
       "      <td>NaN</td>\n",
       "      <td>NaN</td>\n",
       "      <td>NaN</td>\n",
       "      <td>NaN</td>\n",
       "      <td>NaN</td>\n",
       "      <td>2.323153</td>\n",
       "    </tr>\n",
       "  </tbody>\n",
       "</table>\n",
       "<p>3 rows × 256 columns</p>\n",
       "</div>"
      ],
      "text/plain": [
       "   newBID pro   F1   F2   F3   F7  F8  bq101id1 bq101a1 bq101b1    ...     \\\n",
       "0      16  北京  北京市  市辖区  东城区  居委会  80         1      本人       女    ...      \n",
       "1      21  北京  北京市  市辖区  东城区  居委会   2         1      本人       女    ...      \n",
       "2      22  北京  北京市  市辖区  东城区  居委会   3         1      本人       女    ...      \n",
       "\n",
       "   BQ405K3a  BQ405K3b BQ405L3a BQ405L3b BQ405M3 BQ405N3  BQ405O3 BQ405P3  \\\n",
       "0       NaN       NaN      NaN      NaN     NaN     NaN      NaN     NaN   \n",
       "1       NaN       NaN      NaN      NaN     NaN     NaN      NaN     NaN   \n",
       "2       NaN       NaN      NaN      NaN     NaN     NaN      NaN     NaN   \n",
       "\n",
       "   BQ405Q3       W_L  \n",
       "0      NaN  2.323153  \n",
       "1      NaN  2.323153  \n",
       "2      NaN  2.323153  \n",
       "\n",
       "[3 rows x 256 columns]"
      ]
     },
     "execution_count": 90,
     "metadata": {},
     "output_type": "execute_result"
    }
   ],
   "source": [
    "file2 = u'/Users/chengjun/bigdata/流动人口数据2009-2015_官方来源/2015/b卷(STATA).dta'\n",
    "bdf = pd.read_stata(file2, encoding = 'gbk')\n",
    "\n",
    "# variable labels\n",
    "reader2 = pd.io.stata.StataReader(file2, encoding = 'gbk')\n",
    "labels2 = reader2.variable_labels()\n",
    "\n",
    "bdf[:3]"
   ]
  },
  {
   "cell_type": "code",
   "execution_count": 8,
   "metadata": {
    "ExecuteTime": {
     "end_time": "2017-04-28T09:12:59.398371",
     "start_time": "2017-04-28T09:12:59.353582"
    },
    "collapsed": false
   },
   "outputs": [
    {
     "data": {
      "text/html": [
       "<div>\n",
       "<table border=\"1\" class=\"dataframe\">\n",
       "  <thead>\n",
       "    <tr style=\"text-align: right;\">\n",
       "      <th></th>\n",
       "      <th>ID</th>\n",
       "      <th>newID</th>\n",
       "      <th>pro</th>\n",
       "      <th>F1</th>\n",
       "      <th>F2</th>\n",
       "      <th>F3</th>\n",
       "      <th>F6</th>\n",
       "      <th>F7</th>\n",
       "      <th>F8</th>\n",
       "      <th>q101id1</th>\n",
       "      <th>...</th>\n",
       "      <th>Q404N4</th>\n",
       "      <th>Q404O4</th>\n",
       "      <th>Q404P4</th>\n",
       "      <th>Q404Q4</th>\n",
       "      <th>strata</th>\n",
       "      <th>liv</th>\n",
       "      <th>w_l</th>\n",
       "      <th>city_40</th>\n",
       "      <th>ezone</th>\n",
       "      <th>DQCODE</th>\n",
       "    </tr>\n",
       "  </thead>\n",
       "  <tbody>\n",
       "    <tr>\n",
       "      <th>0</th>\n",
       "      <td>109956</td>\n",
       "      <td>109949</td>\n",
       "      <td>河南</td>\n",
       "      <td>河南省</td>\n",
       "      <td>三门峡市</td>\n",
       "      <td>湖滨区</td>\n",
       "      <td>5498</td>\n",
       "      <td>村委会</td>\n",
       "      <td>59</td>\n",
       "      <td>1</td>\n",
       "      <td>...</td>\n",
       "      <td>NaN</td>\n",
       "      <td>NaN</td>\n",
       "      <td>NaN</td>\n",
       "      <td>NaN</td>\n",
       "      <td>57</td>\n",
       "      <td>3</td>\n",
       "      <td>0.097141</td>\n",
       "      <td>NaN</td>\n",
       "      <td>其他</td>\n",
       "      <td>中部地区</td>\n",
       "    </tr>\n",
       "    <tr>\n",
       "      <th>1</th>\n",
       "      <td>176557</td>\n",
       "      <td>176547</td>\n",
       "      <td>西藏</td>\n",
       "      <td>西藏自治区</td>\n",
       "      <td>林芝地区</td>\n",
       "      <td>林芝县</td>\n",
       "      <td>8828</td>\n",
       "      <td>居委会</td>\n",
       "      <td>30</td>\n",
       "      <td>1</td>\n",
       "      <td>...</td>\n",
       "      <td>NaN</td>\n",
       "      <td>NaN</td>\n",
       "      <td>NaN</td>\n",
       "      <td>NaN</td>\n",
       "      <td>86</td>\n",
       "      <td>2</td>\n",
       "      <td>0.073323</td>\n",
       "      <td>NaN</td>\n",
       "      <td>其他</td>\n",
       "      <td>西部地区</td>\n",
       "    </tr>\n",
       "    <tr>\n",
       "      <th>2</th>\n",
       "      <td>1916</td>\n",
       "      <td>1903</td>\n",
       "      <td>北京</td>\n",
       "      <td>北京市</td>\n",
       "      <td>北京市</td>\n",
       "      <td>朝阳区</td>\n",
       "      <td>96</td>\n",
       "      <td>居委会</td>\n",
       "      <td>16</td>\n",
       "      <td>1</td>\n",
       "      <td>...</td>\n",
       "      <td>NaN</td>\n",
       "      <td>NaN</td>\n",
       "      <td>NaN</td>\n",
       "      <td>NaN</td>\n",
       "      <td>1</td>\n",
       "      <td>2</td>\n",
       "      <td>1.965860</td>\n",
       "      <td>北京朝阳区</td>\n",
       "      <td>环渤海</td>\n",
       "      <td>东部地区</td>\n",
       "    </tr>\n",
       "  </tbody>\n",
       "</table>\n",
       "<p>3 rows × 340 columns</p>\n",
       "</div>"
      ],
      "text/plain": [
       "       ID   newID pro     F1    F2   F3    F6   F7  F8  q101id1  ...   Q404N4  \\\n",
       "0  109956  109949  河南    河南省  三门峡市  湖滨区  5498  村委会  59        1  ...      NaN   \n",
       "1  176557  176547  西藏  西藏自治区  林芝地区  林芝县  8828  居委会  30        1  ...      NaN   \n",
       "2    1916    1903  北京    北京市   北京市  朝阳区    96  居委会  16        1  ...      NaN   \n",
       "\n",
       "  Q404O4  Q404P4  Q404Q4 strata liv       w_l city_40 ezone DQCODE  \n",
       "0    NaN     NaN     NaN     57   3  0.097141     NaN    其他   中部地区  \n",
       "1    NaN     NaN     NaN     86   2  0.073323     NaN    其他   西部地区  \n",
       "2    NaN     NaN     NaN      1   2  1.965860   北京朝阳区   环渤海   东部地区  \n",
       "\n",
       "[3 rows x 340 columns]"
      ]
     },
     "execution_count": 8,
     "metadata": {},
     "output_type": "execute_result"
    }
   ],
   "source": [
    "adf[:3]"
   ]
  },
  {
   "cell_type": "code",
   "execution_count": 91,
   "metadata": {
    "ExecuteTime": {
     "end_time": "2017-04-28T13:51:41.086685",
     "start_time": "2017-04-28T13:51:41.082431"
    },
    "collapsed": false
   },
   "outputs": [
    {
     "data": {
      "text/plain": [
       "(206000, 16000)"
      ]
     },
     "execution_count": 91,
     "metadata": {},
     "output_type": "execute_result"
    }
   ],
   "source": [
    "len(adf), len(bdf)"
   ]
  },
  {
   "cell_type": "code",
   "execution_count": 62,
   "metadata": {
    "ExecuteTime": {
     "end_time": "2017-04-28T10:30:29.682732",
     "start_time": "2017-04-28T10:30:29.678949"
    },
    "collapsed": false
   },
   "outputs": [
    {
     "name": "stdout",
     "output_type": "stream",
     "text": [
      "Q404B3Y: 出生年 | Q404K4B: 目前参加何种医疗保险 | w_l: 个人标准化权数 | q101k6m: 本次流动时间（月份） | Q404E1: 有多少个本地朋友 | q307i4: 子女现居住地 | q101h10: 户口所在省份 | q307i1: 子女现居住地 | Q404B3M: 出生月 | Q203: “五一”节前一周是否做过一小时以上有收入的工作 | Q404C4: 流动的主要原因 | Q402: 老家是否还有您的其他兄弟姐妹 | Q1021: 单位每月包吃折算多少钱 | Q202: 第一次离开户籍地（县级）原因 | q307b5m: 出生月 | q101k6y: 本次流动时间（年份） | Q201M: 第一次离开户籍地（县级）时间（月） | q101c6m: 出生月 | q307a2: 性别 | Q301: 在本地居住的社区建立居民健康档案情况 | q101k9m: 本次流动时间（月份） | q307f5: 母亲孕期所在地 | q307f4: 母亲孕期所在地 | q307f3: 母亲孕期所在地 | q307f2: 母亲孕期所在地 | q307f1: 母亲孕期所在地 | Q404B2Y: 出生年 | Q304C: 广播/电视节目 | q101k9y: 本次流动时间（年份） | newID: 抽样编号顺序码 | q101c6y: 出生年 | Q404N3: 过去一年是否患有医生诊断需要住院的病/伤 | q101id10: 成员序号 | q101b7: 性别 | q101b6: 性别 | q101b5: 性别 | q101b4: 性别 | q101b3: 性别 | q101b2: 性别 | q101b1: 性别 | q307i5: 子女现居住地 | Q404J3: 过去一年是否有医生进行过高血压或糖尿病随访 | q101k1y: 本次流动时间（年份） | Q210: 您个人上个月/上次就业的收入 | q101b9: 性别 | q101b8: 性别 | Q302D1: 城镇职工医疗保险（是否参保） | Q302D2: 城镇职工医疗保险（在何处参保） | Q211: 您是否打算在本地长期居住（5年以上） | DQCODE: 地区 | q307b1m: 出生月 | Q403: 父母患病能否回去照顾 | q307e2: 母亲本次怀孕前有无离开户籍地经历 | Q401: 是否有60岁及以上老年人在老家居住 | q101j10: 本次流动范围 | q101k1m: 本次流动时间（月份） | q101k8m: 本次流动时间（月份） | city_40:  | q101c1y: 出生年 | q101j9: 本次流动范围 | q101j8: 本次流动范围 | q101j7: 本次流动范围 | q101j6: 本次流动范围 | q101j5: 本次流动范围 | q101j4: 本次流动范围 | q101j3: 本次流动范围 | q101j2: 本次流动范围 | q101j1: 本次流动范围 | q101c9m: 出生月 | Q404G4: 平均每天锻炼时间 | Q303D: 慢性病防治 | q101k8y: 本次流动时间（年份） | Q404G1: 平均每天锻炼时间 | Q404G2: 平均每天锻炼时间 | q101c1m: 出生月 | Q404K1B: 目前参加何种医疗保险 | Q102: 过去一年家中在本地由就业单位包吃包住的人数 | q101c9y: 出生年 | q307e4: 母亲本次怀孕前有无离开户籍地经历 | q101l10: 本次流动原因 | q101e2: 受教育程度 | q101e3: 受教育程度 | Q404A4: 是否由老年人回答 | q101e1: 受教育程度 | q101e6: 受教育程度 | q101e7: 受教育程度 | q101e4: 受教育程度 | q101e5: 受教育程度 | q307b2m: 出生月 | q101e8: 受教育程度 | q101e9: 受教育程度 | q101k4m: 本次流动时间（月份） | Q404O1: 是否住院了 | Q206X: 职业描述 | Q404ID2: 老人在表101中的ID | Q404ID1: 老人在表101中的ID | q307a4: 性别 | Q404ID4: 老人在表101中的ID | q101k4y: 本次流动时间（年份） | Q303C: 生殖与避孕/优生优育 | Q302E2: 公费医疗（在何处参保） | Q302E1: 公费医疗（是否参保） | Q404L4A: 在何处参加上述医疗保险 | q101c4m: 出生月 | q307a5: 性别 | Q404F3: 身体健康状况 | q307b3m: 出生月 | Q404N2: 过去一年是否患有医生诊断需要住院的病/伤 | Q404N1: 过去一年是否患有医生诊断需要住院的病/伤 | q307d1: 子女出生地 | Q401X: 有几位60岁及以上老年人 | q101l6: 本次流动原因 | q101c4y: 出生年 | Q404F2: 身体健康状况 | Q404F1: 身体健康状况 | Q404M3: 平常生小病如何处理 | Q404Q2: 最近一次需要住院而没有住院的原因是什么 | Q404Q3: 最近一次需要住院而没有住院的原因是什么 | q101d8: 民族 | Q404K3A: 目前参加何种医疗保险 | q307b3y: 出生年 | q101d1: 民族 | Q404F4: 身体健康状况 | q101d3: 民族 | q101d2: 民族 | q101d5: 民族 | q101d4: 民族 | q101d7: 民族 | q101d6: 民族 | q101d9: 民族 | q101k7m: 本次流动时间（月份） | Q404ID3: 老人在表101中的ID | Q404G3: 平均每天锻炼时间 | Q306: 本人有几个亲生子女 | Q404D4: 最主要的经济来源 | q101f10: 户口登记类型 | Q302B2: 城乡居民合作医疗保险（在何处参保） | Q404B4M: 出生月 | Q302B1: 城乡居民合作医疗保险（是否参保） | q101k7y: 本次流动时间（年份） | Q404J2: 过去一年是否有医生进行过高血压或糖尿病随访 | q101l9: 本次流动原因 | q101c7m: 出生月 | q101id9: 成员序号 | q101id8: 成员序号 | Q404Q1: 最近一次需要住院而没有住院的原因是什么 | q101id3: 成员序号 | q101id2: 成员序号 | q101l3: 本次流动原因 | q101l2: 本次流动原因 | q101l5: 本次流动原因 | q101id6: 成员序号 | q101id5: 成员序号 | q101id4: 成员序号 | Q404P4: 在哪里住的院 | Q404A2: 是否由老年人回答 | Q404P1: 在哪里住的院 | q101c7y: 出生年 | Q404P3: 在哪里住的院 | q101b10: 性别 | q101e10: 受教育程度 | Q404I4: 是否患有医生确诊的高血压或糖尿病 | q307e5: 母亲本次怀孕前有无离开户籍地经历 | Q404I2: 是否患有医生确诊的高血压或糖尿病 | q101k10m: 本次流动时间（月份） | Q404I1: 是否患有医生确诊的高血压或糖尿病 | Q404C1: 流动的主要原因 | Q404C2: 流动的主要原因 | Q404C3: 流动的主要原因 | q101g8: 婚姻状况 | q101g9: 婚姻状况 | q101k2m: 本次流动时间（月份） | Q1022: 单位每月包住折算多少钱 | q101g4: 婚姻状况 | q101g5: 婚姻状况 | q101g6: 婚姻状况 | q101g7: 婚姻状况 | q101g1: 婚姻状况 | q101g2: 婚姻状况 | q101g3: 婚姻状况 | Q106: 过去一年家庭在本地月总收入 | q101k2y: 本次流动时间（年份） | Q105: 过去一年家庭在本地月总支出 | q101i10: 现居住地 | Q103: 过去一年家庭在本地月食品支出 | Q302C1: 城镇居民医疗保险（是否参保） | q307b4m: 出生月 | Q302C2: 城镇居民医疗保险（在何处参保） | Q404A3: 是否由老年人回答 | Q404M4: 平常生小病如何处理 | Q304H: 手机短息/微信 | Q203X: 这周工作时间 | Q404H1: 过去一年是否参加社区卫生服务站或中心组织的免费健康体检 | Q304A: 讲座 | Q404L3B: 在何处参加上述医疗保险 | q101c2y: 出生年 | Q304B: 书/刊/光盘等 | Q304E: 网上咨询 | Q304D: 面对面咨询 | Q304G: 宣传栏 | Q304F: 公众健康咨询活动 | Q404K2B: 目前参加何种医疗保险 | Q404K2A: 目前参加何种医疗保险 | q307e3: 母亲本次怀孕前有无离开户籍地经历 | q307a1: 性别 | Q404H4: 过去一年是否参加社区卫生服务站或中心组织的免费健康体检 | q101a10: 与被访者关系 | q101c2m: 出生月 | Q404H2: 过去一年是否参加社区卫生服务站或中心组织的免费健康体检 | Q404M2: 平常生小病如何处理 | q101f9: 户口登记类型 | q101k5m: 本次流动时间（月份） | Q404L1B: 在何处参加上述医疗保险 | q101l8: 本次流动原因 | q101f3: 户口登记类型 | q101f2: 户口登记类型 | q101f1: 户口登记类型 | q101f7: 户口登记类型 | q101f6: 户口登记类型 | q101f5: 户口登记类型 | q101f4: 户口登记类型 | Q404M1: 平常生小病如何处理 | Q404L3A: 在何处参加上述医疗保险 | q101k5y: 本次流动时间（年份） | Q104: 过去一年家庭在本地月住房支出 | strata:  | Q404O2: 是否住院了 | Q404P2: 在哪里住的院 | Q404K4A: 目前参加何种医疗保险 | F1: 现居住地所在省 | F2: 现居住地所在市（地） | F3: 现居住地所在区（市、县） | Q303H: 性病/艾滋病防治 | Q303I: 其他传染病防治 | F6: 样本点编码 | F7: 样本点类型 | F8: 个人编码 | Q303E: 控制吸烟 | Q303F: 精神障碍防治 | Q303G: 结核病防治 | Q404L4B: 在何处参加上述医疗保险 | Q303A: 职业病防治 | Q303B: 营养健康知识 | q101c5y: 出生年 | Q404N4: 过去一年是否患有医生诊断需要住院的病/伤 | q101l1: 本次流动原因 | q307e1: 母亲本次怀孕前有无离开户籍地经历 | q101k10y: 本次流动时间（年份） | Q404L2A: 在何处参加上述医疗保险 | Q404B4Y: 出生年 | ezone: 经济带 | q101c5m: 出生月 | q101id1: 成员序号 | Q404O4: 是否住院了 | Q302A2: 新农村合作医疗保险（在何处参保） | Q302A1: 新农村合作医疗保险（是否参保） | Q404B2M: 出生月 | Q404H3: 过去一年是否参加社区卫生服务站或中心组织的免费健康体检 | Q404B1Y: 出生年 | q307i3: 子女现居住地 | Q404E2: 有多少个本地朋友 | q101id7: 成员序号 | pro: 样本点省份 | Q209: 您现在的就业身份属于哪一种 | q307b1y: 出生年 | Q404E4: 有多少个本地朋友 | q101l4: 本次流动原因 | q307b2y: 出生年 | Q404B1M: 出生月 | q101f8: 户口登记类型 | q101l7: 本次流动原因 | q101a8: 与被访者关系 | q101a9: 与被访者关系 | q101a6: 与被访者关系 | q101a7: 与被访者关系 | q101a4: 与被访者关系 | q101a5: 与被访者关系 | q101a2: 与被访者关系 | q101a3: 与被访者关系 | q101a1: 与被访者关系 | q101i6: 现居住地 | q101i7: 现居住地 | q101i4: 现居住地 | q101i5: 现居住地 | q101i2: 现居住地 | q101i3: 现居住地 | q307d3: 子女出生地 | q101i1: 现居住地 | q101c8m: 出生月 | Q204: 未工作的主要原因 | Q207: 您现在哪个行业工作 | Q206: 您现在的主要职业是什么 | q101i8: 现居住地 | q101i9: 现居住地 | Q404A1: 是否由老年人回答 | liv: 同住人数 | Q404L1A: 在何处参加上述医疗保险 | q101c10y: 出生年 | Q404J1: 过去一年是否有医生进行过高血压或糖尿病随访 | q307i2: 子女现居住地 | Q404O3: 是否住院了 | q101c8y: 出生年 | q307d5: 子女出生地 | q101k3m: 本次流动时间（月份） | q307d4: 子女出生地 | Q404D1: 最主要的经济来源 | Q404D3: 最主要的经济来源 | Q404D2: 最主要的经济来源 | q101c10m: 出生月 | Q404E3: 有多少个本地朋友 | q101k3y: 本次流动时间（年份） | Q404J4: 过去一年是否有医生进行过高血压或糖尿病随访 | q307b5y: 出生年 | q101g10: 婚姻状况 | Q305M: 初婚月 | Q201Y: 第一次离开户籍地（县级）时间（年） | ID: 导入数据顺序码 | Q208: 您现在就业的单位性质属于哪一类 | q101h5: 户口所在省份 | q101h4: 户口所在省份 | q101h7: 户口所在省份 | q101h6: 户口所在省份 | q101h1: 户口所在省份 | q101d10: 民族 | q101h3: 户口所在省份 | q101h2: 户口所在省份 | q101c3y: 出生年 | Q404L2B: 在何处参加上述医疗保险 | q307d2: 子女出生地 | q101h9: 户口所在省份 | q101h8: 户口所在省份 | Q404I3: 是否患有医生确诊的高血压或糖尿病 | Q205: 4月份是否找过工作 | Q404K3B: 目前参加何种医疗保险 | Q305Y: 初婚年 | Q404Q4: 最近一次需要住院而没有住院的原因是什么 | q307a3: 性别 | q307b4y: 出生年 | Q404K1A: 目前参加何种医疗保险 | q101c3m: 出生月\n"
     ]
    }
   ],
   "source": [
    "print ' | '.join([i[0]+': '+i[1] for i in labels.items()])"
   ]
  },
  {
   "cell_type": "code",
   "execution_count": 92,
   "metadata": {
    "ExecuteTime": {
     "end_time": "2017-04-28T13:52:54.913827",
     "start_time": "2017-04-28T13:52:54.909749"
    },
    "collapsed": false
   },
   "outputs": [
    {
     "name": "stdout",
     "output_type": "stream",
     "text": [
      "bq101b1: 性别 | bq101b2: 性别 | bq101b3: 性别 | bq101b4: 性别 | bq101b5: 性别 | bq101b6: 性别 | bq101b7: 性别 | bq101b8: 性别 | bq101b9: 性别 | BQ206: 您现在的主要职业是什么 | BQ207: 您现在就业的单位属于哪个行业 | BQ204: 未工作的原因 | BQ205: 4月份是否找过工作 | BQ304D: 面对面咨询 | BQ404: 您家同住的60周岁及以上老人数量 | BQ209: 您现在的就业身份属于哪一类 | bq101c8y: 出生年 | BQ305Y: 初婚年 | BQ405J3: 过去一年是否有医生进行过高血压或糖尿病随访 | BQ302C2: 城镇居民医疗保险（在何处参保） | BQ302C1: 城镇居民医疗保险（是否参保） | BQ206X: 具体职业描述 | BQ405K1a: 目前参加何种医疗保险 | BQ405G1: 平均每天锻炼时间 | BQ405E2: 有多少个本地朋友 | BQ307B5M: 出生月 | BQ307B1Y: 出生年 | BQ401X: 有几位60岁及以上老年人 | BQ401: 是否有60岁及以上老年人在老家居住 | BQ405E1: 有多少个本地朋友 | BQ103: 过去一年家庭在本地平均月食品支出 | BQ307B5Y: 出生年 | BQ105: 过去一年家庭在本地平均月总支出 | BQ104: 过去一年家庭在本地平均月住房支出 | BQ106: 过去一年家庭在本地平均月总收入 | BQ403: 父母患病能否回去照顾 | BQ405K1b: 目前参加何种医疗保险 | BQ405F1: 身体健康状况 | BQ304A: 讲座 | BQ304B: 书/刊/光盘等 | BQ304C: 广播/电视节目 | bq101a9: 与被访者关系 | bq101a8: 与被访者关系 | BQ304F: 公众健康咨询活动 | BQ304G: 宣传栏 | bq101a5: 与被访者关系 | bq101a4: 与被访者关系 | bq101a7: 与被访者关系 | bq101a6: 与被访者关系 | bq101a1: 与被访者关系 | BQ405I2: 是否患有医生确诊的高血压或糖尿病 | bq101a3: 与被访者关系 | bq101a2: 与被访者关系 | bq101i5: 现居住地 | bq101i4: 现居住地 | bq101i7: 现居住地 | bq101i6: 现居住地 | bq101i1: 现居住地 | bq101i3: 现居住地 | bq101i2: 现居住地 | bq101i9: 现居住地 | bq101i8: 现居住地 | BQ307D2: 子女出生地 | BQ307D3: 子女出生地 | BQ305M: 初婚月 | BQ307D1: 子女出生地 | BQ307D4: 子女出生地 | BQ307D5: 子女出生地 | bq101c7m: 出生月 | BQ302D2: 城镇职工医疗保险（在何处参保） | BQ302D1: 城镇职工医疗保险（是否参保） | bq101c7y: 出生年 | BQ405M1: 平常生小病如何处理 | BQ405M2: 平常生小病如何处理 | BQ405M3: 平常生小病如何处理 | BQ303I: 其他传染病防治 | BQ303H: 性病/艾滋病防治 | BQ301: 在本地居住的社区建立居民健康档案情况 | bq101h10: 户口所在省份 | BQ306: 本人有几个亲生子女 | BQ303A: 职业病防治 | BQ303C: 生殖与避孕/优生优育 | BQ303B: 营养健康知识 | BQ303E: 控制吸烟 | BQ303D: 慢性病防治 | BQ303G: 结核病防治 | BQ303F: 精神障碍防治 | bq101h2: 户口所在省份 | bq101h3: 户口所在省份 | bq101h1: 户口所在省份 | bq101h6: 户口所在省份 | bq101h7: 户口所在省份 | bq101h4: 户口所在省份 | bq101h5: 户口所在省份 | bq101h8: 户口所在省份 | bq101h9: 户口所在省份 | BQ405Q3: 最近一次需要住院而没有住院的原因是什么 | BQ405F3: 身体健康状况 | bq101c2y: 出生年 | BQ302E1: 公费医疗（是否参保） | BQ302E2: 公费医疗（在何处参保） | bq101c2m: 出生月 | bq101d10: 民族 | BQ405N3: 过去一年是否患有医生诊断需要住院的病/伤 | BQ405N2: 过去一年是否患有医生诊断需要住院的病/伤 | BQ405L3a: 在何处参加上述医疗保险 | BQ405K3b: 目前参加何种医疗保险 | bq101c9m: 出生月 | BQ405J2: 过去一年是否有医生进行过高血压或糖尿病随访 | BQ208: 您现在就业的单位性质属于哪一类 | bq101c9y: 出生年 | bq101g8: 婚姻状况 | bq101g7: 婚姻状况 | bq101g6: 婚姻状况 | bq101g5: 婚姻状况 | bq101g4: 婚姻状况 | bq101g3: 婚姻状况 | bq101g2: 婚姻状况 | bq101g1: 婚姻状况 | BQ307B4M: 出生月 | BQ405O2: 是否住院了 | BQ405O3: 是否住院了 | BQ405O1: 是否住院了 | BQ405L1b: 在何处参加上述医疗保险 | bq101c1m: 出生月 | bq101g10: 婚姻状况 | bq101c8m: 出生月 | BQ405P3: 在哪里住的院 | BQ405P2: 在哪里住的院 | BQ405P1: 在哪里住的院 | BQ405N1: 过去一年是否患有医生诊断需要住院的病/伤 | bq101c1y: 出生年 | BQ405I1: 是否患有医生确诊的高血压或糖尿病 | BQ405B3Y: 出生年 | bq101g9: 婚姻状况 | bq101i10: 现居住地 | BQ405A1: 是否由老年人回答 | BQ405A2: 是否由老年人回答 | BQ405A3: 是否由老年人回答 | BQ405L1a: 在何处参加上述医疗保险 | BQ307B1M: 出生月 | bq101f8: 户口登记类型 | bq101f9: 户口登记类型 | BQ405B3M: 出生月 | bq101f4: 户口登记类型 | bq101f5: 户口登记类型 | bq101f6: 户口登记类型 | bq101f7: 户口登记类型 | bq101f1: 户口登记类型 | bq101f2: 户口登记类型 | bq101f3: 户口登记类型 | BQ405H3: 过去一年是否参加社区卫生服务站或中心组织的免费健康体检 | BQ405H2: 过去一年是否参加社区卫生服务站或中心组织的免费健康体检 | BQ405H1: 过去一年是否参加社区卫生服务站或中心组织的免费健康体检 | BQ405K3a: 目前参加何种医疗保险 | bq101c4m: 出生月 | BQ307I1: 子女现居住地 | BQ405L3b: 在何处参加上述医疗保险 | BQ307I3: 子女现居住地 | BQ307I2: 子女现居住地 | BQ307I5: 子女现居住地 | BQ307I4: 子女现居住地 | BQ307A1: 性别 | bq101c4y: 出生年 | BQ307A3: 性别 | BQ307A2: 性别 | BQ307A5: 性别 | BQ307A4: 性别 | BQ405Q1: 最近一次需要住院而没有住院的原因是什么 | BQ405Q2: 最近一次需要住院而没有住院的原因是什么 | BQ405I3: 是否患有医生确诊的高血压或糖尿病 | BQ405B2Y: 出生年 | BQ307B2Y: 出生年 | BQ405L2b: 在何处参加上述医疗保险 | BQ405L2a: 在何处参加上述医疗保险 | BQ405G2: 平均每天锻炼时间 | BQ405G3: 平均每天锻炼时间 | bq101e9: 受教育程度 | bq101e8: 受教育程度 | BQ405B2M: 出生月 | BQ307B2M: 出生月 | bq101e1: 受教育程度 | bq101e3: 受教育程度 | bq101e2: 受教育程度 | bq101e5: 受教育程度 | bq101e4: 受教育程度 | bq101e7: 受教育程度 | bq101e6: 受教育程度 | F1: 现居住地所在省 | F2: 现居住地所在市（地区） | F3: 现居住地所在区（市、县） | bq101c3y: 出生年 | F7: 样本点类型 | F8: 个人编码 | bq101c3m: 出生月 | BQ203X: 这周工作时间 | BQ307B3M: 出生月 | bq101d6: 民族 | bq101d7: 民族 | bq101d4: 民族 | bq101d5: 民族 | bq101d2: 民族 | bq101d3: 民族 | bq101d1: 民族 | BQ405B1Y: 出生年 | pro: 样本点省份代码 | bq101c10y: 出生年 | bq101d8: 民族 | bq101d9: 民族 | bq101id10: 成员序号 | BQ302A1: 新农村合作医疗保险（是否参保） | BQ302A2: 新农村合作医疗保险（在何处参保） | BQ405F2: 身体健康状况 | bq101c10m: 出生月 | BQ405E3: 有多少个本地朋友 | bq101a10: 与被访者关系 | BQ405B1M: 出生月 | BQ304E: 网上咨询 | W_L: 个人标准化权数 | bq101id8: 成员序号 | bq101c6m: 出生月 | BQ203: “五一”节前一周是否做过一小时以上有收入的工作 | newBID: 顺序码 | bq101id2: 成员序号 | bq101id3: 成员序号 | bq101b10: 性别 | bq101id1: 成员序号 | bq101id6: 成员序号 | bq101id7: 成员序号 | bq101id4: 成员序号 | bq101id5: 成员序号 | BQ304H: 手机短息/微信 | bq101c6y: 出生年 | BQ307B4Y: 出生年 | BQ402: 老家是否还有您的其他兄弟姐妹 | BQ405ID1: 老人在表101中的ID成员序号 | BQ405ID3: 老人在表101中的ID成员序号 | BQ405ID2: 老人在表101中的ID成员序号 | BQ405D3: 最主要的经济来源 | BQ405D2: 最主要的经济来源 | BQ405D1: 最主要的经济来源 | BQ210: 您个人上个月/上次就业的收入 | bq101id9: 成员序号 | BQ307B3Y: 出生年 | BQ405J1: 过去一年是否有医生进行过高血压或糖尿病随访 | BQ302B1: 城乡居民合作医疗保险（是否参保） | BQ302B2: 城乡居民合作医疗保险（在何处参保） | BQ405K2a: 目前参加何种医疗保险 | bq101e10: 受教育程度 | bq101c5m: 出生月 | BQ405K2b: 目前参加何种医疗保险 | BQ405C2: 流动的主要原因 | BQ405C3: 流动的主要原因 | bq101c5y: 出生年 | BQ405C1: 流动的主要原因 | bq101f10: 户口登记类型\n"
     ]
    }
   ],
   "source": [
    "print ' | '.join([i[0]+': '+i[1] for i in labels2.items()])"
   ]
  },
  {
   "cell_type": "code",
   "execution_count": 63,
   "metadata": {
    "ExecuteTime": {
     "end_time": "2017-04-28T10:33:19.421295",
     "start_time": "2017-04-28T10:33:19.417799"
    },
    "collapsed": false
   },
   "outputs": [
    {
     "name": "stdout",
     "output_type": "stream",
     "text": [
      "个人标准化权数 样本点省份 现居住地所在省 现居住地所在市（地） 导入数据顺序码 与被访者关系\n"
     ]
    }
   ],
   "source": [
    "print labels['w_l'], labels['pro'],labels['F1'], labels['F2'],labels['ID'], labels['q101a10']"
   ]
  },
  {
   "cell_type": "code",
   "execution_count": 66,
   "metadata": {
    "ExecuteTime": {
     "end_time": "2017-04-28T10:48:21.553981",
     "start_time": "2017-04-28T10:48:21.546497"
    },
    "collapsed": false
   },
   "outputs": [
    {
     "data": {
      "text/plain": [
       "本人    206000\n",
       "dtype: int64"
      ]
     },
     "execution_count": 66,
     "metadata": {},
     "output_type": "execute_result"
    }
   ],
   "source": [
    "adf['q101a1'].value_counts()  # 大量都是NaN"
   ]
  },
  {
   "cell_type": "code",
   "execution_count": 67,
   "metadata": {
    "ExecuteTime": {
     "end_time": "2017-04-28T10:48:55.115681",
     "start_time": "2017-04-28T10:48:55.108428"
    },
    "collapsed": false
   },
   "outputs": [
    {
     "data": {
      "text/plain": [
       "配偶           161783\n",
       "父母/公婆/岳父母     10750\n",
       "子女             3590\n",
       "其他             1287\n",
       "兄弟姐妹及配偶        1033\n",
       "（外）祖父母           46\n",
       "孙辈               36\n",
       "媳婿               25\n",
       "dtype: int64"
      ]
     },
     "execution_count": 67,
     "metadata": {},
     "output_type": "execute_result"
    }
   ],
   "source": [
    "adf['q101a2'].value_counts()  # 大量都是NaN"
   ]
  },
  {
   "cell_type": "code",
   "execution_count": 69,
   "metadata": {
    "ExecuteTime": {
     "end_time": "2017-04-28T10:49:17.115563",
     "start_time": "2017-04-28T10:49:17.107893"
    },
    "collapsed": false
   },
   "outputs": [
    {
     "data": {
      "text/plain": [
       "子女           141688\n",
       "父母/公婆/岳父母     10975\n",
       "兄弟姐妹及配偶         713\n",
       "其他              506\n",
       "媳婿              500\n",
       "孙辈              351\n",
       "配偶              322\n",
       "（外）祖父母           42\n",
       "dtype: int64"
      ]
     },
     "execution_count": 69,
     "metadata": {},
     "output_type": "execute_result"
    }
   ],
   "source": [
    "adf['q101a3'].value_counts()  # 大量都是NaN"
   ]
  },
  {
   "cell_type": "code",
   "execution_count": 70,
   "metadata": {
    "ExecuteTime": {
     "end_time": "2017-04-28T10:49:24.595059",
     "start_time": "2017-04-28T10:49:24.587793"
    },
    "collapsed": false
   },
   "outputs": [
    {
     "data": {
      "text/plain": [
       "子女           56917\n",
       "父母/公婆/岳父母     5865\n",
       "兄弟姐妹及配偶       4639\n",
       "媳婿            1943\n",
       "孙辈             658\n",
       "其他             476\n",
       "配偶             229\n",
       "（外）祖父母          96\n",
       "dtype: int64"
      ]
     },
     "execution_count": 70,
     "metadata": {},
     "output_type": "execute_result"
    }
   ],
   "source": [
    "adf['q101a4'].value_counts()  # 大量都是NaN"
   ]
  },
  {
   "cell_type": "code",
   "execution_count": 71,
   "metadata": {
    "ExecuteTime": {
     "end_time": "2017-04-28T10:49:31.559402",
     "start_time": "2017-04-28T10:49:31.552686"
    },
    "collapsed": false
   },
   "outputs": [
    {
     "data": {
      "text/plain": [
       "子女           6931\n",
       "父母/公婆/岳父母    5008\n",
       "孙辈           1632\n",
       "兄弟姐妹及配偶      1239\n",
       "其他            330\n",
       "媳婿            323\n",
       "配偶            108\n",
       "（外）祖父母        106\n",
       "dtype: int64"
      ]
     },
     "execution_count": 71,
     "metadata": {},
     "output_type": "execute_result"
    }
   ],
   "source": [
    "adf['q101a5'].value_counts()  # 大量都是NaN"
   ]
  },
  {
   "cell_type": "code",
   "execution_count": 72,
   "metadata": {
    "ExecuteTime": {
     "end_time": "2017-04-28T10:51:26.142307",
     "start_time": "2017-04-28T10:51:26.135779"
    },
    "collapsed": false
   },
   "outputs": [
    {
     "data": {
      "text/plain": [
       "父母/公婆/岳父母    1408\n",
       "子女            968\n",
       "孙辈            637\n",
       "兄弟姐妹及配偶       491\n",
       "其他            195\n",
       "媳婿             75\n",
       "（外）祖父母         74\n",
       "配偶             29\n",
       "dtype: int64"
      ]
     },
     "execution_count": 72,
     "metadata": {},
     "output_type": "execute_result"
    }
   ],
   "source": [
    "adf['q101a6'].value_counts()  # 大量都是NaN"
   ]
  },
  {
   "cell_type": "code",
   "execution_count": 73,
   "metadata": {
    "ExecuteTime": {
     "end_time": "2017-04-28T10:58:38.826685",
     "start_time": "2017-04-28T10:58:38.819707"
    },
    "collapsed": false
   },
   "outputs": [
    {
     "data": {
      "text/plain": [
       "男    109308\n",
       "女     96692\n",
       "dtype: int64"
      ]
     },
     "execution_count": 73,
     "metadata": {},
     "output_type": "execute_result"
    }
   ],
   "source": [
    "adf['q101b1'].value_counts()  # 性别"
   ]
  },
  {
   "cell_type": "code",
   "execution_count": 74,
   "metadata": {
    "ExecuteTime": {
     "end_time": "2017-04-28T11:03:05.537678",
     "start_time": "2017-04-28T11:03:05.530837"
    },
    "collapsed": false
   },
   "outputs": [
    {
     "data": {
      "text/plain": [
       "跨省      102758\n",
       "省内跨市     62508\n",
       "市内跨县     40708\n",
       "跨境          26\n",
       "dtype: int64"
      ]
     },
     "execution_count": 74,
     "metadata": {},
     "output_type": "execute_result"
    }
   ],
   "source": [
    "adf['q101j1'].value_counts()  # 流动范围"
   ]
  },
  {
   "cell_type": "code",
   "execution_count": 75,
   "metadata": {
    "ExecuteTime": {
     "end_time": "2017-04-28T11:03:37.441996",
     "start_time": "2017-04-28T11:03:37.435052"
    },
    "collapsed": false
   },
   "outputs": [
    {
     "data": {
      "text/plain": [
       "务工经商    173839\n",
       "家属随迁     24207\n",
       "投亲靠友      2163\n",
       "其他        1842\n",
       "拆迁搬家      1486\n",
       "学习培训      1128\n",
       "婚姻嫁娶      1009\n",
       "出生         296\n",
       "参军          30\n",
       "dtype: int64"
      ]
     },
     "execution_count": 75,
     "metadata": {},
     "output_type": "execute_result"
    }
   ],
   "source": [
    "adf['q101l1'].value_counts()  # 流动原因"
   ]
  },
  {
   "cell_type": "code",
   "execution_count": 76,
   "metadata": {
    "ExecuteTime": {
     "end_time": "2017-04-28T11:06:14.924729",
     "start_time": "2017-04-28T11:06:14.917231"
    },
    "collapsed": false
   },
   "outputs": [
    {
     "data": {
      "text/plain": [
       "汉      189815\n",
       "回        4062\n",
       "壮        2440\n",
       "藏        1609\n",
       "苗        1165\n",
       "满        1118\n",
       "土家        981\n",
       "维吾尔       865\n",
       "其他        793\n",
       "蒙         716\n",
       "彝         647\n",
       "侗         317\n",
       "布依        298\n",
       "瑶         269\n",
       "朝鲜        264\n",
       "哈尼        206\n",
       "白         205\n",
       "黎         142\n",
       "傣          48\n",
       "哈萨克        40\n",
       "dtype: int64"
      ]
     },
     "execution_count": 76,
     "metadata": {},
     "output_type": "execute_result"
    }
   ],
   "source": [
    "adf['q101d1'].value_counts()  # 民族"
   ]
  },
  {
   "cell_type": "code",
   "execution_count": 77,
   "metadata": {
    "ExecuteTime": {
     "end_time": "2017-04-28T11:06:20.977945",
     "start_time": "2017-04-28T11:06:20.969983"
    },
    "collapsed": false
   },
   "outputs": [
    {
     "data": {
      "text/plain": [
       "四川     18767\n",
       "河南     16336\n",
       "安徽     16215\n",
       "湖南     12605\n",
       "山东     11054\n",
       "湖北     10350\n",
       "河北     10139\n",
       "江西      8985\n",
       "黑龙江     8216\n",
       "重庆      7911\n",
       "甘肃      7873\n",
       "广西      7760\n",
       "江苏      7112\n",
       "陕西      6876\n",
       "贵州      6507\n",
       "福建      5512\n",
       "广东      5353\n",
       "内蒙古     5109\n",
       "吉林      4650\n",
       "云南      4631\n",
       "浙江      4470\n",
       "山西      4205\n",
       "辽宁      3183\n",
       "宁夏      2791\n",
       "青海      2741\n",
       "新疆      2562\n",
       "海南      2229\n",
       "西藏      1335\n",
       "天津       151\n",
       "兵团       139\n",
       "北京        94\n",
       "上海        86\n",
       "国外        26\n",
       "香港        18\n",
       "台湾         6\n",
       "澳门         1\n",
       "dtype: int64"
      ]
     },
     "execution_count": 77,
     "metadata": {},
     "output_type": "execute_result"
    }
   ],
   "source": [
    "adf['q101h1'].value_counts()  # 省份"
   ]
  },
  {
   "cell_type": "markdown",
   "metadata": {},
   "source": [
    "# Mobility"
   ]
  },
  {
   "cell_type": "code",
   "execution_count": 94,
   "metadata": {
    "ExecuteTime": {
     "end_time": "2017-04-28T20:52:52.868475",
     "start_time": "2017-04-28T20:52:52.850128"
    },
    "collapsed": false
   },
   "outputs": [
    {
     "data": {
      "text/plain": [
       "上海市      8000\n",
       "北京市      8000\n",
       "重庆市      6000\n",
       "天津市      6000\n",
       "石家庄市     3000\n",
       "成都市      2800\n",
       "常州市      2560\n",
       "佛山市      2400\n",
       "海西州      2080\n",
       "宁波市      2040\n",
       "乌鲁木齐市    2040\n",
       "南宁市      2000\n",
       "长春市      2000\n",
       "福州市      2000\n",
       "南昌市      2000\n",
       "银川市      2000\n",
       "太原市      2000\n",
       "郑州市      2000\n",
       "东莞市      2000\n",
       "南京市      2000\n",
       "兰州市      2000\n",
       "厦门市      2000\n",
       "泉州市      2000\n",
       "哈尔滨市     2000\n",
       "昆明市      2000\n",
       "广州市      2000\n",
       "贵阳市      2000\n",
       "合肥市      2000\n",
       "长沙市      2000\n",
       "沈阳市      2000\n",
       "Name: F2, dtype: int64"
      ]
     },
     "execution_count": 94,
     "metadata": {},
     "output_type": "execute_result"
    }
   ],
   "source": [
    "adf['F2'].value_counts()[:30]  # 现在居住城市"
   ]
  },
  {
   "cell_type": "code",
   "execution_count": 97,
   "metadata": {
    "ExecuteTime": {
     "end_time": "2017-04-28T21:06:02.482305",
     "start_time": "2017-04-28T21:06:02.463953"
    },
    "collapsed": false
   },
   "outputs": [
    {
     "data": {
      "text/plain": [
       "广东省         15000\n",
       "浙江省         14000\n",
       "江苏省         12000\n",
       "河北省         10000\n",
       "北京市          8000\n",
       "上海市          8000\n",
       "四川省          8000\n",
       "湖南省          7000\n",
       "福建省          7000\n",
       "广西壮族自治区      6000\n",
       "新疆维吾尔自治区     6000\n",
       "天津市          6000\n",
       "河南省          6000\n",
       "陕西省          6000\n",
       "湖北省          6000\n",
       "山东省          6000\n",
       "甘肃省          6000\n",
       "重庆市          6000\n",
       "辽宁省          5000\n",
       "山西省          5000\n",
       "黑龙江省         5000\n",
       "安徽省          5000\n",
       "海南省          5000\n",
       "青海省          5000\n",
       "江西省          5000\n",
       "云南省          5000\n",
       "内蒙古自治区       5000\n",
       "西藏自治区        4000\n",
       "贵州省          4000\n",
       "宁夏回族自治区      4000\n",
       "吉林省          4000\n",
       "新疆生产建设兵团     2000\n",
       "Name: F1, dtype: int64"
      ]
     },
     "execution_count": 97,
     "metadata": {},
     "output_type": "execute_result"
    }
   ],
   "source": [
    "adf['F1'].value_counts()  # 现在居住城市"
   ]
  },
  {
   "cell_type": "code",
   "execution_count": 98,
   "metadata": {
    "ExecuteTime": {
     "end_time": "2017-04-28T21:06:07.113267",
     "start_time": "2017-04-28T21:06:07.105499"
    },
    "collapsed": false
   },
   "outputs": [
    {
     "data": {
      "text/plain": [
       "四川     18767\n",
       "河南     16336\n",
       "安徽     16215\n",
       "湖南     12605\n",
       "山东     11054\n",
       "湖北     10350\n",
       "河北     10139\n",
       "江西      8985\n",
       "黑龙江     8216\n",
       "重庆      7911\n",
       "甘肃      7873\n",
       "广西      7760\n",
       "江苏      7112\n",
       "陕西      6876\n",
       "贵州      6507\n",
       "福建      5512\n",
       "广东      5353\n",
       "内蒙古     5109\n",
       "吉林      4650\n",
       "云南      4631\n",
       "浙江      4470\n",
       "山西      4205\n",
       "辽宁      3183\n",
       "宁夏      2791\n",
       "青海      2741\n",
       "新疆      2562\n",
       "海南      2229\n",
       "西藏      1335\n",
       "天津       151\n",
       "兵团       139\n",
       "北京        94\n",
       "上海        86\n",
       "国外        26\n",
       "香港        18\n",
       "台湾         6\n",
       "澳门         1\n",
       "dtype: int64"
      ]
     },
     "execution_count": 98,
     "metadata": {},
     "output_type": "execute_result"
    }
   ],
   "source": [
    "adf['q101h1'].value_counts()  # 户籍所在省份"
   ]
  },
  {
   "cell_type": "code",
   "execution_count": 99,
   "metadata": {
    "ExecuteTime": {
     "end_time": "2017-05-08T13:25:46.077523",
     "start_time": "2017-05-08T13:25:45.936498"
    },
    "collapsed": false
   },
   "outputs": [
    {
     "data": {
      "text/plain": [
       "0.459535    660\n",
       "0.449474    584\n",
       "0.401056    583\n",
       "1.535452    552\n",
       "0.393737    550\n",
       "2.491139    542\n",
       "0.467706    539\n",
       "1.391747    518\n",
       "0.508751    509\n",
       "0.465868    500\n",
       "2.727469    491\n",
       "0.227806    484\n",
       "0.183690    484\n",
       "0.292366    473\n",
       "0.470686    471\n",
       "1.862102    467\n",
       "1.813963    464\n",
       "0.510430    460\n",
       "2.658809    459\n",
       "1.745516    458\n",
       "1.403007    449\n",
       "1.945873    447\n",
       "2.626645    443\n",
       "0.406775    438\n",
       "0.261882    434\n",
       "0.125507    432\n",
       "0.263399    430\n",
       "2.572639    430\n",
       "0.361610    428\n",
       "1.824931    426\n",
       "           ... \n",
       "1.287733      3\n",
       "6.329059      3\n",
       "0.440683      3\n",
       "0.544636      3\n",
       "0.495152      3\n",
       "7.125574      2\n",
       "0.518856      2\n",
       "0.620885      2\n",
       "3.781253      2\n",
       "0.473697      2\n",
       "0.199439      2\n",
       "3.231839      2\n",
       "6.463677      2\n",
       "1.660484      2\n",
       "2.115561      2\n",
       "0.261234      2\n",
       "0.733684      2\n",
       "0.149579      2\n",
       "0.151887      2\n",
       "0.365691      2\n",
       "2.423879      2\n",
       "2.225368      2\n",
       "0.634116      1\n",
       "0.568436      1\n",
       "0.732666      1\n",
       "6.477795      1\n",
       "0.190047      1\n",
       "0.844131      1\n",
       "0.325994      1\n",
       "0.203622      1\n",
       "Name: w_l, dtype: int64"
      ]
     },
     "execution_count": 99,
     "metadata": {},
     "output_type": "execute_result"
    }
   ],
   "source": [
    "adf['w_l'].value_counts()  # 户籍所在省份"
   ]
  },
  {
   "cell_type": "code",
   "execution_count": null,
   "metadata": {
    "collapsed": true
   },
   "outputs": [],
   "source": []
  }
 ],
 "metadata": {
  "kernelspec": {
   "display_name": "Python 2",
   "language": "python",
   "name": "python2"
  },
  "language_info": {
   "codemirror_mode": {
    "name": "ipython",
    "version": 2
   },
   "file_extension": ".py",
   "mimetype": "text/x-python",
   "name": "python",
   "nbconvert_exporter": "python",
   "pygments_lexer": "ipython2",
   "version": "2.7.12"
  },
  "latex_envs": {
   "bibliofile": "biblio.bib",
   "cite_by": "apalike",
   "current_citInitial": 1,
   "eqLabelWithNumbers": true,
   "eqNumInitial": 0
  },
  "toc": {
   "toc_cell": false,
   "toc_number_sections": true,
   "toc_threshold": 6,
   "toc_window_display": false
  }
 },
 "nbformat": 4,
 "nbformat_minor": 0
}
