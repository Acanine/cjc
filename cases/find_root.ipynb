{
 "cells": [
  {
   "cell_type": "code",
   "execution_count": 1,
   "metadata": {
    "ExecuteTime": {
     "end_time": "2017-04-18T13:46:33.318632",
     "start_time": "2017-04-18T13:46:32.624335"
    },
    "collapsed": false,
    "slideshow": {
     "slide_type": "slide"
    }
   },
   "outputs": [],
   "source": [
    "# -*- coding: utf-8 -*-\n",
    "\"\"\"\n",
    "Created on Sat Mar  11 13:03:47 2017\n",
    "@author: 张昕沂\n",
    "\"\"\"\n",
    "\n",
    "%matplotlib inline\n",
    "import numpy as np \n",
    "from scipy import interpolate\n",
    "import pylab as pl\n"
   ]
  },
  {
   "cell_type": "markdown",
   "metadata": {
    "slideshow": {
     "slide_type": "slide"
    }
   },
   "source": [
    "# 试探法求解方程的根"
   ]
  },
  {
   "cell_type": "code",
   "execution_count": 2,
   "metadata": {
    "ExecuteTime": {
     "end_time": "2017-04-18T13:46:35.132233",
     "start_time": "2017-04-18T13:46:35.128677"
    },
    "collapsed": false,
    "slideshow": {
     "slide_type": "subslide"
    }
   },
   "outputs": [],
   "source": [
    "def f(x):\n",
    "    return x**2 - 5.0 "
   ]
  },
  {
   "cell_type": "code",
   "execution_count": 3,
   "metadata": {
    "ExecuteTime": {
     "end_time": "2017-04-18T13:46:37.330962",
     "start_time": "2017-04-18T13:46:37.320557"
    },
    "collapsed": false,
    "slideshow": {
     "slide_type": "subslide"
    }
   },
   "outputs": [
    {
     "name": "stdout",
     "output_type": "stream",
     "text": [
      "-4.0\n"
     ]
    }
   ],
   "source": [
    "EPS = 0.001 \n",
    "DX = 0.05\n",
    "X=1  \n",
    "FOLD=f(X)      \n",
    "COUNT = 0\n",
    "XROOT = []\n",
    "ITER = []\n",
    "\n",
    "print FOLD\n",
    "\n",
    "while abs(FOLD) > EPS:\n",
    "    COUNT += 1\n",
    "    X += DX\n",
    "    FNEW = f(X) \n",
    "    if FNEW*FOLD < 0:\n",
    "        X = X - DX\n",
    "        DX = DX/2\n",
    "    FOLD = FNEW \n",
    "    XROOT.append(X) \n",
    "    ITER.append(COUNT) \n",
    "    if COUNT == 100000000:\n",
    "        print 'break'\n",
    "        break"
   ]
  },
  {
   "cell_type": "code",
   "execution_count": 4,
   "metadata": {
    "ExecuteTime": {
     "end_time": "2017-04-18T13:46:38.670849",
     "start_time": "2017-04-18T13:46:38.502760"
    },
    "collapsed": false,
    "slideshow": {
     "slide_type": "subslide"
    }
   },
   "outputs": [
    {
     "data": {
      "image/png": "[encoded data removed]",
      "text/plain": [
       "<matplotlib.figure.Figure at 0x10f125350>"
      ]
     },
     "metadata": {},
     "output_type": "display_data"
    },
    {
     "name": "stdout",
     "output_type": "stream",
     "text": [
      "found the root of x2-5=0 at x= 2.234375\n"
     ]
    }
   ],
   "source": [
    "pl.plot(ITER,XROOT,'r-o',label='search')\n",
    "pl.xlabel('ITER')\n",
    "pl.ylabel('XROOT')\n",
    "pl.xlim(0,35)\n",
    "pl.ylim(1,3)\n",
    "pl.legend()\n",
    "pl.show()\n",
    "\n",
    "print(\"found the root of x2-5=0 at x= %0.6f\" %X)\n"
   ]
  },
  {
   "cell_type": "code",
   "execution_count": 5,
   "metadata": {
    "ExecuteTime": {
     "end_time": "2017-04-18T13:46:39.660940",
     "start_time": "2017-04-18T13:46:39.656281"
    },
    "collapsed": false,
    "slideshow": {
     "slide_type": "subslide"
    }
   },
   "outputs": [
    {
     "data": {
      "text/plain": [
       "4.992431640625"
      ]
     },
     "execution_count": 5,
     "metadata": {},
     "output_type": "execute_result"
    }
   ],
   "source": [
    "2.234375**2"
   ]
  }
 ],
 "metadata": {
  "celltoolbar": "Slideshow",
  "kernelspec": {
   "display_name": "Python 2",
   "language": "python",
   "name": "python2"
  },
  "language_info": {
   "codemirror_mode": {
    "name": "ipython",
    "version": 2
   },
   "file_extension": ".py",
   "mimetype": "text/x-python",
   "name": "python",
   "nbconvert_exporter": "python",
   "pygments_lexer": "ipython2",
   "version": "2.7.12"
  },
  "latex_envs": {
   "bibliofile": "biblio.bib",
   "cite_by": "apalike",
   "current_citInitial": 1,
   "eqLabelWithNumbers": true,
   "eqNumInitial": 0
  },
  "toc": {
   "toc_cell": false,
   "toc_number_sections": true,
   "toc_threshold": 6,
   "toc_window_display": false
  }
 },
 "nbformat": 4,
 "nbformat_minor": 0
}
