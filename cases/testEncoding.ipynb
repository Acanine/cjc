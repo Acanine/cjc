{
 "cells": [
  {
   "cell_type": "markdown",
   "metadata": {},
   "source": [
    "http://stackoverflow.com/questions/38728366/pandas-cannot-load-data-csv-encoding-mystery\n",
    "\n",
    "It seems that there's something very wrong with the input file. There are encoding errors throughout.\n",
    "\n",
    "One thing you could do, is to read the CSV file as a binary, decode the binary string and replace the erroneous characters.\n"
   ]
  },
  {
   "cell_type": "code",
   "execution_count": 137,
   "metadata": {
    "ExecuteTime": {
     "end_time": "2017-05-12T23:22:34.271885",
     "start_time": "2017-05-12T23:22:34.143037"
    },
    "collapsed": false
   },
   "outputs": [
    {
     "data": {
      "text/html": [
       "<div>\n",
       "<table border=\"1\" class=\"dataframe\">\n",
       "  <thead>\n",
       "    <tr style=\"text-align: right;\">\n",
       "      <th></th>\n",
       "      <th>公众号昵称</th>\n",
       "      <th>微信号</th>\n",
       "      <th>公众号类别</th>\n",
       "      <th>作者</th>\n",
       "      <th>发布位置</th>\n",
       "      <th>是否原创</th>\n",
       "      <th>标题</th>\n",
       "      <th>文章链接</th>\n",
       "      <th>摘要</th>\n",
       "      <th>正文</th>\n",
       "      <th>...</th>\n",
       "      <th>更新时间</th>\n",
       "      <th>Unnamed: 19</th>\n",
       "      <th>Unnamed: 20</th>\n",
       "      <th>Unnamed: 21</th>\n",
       "      <th>Unnamed: 22</th>\n",
       "      <th>Unnamed: 23</th>\n",
       "      <th>Unnamed: 24</th>\n",
       "      <th>Unnamed: 25</th>\n",
       "      <th>Unnamed: 26</th>\n",
       "      <th>Unnamed: 27</th>\n",
       "    </tr>\n",
       "  </thead>\n",
       "  <tbody>\n",
       "    <tr>\n",
       "      <th>0</th>\n",
       "      <td>中国政府网</td>\n",
       "      <td>zhengfu</td>\n",
       "      <td>政务</td>\n",
       "      <td>NaN</td>\n",
       "      <td>0</td>\n",
       "      <td>0</td>\n",
       "      <td>李克强“盯”住农民工欠薪：决不能让他们背井离乡流汗再流泪</td>\n",
       "      <td>http://mp.weixin.qq.com/s?__biz=MzA4MDA0MzcwMA...</td>\n",
       "      <td>“农民工在外打工非常不易，决不能让他们背井离乡流汗再流泪！”李克强斩钉截铁地说。</td>\n",
       "      <td>丨来源：新京报新媒体鲁甸地震受灾群众甘永荣的一句话，让李克强总理的表情立刻凝重起来。“你打工...</td>\n",
       "      <td>...</td>\n",
       "      <td>2017-01-27 11:32:16</td>\n",
       "      <td>NaN</td>\n",
       "      <td>NaN</td>\n",
       "      <td>NaN</td>\n",
       "      <td>NaN</td>\n",
       "      <td>NaN</td>\n",
       "      <td>NaN</td>\n",
       "      <td>NaN</td>\n",
       "      <td>NaN</td>\n",
       "      <td>NaN</td>\n",
       "    </tr>\n",
       "    <tr>\n",
       "      <th>1</th>\n",
       "      <td>中国政府网</td>\n",
       "      <td>zhengfu</td>\n",
       "      <td>政务</td>\n",
       "      <td>NaN</td>\n",
       "      <td>0</td>\n",
       "      <td>0</td>\n",
       "      <td>总理对话农民工，问过哪些问题？</td>\n",
       "      <td>http://mp.weixin.qq.com/s?__biz=MzA4MDA0MzcwMA...</td>\n",
       "      <td>总理考察活动时和农民工聊过什么话题？说过哪些话？中国政府网为你一一梳理。</td>\n",
       "      <td>总理考察活动时和农民工聊过什么话题？说过哪些话？中国政府网为你一一梳理。 总理和农民工聊过这...</td>\n",
       "      <td>...</td>\n",
       "      <td>2017-02-02 11:32:48</td>\n",
       "      <td>NaN</td>\n",
       "      <td>NaN</td>\n",
       "      <td>NaN</td>\n",
       "      <td>NaN</td>\n",
       "      <td>NaN</td>\n",
       "      <td>NaN</td>\n",
       "      <td>NaN</td>\n",
       "      <td>NaN</td>\n",
       "      <td>NaN</td>\n",
       "    </tr>\n",
       "    <tr>\n",
       "      <th>2</th>\n",
       "      <td>中国政府网</td>\n",
       "      <td>zhengfu</td>\n",
       "      <td>政务</td>\n",
       "      <td>NaN</td>\n",
       "      <td>0</td>\n",
       "      <td>0</td>\n",
       "      <td>云南考察 | 李克强：农民工欠薪问题必须反复抓、抓到底</td>\n",
       "      <td>http://mp.weixin.qq.com/s?__biz=MzA4MDA0MzcwMA...</td>\n",
       "      <td>李克强23日考察灾后重建的云南鲁甸，再三问询围拢人群，有没有没领到工资的农民工？现场陆续有人...</td>\n",
       "      <td>李克强春节前重回鲁甸李克强23日重回云南鲁甸考察灾后重建。看到这里焕然一新的面貌，总理说，你...</td>\n",
       "      <td>...</td>\n",
       "      <td>2017-01-26 13:16:40</td>\n",
       "      <td>NaN</td>\n",
       "      <td>NaN</td>\n",
       "      <td>NaN</td>\n",
       "      <td>NaN</td>\n",
       "      <td>NaN</td>\n",
       "      <td>NaN</td>\n",
       "      <td>NaN</td>\n",
       "      <td>NaN</td>\n",
       "      <td>NaN</td>\n",
       "    </tr>\n",
       "    <tr>\n",
       "      <th>3</th>\n",
       "      <td>中国政府网</td>\n",
       "      <td>zhengfu</td>\n",
       "      <td>政务</td>\n",
       "      <td>NaN</td>\n",
       "      <td>0</td>\n",
       "      <td>0</td>\n",
       "      <td>李克强：决不能让农民工的辛勤付出得不到回报</td>\n",
       "      <td>http://mp.weixin.qq.com/s?__biz=MzA4MDA0MzcwMA...</td>\n",
       "      <td>李克强：决不能让农民工的辛勤付出得不到回报</td>\n",
       "      <td>2月3日，春节后的首个工作日，国务院召开常务会议，其中议题之一便是部署建立解决农民工工资拖欠...</td>\n",
       "      <td>...</td>\n",
       "      <td>2017-02-07 11:38:30</td>\n",
       "      <td>NaN</td>\n",
       "      <td>NaN</td>\n",
       "      <td>NaN</td>\n",
       "      <td>NaN</td>\n",
       "      <td>NaN</td>\n",
       "      <td>NaN</td>\n",
       "      <td>NaN</td>\n",
       "      <td>NaN</td>\n",
       "      <td>NaN</td>\n",
       "    </tr>\n",
       "    <tr>\n",
       "      <th>4</th>\n",
       "      <td>中国政府网</td>\n",
       "      <td>zhengfu</td>\n",
       "      <td>政务</td>\n",
       "      <td>NaN</td>\n",
       "      <td>0</td>\n",
       "      <td>0</td>\n",
       "      <td>48小时!总理帮震区农民工“讨”回欠薪</td>\n",
       "      <td>http://mp.weixin.qq.com/s?__biz=MzA4MDA0MzcwMA...</td>\n",
       "      <td>48小时！总理帮震区农民工“讨”回欠薪</td>\n",
       "      <td>丨来源：新京报新媒体1月25日早上8点半，甘永荣的银行卡里打进来5.8万元。这是李克强总理帮...</td>\n",
       "      <td>...</td>\n",
       "      <td>2017-01-29 11:57:45</td>\n",
       "      <td>NaN</td>\n",
       "      <td>NaN</td>\n",
       "      <td>NaN</td>\n",
       "      <td>NaN</td>\n",
       "      <td>NaN</td>\n",
       "      <td>NaN</td>\n",
       "      <td>NaN</td>\n",
       "      <td>NaN</td>\n",
       "      <td>NaN</td>\n",
       "    </tr>\n",
       "  </tbody>\n",
       "</table>\n",
       "<p>5 rows × 28 columns</p>\n",
       "</div>"
      ],
      "text/plain": [
       "   公众号昵称      微信号 公众号类别   作者  发布位置  是否原创                            标题  \\\n",
       "0  中国政府网  zhengfu    政务  NaN     0     0  李克强“盯”住农民工欠薪：决不能让他们背井离乡流汗再流泪   \n",
       "1  中国政府网  zhengfu    政务  NaN     0     0               总理对话农民工，问过哪些问题？   \n",
       "2  中国政府网  zhengfu    政务  NaN     0     0   云南考察 | 李克强：农民工欠薪问题必须反复抓、抓到底   \n",
       "3  中国政府网  zhengfu    政务  NaN     0     0         李克强：决不能让农民工的辛勤付出得不到回报   \n",
       "4  中国政府网  zhengfu    政务  NaN     0     0           48小时!总理帮震区农民工“讨”回欠薪   \n",
       "\n",
       "                                                文章链接  \\\n",
       "0  http://mp.weixin.qq.com/s?__biz=MzA4MDA0MzcwMA...   \n",
       "1  http://mp.weixin.qq.com/s?__biz=MzA4MDA0MzcwMA...   \n",
       "2  http://mp.weixin.qq.com/s?__biz=MzA4MDA0MzcwMA...   \n",
       "3  http://mp.weixin.qq.com/s?__biz=MzA4MDA0MzcwMA...   \n",
       "4  http://mp.weixin.qq.com/s?__biz=MzA4MDA0MzcwMA...   \n",
       "\n",
       "                                                  摘要  \\\n",
       "0           “农民工在外打工非常不易，决不能让他们背井离乡流汗再流泪！”李克强斩钉截铁地说。   \n",
       "1               总理考察活动时和农民工聊过什么话题？说过哪些话？中国政府网为你一一梳理。   \n",
       "2  李克强23日考察灾后重建的云南鲁甸，再三问询围拢人群，有没有没领到工资的农民工？现场陆续有人...   \n",
       "3                              李克强：决不能让农民工的辛勤付出得不到回报   \n",
       "4                                48小时！总理帮震区农民工“讨”回欠薪   \n",
       "\n",
       "                                                  正文     ...       \\\n",
       "0  丨来源：新京报新媒体鲁甸地震受灾群众甘永荣的一句话，让李克强总理的表情立刻凝重起来。“你打工...     ...        \n",
       "1  总理考察活动时和农民工聊过什么话题？说过哪些话？中国政府网为你一一梳理。 总理和农民工聊过这...     ...        \n",
       "2  李克强春节前重回鲁甸李克强23日重回云南鲁甸考察灾后重建。看到这里焕然一新的面貌，总理说，你...     ...        \n",
       "3  2月3日，春节后的首个工作日，国务院召开常务会议，其中议题之一便是部署建立解决农民工工资拖欠...     ...        \n",
       "4  丨来源：新京报新媒体1月25日早上8点半，甘永荣的银行卡里打进来5.8万元。这是李克强总理帮...     ...        \n",
       "\n",
       "                  更新时间 Unnamed: 19 Unnamed: 20 Unnamed: 21 Unnamed: 22  \\\n",
       "0  2017-01-27 11:32:16         NaN         NaN         NaN         NaN   \n",
       "1  2017-02-02 11:32:48         NaN         NaN         NaN         NaN   \n",
       "2  2017-01-26 13:16:40         NaN         NaN         NaN         NaN   \n",
       "3  2017-02-07 11:38:30         NaN         NaN         NaN         NaN   \n",
       "4  2017-01-29 11:57:45         NaN         NaN         NaN         NaN   \n",
       "\n",
       "  Unnamed: 23 Unnamed: 24 Unnamed: 25 Unnamed: 26  Unnamed: 27  \n",
       "0         NaN         NaN         NaN         NaN          NaN  \n",
       "1         NaN         NaN         NaN         NaN          NaN  \n",
       "2         NaN         NaN         NaN         NaN          NaN  \n",
       "3         NaN         NaN         NaN         NaN          NaN  \n",
       "4         NaN         NaN         NaN         NaN          NaN  \n",
       "\n",
       "[5 rows x 28 columns]"
      ]
     },
     "execution_count": 137,
     "metadata": {},
     "output_type": "execute_result"
    }
   ],
   "source": [
    "\n",
    "in_filename = '/Users/chengjun/github/cjc/data/try.txt'\n",
    "out_filename = '/Users/chengjun/github/cjc/data/try4.txt'\n",
    "\n",
    "from functools import partial\n",
    "# chunksize = 100*1024*1024 # read 100MB at a time\n",
    "\n",
    "# Decode with UTF-8 and replace errors with \"?\"\n",
    "with open(in_filename, 'rb') as in_file:\n",
    "    with open(out_filename, 'w') as out_file:\n",
    "        # for byte_fragment in iter(partial(in_file.read, chunksize), b''):\n",
    "        for byte_fragment in iter(partial(in_file.read), b''):\n",
    "            byte_file = byte_fragment.decode(encoding='gb18030', errors='replace')\n",
    "            out_file.write(byte_file.encode('utf8'))\n",
    "\n",
    "# Now read the repaired file into a dataframe\n",
    "import pandas as pd\n",
    "df = pd.read_csv(out_filename, sep = ';')\n",
    "df.head()"
   ]
  },
  {
   "cell_type": "code",
   "execution_count": 139,
   "metadata": {
    "ExecuteTime": {
     "end_time": "2017-05-12T23:39:40.357437",
     "start_time": "2017-05-12T23:39:40.353465"
    },
    "collapsed": false
   },
   "outputs": [
    {
     "data": {
      "text/plain": [
       "(1231, 28)"
      ]
     },
     "execution_count": 139,
     "metadata": {},
     "output_type": "execute_result"
    }
   ],
   "source": [
    "df.shape"
   ]
  },
  {
   "cell_type": "code",
   "execution_count": 140,
   "metadata": {
    "ExecuteTime": {
     "end_time": "2017-05-13T01:35:24.682141",
     "start_time": "2017-05-13T01:35:23.957377"
    },
    "collapsed": false
   },
   "outputs": [
    {
     "data": {
      "image/png": "[encoded data removed]",
      "text/plain": [
       "<matplotlib.figure.Figure at 0x111e9fcd0>"
      ]
     },
     "metadata": {},
     "output_type": "display_data"
    }
   ],
   "source": [
    "%matplotlib inline\n",
    "import matplotlib.pyplot as plt\n",
    "\n",
    "xi = [1, 2, 3, 4, 5]\n",
    "y = [3, 5, 9, 13, 16]\n",
    "\n",
    "plt.plot(xi, y, 'gs')\n",
    "plt.xlabel('$x_i$', fontsize = 20)\n",
    "plt.ylabel('$y$', fontsize = 20)\n",
    "plt.title('$Scatter\\,Plot$', fontsize = 20)\n",
    "plt.show()"
   ]
  },
  {
   "cell_type": "code",
   "execution_count": null,
   "metadata": {
    "collapsed": true
   },
   "outputs": [],
   "source": []
  }
 ],
 "metadata": {
  "kernelspec": {
   "display_name": "Python 2",
   "language": "python",
   "name": "python2"
  },
  "language_info": {
   "codemirror_mode": {
    "name": "ipython",
    "version": 2
   },
   "file_extension": ".py",
   "mimetype": "text/x-python",
   "name": "python",
   "nbconvert_exporter": "python",
   "pygments_lexer": "ipython2",
   "version": "2.7.12"
  },
  "latex_envs": {
   "bibliofile": "biblio.bib",
   "cite_by": "apalike",
   "current_citInitial": 1,
   "eqLabelWithNumbers": true,
   "eqNumInitial": 0
  },
  "toc": {
   "toc_cell": false,
   "toc_number_sections": true,
   "toc_threshold": 6,
   "toc_window_display": false
  }
 },
 "nbformat": 4,
 "nbformat_minor": 0
}
