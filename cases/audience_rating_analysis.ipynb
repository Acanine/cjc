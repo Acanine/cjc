{
 "cells": [
  {
   "cell_type": "markdown",
   "metadata": {
    "slideshow": {
     "slide_type": "slide"
    }
   },
   "source": [
    "# 使用网络科学进行收视率分析"
   ]
  },
  {
   "cell_type": "markdown",
   "metadata": {
    "slideshow": {
     "slide_type": "slide"
    }
   },
   "source": [
    "# 电视收视率\n",
    "某一时段内收看某电视频道（或某电视节目）的人数（或家户数）占电视观众总人数（或家户数）的百分比。作为“注意力经济”时代的重要量化指标，它是深入分析电视收视市场的科学基础，是节目制作、编排及调整的重要参考，是节目评估的主要指标，是制定与评估媒介计划、提高广告投放效益的有力工具。\n",
    "\n",
    "收视率计算就是用户总收视时长/该时段总时长*总用户数 "
   ]
  },
  {
   "cell_type": "code",
   "execution_count": 247,
   "metadata": {
    "ExecuteTime": {
     "end_time": "2017-03-03T23:22:15.289587",
     "start_time": "2017-03-03T23:22:15.278195"
    },
    "collapsed": false,
    "slideshow": {
     "slide_type": "slide"
    }
   },
   "outputs": [],
   "source": [
    "%matplotlib inline\n",
    "\n",
    "import pandas as pd\n",
    "import re\n",
    "import sys\n",
    "import random\n",
    "import numpy as np\n",
    "import datetime\n",
    "from numpy import delete\n",
    "from numpy import linalg as LA\n",
    "import matplotlib\n",
    "import matplotlib.cm as cm\n",
    "import matplotlib.pyplot as plt\n",
    "from scipy.stats.stats import pearsonr\n",
    "import networkx as nx\n",
    "import statsmodels.api as sm\n",
    "from collections import Counter, defaultdict\n",
    "matplotlib.rcParams['font.sans-serif'] = ['Microsoft YaHei'] #指定默认字体  "
   ]
  },
  {
   "cell_type": "code",
   "execution_count": 119,
   "metadata": {
    "ExecuteTime": {
     "end_time": "2017-03-03T21:58:25.703693",
     "start_time": "2017-03-03T21:58:25.700070"
    },
    "collapsed": true,
    "slideshow": {
     "slide_type": "subslide"
    }
   },
   "outputs": [],
   "source": [
    "def flushPrint(s):\n",
    "    sys.stdout.write('\\r')\n",
    "    sys.stdout.write('%s' % s)\n",
    "    sys.stdout.flush()"
   ]
  },
  {
   "cell_type": "markdown",
   "metadata": {
    "slideshow": {
     "slide_type": "slide"
    }
   },
   "source": [
    "## 读入数据"
   ]
  },
  {
   "cell_type": "code",
   "execution_count": 54,
   "metadata": {
    "ExecuteTime": {
     "end_time": "2017-03-03T20:57:19.937017",
     "start_time": "2017-03-03T20:57:18.466608"
    },
    "collapsed": true,
    "slideshow": {
     "slide_type": "fragment"
    }
   },
   "outputs": [],
   "source": [
    "raw_df = pd.read_csv('/Users/chengjun/百度云同步盘/Writing/yangzhouTvAds/扬州原始数据11.18-12.18/20151118.txt', \n",
    "                     delimiter='|', encoding='gbk', \n",
    "                     names = ['MAC_ADDR', 'TIME', 'CHANNEL_NUM', 'CHANNEL_TYPE', 'CHANNEL_NAME', 'CHANNEL_PID',\n",
    "                              'CHANNEL_VID', 'CHANNEL_AID', 'CHANNEL_VOLUME', 'CHANNEL_FREQUENCE', 'CERTIFICATE',\n",
    "                              'UNKNOWN', 'UNKNOWN1'])"
   ]
  },
  {
   "cell_type": "code",
   "execution_count": 55,
   "metadata": {
    "ExecuteTime": {
     "end_time": "2017-03-03T20:57:20.695262",
     "start_time": "2017-03-03T20:57:20.605862"
    },
    "collapsed": false,
    "slideshow": {
     "slide_type": "fragment"
    }
   },
   "outputs": [],
   "source": [
    "# 剔除不需要的列\n",
    "raw_df.drop(raw_df.columns[range(5,13)], axis=1, inplace=True)\n",
    "raw_df.drop(raw_df.columns[[2, 3]], axis=1, inplace=True)"
   ]
  },
  {
   "cell_type": "markdown",
   "metadata": {
    "slideshow": {
     "slide_type": "slide"
    }
   },
   "source": [
    "## 选取黄金时间\n",
    "黄金时间不是20：00~22：00"
   ]
  },
  {
   "cell_type": "code",
   "execution_count": 128,
   "metadata": {
    "ExecuteTime": {
     "end_time": "2017-03-03T22:17:56.782990",
     "start_time": "2017-03-03T22:17:56.762344"
    },
    "collapsed": true,
    "slideshow": {
     "slide_type": "fragment"
    }
   },
   "outputs": [],
   "source": [
    "raw_df['TIME'] = pd.to_datetime(raw_df['TIME'])\n",
    "\n",
    "start_date = datetime.datetime.strptime('2015-11-18 20:00:00', '%Y-%m-%d %H:%M:%S')\n",
    "end_date = datetime.datetime.strptime('2015-11-18 22:00:00', '%Y-%m-%d %H:%M:%S')\n",
    "\n",
    "mask = (raw_df['TIME'] > start_date) & (raw_df['TIME'] <= end_date)\n",
    "\n",
    "raw_df = raw_df.loc[mask]\n",
    "raw_df = raw_df.reset_index(drop=True)\n",
    "#print time_df"
   ]
  },
  {
   "cell_type": "code",
   "execution_count": 129,
   "metadata": {
    "ExecuteTime": {
     "end_time": "2017-03-03T22:17:59.129353",
     "start_time": "2017-03-03T22:17:59.118357"
    },
    "collapsed": false,
    "slideshow": {
     "slide_type": "subslide"
    }
   },
   "outputs": [
    {
     "data": {
      "text/html": [
       "<div>\n",
       "<table border=\"1\" class=\"dataframe\">\n",
       "  <thead>\n",
       "    <tr style=\"text-align: right;\">\n",
       "      <th></th>\n",
       "      <th>MAC_ADDR</th>\n",
       "      <th>TIME</th>\n",
       "      <th>CHANNEL_NAME</th>\n",
       "    </tr>\n",
       "  </thead>\n",
       "  <tbody>\n",
       "    <tr>\n",
       "      <th>0</th>\n",
       "      <td>000e09897392</td>\n",
       "      <td>2015-11-18 21:16:43</td>\n",
       "      <td>扬州新闻</td>\n",
       "    </tr>\n",
       "    <tr>\n",
       "      <th>1</th>\n",
       "      <td>000e09897392</td>\n",
       "      <td>2015-11-18 21:18:35</td>\n",
       "      <td>扬州城市</td>\n",
       "    </tr>\n",
       "    <tr>\n",
       "      <th>2</th>\n",
       "      <td>000e09897392</td>\n",
       "      <td>2015-11-18 21:18:52</td>\n",
       "      <td>扬州江都</td>\n",
       "    </tr>\n",
       "  </tbody>\n",
       "</table>\n",
       "</div>"
      ],
      "text/plain": [
       "       MAC_ADDR                TIME CHANNEL_NAME\n",
       "0  000e09897392 2015-11-18 21:16:43         扬州新闻\n",
       "1  000e09897392 2015-11-18 21:18:35         扬州城市\n",
       "2  000e09897392 2015-11-18 21:18:52         扬州江都"
      ]
     },
     "execution_count": 129,
     "metadata": {},
     "output_type": "execute_result"
    }
   ],
   "source": [
    "raw_df['TIME'] = pd.to_datetime(raw_df['TIME'])\n",
    "raw_df[:3]"
   ]
  },
  {
   "cell_type": "code",
   "execution_count": 246,
   "metadata": {
    "ExecuteTime": {
     "end_time": "2017-03-03T23:20:31.184430",
     "start_time": "2017-03-03T23:20:31.098321"
    },
    "collapsed": false,
    "slideshow": {
     "slide_type": "slide"
    }
   },
   "outputs": [
    {
     "data": {
      "text/html": [
       "<div>\n",
       "<table border=\"1\" class=\"dataframe\">\n",
       "  <thead>\n",
       "    <tr style=\"text-align: right;\">\n",
       "      <th></th>\n",
       "      <th>MAC_ADDR</th>\n",
       "      <th>TIME</th>\n",
       "      <th>CHANNEL_NAME</th>\n",
       "    </tr>\n",
       "  </thead>\n",
       "  <tbody>\n",
       "    <tr>\n",
       "      <th>0</th>\n",
       "      <td>000e0983922f</td>\n",
       "      <td>2015-11-18 20:09:08</td>\n",
       "      <td>CCTV-1</td>\n",
       "    </tr>\n",
       "    <tr>\n",
       "      <th>1</th>\n",
       "      <td>000e0983922f</td>\n",
       "      <td>2015-11-18 20:09:32</td>\n",
       "      <td>CCTV-3</td>\n",
       "    </tr>\n",
       "    <tr>\n",
       "      <th>2</th>\n",
       "      <td>000e0983922f</td>\n",
       "      <td>2015-11-18 20:09:39</td>\n",
       "      <td>CCTV-4</td>\n",
       "    </tr>\n",
       "    <tr>\n",
       "      <th>3</th>\n",
       "      <td>000e0983922f</td>\n",
       "      <td>2015-11-18 20:14:43</td>\n",
       "      <td>CCTV-3</td>\n",
       "    </tr>\n",
       "    <tr>\n",
       "      <th>4</th>\n",
       "      <td>000e0983922f</td>\n",
       "      <td>2015-11-18 20:14:51</td>\n",
       "      <td>扬州新闻</td>\n",
       "    </tr>\n",
       "    <tr>\n",
       "      <th>5</th>\n",
       "      <td>000e0983922f</td>\n",
       "      <td>2015-11-18 20:14:59</td>\n",
       "      <td>CCTV-1</td>\n",
       "    </tr>\n",
       "    <tr>\n",
       "      <th>6</th>\n",
       "      <td>000e0983922f</td>\n",
       "      <td>2015-11-18 20:15:07</td>\n",
       "      <td>CCTV-3</td>\n",
       "    </tr>\n",
       "    <tr>\n",
       "      <th>7</th>\n",
       "      <td>000e0983922f</td>\n",
       "      <td>2015-11-18 20:15:15</td>\n",
       "      <td>CCTV-4</td>\n",
       "    </tr>\n",
       "    <tr>\n",
       "      <th>8</th>\n",
       "      <td>000e0983922f</td>\n",
       "      <td>2015-11-18 20:17:39</td>\n",
       "      <td>CCTV-3</td>\n",
       "    </tr>\n",
       "    <tr>\n",
       "      <th>9</th>\n",
       "      <td>000e0983922f</td>\n",
       "      <td>2015-11-18 20:17:48</td>\n",
       "      <td>CCTV-4</td>\n",
       "    </tr>\n",
       "  </tbody>\n",
       "</table>\n",
       "</div>"
      ],
      "text/plain": [
       "       MAC_ADDR                TIME CHANNEL_NAME\n",
       "0  000e0983922f 2015-11-18 20:09:08       CCTV-1\n",
       "1  000e0983922f 2015-11-18 20:09:32       CCTV-3\n",
       "2  000e0983922f 2015-11-18 20:09:39       CCTV-4\n",
       "3  000e0983922f 2015-11-18 20:14:43       CCTV-3\n",
       "4  000e0983922f 2015-11-18 20:14:51         扬州新闻\n",
       "5  000e0983922f 2015-11-18 20:14:59       CCTV-1\n",
       "6  000e0983922f 2015-11-18 20:15:07       CCTV-3\n",
       "7  000e0983922f 2015-11-18 20:15:15       CCTV-4\n",
       "8  000e0983922f 2015-11-18 20:17:39       CCTV-3\n",
       "9  000e0983922f 2015-11-18 20:17:48       CCTV-4"
      ]
     },
     "execution_count": 246,
     "metadata": {},
     "output_type": "execute_result"
    }
   ],
   "source": [
    "gap_df = raw_df.sort_values([\"MAC_ADDR\",\"TIME\"],ascending=True)\n",
    "gap_df = gap_df.reset_index(drop=True)\n",
    "gap_df[:10]"
   ]
  },
  {
   "cell_type": "code",
   "execution_count": 131,
   "metadata": {
    "ExecuteTime": {
     "end_time": "2017-03-03T22:18:10.893740",
     "start_time": "2017-03-03T22:18:10.889979"
    },
    "collapsed": false,
    "slideshow": {
     "slide_type": "subslide"
    }
   },
   "outputs": [
    {
     "data": {
      "text/plain": [
       "(153633, 153633)"
      ]
     },
     "execution_count": 131,
     "metadata": {},
     "output_type": "execute_result"
    }
   ],
   "source": [
    "len(gap_df), len(raw_df)"
   ]
  },
  {
   "cell_type": "markdown",
   "metadata": {
    "slideshow": {
     "slide_type": "slide"
    }
   },
   "source": [
    "## 计算个体收看持续时间"
   ]
  },
  {
   "cell_type": "code",
   "execution_count": 132,
   "metadata": {
    "ExecuteTime": {
     "end_time": "2017-03-03T22:20:18.975616",
     "start_time": "2017-03-03T22:18:47.416892"
    },
    "collapsed": false,
    "slideshow": {
     "slide_type": "fragment"
    }
   },
   "outputs": [
    {
     "name": "stdout",
     "output_type": "stream",
     "text": [
      "153000"
     ]
    }
   ],
   "source": [
    "import datetime\n",
    "end_date = datetime.datetime.strptime('2015-11-18 23:59:59', '%Y-%m-%d %H:%M:%S')\n",
    "df_length = max(gap_df.index)\n",
    "gap = []\n",
    "for i in gap_df.index:\n",
    "    if i % 1000 == 0:\n",
    "        flushPrint(i)\n",
    "    if i < df_length and gap_df.iloc[i+1]['MAC_ADDR'] == gap_df.iloc[i]['MAC_ADDR'] : # 下一行还是这个人的时候执行\n",
    "            time_a = gap_df.iloc[i]['TIME']\n",
    "            time_b = gap_df.iloc[i+1]['TIME']\n",
    "    else:\n",
    "        time_a = gap_df.iloc[i]['TIME']\n",
    "        time_b = end_date   \n",
    "    gap.append((time_b - time_a).seconds)\n",
    "\n",
    "gap_df['gap'] = gap\n"
   ]
  },
  {
   "cell_type": "markdown",
   "metadata": {
    "slideshow": {
     "slide_type": "slide"
    }
   },
   "source": [
    "## 选取收看时间大于5分钟的行为\n",
    "否则属于选台时间"
   ]
  },
  {
   "cell_type": "code",
   "execution_count": 140,
   "metadata": {
    "ExecuteTime": {
     "end_time": "2017-03-03T22:22:04.898310",
     "start_time": "2017-03-03T22:22:04.888850"
    },
    "collapsed": false,
    "slideshow": {
     "slide_type": "fragment"
    }
   },
   "outputs": [],
   "source": [
    "hits_df = gap_df[gap_df.gap > 300]\n",
    "hits_df = hits_df[hits_df.gap < 5*60*60]\n",
    "hits_df = hits_df.reset_index(drop=True)"
   ]
  },
  {
   "cell_type": "code",
   "execution_count": 143,
   "metadata": {
    "ExecuteTime": {
     "end_time": "2017-03-03T22:22:16.060168",
     "start_time": "2017-03-03T22:22:16.044011"
    },
    "collapsed": false,
    "slideshow": {
     "slide_type": "subslide"
    }
   },
   "outputs": [
    {
     "data": {
      "text/html": [
       "<div>\n",
       "<table border=\"1\" class=\"dataframe\">\n",
       "  <thead>\n",
       "    <tr style=\"text-align: right;\">\n",
       "      <th></th>\n",
       "      <th>MAC_ADDR</th>\n",
       "      <th>TIME</th>\n",
       "      <th>CHANNEL_NAME</th>\n",
       "      <th>gap</th>\n",
       "    </tr>\n",
       "  </thead>\n",
       "  <tbody>\n",
       "    <tr>\n",
       "      <th>0</th>\n",
       "      <td>000e0983922f</td>\n",
       "      <td>2015-11-18 20:09:08</td>\n",
       "      <td>CCTV-1</td>\n",
       "      <td>24</td>\n",
       "    </tr>\n",
       "    <tr>\n",
       "      <th>1</th>\n",
       "      <td>000e0983922f</td>\n",
       "      <td>2015-11-18 20:09:32</td>\n",
       "      <td>CCTV-3</td>\n",
       "      <td>7</td>\n",
       "    </tr>\n",
       "    <tr>\n",
       "      <th>2</th>\n",
       "      <td>000e0983922f</td>\n",
       "      <td>2015-11-18 20:09:39</td>\n",
       "      <td>CCTV-4</td>\n",
       "      <td>304</td>\n",
       "    </tr>\n",
       "    <tr>\n",
       "      <th>3</th>\n",
       "      <td>000e0983922f</td>\n",
       "      <td>2015-11-18 20:14:43</td>\n",
       "      <td>CCTV-3</td>\n",
       "      <td>8</td>\n",
       "    </tr>\n",
       "    <tr>\n",
       "      <th>4</th>\n",
       "      <td>000e0983922f</td>\n",
       "      <td>2015-11-18 20:14:51</td>\n",
       "      <td>扬州新闻</td>\n",
       "      <td>8</td>\n",
       "    </tr>\n",
       "    <tr>\n",
       "      <th>5</th>\n",
       "      <td>000e0983922f</td>\n",
       "      <td>2015-11-18 20:14:59</td>\n",
       "      <td>CCTV-1</td>\n",
       "      <td>8</td>\n",
       "    </tr>\n",
       "    <tr>\n",
       "      <th>6</th>\n",
       "      <td>000e0983922f</td>\n",
       "      <td>2015-11-18 20:15:07</td>\n",
       "      <td>CCTV-3</td>\n",
       "      <td>8</td>\n",
       "    </tr>\n",
       "    <tr>\n",
       "      <th>7</th>\n",
       "      <td>000e0983922f</td>\n",
       "      <td>2015-11-18 20:15:15</td>\n",
       "      <td>CCTV-4</td>\n",
       "      <td>144</td>\n",
       "    </tr>\n",
       "    <tr>\n",
       "      <th>8</th>\n",
       "      <td>000e0983922f</td>\n",
       "      <td>2015-11-18 20:17:39</td>\n",
       "      <td>CCTV-3</td>\n",
       "      <td>9</td>\n",
       "    </tr>\n",
       "    <tr>\n",
       "      <th>9</th>\n",
       "      <td>000e0983922f</td>\n",
       "      <td>2015-11-18 20:17:48</td>\n",
       "      <td>CCTV-4</td>\n",
       "      <td>223</td>\n",
       "    </tr>\n",
       "  </tbody>\n",
       "</table>\n",
       "</div>"
      ],
      "text/plain": [
       "       MAC_ADDR                TIME CHANNEL_NAME  gap\n",
       "0  000e0983922f 2015-11-18 20:09:08       CCTV-1   24\n",
       "1  000e0983922f 2015-11-18 20:09:32       CCTV-3    7\n",
       "2  000e0983922f 2015-11-18 20:09:39       CCTV-4  304\n",
       "3  000e0983922f 2015-11-18 20:14:43       CCTV-3    8\n",
       "4  000e0983922f 2015-11-18 20:14:51         扬州新闻    8\n",
       "5  000e0983922f 2015-11-18 20:14:59       CCTV-1    8\n",
       "6  000e0983922f 2015-11-18 20:15:07       CCTV-3    8\n",
       "7  000e0983922f 2015-11-18 20:15:15       CCTV-4  144\n",
       "8  000e0983922f 2015-11-18 20:17:39       CCTV-3    9\n",
       "9  000e0983922f 2015-11-18 20:17:48       CCTV-4  223"
      ]
     },
     "execution_count": 143,
     "metadata": {},
     "output_type": "execute_result"
    }
   ],
   "source": [
    "gap_df[:10]"
   ]
  },
  {
   "cell_type": "code",
   "execution_count": 142,
   "metadata": {
    "ExecuteTime": {
     "end_time": "2017-03-03T22:22:08.524191",
     "start_time": "2017-03-03T22:22:08.509222"
    },
    "collapsed": false,
    "slideshow": {
     "slide_type": "subslide"
    }
   },
   "outputs": [
    {
     "data": {
      "text/html": [
       "<div>\n",
       "<table border=\"1\" class=\"dataframe\">\n",
       "  <thead>\n",
       "    <tr style=\"text-align: right;\">\n",
       "      <th></th>\n",
       "      <th>MAC_ADDR</th>\n",
       "      <th>TIME</th>\n",
       "      <th>CHANNEL_NAME</th>\n",
       "      <th>gap</th>\n",
       "    </tr>\n",
       "  </thead>\n",
       "  <tbody>\n",
       "    <tr>\n",
       "      <th>0</th>\n",
       "      <td>000e0983922f</td>\n",
       "      <td>2015-11-18 20:09:39</td>\n",
       "      <td>CCTV-4</td>\n",
       "      <td>304</td>\n",
       "    </tr>\n",
       "    <tr>\n",
       "      <th>1</th>\n",
       "      <td>000e0983922f</td>\n",
       "      <td>2015-11-18 20:21:31</td>\n",
       "      <td>扬州新闻</td>\n",
       "      <td>3792</td>\n",
       "    </tr>\n",
       "    <tr>\n",
       "      <th>2</th>\n",
       "      <td>000e0983922f</td>\n",
       "      <td>2015-11-18 21:24:43</td>\n",
       "      <td>CCTV-2</td>\n",
       "      <td>1800</td>\n",
       "    </tr>\n",
       "    <tr>\n",
       "      <th>3</th>\n",
       "      <td>000e0983922f</td>\n",
       "      <td>2015-11-18 21:59:23</td>\n",
       "      <td>扬州新闻</td>\n",
       "      <td>7236</td>\n",
       "    </tr>\n",
       "    <tr>\n",
       "      <th>4</th>\n",
       "      <td>000e09839264</td>\n",
       "      <td>2015-11-18 20:17:15</td>\n",
       "      <td>北京卫视</td>\n",
       "      <td>13364</td>\n",
       "    </tr>\n",
       "    <tr>\n",
       "      <th>5</th>\n",
       "      <td>000e09839274</td>\n",
       "      <td>2015-11-18 20:49:24</td>\n",
       "      <td>扬州生活</td>\n",
       "      <td>1871</td>\n",
       "    </tr>\n",
       "    <tr>\n",
       "      <th>6</th>\n",
       "      <td>000e09839274</td>\n",
       "      <td>2015-11-18 21:20:51</td>\n",
       "      <td>扬州新闻</td>\n",
       "      <td>9548</td>\n",
       "    </tr>\n",
       "    <tr>\n",
       "      <th>7</th>\n",
       "      <td>000e09839278</td>\n",
       "      <td>2015-11-18 20:13:23</td>\n",
       "      <td>山西卫视</td>\n",
       "      <td>377</td>\n",
       "    </tr>\n",
       "    <tr>\n",
       "      <th>8</th>\n",
       "      <td>000e09839278</td>\n",
       "      <td>2015-11-18 20:22:19</td>\n",
       "      <td>山西卫视</td>\n",
       "      <td>2408</td>\n",
       "    </tr>\n",
       "    <tr>\n",
       "      <th>9</th>\n",
       "      <td>000e09839278</td>\n",
       "      <td>2015-11-18 21:02:27</td>\n",
       "      <td>CCTV-5</td>\n",
       "      <td>10652</td>\n",
       "    </tr>\n",
       "  </tbody>\n",
       "</table>\n",
       "</div>"
      ],
      "text/plain": [
       "       MAC_ADDR                TIME CHANNEL_NAME    gap\n",
       "0  000e0983922f 2015-11-18 20:09:39       CCTV-4    304\n",
       "1  000e0983922f 2015-11-18 20:21:31         扬州新闻   3792\n",
       "2  000e0983922f 2015-11-18 21:24:43       CCTV-2   1800\n",
       "3  000e0983922f 2015-11-18 21:59:23         扬州新闻   7236\n",
       "4  000e09839264 2015-11-18 20:17:15         北京卫视  13364\n",
       "5  000e09839274 2015-11-18 20:49:24         扬州生活   1871\n",
       "6  000e09839274 2015-11-18 21:20:51         扬州新闻   9548\n",
       "7  000e09839278 2015-11-18 20:13:23         山西卫视    377\n",
       "8  000e09839278 2015-11-18 20:22:19         山西卫视   2408\n",
       "9  000e09839278 2015-11-18 21:02:27       CCTV-5  10652"
      ]
     },
     "execution_count": 142,
     "metadata": {},
     "output_type": "execute_result"
    }
   ],
   "source": [
    "hits_df[:10]"
   ]
  },
  {
   "cell_type": "markdown",
   "metadata": {
    "slideshow": {
     "slide_type": "slide"
    }
   },
   "source": [
    "# 计算传统收视率\n",
    "- 净观看人数\n",
    "- 所有人的观看时间"
   ]
  },
  {
   "cell_type": "code",
   "execution_count": 215,
   "metadata": {
    "ExecuteTime": {
     "end_time": "2017-03-03T23:04:05.656802",
     "start_time": "2017-03-03T23:04:05.388409"
    },
    "collapsed": false,
    "slideshow": {
     "slide_type": "subslide"
    }
   },
   "outputs": [],
   "source": [
    "person_rating = defaultdict(int)\n",
    "time_rating = defaultdict(int)\n",
    "\n",
    "channels = set(hits_df['CHANNEL_NAME'])\n",
    "for i in channels:\n",
    "    di = hits_df[hits_df['CHANNEL_NAME']==i]\n",
    "    time_length = np.sum(di['gap'])\n",
    "    person_num = len(set(di['MAC_ADDR']))\n",
    "    person_rating[i]=  person_num\n",
    "    time_rating[i]=time_length"
   ]
  },
  {
   "cell_type": "code",
   "execution_count": 216,
   "metadata": {
    "ExecuteTime": {
     "end_time": "2017-03-03T23:04:07.598517",
     "start_time": "2017-03-03T23:04:07.215103"
    },
    "collapsed": false,
    "slideshow": {
     "slide_type": "subslide"
    }
   },
   "outputs": [
    {
     "data": {
      "image/png": "[encoded data removed]",
      "text/plain": [
       "<matplotlib.figure.Figure at 0x119dbd590>"
      ]
     },
     "metadata": {},
     "output_type": "display_data"
    }
   ],
   "source": [
    "fig = plt.figure(figsize=(8, 4),facecolor='white')\n",
    "\n",
    "ax = fig.add_subplot(1,2,1)\n",
    "plt.hist(person_rating.values(), 20)\n",
    "ax = fig.add_subplot(1,2,2)\n",
    "plt.hist(time_rating.values(), 20)\n",
    "plt.tight_layout()\n",
    "plt.show()"
   ]
  },
  {
   "cell_type": "code",
   "execution_count": 218,
   "metadata": {
    "ExecuteTime": {
     "end_time": "2017-03-03T23:04:16.996836",
     "start_time": "2017-03-03T23:04:15.346631"
    },
    "collapsed": false,
    "slideshow": {
     "slide_type": "subslide"
    }
   },
   "outputs": [
    {
     "data": {
      "image/png": "[encoded data removed]",
      "text/plain": [
       "<matplotlib.figure.Figure at 0x11a1b4690>"
      ]
     },
     "metadata": {},
     "output_type": "display_data"
    }
   ],
   "source": [
    "plt.plot(time_rating.values(), person_rating.values(), 'ro')\n",
    "plt.xscale('log')\n",
    "plt.yscale('log')\n",
    "plt.xlabel('$Cumulative\\;Time$', fontsize = 20)\n",
    "plt.ylabel('$Unique\\;Person\\;Number$', fontsize = 20)\n",
    "plt.show()"
   ]
  },
  {
   "cell_type": "markdown",
   "metadata": {
    "slideshow": {
     "slide_type": "fragment"
    }
   },
   "source": [
    "两种定义是等价的。"
   ]
  },
  {
   "cell_type": "markdown",
   "metadata": {
    "slideshow": {
     "slide_type": "slide"
    }
   },
   "source": [
    "# 构建用户-电视节目的二模网络"
   ]
  },
  {
   "cell_type": "code",
   "execution_count": 185,
   "metadata": {
    "ExecuteTime": {
     "end_time": "2017-03-03T22:46:30.530760",
     "start_time": "2017-03-03T22:46:30.002037"
    },
    "collapsed": false,
    "slideshow": {
     "slide_type": "fragment"
    }
   },
   "outputs": [],
   "source": [
    "user = gap_df[u'MAC_ADDR'].tolist()\n",
    "channel = gap_df[u'CHANNEL_NAME'].tolist()\n",
    "\n",
    "G = nx.DiGraph()\n",
    "for i in gap_df.index:\n",
    "    G.add_edge(user[i], channel[i])"
   ]
  },
  {
   "cell_type": "code",
   "execution_count": 186,
   "metadata": {
    "ExecuteTime": {
     "end_time": "2017-03-03T22:46:38.580769",
     "start_time": "2017-03-03T22:46:33.039990"
    },
    "collapsed": false,
    "slideshow": {
     "slide_type": "subslide"
    }
   },
   "outputs": [],
   "source": [
    "h, a = nx.hits(G)"
   ]
  },
  {
   "cell_type": "code",
   "execution_count": 239,
   "metadata": {
    "ExecuteTime": {
     "end_time": "2017-03-03T23:11:57.644352",
     "start_time": "2017-03-03T23:11:57.477505"
    },
    "collapsed": false,
    "slideshow": {
     "slide_type": "subslide"
    }
   },
   "outputs": [],
   "source": [
    "channel_hub = [h[i] for i in channel]\n",
    "channel_authoriy = [a[i] for i in channel] # channels have only authority\n",
    "channel_time = [time_rating[i]+1 for i in channel]\n",
    "channel_person = [person_rating[i]+1 for i in channel]"
   ]
  },
  {
   "cell_type": "code",
   "execution_count": 240,
   "metadata": {
    "ExecuteTime": {
     "end_time": "2017-03-03T23:11:58.492273",
     "start_time": "2017-03-03T23:11:58.267253"
    },
    "collapsed": false,
    "slideshow": {
     "slide_type": "subslide"
    }
   },
   "outputs": [
    {
     "data": {
      "image/png": "[encoded data removed]",
      "text/plain": [
       "<matplotlib.figure.Figure at 0x11c9cc990>"
      ]
     },
     "metadata": {},
     "output_type": "display_data"
    }
   ],
   "source": [
    "plt.hist(channel_authoriy, 20)\n",
    "plt.show()"
   ]
  },
  {
   "cell_type": "code",
   "execution_count": 241,
   "metadata": {
    "ExecuteTime": {
     "end_time": "2017-03-03T23:11:59.189036",
     "start_time": "2017-03-03T23:11:59.173024"
    },
    "collapsed": false,
    "slideshow": {
     "slide_type": "fragment"
    }
   },
   "outputs": [
    {
     "data": {
      "text/plain": [
       "(1.5070401808777618e-06, 1)"
      ]
     },
     "execution_count": 241,
     "metadata": {},
     "output_type": "execute_result"
    }
   ],
   "source": [
    "np.min(channel_authoriy), np.min(channel_person)"
   ]
  },
  {
   "cell_type": "code",
   "execution_count": 242,
   "metadata": {
    "ExecuteTime": {
     "end_time": "2017-03-03T23:12:04.942714",
     "start_time": "2017-03-03T23:12:01.275369"
    },
    "collapsed": false,
    "slideshow": {
     "slide_type": "subslide"
    }
   },
   "outputs": [
    {
     "data": {
      "image/png": "[encoded data removed]",
      "text/plain": [
       "<matplotlib.figure.Figure at 0x11f6eb610>"
      ]
     },
     "metadata": {},
     "output_type": "display_data"
    }
   ],
   "source": [
    "plt.scatter(channel_person, channel_authoriy)\n",
    "plt.xscale('log')\n",
    "plt.show()"
   ]
  },
  {
   "cell_type": "code",
   "execution_count": 243,
   "metadata": {
    "ExecuteTime": {
     "end_time": "2017-03-03T23:12:10.600056",
     "start_time": "2017-03-03T23:12:06.656710"
    },
    "collapsed": false,
    "slideshow": {
     "slide_type": "subslide"
    }
   },
   "outputs": [
    {
     "data": {
      "image/png": "[encoded data removed]",
      "text/plain": [
       "<matplotlib.figure.Figure at 0x11a0d7dd0>"
      ]
     },
     "metadata": {},
     "output_type": "display_data"
    }
   ],
   "source": [
    "plt.scatter(channel_time, channel_authoriy)\n",
    "plt.xscale('log')\n",
    "plt.show()"
   ]
  },
  {
   "cell_type": "code",
   "execution_count": 245,
   "metadata": {
    "ExecuteTime": {
     "end_time": "2017-03-03T23:18:59.336829",
     "start_time": "2017-03-03T23:18:59.301822"
    },
    "collapsed": false,
    "slideshow": {
     "slide_type": "slide"
    }
   },
   "outputs": [
    {
     "name": "stdout",
     "output_type": "stream",
     "text": [
      "(0.76741086931159119, 0.0, 0.82593953272453702, 0.0)\n"
     ]
    }
   ],
   "source": [
    "import numpy as np\n",
    "from scipy.stats.stats import pearsonr\n",
    "\n",
    "#np.corrcoef(a, o), \n",
    "coef_t, pvalue_t = pearsonr(channel_time, channel_authoriy)#, pearsonr(h, o), pearsonr(a, h)\n",
    "coef_p, pvalue_p = pearsonr(channel_person, channel_authoriy)#, pearsonr(h, o), pearsonr(a, h)\n",
    "\n",
    "print(coef_t, pvalue_t, coef_p, pvalue_p)"
   ]
  },
  {
   "cell_type": "markdown",
   "metadata": {
    "slideshow": {
     "slide_type": "slide"
    }
   },
   "source": [
    "# END"
   ]
  },
  {
   "cell_type": "code",
   "execution_count": 249,
   "metadata": {
    "ExecuteTime": {
     "end_time": "2017-03-03T23:27:01.019032",
     "start_time": "2017-03-03T23:25:16.624978"
    },
    "collapsed": false,
    "slideshow": {
     "slide_type": "skip"
    }
   },
   "outputs": [
    {
     "name": "stdout",
     "output_type": "stream",
     "text": [
      "147000"
     ]
    },
    {
     "data": {
      "image/png": "[encoded data removed]",
      "text/plain": [
       "<matplotlib.figure.Figure at 0x11a0cd8d0>"
      ]
     },
     "metadata": {},
     "output_type": "display_data"
    },
    {
     "name": "stdout",
     "output_type": "stream",
     "text": [
      "(0.81093211643225815, 0.0, 0.85835872544334846, 0.0)\n"
     ]
    }
   ],
   "source": [
    "\n",
    "raw_df = pd.read_csv('/Users/chengjun/百度云同步盘/Writing/yangzhouTvAds/扬州原始数据11.18-12.18/20151119.txt', \n",
    "                     delimiter='|', encoding='gbk', \n",
    "                     names = ['MAC_ADDR', 'TIME', 'CHANNEL_NUM', 'CHANNEL_TYPE', 'CHANNEL_NAME', 'CHANNEL_PID',\n",
    "                              'CHANNEL_VID', 'CHANNEL_AID', 'CHANNEL_VOLUME', 'CHANNEL_FREQUENCE', 'CERTIFICATE',\n",
    "                              'UNKNOWN', 'UNKNOWN1'])\n",
    "raw_df.drop(raw_df.columns[range(5,13)], axis=1, inplace=True)\n",
    "raw_df.drop(raw_df.columns[[2, 3]], axis=1, inplace=True)\n",
    "raw_df['TIME'] = pd.to_datetime(raw_df['TIME'])\n",
    "\n",
    "start_date = datetime.datetime.strptime('2015-11-19 20:00:00', '%Y-%m-%d %H:%M:%S')\n",
    "end_date = datetime.datetime.strptime('2015-11-19 22:00:00', '%Y-%m-%d %H:%M:%S')\n",
    "\n",
    "mask = (raw_df['TIME'] > start_date) & (raw_df['TIME'] <= end_date)\n",
    "\n",
    "raw_df = raw_df.loc[mask]\n",
    "raw_df = raw_df.reset_index(drop=True)\n",
    "raw_df['TIME'] = pd.to_datetime(raw_df['TIME'])\n",
    "\n",
    "gap_df = raw_df.sort_values([\"MAC_ADDR\",\"TIME\"],ascending=True)\n",
    "gap_df = gap_df.reset_index(drop=True)\n",
    "\n",
    "df_length = max(gap_df.index)\n",
    "gap = []\n",
    "for i in gap_df.index:\n",
    "    if i % 1000 == 0:\n",
    "        flushPrint(i)\n",
    "    if i < df_length and gap_df.iloc[i+1]['MAC_ADDR'] == gap_df.iloc[i]['MAC_ADDR'] : # 下一行还是这个人的时候执行\n",
    "            time_a = gap_df.iloc[i]['TIME']\n",
    "            time_b = gap_df.iloc[i+1]['TIME']\n",
    "    else:\n",
    "        time_a = gap_df.iloc[i]['TIME']\n",
    "        time_b = end_date   \n",
    "    gap.append((time_b - time_a).seconds)\n",
    "\n",
    "gap_df['gap'] = gap\n",
    "hits_df = gap_df[gap_df.gap > 300]\n",
    "hits_df = hits_df[hits_df.gap < 5*60*60]\n",
    "hits_df = hits_df.reset_index(drop=True)\n",
    "\n",
    "person_rating = defaultdict(int)\n",
    "time_rating = defaultdict(int)\n",
    "\n",
    "channels = set(hits_df['CHANNEL_NAME'])\n",
    "for i in channels:\n",
    "    di = hits_df[hits_df['CHANNEL_NAME']==i]\n",
    "    time_length = np.sum(di['gap'])\n",
    "    person_num = len(set(di['MAC_ADDR']))\n",
    "    person_rating[i]=  person_num\n",
    "    time_rating[i]=time_length\n",
    "    \n",
    "user = hits_df[u'MAC_ADDR'].tolist()\n",
    "channel = hits_df[u'CHANNEL_NAME'].tolist()\n",
    "\n",
    "G = nx.DiGraph()\n",
    "for i in gap_df.index:\n",
    "    G.add_edge(user[i], channel[i])\n",
    "\n",
    "h, a = nx.hits(G)\n",
    "channel_authoriy = [a[i] for i in channel] # channels have only authority\n",
    "channel_time = [time_rating[i]+1 for i in channel]\n",
    "channel_person = [person_rating[i]+1 for i in channel]\n",
    "\n",
    "fig = plt.figure(figsize=(8, 4),facecolor='white')\n",
    "\n",
    "ax = fig.add_subplot(1,2,1)\n",
    "plt.scatter(channel_person, channel_authoriy)\n",
    "plt.xscale('log')\n",
    "ax = fig.add_subplot(1,2,2)\n",
    "plt.scatter(channel_time, channel_authoriy)\n",
    "plt.xscale('log')\n",
    "plt.tight_layout()\n",
    "plt.show()\n",
    "\n",
    "from scipy.stats.stats import pearsonr\n",
    "\n",
    "#np.corrcoef(a, o), \n",
    "coef_t, pvalue_t = pearsonr(channel_time, channel_authoriy)#, pearsonr(h, o), pearsonr(a, h)\n",
    "coef_p, pvalue_p = pearsonr(channel_person, channel_authoriy)#, pearsonr(h, o), pearsonr(a, h)\n",
    "\n",
    "print(coef_t, pvalue_t, coef_p, pvalue_p)"
   ]
  }
 ],
 "metadata": {
  "celltoolbar": "Slideshow",
  "kernelspec": {
   "display_name": "Python 2",
   "language": "python",
   "name": "python2"
  },
  "language_info": {
   "codemirror_mode": {
    "name": "ipython",
    "version": 2
   },
   "file_extension": ".py",
   "mimetype": "text/x-python",
   "name": "python",
   "nbconvert_exporter": "python",
   "pygments_lexer": "ipython2",
   "version": "2.7.12"
  },
  "latex_envs": {
   "bibliofile": "biblio.bib",
   "cite_by": "apalike",
   "current_citInitial": 1,
   "eqLabelWithNumbers": false,
   "eqNumInitial": 0
  },
  "toc": {
   "toc_cell": false,
   "toc_number_sections": false,
   "toc_section_display": "block",
   "toc_threshold": 6,
   "toc_window_display": true
  },
  "toc_position": {
   "height": "149px",
   "left": "1183.38px",
   "right": "20px",
   "top": "120px",
   "width": "210px"
  }
 },
 "nbformat": 4,
 "nbformat_minor": 0
}
