{
 "cells": [
  {
   "cell_type": "markdown",
   "metadata": {
    "slideshow": {
     "slide_type": "slide"
    }
   },
   "source": [
    "\n",
    "---\n",
    "# Naive Bayes\n",
    "---\n",
    "\n"
   ]
  },
  {
   "cell_type": "markdown",
   "metadata": {
    "slideshow": {
     "slide_type": "subslide"
    }
   },
   "source": [
    "# 利用python实现naive bayes算法\n",
    "\n",
    "> 贝叶斯开创了统计学的贝叶斯学派，用先验知识和逻辑推理来处理不确定命题，与古老的频率学派分庭抗礼，频率学派只从数据中获得信息，完全不考虑先验知识，即人的经验。本文尝试利用python实现朴素贝叶斯分类。\n",
    "\n",
    "http://computational-communication.com/python-bayes/"
   ]
  },
  {
   "cell_type": "markdown",
   "metadata": {
    "collapsed": true,
    "slideshow": {
     "slide_type": "slide"
    }
   },
   "source": [
    "# 问题的提出\n",
    "\n",
    "以下内容来自 【数说工作室】金融数据挖掘之朴素贝叶斯 http://www.ppvke.com/Blog/archives/6431\n",
    "\n",
    "![class](http://oaf2qt3yk.bkt.clouddn.com/42a7d8a07672e28d10d24897487340d3.png)\n",
    "\n",
    "如果想判断未知样本的类别，即，已知它的三个属性X1、X2、X3，判断它是属于第一类（C=1）还是第二类（C=2）。\n",
    "\n",
    " - $P(C=1|X1,X2,X3)>P(C=2|X1,X2,X3)$，给定数据的X1、X2、X3后，数据属于类别1的概率要大于属于类别2，即说明现有样本支持未知样本属于类别1，判定为类别1。\n",
    " - $P(C=1|X1,X2,X3)<P(C=2|X1,X2,X3)$，则说明现有样本支持未知样本属于类别2，判定为类别2。\n",
    "\n",
    "如何得到$P(C=1|X1,X2,X3)$和$P(C=2|X1,X2,X3)$这两个概率呢？答案是`得不到`。但是没关系，因为，只要知道这两个谁大谁小就可以进行判断：\n",
    "\n",
    "- $P(C=1|X1,X2,X3)>P(C=2|X1,X2,X3)$，则判定类别为1；\n",
    "- $P(C=1|X1,X2,X3)<P(C=2|X1,X2,X3)$，则判定类别为2；\n",
    "\n",
    "贝叶斯定理就提供了方法进行这种比较。"
   ]
  },
  {
   "cell_type": "markdown",
   "metadata": {
    "slideshow": {
     "slide_type": "slide"
    }
   },
   "source": [
    "# 贝叶斯定理\n",
    "\n",
    "$$P(C|X) = \\frac{ P(X|C)P(C)}{ P(X) }$$\n",
    "\n",
    "- P(C\\|X)是给定属性X下，C的**后验概率**\n",
    "- P(C)是C的**先验概率**\n",
    "\n",
    "该公式被称为`“贝叶斯定理”`。\n",
    "\n",
    "根据贝叶斯定理，我们想找出最大的P(C\\|X)，由于P(X)对所有类为常数，只要找出最大的P(X\\|C)P(C)即可，这便是朴素贝叶斯分类的基础。"
   ]
  },
  {
   "cell_type": "markdown",
   "metadata": {
    "slideshow": {
     "slide_type": "slide"
    }
   },
   "source": [
    "# 朴素贝叶斯分类\n",
    "\n",
    "利用贝叶斯定理，找出最大的P(X\\|C)P(C)即可对未知样本进行分类，如max{P(X\\|C)P(C)}=P(X\\|C=n)P(C=n)，则说明未知样本属于第n类，其中，\n",
    "\n",
    "（1）P(C=i)=Si/S，Si是类Ci中的训练样本数，S是训练样本总数；\n",
    "\n",
    "（2）P(X\\|C=i)的计算开销可能非常大，因为会涉及到很多属性变量，这里可以做“属性值互相条件独立”的假定，即属性间不存在依赖关系："
   ]
  },
  {
   "cell_type": "markdown",
   "metadata": {
    "slideshow": {
     "slide_type": "slide"
    }
   },
   "source": [
    "PlayTennis (i.e., decide whether our friend will play tennis or not in a given day) [^Mitchell]\n",
    "\n",
    "[^Mitchell]: Mitchell Machine Learning http://www.cs.cmu.edu/~tom/10701_sp11/lectures.shtml"
   ]
  },
  {
   "cell_type": "code",
   "execution_count": 72,
   "metadata": {
    "ExecuteTime": {
     "end_time": "2017-06-09T22:59:14.273822",
     "start_time": "2017-06-09T22:59:14.268014"
    },
    "collapsed": true,
    "slideshow": {
     "slide_type": "slide"
    }
   },
   "outputs": [],
   "source": [
    "#data\n",
    "data = [\n",
    "    {\"outlook\":\"sunny\", \"temp\":\"hot\", \"humidity\":\"high\", \"wind\":\"weak\", \"class\":\"no\" },\n",
    "    {\"outlook\":\"sunny\", \"temp\":\"hot\", \"humidity\":\"high\", \"wind\":\"strong\", \"class\":\"no\" },\n",
    "    {\"outlook\":\"overcast\", \"temp\":\"hot\", \"humidity\":\"high\", \"wind\":\"weak\", \"class\":\"yes\" },\n",
    "    {\"outlook\":\"rain\", \"temp\":\"mild\", \"humidity\":\"high\", \"wind\":\"weak\", \"class\":\"yes\" },\n",
    "    {\"outlook\":\"rain\", \"temp\":\"cool\", \"humidity\":\"normal\", \"wind\":\"weak\", \"class\":\"yes\" },\n",
    "    {\"outlook\":\"rain\", \"temp\":\"cool\", \"humidity\":\"normal\", \"wind\":\"strong\", \"class\":\"no\" },\n",
    "    {\"outlook\":\"overcast\", \"temp\":\"cool\", \"humidity\":\"normal\", \"wind\":\"strong\", \"class\":\"yes\" },\n",
    "    {\"outlook\":\"sunny\", \"temp\":\"mild\", \"humidity\":\"high\", \"wind\":\"weak\", \"class\":\"no\" }, \n",
    "    {\"outlook\":\"sunny\", \"temp\":\"cool\", \"humidity\":\"normal\", \"wind\":\"weak\", \"class\":\"yes\" },\n",
    "    {\"outlook\":\"rain\", \"temp\":\"mild\", \"humidity\":\"normal\", \"wind\":\"weak\", \"class\":\"yes\" },  \n",
    "    {\"outlook\":\"sunny\", \"temp\":\"mild\", \"humidity\":\"normal\", \"wind\":\"strong\", \"class\":\"yes\" }, \n",
    "    {\"outlook\":\"overcast\", \"temp\":\"mild\", \"humidity\":\"high\", \"wind\":\"strong\", \"class\":\"yes\" },\n",
    "    {\"outlook\":\"overcast\", \"temp\":\"hot\", \"humidity\":\"normal\", \"wind\":\"weak\", \"class\":\"yes\" }, \n",
    "    {\"outlook\":\"rain\", \"temp\":\"mild\", \"humidity\":\"high\", \"wind\":\"strong\", \"class\":\"no\" }]"
   ]
  },
  {
   "cell_type": "code",
   "execution_count": 73,
   "metadata": {
    "ExecuteTime": {
     "end_time": "2017-06-09T22:58:18.776474",
     "start_time": "2017-06-09T22:58:18.756403"
    },
    "collapsed": false,
    "slideshow": {
     "slide_type": "subslide"
    }
   },
   "outputs": [
    {
     "data": {
      "text/html": [
       "<div>\n",
       "<table border=\"1\" class=\"dataframe\">\n",
       "  <thead>\n",
       "    <tr style=\"text-align: right;\">\n",
       "      <th></th>\n",
       "      <th>class</th>\n",
       "      <th>humidity</th>\n",
       "      <th>outlook</th>\n",
       "      <th>temp</th>\n",
       "      <th>wind</th>\n",
       "    </tr>\n",
       "  </thead>\n",
       "  <tbody>\n",
       "    <tr>\n",
       "      <th>0</th>\n",
       "      <td>no</td>\n",
       "      <td>high</td>\n",
       "      <td>sunny</td>\n",
       "      <td>hot</td>\n",
       "      <td>weak</td>\n",
       "    </tr>\n",
       "    <tr>\n",
       "      <th>1</th>\n",
       "      <td>no</td>\n",
       "      <td>high</td>\n",
       "      <td>sunny</td>\n",
       "      <td>hot</td>\n",
       "      <td>strong</td>\n",
       "    </tr>\n",
       "    <tr>\n",
       "      <th>2</th>\n",
       "      <td>yes</td>\n",
       "      <td>high</td>\n",
       "      <td>overcast</td>\n",
       "      <td>hot</td>\n",
       "      <td>weak</td>\n",
       "    </tr>\n",
       "    <tr>\n",
       "      <th>3</th>\n",
       "      <td>yes</td>\n",
       "      <td>high</td>\n",
       "      <td>rain</td>\n",
       "      <td>mild</td>\n",
       "      <td>weak</td>\n",
       "    </tr>\n",
       "    <tr>\n",
       "      <th>4</th>\n",
       "      <td>yes</td>\n",
       "      <td>normal</td>\n",
       "      <td>rain</td>\n",
       "      <td>cool</td>\n",
       "      <td>weak</td>\n",
       "    </tr>\n",
       "    <tr>\n",
       "      <th>5</th>\n",
       "      <td>no</td>\n",
       "      <td>normal</td>\n",
       "      <td>rain</td>\n",
       "      <td>cool</td>\n",
       "      <td>strong</td>\n",
       "    </tr>\n",
       "    <tr>\n",
       "      <th>6</th>\n",
       "      <td>yes</td>\n",
       "      <td>normal</td>\n",
       "      <td>overcast</td>\n",
       "      <td>cool</td>\n",
       "      <td>strong</td>\n",
       "    </tr>\n",
       "    <tr>\n",
       "      <th>7</th>\n",
       "      <td>no</td>\n",
       "      <td>high</td>\n",
       "      <td>sunny</td>\n",
       "      <td>mild</td>\n",
       "      <td>weak</td>\n",
       "    </tr>\n",
       "    <tr>\n",
       "      <th>8</th>\n",
       "      <td>yes</td>\n",
       "      <td>normal</td>\n",
       "      <td>sunny</td>\n",
       "      <td>cool</td>\n",
       "      <td>weak</td>\n",
       "    </tr>\n",
       "    <tr>\n",
       "      <th>9</th>\n",
       "      <td>yes</td>\n",
       "      <td>normal</td>\n",
       "      <td>rain</td>\n",
       "      <td>mild</td>\n",
       "      <td>weak</td>\n",
       "    </tr>\n",
       "    <tr>\n",
       "      <th>10</th>\n",
       "      <td>yes</td>\n",
       "      <td>normal</td>\n",
       "      <td>sunny</td>\n",
       "      <td>mild</td>\n",
       "      <td>strong</td>\n",
       "    </tr>\n",
       "    <tr>\n",
       "      <th>11</th>\n",
       "      <td>yes</td>\n",
       "      <td>high</td>\n",
       "      <td>overcast</td>\n",
       "      <td>mild</td>\n",
       "      <td>strong</td>\n",
       "    </tr>\n",
       "    <tr>\n",
       "      <th>12</th>\n",
       "      <td>yes</td>\n",
       "      <td>normal</td>\n",
       "      <td>overcast</td>\n",
       "      <td>hot</td>\n",
       "      <td>weak</td>\n",
       "    </tr>\n",
       "    <tr>\n",
       "      <th>13</th>\n",
       "      <td>no</td>\n",
       "      <td>high</td>\n",
       "      <td>rain</td>\n",
       "      <td>mild</td>\n",
       "      <td>strong</td>\n",
       "    </tr>\n",
       "  </tbody>\n",
       "</table>\n",
       "</div>"
      ],
      "text/plain": [
       "   class humidity   outlook  temp    wind\n",
       "0     no     high     sunny   hot    weak\n",
       "1     no     high     sunny   hot  strong\n",
       "2    yes     high  overcast   hot    weak\n",
       "3    yes     high      rain  mild    weak\n",
       "4    yes   normal      rain  cool    weak\n",
       "5     no   normal      rain  cool  strong\n",
       "6    yes   normal  overcast  cool  strong\n",
       "7     no     high     sunny  mild    weak\n",
       "8    yes   normal     sunny  cool    weak\n",
       "9    yes   normal      rain  mild    weak\n",
       "10   yes   normal     sunny  mild  strong\n",
       "11   yes     high  overcast  mild  strong\n",
       "12   yes   normal  overcast   hot    weak\n",
       "13    no     high      rain  mild  strong"
      ]
     },
     "execution_count": 73,
     "metadata": {},
     "output_type": "execute_result"
    }
   ],
   "source": [
    "import pandas as pd\n",
    "pd.DataFrame(data)"
   ]
  },
  {
   "cell_type": "code",
   "execution_count": 74,
   "metadata": {
    "ExecuteTime": {
     "end_time": "2017-06-09T22:59:11.635465",
     "start_time": "2017-06-09T22:59:11.632304"
    },
    "collapsed": true,
    "slideshow": {
     "slide_type": "subslide"
    }
   },
   "outputs": [],
   "source": [
    "test={\"outlook\":\"sunny\",\"temp\":\"cool\",\"humidity\":\"high\",\"wind\":\"strong\"}"
   ]
  },
  {
   "cell_type": "code",
   "execution_count": 75,
   "metadata": {
    "ExecuteTime": {
     "end_time": "2017-06-09T22:59:14.273822",
     "start_time": "2017-06-09T22:59:14.268014"
    },
    "collapsed": true,
    "slideshow": {
     "slide_type": "slide"
    }
   },
   "outputs": [],
   "source": [
    "#Calculate the Prob. of class:cls \n",
    "\n",
    "def P(data,cls_val,cls_name=\"class\"):\n",
    "    count = 0.0     \n",
    "    for e in data:\n",
    "        if e[cls_name] == cls_val:\n",
    "            count += 1\n",
    "    return count/len(data)"
   ]
  },
  {
   "cell_type": "code",
   "execution_count": 76,
   "metadata": {
    "ExecuteTime": {
     "end_time": "2017-06-09T22:59:12.674737",
     "start_time": "2017-06-09T22:59:12.669800"
    },
    "collapsed": false,
    "slideshow": {
     "slide_type": "fragment"
    }
   },
   "outputs": [
    {
     "data": {
      "text/plain": [
       "(0.6428571428571429, 0.35714285714285715)"
      ]
     },
     "execution_count": 76,
     "metadata": {},
     "output_type": "execute_result"
    }
   ],
   "source": [
    "# The probability of play or not\n",
    "PY, PN = P(data,\"yes\"), P(data, \"no\")\n",
    "PY, PN"
   ]
  },
  {
   "cell_type": "code",
   "execution_count": 77,
   "metadata": {
    "ExecuteTime": {
     "end_time": "2017-06-09T22:59:14.273822",
     "start_time": "2017-06-09T22:59:14.268014"
    },
    "collapsed": true,
    "slideshow": {
     "slide_type": "slide"
    }
   },
   "outputs": [],
   "source": [
    "#Calculate the Prob(attr|cls) \n",
    "def PT(data,cls_val,attr_name,attr_val,cls_name=\"class\"):\n",
    "    count1 = 0.0\n",
    "    count2 = 0.0\n",
    "    for e in data:\n",
    "        if e[cls_name] == cls_val:\n",
    "            count1 += 1\n",
    "            if e[attr_name] == attr_val:\n",
    "                count2 += 1\n",
    "    return count2/count1"
   ]
  },
  {
   "cell_type": "code",
   "execution_count": 78,
   "metadata": {
    "ExecuteTime": {
     "end_time": "2017-06-09T22:59:13.706536",
     "start_time": "2017-06-09T22:59:13.701833"
    },
    "collapsed": false,
    "slideshow": {
     "slide_type": "fragment"
    }
   },
   "outputs": [
    {
     "data": {
      "text/plain": [
       "(0.2222222222222222, 0.6)"
      ]
     },
     "execution_count": 78,
     "metadata": {},
     "output_type": "execute_result"
    }
   ],
   "source": [
    "# The conditional probability of play or not\n",
    "PT(data,\"yes\", \"outlook\", \"sunny\"), PT(data,\"no\", \"outlook\", \"sunny\")"
   ]
  },
  {
   "cell_type": "code",
   "execution_count": 79,
   "metadata": {
    "ExecuteTime": {
     "end_time": "2017-06-09T22:59:14.273822",
     "start_time": "2017-06-09T22:59:14.268014"
    },
    "collapsed": true,
    "slideshow": {
     "slide_type": "slide"
    }
   },
   "outputs": [],
   "source": [
    "#Calculate the NB \n",
    "def NB(data,test,cls_y,cls_n):\n",
    "    PY = P(data,cls_y)\n",
    "    PN = P(data,cls_n)\n",
    "    print 'The probability of play or not:', PY,'vs.', PN\n",
    "    for key,val in test.items():\n",
    "        PY *= PT(data,cls_y,key,val)\n",
    "        PN *= PT(data,cls_n,key,val)\n",
    "        print key, val, '-->play or not:-->', PY, PN\n",
    "    return {cls_y:PY,cls_n:PN}"
   ]
  },
  {
   "cell_type": "code",
   "execution_count": 80,
   "metadata": {
    "ExecuteTime": {
     "end_time": "2017-06-09T22:59:15.065962",
     "start_time": "2017-06-09T22:59:15.060665"
    },
    "collapsed": false,
    "slideshow": {
     "slide_type": "slide"
    }
   },
   "outputs": [
    {
     "name": "stdout",
     "output_type": "stream",
     "text": [
      "The probability of play or not: 0.642857142857 vs. 0.357142857143\n",
      "outlook sunny -->play or not:--> 0.142857142857 0.214285714286\n",
      "wind strong -->play or not:--> 0.047619047619 0.128571428571\n",
      "temp cool -->play or not:--> 0.015873015873 0.0257142857143\n",
      "humidity high -->play or not:--> 0.00529100529101 0.0205714285714\n"
     ]
    },
    {
     "data": {
      "text/plain": [
       "{'no': 0.020571428571428574, 'yes': 0.005291005291005291}"
      ]
     },
     "execution_count": 80,
     "metadata": {},
     "output_type": "execute_result"
    }
   ],
   "source": [
    "#calculate     \n",
    "NB(data,test,\"yes\",\"no\") "
   ]
  },
  {
   "cell_type": "code",
   "execution_count": 81,
   "metadata": {
    "ExecuteTime": {
     "end_time": "2017-06-09T22:59:15.595211",
     "start_time": "2017-06-09T22:59:15.589465"
    },
    "collapsed": false,
    "slideshow": {
     "slide_type": "slide"
    }
   },
   "outputs": [
    {
     "name": "stdout",
     "output_type": "stream",
     "text": [
      "The probability of play or not: 0.642857142857 vs. 0.357142857143\n",
      "outlook sunny -->play or not:--> 0.142857142857 0.214285714286\n",
      "wind weak -->play or not:--> 0.0952380952381 0.0857142857143\n",
      "temp hot -->play or not:--> 0.021164021164 0.0342857142857\n",
      "humidity normal -->play or not:--> 0.0141093474427 0.00685714285714\n"
     ]
    },
    {
     "data": {
      "text/plain": [
       "{'no': 0.006857142857142858, 'yes': 0.014109347442680775}"
      ]
     },
     "execution_count": 81,
     "metadata": {},
     "output_type": "execute_result"
    }
   ],
   "source": [
    "#calculate  \n",
    "NB(data,{\"outlook\":\"sunny\",\"temp\":\"hot\",\"humidity\":\"normal\",\"wind\":\"weak\"},\"yes\",\"no\") "
   ]
  },
  {
   "cell_type": "markdown",
   "metadata": {
    "slideshow": {
     "slide_type": "slide"
    }
   },
   "source": [
    "# END"
   ]
  }
 ],
 "metadata": {
  "celltoolbar": "Slideshow",
  "kernelspec": {
   "display_name": "Python 2",
   "language": "python",
   "name": "python2"
  },
  "language_info": {
   "codemirror_mode": {
    "name": "ipython",
    "version": 2
   },
   "file_extension": ".py",
   "mimetype": "text/x-python",
   "name": "python",
   "nbconvert_exporter": "python",
   "pygments_lexer": "ipython2",
   "version": "2.7.12"
  },
  "latex_envs": {
   "bibliofile": "biblio.bib",
   "cite_by": "apalike",
   "current_citInitial": 1,
   "eqLabelWithNumbers": true,
   "eqNumInitial": 0
  },
  "toc": {
   "toc_cell": false,
   "toc_number_sections": false,
   "toc_threshold": 6,
   "toc_window_display": true
  }
 },
 "nbformat": 4,
 "nbformat_minor": 0
}
