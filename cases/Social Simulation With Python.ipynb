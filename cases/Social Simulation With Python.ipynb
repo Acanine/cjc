{
 "cells": [
  {
   "cell_type": "markdown",
   "metadata": {
    "slideshow": {
     "slide_type": "slide"
    }
   },
   "source": [
    "\n",
    "    \n",
    "    \n",
    "# Introduction to Simulation\n",
    "\n",
    "## Complex social dynamics in a few lines of code\n",
    "\n",
    "Source code for the DH2016 tutorial \n",
    "    \n",
    "来源：https://github.com/xrubio/simulationdh （View it on [nbviewr](http://nbviewer.jupyter.org/github/xrubio/simulationdh/blob/v1.1/doc/DH2016tutorial.ipynb  ))\n",
    "\n",
    "\n",
    "中文编译：http://python.jobbole.com/87570/"
   ]
  },
  {
   "cell_type": "markdown",
   "metadata": {
    "slideshow": {
     "slide_type": "subslide"
    }
   },
   "source": [
    "The tutorial was held on 11th July, 2016 within the **Digital Humanities conference** at Krakow, Poland.\n",
    "\n",
    "We recommend to begin by taking a look at the introductory presentation at [doc/slides.pdf](https://github.com/xrubio/simulationdh). The second step would be to setup the environment and follow the tutorial at doc/DHtutorial.pdf. You can finally check the result against the code found in src/DHworkshop.py and extend the model to solve the challenges defined at the end of slides.pdf"
   ]
  },
  {
   "cell_type": "markdown",
   "metadata": {
    "slideshow": {
     "slide_type": "slide"
    }
   },
   "source": [
    "We will create a model depicting **competition between two cultural traits** within a common population. This is a typical **cultural dynamics** scenario where individuals must adopt one option amongst two or more mutually exclusive options (i.e. religion, elections, football teams). In this case we are interested in situations when you have to choose one option (e.g., you cannot practice two religions), but more complex versions with individuals adopting more than one trait can easily be developed.\n",
    "\n",
    "> Individuals can change their choice over time. The decision is based on the payoff of each trait. \n",
    "\n",
    "This payoff is a measure of the relative interest of the trait, based on:\n",
    "\n",
    "a) how many people exhibits the trait and\n",
    "\n",
    "b) the attractiveness of the trait.\n"
   ]
  },
  {
   "cell_type": "markdown",
   "metadata": {
    "slideshow": {
     "slide_type": "subslide"
    }
   },
   "source": [
    "An example of this dynamic could be a competition between two different religions. The number of people practicing a belief makes this belief more appealing. However, some beliefs could be intrinsically more interesting for some individuals so part of the population could adopt them even if they are a minority. Finally, social norms are not static so the attractiveness of specific beliefs can vary over time."
   ]
  },
  {
   "cell_type": "markdown",
   "metadata": {
    "ExecuteTime": {
     "end_time": "2017-04-20T10:11:00.328548",
     "start_time": "2017-04-20T10:11:00.325186"
    },
    "collapsed": true,
    "slideshow": {
     "slide_type": "slide"
    }
   },
   "source": [
    "<img src = './img/socialsimulation.png'>"
   ]
  },
  {
   "cell_type": "markdown",
   "metadata": {
    "ExecuteTime": {
     "end_time": "2017-04-20T10:11:00.328548",
     "start_time": "2017-04-20T10:11:00.325186"
    },
    "collapsed": true,
    "slideshow": {
     "slide_type": "slide"
    }
   },
   "source": [
    "Time is divided in discrete steps starting at t = 0.\n",
    "\n",
    "At each step t the two populations At and Bt are updated as individuals move from A to B and from B to A. Take into accout that the value here can be negative meaning that more people move from B to A.\n",
    "\n",
    "At+1=At+ΔAB\n",
    "\n",
    "Bt+1=Bt−ΔAB\n"
   ]
  },
  {
   "cell_type": "markdown",
   "metadata": {
    "ExecuteTime": {
     "end_time": "2017-04-20T10:11:00.328548",
     "start_time": "2017-04-20T10:11:00.325186"
    },
    "collapsed": true,
    "slideshow": {
     "slide_type": "slide"
    }
   },
   "source": [
    "Let's see how we can express it in code.\n",
    "\n",
    "First, we need to define the number of individuals in the population. Say we want to start with 100 people. The text after a hash symbol is just a comment so you can skip it for now, but in general it is a good idea to keep documenting the code as you write.\n"
   ]
  },
  {
   "cell_type": "code",
   "execution_count": 1,
   "metadata": {
    "ExecuteTime": {
     "end_time": "2017-04-20T10:41:22.721520",
     "start_time": "2017-04-20T10:41:22.717171"
    },
    "collapsed": true,
    "slideshow": {
     "slide_type": "slide"
    }
   },
   "outputs": [],
   "source": [
    "N = 100   # total population size"
   ]
  },
  {
   "cell_type": "code",
   "execution_count": 2,
   "metadata": {
    "ExecuteTime": {
     "end_time": "2017-04-20T10:41:22.725990",
     "start_time": "2017-04-20T10:41:22.723528"
    },
    "collapsed": true,
    "slideshow": {
     "slide_type": "slide"
    }
   },
   "outputs": [],
   "source": [
    "# Then, we decide on how many believers of each cultural option (religion) we want to start with.\n",
    "A = 65    # initial number of believers A\n",
    "B = N - A # initial number of believers A"
   ]
  },
  {
   "cell_type": "raw",
   "metadata": {
    "ExecuteTime": {
     "end_time": "2017-04-20T10:11:00.328548",
     "start_time": "2017-04-20T10:11:00.325186"
    },
    "collapsed": true,
    "slideshow": {
     "slide_type": "slide"
    }
   },
   "source": [
    "t = 0\n",
    "MAX_TIME = 100\n",
    "while t < MAX_TIME:\n",
    "    # variation has not been defined yet.\n",
    "    A = A + variation\n",
    "    B = B - variation\n",
    "    \n",
    "    # advance time to next iteration\n",
    "    t = t + 1  "
   ]
  },
  {
   "cell_type": "markdown",
   "metadata": {
    "ExecuteTime": {
     "end_time": "2017-04-20T10:11:00.328548",
     "start_time": "2017-04-20T10:11:00.325186"
    },
    "collapsed": true,
    "slideshow": {
     "slide_type": "slide"
    }
   },
   "source": [
    "So let's calculate **variation** based on the population switching trait based on a comparison between payoffs. For example if B has higher payoff then A then we should get something like this:\n",
    "\n",
    "### $$\\Delta_{A \\rightarrow B} = A (Payoff_{A \\rightarrow B} - Payoff_{B \\rightarrow A})$$\n",
    "\n",
    "So the proportion of population A that switches to B is proportional to the difference between payoffs. As we mentioned the payoff of a trait is determined by the population exhibiting the competing trait as well as its intrinsic attractiveness."
   ]
  },
  {
   "cell_type": "markdown",
   "metadata": {
    "ExecuteTime": {
     "end_time": "2017-04-20T10:11:00.328548",
     "start_time": "2017-04-20T10:11:00.325186"
    },
    "collapsed": true,
    "slideshow": {
     "slide_type": "slide"
    }
   },
   "source": [
    "To define the payoff we need to implement the following competition equations:\n",
    "    \n",
    "###    $$ Payoff_{B \\rightarrow A} = \\frac{A_t}{N} \\frac{T_A}{T_A + T_B}$$\n",
    "\n",
    "###    $$ Payoff_{A \\rightarrow B} = \\frac{B_t}{N} \\frac{T_B}{T_A + T_B}$$\n",
    "\n",
    "- The first term is the proportion of the entire population N holding a particular cultural trait (At/N for A and Bt/N for B). \n",
    "- The second element of the equations is the balance between the attractiveness of both ideas (TA and TB) expressed as the attractiveness of the given trait in respect to the total 'available' attractiveness (TA+TB).\n",
    "\n"
   ]
  },
  {
   "cell_type": "code",
   "execution_count": 3,
   "metadata": {
    "ExecuteTime": {
     "end_time": "2017-04-20T10:41:22.847199",
     "start_time": "2017-04-20T10:41:22.843944"
    },
    "collapsed": true,
    "slideshow": {
     "slide_type": "slide"
    }
   },
   "outputs": [],
   "source": [
    "def payoff(believers, Tx,Ty):    \n",
    "    proportionBelievers = believers/N\n",
    "    attraction = Tx/(Ty + Tx)\n",
    "    return proportionBelievers * attraction"
   ]
  },
  {
   "cell_type": "code",
   "execution_count": 4,
   "metadata": {
    "ExecuteTime": {
     "end_time": "2017-04-20T10:41:22.853445",
     "start_time": "2017-04-20T10:41:22.848798"
    },
    "collapsed": true,
    "slideshow": {
     "slide_type": "slide"
    }
   },
   "outputs": [],
   "source": [
    "# temporal dimension\n",
    "MAX_TIME = 100\n",
    "t = 0               # initial time\n",
    "\n",
    "# init populations\n",
    "N = 100          # population size\n",
    "A = 65           # initial population of believers A\n",
    "B = N-A             # initial population of believers B\n",
    "\n",
    "# additional params\n",
    "Ta = 1.0            # initial attractiveness of option A\n",
    "Tb = 2.0            # initial attractiveness of option B\n",
    "alpha = 0.1         # strength of the transmission process"
   ]
  },
  {
   "cell_type": "code",
   "execution_count": 24,
   "metadata": {
    "ExecuteTime": {
     "end_time": "2017-04-20T10:42:09.659927",
     "start_time": "2017-04-20T10:42:09.654298"
    },
    "collapsed": false,
    "slideshow": {
     "slide_type": "subslide"
    }
   },
   "outputs": [
    {
     "data": {
      "text/plain": [
       "-0.3076400143856337"
      ]
     },
     "execution_count": 24,
     "metadata": {},
     "output_type": "execute_result"
    }
   ],
   "source": [
    "# calculate the payoff for change of believers A and B in the current time step       \n",
    "variationBA = payoff(A, Ta, Tb)      \n",
    "variationAB = payoff(B, Tb, Ta)     \n",
    "difference = variationBA - variationAB\n",
    "difference\n",
    "\n",
    "# the proportion of population B that switches to A is proportional to the difference between payoffs."
   ]
  },
  {
   "cell_type": "code",
   "execution_count": 6,
   "metadata": {
    "ExecuteTime": {
     "end_time": "2017-04-20T10:41:22.876302",
     "start_time": "2017-04-20T10:41:22.870786"
    },
    "collapsed": false,
    "slideshow": {
     "slide_type": "subslide"
    }
   },
   "outputs": [
    {
     "data": {
      "text/plain": [
       "0.0"
      ]
     },
     "execution_count": 6,
     "metadata": {},
     "output_type": "execute_result"
    }
   ],
   "source": [
    "# when difference > 0, B will switch to A\n",
    "# Else, A will switch to B.\n",
    "\n",
    "# B -> A   \n",
    "if difference > 0:\n",
    "    variation = difference*B\n",
    "# A -> B        \n",
    "else:\n",
    "    variation = difference*A\n",
    "    \n",
    "variation\n",
    "\n",
    "# when variation > 0, B will switch to A\n",
    "# Else, A will switch to B."
   ]
  },
  {
   "cell_type": "code",
   "execution_count": 7,
   "metadata": {
    "ExecuteTime": {
     "end_time": "2017-04-20T10:41:22.879780",
     "start_time": "2017-04-20T10:41:22.877643"
    },
    "collapsed": true,
    "slideshow": {
     "slide_type": "subslide"
    }
   },
   "outputs": [],
   "source": [
    "# control the pace of change with alpha\n",
    "variation = alpha*variation "
   ]
  },
  {
   "cell_type": "code",
   "execution_count": 8,
   "metadata": {
    "ExecuteTime": {
     "end_time": "2017-04-20T10:41:22.888766",
     "start_time": "2017-04-20T10:41:22.881177"
    },
    "collapsed": true,
    "slideshow": {
     "slide_type": "slide"
    }
   },
   "outputs": [],
   "source": [
    "while t < MAX_TIME:\n",
    "    # calculate the payoff for change of believers A and B in the current time step       \n",
    "    variationBA = payoff(A, Ta, Tb)      \n",
    "    variationAB = payoff(B, Tb, Ta)     \n",
    "    difference = variationBA - variationAB\n",
    "             \n",
    "    # B -> A   \n",
    "    if difference > 0:\n",
    "        variation = difference*B\n",
    "    # A -> B        \n",
    "    else:\n",
    "        variation = difference*A\n",
    "        \n",
    "    # control the pace of change with alpha\n",
    "    variation = alpha*variation  \n",
    "    \n",
    "    # update the population    \n",
    "    A = A + variation\n",
    "    B = B - variation\n",
    "    \n",
    "    # advance time to next iteration\n",
    "    t = t + 1"
   ]
  },
  {
   "cell_type": "markdown",
   "metadata": {
    "slideshow": {
     "slide_type": "slide"
    }
   },
   "source": [
    "## Tracing the changes\n",
    "\n",
    "- First, add the initial number of believers to their respective lists. \n",
    "- Second, we also need to update the number of believers for each step. "
   ]
  },
  {
   "cell_type": "code",
   "execution_count": 9,
   "metadata": {
    "ExecuteTime": {
     "end_time": "2017-04-20T10:41:22.900063",
     "start_time": "2017-04-20T10:41:22.893197"
    },
    "collapsed": true,
    "slideshow": {
     "slide_type": "slide"
    }
   },
   "outputs": [],
   "source": [
    "# initialisation \n",
    "MAX_TIME = 100\n",
    "t = 0               # initial time\n",
    "N = 100           # population size\n",
    "A = 65              # initial proportion of believers A\n",
    "B = N-A             # initial proportion of believers B\n",
    "\n",
    "Ta = 1.0            # initial attractiveness of option A\n",
    "Tb = 2.0            # initial attractiveness of option B\n",
    "alpha = 0.1         # strength of the transmission process\n",
    "\n",
    "# initialise the list used for plotting\n",
    "believersA = []    \n",
    "believersB = []\n",
    "\n",
    "# add the initial populations\n",
    "believersA.append(A) \n",
    "believersB.append(B)"
   ]
  },
  {
   "cell_type": "code",
   "execution_count": 10,
   "metadata": {
    "ExecuteTime": {
     "end_time": "2017-04-20T10:41:22.910871",
     "start_time": "2017-04-20T10:41:22.901681"
    },
    "collapsed": true,
    "slideshow": {
     "slide_type": "slide"
    }
   },
   "outputs": [],
   "source": [
    "while t < MAX_TIME: \n",
    "    # calculate the payoff for change of believers A and B in the current time step       \n",
    "    variationBA = payoff(A, Ta, Tb)      \n",
    "    variationAB = payoff(B, Tb, Ta)     \n",
    "    difference = variationBA - variationAB\n",
    "    \n",
    "        # B -> A   \n",
    "    if difference > 0:\n",
    "        variation = difference*B\n",
    "    # A -> B        \n",
    "    else:\n",
    "        variation = difference*A\n",
    "        \n",
    "    # control the pace of change with alpha\n",
    "    variation = alpha*variation  \n",
    "    \n",
    "    # update the population    \n",
    "    A = A + variation\n",
    "    B = B - variation   \n",
    "    \n",
    "    # save the values to a list for plotting    \n",
    "    believersA.append(A)\n",
    "    believersB.append(B)\n",
    "    \n",
    "    # advance time to next iteration\n",
    "    t = t + 1"
   ]
  },
  {
   "cell_type": "code",
   "execution_count": 11,
   "metadata": {
    "ExecuteTime": {
     "end_time": "2017-04-20T10:41:23.295998",
     "start_time": "2017-04-20T10:41:22.912434"
    },
    "collapsed": false,
    "slideshow": {
     "slide_type": "slide"
    }
   },
   "outputs": [],
   "source": [
    "%matplotlib inline\n",
    "import matplotlib.pyplot as plt      # plotting library\n",
    "plt.style.use('ggplot')              # makes the graphs look pretty"
   ]
  },
  {
   "cell_type": "code",
   "execution_count": 12,
   "metadata": {
    "ExecuteTime": {
     "end_time": "2017-04-20T10:41:23.700497",
     "start_time": "2017-04-20T10:41:23.297789"
    },
    "collapsed": false,
    "slideshow": {
     "slide_type": "slide"
    }
   },
   "outputs": [
    {
     "data": {
      "image/png": "[encoded data removed]",
      "text/plain": [
       "<matplotlib.figure.Figure at 0x108642350>"
      ]
     },
     "metadata": {},
     "output_type": "display_data"
    }
   ],
   "source": [
    "# plot the results    \n",
    "plt.plot(believersA, label = 'A')\n",
    "plt.plot(believersB, label = 'B')\n",
    "plt.xlabel('$Time$', fontsize = 20)\n",
    "plt.ylabel('$Number$', fontsize = 20)\n",
    "plt.legend(loc = 0)\n",
    "plt.show()"
   ]
  },
  {
   "cell_type": "markdown",
   "metadata": {
    "ExecuteTime": {
     "end_time": "2017-04-20T10:19:38.082061",
     "start_time": "2017-04-20T10:19:38.079710"
    },
    "collapsed": true,
    "slideshow": {
     "slide_type": "slide"
    }
   },
   "source": [
    "## Let the attractiveness of each optio change through time."
   ]
  },
  {
   "cell_type": "code",
   "execution_count": 13,
   "metadata": {
    "ExecuteTime": {
     "end_time": "2017-04-20T10:41:23.706068",
     "start_time": "2017-04-20T10:41:23.702187"
    },
    "collapsed": true,
    "slideshow": {
     "slide_type": "slide"
    }
   },
   "outputs": [],
   "source": [
    "def attractiveness(Ta, Tb):\n",
    "    Ka = 0.1  \n",
    "    Kb = 0\n",
    "    \n",
    "    Ta = Ta + Ka\n",
    "    Tb = Tb + Kb\n",
    "    return Ta, Tb"
   ]
  },
  {
   "cell_type": "code",
   "execution_count": 14,
   "metadata": {
    "ExecuteTime": {
     "end_time": "2017-04-20T10:41:23.715106",
     "start_time": "2017-04-20T10:41:23.708056"
    },
    "collapsed": true
   },
   "outputs": [],
   "source": [
    "# initialisation \n",
    "MAX_TIME = 100\n",
    "t = 0               # initial time\n",
    "N = 100           # population size\n",
    "A = 65              # initial proportion of believers A\n",
    "B = N-A             # initial proportion of believers B\n",
    "\n",
    "Ta = 1.0            # initial attractiveness of option A\n",
    "Tb = 2.0            # initial attractiveness of option B\n",
    "alpha = 0.1         # strength of the transmission process\n",
    "\n",
    "# initialise the list used for plotting\n",
    "believersA = []    \n",
    "believersB = []\n",
    "\n",
    "# add the initial populations\n",
    "believersA.append(A) \n",
    "believersB.append(B)"
   ]
  },
  {
   "cell_type": "code",
   "execution_count": 15,
   "metadata": {
    "ExecuteTime": {
     "end_time": "2017-04-20T10:41:23.728233",
     "start_time": "2017-04-20T10:41:23.716871"
    },
    "collapsed": true,
    "slideshow": {
     "slide_type": "slide"
    }
   },
   "outputs": [],
   "source": [
    "while t < MAX_TIME: \n",
    "    # update attractiveness\n",
    "    Ta, Tb = attractiveness(Ta, Tb)\n",
    "    # calculate the payoff for change of believers A and B in the current time step           \n",
    "    variationBA = payoff(A, Ta, Tb)      \n",
    "    variationAB = payoff(B, Tb, Ta)     \n",
    "    difference = variationBA - variationAB\n",
    "    \n",
    "        # B -> A   \n",
    "    if difference > 0:\n",
    "        variation = difference*B\n",
    "    # A -> B        \n",
    "    else:\n",
    "        variation = difference*A\n",
    "        \n",
    "    # control the pace of change with alpha\n",
    "    variation = alpha*variation  \n",
    "    \n",
    "    # update the population    \n",
    "    A = A + variation\n",
    "    B = B - variation   \n",
    "    \n",
    "    # save the values to a list for plotting    \n",
    "    believersA.append(A)\n",
    "    believersB.append(B)\n",
    "    \n",
    "    # advance time to next iteration\n",
    "    t = t + 1"
   ]
  },
  {
   "cell_type": "code",
   "execution_count": 16,
   "metadata": {
    "ExecuteTime": {
     "end_time": "2017-04-20T10:41:23.947902",
     "start_time": "2017-04-20T10:41:23.729810"
    },
    "collapsed": false,
    "slideshow": {
     "slide_type": "slide"
    }
   },
   "outputs": [
    {
     "data": {
      "image/png": "[encoded data removed]",
      "text/plain": [
       "<matplotlib.figure.Figure at 0x10911eb50>"
      ]
     },
     "metadata": {},
     "output_type": "display_data"
    }
   ],
   "source": [
    "# plot the results    \n",
    "plt.plot(believersA, label = 'A')\n",
    "plt.plot(believersB, label = 'B')\n",
    "plt.xlabel('$Time$', fontsize = 20)\n",
    "plt.ylabel('$Number$', fontsize = 20)\n",
    "plt.legend(loc = 0)\n",
    "plt.show()"
   ]
  },
  {
   "cell_type": "markdown",
   "metadata": {
    "slideshow": {
     "slide_type": "slide"
    }
   },
   "source": [
    "There are a number of functions we can use to dynamically change the 'attractiveness' of each trait. \n",
    "Try the following ones:\n"
   ]
  },
  {
   "cell_type": "code",
   "execution_count": 17,
   "metadata": {
    "ExecuteTime": {
     "end_time": "2017-04-20T10:41:23.964174",
     "start_time": "2017-04-20T10:41:23.949722"
    },
    "collapsed": true,
    "slideshow": {
     "slide_type": "slide"
    }
   },
   "outputs": [],
   "source": [
    "import numpy as np # stick this line at the beginning of the script alongside other 'imports'\n",
    "\n",
    "\n",
    "def attractiveness2(Ta, Tb):\n",
    "    # temporal autocorrelation with stochasticity (normal distribution)\n",
    "    # we get 2 samples from a normal distribution N(0,1)\n",
    "    Ka, Kb = np.random.normal(0, 1, 2)\n",
    "    # compute the difference between Ks\n",
    "    diff = Ka-Kb\n",
    "    # apply difference of Ks to attractiveness\n",
    "    Ta += diff\n",
    "    Tb -= diff\n",
    "    return Ta, Tb\n",
    "\n",
    "def attractiveness3(Ta, Tb):\n",
    "    #  anti-conformism dynamics (more population means less attractiveness)\n",
    "    \n",
    "    # both values initialized at 0\n",
    "    Ka = 0\n",
    "    Kb = 0\n",
    "    \n",
    "    # first we sample gamma with mean=last popSize of A times relevance    \n",
    "    diffPop = np.random.gamma(believersA[t])\n",
    "    # we sustract from this value the same computation for population B\n",
    "    diffPop = diffPop - np.random.gamma(believersB[t])\n",
    "    \n",
    "    # if B is larger then we need to increase the attractiveness of A\n",
    "    if diffPop < 0:\n",
    "        Ka = -diffPop\n",
    "    # else A is larger and we need to increase the attractiveness of B\n",
    "    else:\n",
    "        Kb = diffPop\n",
    "    \n",
    "    # change current values\n",
    "    Ta = Ta + Ka\n",
    "    Tb = Tb + Kb\n",
    "    \n",
    "    return Ta, Tb"
   ]
  },
  {
   "cell_type": "markdown",
   "metadata": {
    "slideshow": {
     "slide_type": "slide"
    }
   },
   "source": [
    "###  temporal autocorrelation with stochasticity (normal distribution)\n"
   ]
  },
  {
   "cell_type": "code",
   "execution_count": 37,
   "metadata": {
    "ExecuteTime": {
     "end_time": "2017-04-20T10:43:11.217760",
     "start_time": "2017-04-20T10:43:11.211286"
    },
    "collapsed": true,
    "slideshow": {
     "slide_type": "slide"
    }
   },
   "outputs": [],
   "source": [
    "# initialisation \n",
    "MAX_TIME = 100\n",
    "t = 0               # initial time\n",
    "N = 100           # population size\n",
    "A = 65              # initial proportion of believers A\n",
    "B = N-A             # initial proportion of believers B\n",
    "\n",
    "Ta = 1.0            # initial attractiveness of option A\n",
    "Tb = 2.0            # initial attractiveness of option B\n",
    "alpha = 0.1         # strength of the transmission process\n",
    "\n",
    "# initialise the list used for plotting\n",
    "believersA = []    \n",
    "believersB = []\n",
    "\n",
    "# add the initial populations\n",
    "believersA.append(A) \n",
    "believersB.append(B)"
   ]
  },
  {
   "cell_type": "code",
   "execution_count": 38,
   "metadata": {
    "ExecuteTime": {
     "end_time": "2017-04-20T10:43:11.827241",
     "start_time": "2017-04-20T10:43:11.815112"
    },
    "collapsed": true,
    "slideshow": {
     "slide_type": "slide"
    }
   },
   "outputs": [],
   "source": [
    "while t < MAX_TIME: \n",
    "    # update attractiveness\n",
    "    Ta, Tb = attractiveness2(Ta, Tb)\n",
    "    # calculate the payoff for change of believers A and B in the current time step           \n",
    "    variationBA = payoff(A, Ta, Tb)      \n",
    "    variationAB = payoff(B, Tb, Ta)     \n",
    "    difference = variationBA - variationAB\n",
    "    \n",
    "        # B -> A   \n",
    "    if difference > 0:\n",
    "        variation = difference*B\n",
    "    # A -> B        \n",
    "    else:\n",
    "        variation = difference*A\n",
    "        \n",
    "    # control the pace of change with alpha\n",
    "    variation = alpha*variation  \n",
    "    \n",
    "    # update the population    \n",
    "    A = A + variation\n",
    "    B = B - variation   \n",
    "    \n",
    "    # save the values to a list for plotting    \n",
    "    believersA.append(A)\n",
    "    believersB.append(B)\n",
    "    \n",
    "    # advance time to next iteration\n",
    "    t = t + 1"
   ]
  },
  {
   "cell_type": "code",
   "execution_count": 39,
   "metadata": {
    "ExecuteTime": {
     "end_time": "2017-04-20T10:43:12.660035",
     "start_time": "2017-04-20T10:43:12.434028"
    },
    "collapsed": false,
    "slideshow": {
     "slide_type": "slide"
    }
   },
   "outputs": [
    {
     "data": {
      "image/png": "[encoded data removed]",
      "text/plain": [
       "<matplotlib.figure.Figure at 0x10a2910d0>"
      ]
     },
     "metadata": {},
     "output_type": "display_data"
    }
   ],
   "source": [
    "# plot the results    \n",
    "plt.plot(believersA, label = 'A')\n",
    "plt.plot(believersB, label = 'B')\n",
    "plt.xlabel('$Time$', fontsize = 20)\n",
    "plt.ylabel('$Number$', fontsize = 20)\n",
    "plt.legend(loc = 0)\n",
    "plt.show()"
   ]
  },
  {
   "cell_type": "markdown",
   "metadata": {
    "slideshow": {
     "slide_type": "slide"
    }
   },
   "source": [
    "### anti-conformism dynamics (more population means less attractiveness)"
   ]
  },
  {
   "cell_type": "code",
   "execution_count": 40,
   "metadata": {
    "ExecuteTime": {
     "end_time": "2017-04-20T10:43:17.241350",
     "start_time": "2017-04-20T10:43:17.234874"
    },
    "collapsed": true,
    "slideshow": {
     "slide_type": "slide"
    }
   },
   "outputs": [],
   "source": [
    "# initialisation \n",
    "MAX_TIME = 100\n",
    "t = 0               # initial time\n",
    "N = 100           # population size\n",
    "A = 65              # initial proportion of believers A\n",
    "B = N-A             # initial proportion of believers B\n",
    "\n",
    "Ta = 1.0            # initial attractiveness of option A\n",
    "Tb = 2.0            # initial attractiveness of option B\n",
    "alpha = 0.1         # strength of the transmission process\n",
    "\n",
    "# initialise the list used for plotting\n",
    "believersA = []    \n",
    "believersB = []\n",
    "\n",
    "# add the initial populations\n",
    "believersA.append(A) \n",
    "believersB.append(B)"
   ]
  },
  {
   "cell_type": "code",
   "execution_count": 41,
   "metadata": {
    "ExecuteTime": {
     "end_time": "2017-04-20T10:43:17.856741",
     "start_time": "2017-04-20T10:43:17.843887"
    },
    "collapsed": true,
    "slideshow": {
     "slide_type": "slide"
    }
   },
   "outputs": [],
   "source": [
    "while t < MAX_TIME: \n",
    "    # update attractiveness\n",
    "    Ta, Tb = attractiveness3(Ta, Tb)\n",
    "    # calculate the payoff for change of believers A and B in the current time step           \n",
    "    variationBA = payoff(A, Ta, Tb)      \n",
    "    variationAB = payoff(B, Tb, Ta)     \n",
    "    difference = variationBA - variationAB\n",
    "    \n",
    "        # B -> A   \n",
    "    if difference > 0:\n",
    "        variation = difference*B\n",
    "    # A -> B        \n",
    "    else:\n",
    "        variation = difference*A\n",
    "        \n",
    "    # control the pace of change with alpha\n",
    "    variation = alpha*variation  \n",
    "    \n",
    "    # update the population    \n",
    "    A = A + variation\n",
    "    B = B - variation   \n",
    "    \n",
    "    # save the values to a list for plotting    \n",
    "    believersA.append(A)\n",
    "    believersB.append(B)\n",
    "    \n",
    "    # advance time to next iteration\n",
    "    t = t + 1"
   ]
  },
  {
   "cell_type": "code",
   "execution_count": 42,
   "metadata": {
    "ExecuteTime": {
     "end_time": "2017-04-20T10:43:18.699468",
     "start_time": "2017-04-20T10:43:18.467721"
    },
    "collapsed": false,
    "slideshow": {
     "slide_type": "slide"
    }
   },
   "outputs": [
    {
     "data": {
      "image/png": "[encoded data removed]",
      "text/plain": [
       "<matplotlib.figure.Figure at 0x10a15de10>"
      ]
     },
     "metadata": {},
     "output_type": "display_data"
    }
   ],
   "source": [
    "# plot the results    \n",
    "plt.plot(believersA, label = 'A')\n",
    "plt.plot(believersB, label = 'B')\n",
    "plt.xlabel('$Time$', fontsize = 20)\n",
    "plt.ylabel('$Number$', fontsize = 20)\n",
    "plt.legend(loc = 0)\n",
    "plt.show()"
   ]
  },
  {
   "cell_type": "code",
   "execution_count": 43,
   "metadata": {
    "ExecuteTime": {
     "end_time": "2017-04-20T13:29:47.775797",
     "start_time": "2017-04-20T13:29:47.772973"
    },
    "collapsed": true,
    "slideshow": {
     "slide_type": "skip"
    }
   },
   "outputs": [],
   "source": [
    "import numpy as np"
   ]
  },
  {
   "cell_type": "code",
   "execution_count": 46,
   "metadata": {
    "ExecuteTime": {
     "end_time": "2017-04-20T13:31:15.949408",
     "start_time": "2017-04-20T13:31:15.944824"
    },
    "collapsed": false
   },
   "outputs": [
    {
     "data": {
      "text/plain": [
       "5.2983173665480363"
      ]
     },
     "execution_count": 46,
     "metadata": {},
     "output_type": "execute_result"
    }
   ],
   "source": [
    "np.log(200)"
   ]
  },
  {
   "cell_type": "code",
   "execution_count": 55,
   "metadata": {
    "ExecuteTime": {
     "end_time": "2017-04-20T13:36:33.971372",
     "start_time": "2017-04-20T13:36:33.961913"
    },
    "collapsed": false
   },
   "outputs": [
    {
     "data": {
      "text/plain": [
       "0.14601036397237721"
      ]
     },
     "execution_count": 55,
     "metadata": {},
     "output_type": "execute_result"
    }
   ],
   "source": [
    "sum200 = 0\n",
    "sum1000 = 0\n",
    "\n",
    "for i in range(1, 201):\n",
    "    sum200 += np.log(i)\n",
    "    \n",
    "for i in range(1, 1001):\n",
    "    sum1000 += np.log(i)\n",
    "    \n",
    "np.float(sum200)/sum1000"
   ]
  },
  {
   "cell_type": "code",
   "execution_count": 52,
   "metadata": {
    "ExecuteTime": {
     "end_time": "2017-04-20T13:35:59.306958",
     "start_time": "2017-04-20T13:35:59.302829"
    },
    "collapsed": false
   },
   "outputs": [
    {
     "data": {
      "text/plain": [
       "863.23198719240543"
      ]
     },
     "execution_count": 52,
     "metadata": {},
     "output_type": "execute_result"
    }
   ],
   "source": [
    "sum200"
   ]
  },
  {
   "cell_type": "code",
   "execution_count": 53,
   "metadata": {
    "ExecuteTime": {
     "end_time": "2017-04-20T13:35:59.962530",
     "start_time": "2017-04-20T13:35:59.958410"
    },
    "collapsed": false
   },
   "outputs": [
    {
     "data": {
      "text/plain": [
       "array([], dtype=float64)"
      ]
     },
     "execution_count": 53,
     "metadata": {},
     "output_type": "execute_result"
    }
   ],
   "source": [
    "sum1000"
   ]
  },
  {
   "cell_type": "code",
   "execution_count": 54,
   "metadata": {
    "ExecuteTime": {
     "end_time": "2017-04-20T13:36:13.836770",
     "start_time": "2017-04-20T13:36:13.819104"
    },
    "collapsed": false
   },
   "outputs": [
    {
     "name": "stdout",
     "output_type": "stream",
     "text": [
      "0.0\n",
      "0.69314718056\n",
      "1.09861228867\n",
      "1.38629436112\n",
      "1.60943791243\n",
      "1.79175946923\n",
      "1.94591014906\n",
      "2.07944154168\n",
      "2.19722457734\n",
      "2.30258509299\n",
      "2.3978952728\n",
      "2.48490664979\n",
      "2.56494935746\n",
      "2.63905732962\n",
      "2.7080502011\n",
      "2.77258872224\n",
      "2.83321334406\n",
      "2.8903717579\n",
      "2.94443897917\n",
      "2.99573227355\n",
      "3.04452243772\n",
      "3.09104245336\n",
      "3.13549421593\n",
      "3.17805383035\n",
      "3.21887582487\n",
      "3.25809653802\n",
      "3.295836866\n",
      "3.33220451018\n",
      "3.36729582999\n",
      "3.40119738166\n",
      "3.43398720449\n",
      "3.4657359028\n",
      "3.49650756147\n",
      "3.52636052462\n",
      "3.55534806149\n",
      "3.58351893846\n",
      "3.61091791264\n",
      "3.63758615973\n",
      "3.66356164613\n",
      "3.68887945411\n",
      "3.7135720667\n",
      "3.73766961828\n",
      "3.76120011569\n",
      "3.78418963392\n",
      "3.80666248977\n",
      "3.82864139649\n",
      "3.85014760171\n",
      "3.87120101091\n",
      "3.89182029811\n",
      "3.91202300543\n",
      "3.93182563272\n",
      "3.95124371858\n",
      "3.97029191355\n",
      "3.98898404656\n",
      "4.00733318523\n",
      "4.02535169074\n",
      "4.04305126783\n",
      "4.06044301055\n",
      "4.07753744391\n",
      "4.09434456222\n",
      "4.11087386417\n",
      "4.12713438505\n",
      "4.14313472639\n",
      "4.15888308336\n",
      "4.1743872699\n",
      "4.18965474203\n",
      "4.20469261939\n",
      "4.21950770518\n",
      "4.2341065046\n",
      "4.24849524205\n",
      "4.26267987704\n",
      "4.27666611902\n",
      "4.29045944115\n",
      "4.3040650932\n",
      "4.31748811354\n",
      "4.33073334029\n",
      "4.34380542185\n",
      "4.35670882669\n",
      "4.36944785247\n",
      "4.38202663467\n",
      "4.39444915467\n",
      "4.40671924726\n",
      "4.4188406078\n",
      "4.43081679884\n",
      "4.44265125649\n",
      "4.45434729625\n",
      "4.46590811865\n",
      "4.47733681448\n",
      "4.48863636973\n",
      "4.49980967033\n",
      "4.51085950652\n",
      "4.52178857705\n",
      "4.53259949315\n",
      "4.54329478227\n",
      "4.5538768916\n",
      "4.56434819147\n",
      "4.5747109785\n",
      "4.58496747867\n",
      "4.59511985013\n",
      "4.60517018599\n",
      "4.61512051684\n",
      "4.62497281328\n",
      "4.63472898823\n",
      "4.64439089914\n",
      "4.65396035016\n",
      "4.66343909411\n",
      "4.67282883446\n",
      "4.68213122712\n",
      "4.69134788223\n",
      "4.70048036579\n",
      "4.70953020131\n",
      "4.7184988713\n",
      "4.72738781871\n",
      "4.73619844839\n",
      "4.74493212836\n",
      "4.75359019111\n",
      "4.7621739348\n",
      "4.77068462447\n",
      "4.77912349311\n",
      "4.78749174278\n",
      "4.7957905456\n",
      "4.80402104473\n",
      "4.81218435537\n",
      "4.82028156561\n",
      "4.8283137373\n",
      "4.83628190695\n",
      "4.84418708646\n",
      "4.85203026392\n",
      "4.85981240436\n",
      "4.86753445046\n",
      "4.8751973232\n",
      "4.88280192259\n",
      "4.89034912822\n",
      "4.89783979995\n",
      "4.90527477844\n",
      "4.91265488574\n",
      "4.91998092583\n",
      "4.92725368516\n",
      "4.93447393313\n",
      "4.94164242261\n",
      "4.94875989038\n",
      "4.9558270576\n",
      "4.96284463026\n",
      "4.96981329958\n",
      "4.97673374242\n",
      "4.98360662171\n",
      "4.99043258678\n",
      "4.99721227376\n",
      "5.00394630595\n",
      "5.0106352941\n",
      "5.01727983681\n",
      "5.02388052085\n",
      "5.03043792139\n",
      "5.03695260241\n",
      "5.04342511692\n",
      "5.04985600725\n",
      "5.05624580535\n",
      "5.06259503303\n",
      "5.06890420222\n",
      "5.07517381523\n",
      "5.08140436498\n",
      "5.08759633523\n",
      "5.09375020081\n",
      "5.09986642782\n",
      "5.1059454739\n",
      "5.11198778836\n",
      "5.11799381242\n",
      "5.1239639794\n",
      "5.12989871492\n",
      "5.13579843705\n",
      "5.1416635565\n",
      "5.14749447681\n",
      "5.1532915945\n",
      "5.15905529921\n",
      "5.16478597392\n",
      "5.17048399504\n",
      "5.17614973257\n",
      "5.18178355029\n",
      "5.18738580584\n",
      "5.19295685089\n",
      "5.19849703127\n",
      "5.20400668708\n",
      "5.20948615284\n",
      "5.21493575761\n",
      "5.22035582508\n",
      "5.22574667371\n",
      "5.23110861685\n",
      "5.23644196283\n",
      "5.24174701506\n",
      "5.24702407216\n",
      "5.25227342805\n",
      "5.25749537203\n",
      "5.2626901889\n",
      "5.26785815906\n",
      "5.27299955856\n",
      "5.27811465923\n",
      "5.28320372874\n",
      "5.28826703069\n",
      "5.29330482472\n",
      "5.29831736655\n",
      "5.30330490806\n",
      "5.3082676974\n",
      "5.31320597904\n",
      "5.31811999384\n",
      "5.32300997914\n",
      "5.32787616879\n",
      "5.33271879327\n",
      "5.3375380797\n",
      "5.34233425196\n",
      "5.34710753072\n",
      "5.35185813348\n",
      "5.35658627467\n",
      "5.36129216571\n",
      "5.36597601502\n",
      "5.37063802813\n",
      "5.37527840768\n",
      "5.37989735354\n",
      "5.38449506279\n",
      "5.38907172982\n",
      "5.39362754635\n",
      "5.39816270152\n",
      "5.40267738187\n",
      "5.40717177146\n",
      "5.41164605186\n",
      "5.4161004022\n",
      "5.42053499927\n",
      "5.42495001748\n",
      "5.42934562895\n",
      "5.43372200355\n",
      "5.43807930892\n",
      "5.44241771052\n",
      "5.44673737167\n",
      "5.45103845357\n",
      "5.45532111536\n",
      "5.45958551414\n",
      "5.46383180503\n",
      "5.46806014114\n",
      "5.47227067367\n",
      "5.47646355193\n",
      "5.48063892334\n",
      "5.48479693349\n",
      "5.48893772616\n",
      "5.49306144334\n",
      "5.49716822529\n",
      "5.50125821054\n",
      "5.50533153593\n",
      "5.50938833663\n",
      "5.51342874616\n",
      "5.51745289646\n",
      "5.52146091786\n",
      "5.52545293913\n",
      "5.52942908751\n",
      "5.53338948873\n",
      "5.53733426702\n",
      "5.54126354516\n",
      "5.54517744448\n",
      "5.5490760849\n",
      "5.55295958492\n",
      "5.5568280617\n",
      "5.56068163102\n",
      "5.56452040732\n",
      "5.56834450376\n",
      "5.57215403218\n",
      "5.57594910315\n",
      "5.57972982599\n",
      "5.58349630878\n",
      "5.5872486584\n",
      "5.59098698051\n",
      "5.5947113796\n",
      "5.598421959\n",
      "5.60211882088\n",
      "5.6058020663\n",
      "5.60947179518\n",
      "5.61312810639\n",
      "5.61677109767\n",
      "5.62040086572\n",
      "5.62401750619\n",
      "5.62762111369\n",
      "5.63121178182\n",
      "5.63478960317\n",
      "5.63835466933\n",
      "5.64190707094\n",
      "5.64544689764\n",
      "5.64897423816\n",
      "5.65248918027\n",
      "5.65599181082\n",
      "5.65948221576\n",
      "5.66296048014\n",
      "5.66642668811\n",
      "5.66988092298\n",
      "5.67332326717\n",
      "5.67675380227\n",
      "5.68017260902\n",
      "5.68357976734\n",
      "5.68697535634\n",
      "5.69035945432\n",
      "5.6937321388\n",
      "5.69709348651\n",
      "5.70044357339\n",
      "5.70378247466\n",
      "5.70711026475\n",
      "5.71042701737\n",
      "5.71373280551\n",
      "5.71702770141\n",
      "5.72031177661\n",
      "5.72358510195\n",
      "5.72684774759\n",
      "5.73009978297\n",
      "5.7333412769\n",
      "5.73657229748\n",
      "5.73979291218\n",
      "5.74300318781\n",
      "5.74620319054\n",
      "5.74939298591\n",
      "5.75257263883\n",
      "5.75574221359\n",
      "5.75890177388\n",
      "5.76205138278\n",
      "5.76519110278\n",
      "5.76832099579\n",
      "5.77144112313\n",
      "5.77455154554\n",
      "5.77765232322\n",
      "5.78074351579\n",
      "5.78382518233\n",
      "5.78689738137\n",
      "5.7899601709\n",
      "5.79301360838\n",
      "5.79605775077\n",
      "5.79909265446\n",
      "5.80211837538\n",
      "5.80513496892\n",
      "5.80814248998\n",
      "5.81114099298\n",
      "5.81413053183\n",
      "5.81711115996\n",
      "5.82008293035\n",
      "5.82304589548\n",
      "5.82600010738\n",
      "5.82894561761\n",
      "5.83188247728\n",
      "5.83481073706\n",
      "5.83773044717\n",
      "5.84064165737\n",
      "5.84354441703\n",
      "5.84643877506\n",
      "5.84932477995\n",
      "5.85220247977\n",
      "5.8550719222\n",
      "5.85793315448\n",
      "5.86078622347\n",
      "5.8636311756\n",
      "5.86646805693\n",
      "5.86929691313\n",
      "5.87211778948\n",
      "5.87493073085\n",
      "5.87773578178\n",
      "5.8805329864\n",
      "5.88332238849\n",
      "5.88610403145\n",
      "5.88887795833\n",
      "5.89164421183\n",
      "5.89440283426\n",
      "5.89715386764\n",
      "5.89989735358\n",
      "5.9026333334\n",
      "5.90536184805\n",
      "5.90808293817\n",
      "5.91079664404\n",
      "5.91350300564\n",
      "5.91620206261\n",
      "5.91889385427\n",
      "5.92157841964\n",
      "5.92425579741\n",
      "5.92692602597\n",
      "5.92958914339\n",
      "5.93224518745\n",
      "5.93489419562\n",
      "5.93753620508\n",
      "5.94017125272\n",
      "5.94279937513\n",
      "5.94542060861\n",
      "5.94803498918\n",
      "5.95064255259\n",
      "5.95324333429\n",
      "5.95583736946\n",
      "5.95842469303\n",
      "5.96100533962\n",
      "5.96357934362\n",
      "5.96614673912\n",
      "5.96870755999\n",
      "5.97126183979\n",
      "5.97380961187\n",
      "5.9763509093\n",
      "5.9788857649\n",
      "5.98141421125\n",
      "5.98393628069\n",
      "5.98645200528\n",
      "5.98896141689\n",
      "5.99146454711\n",
      "5.99396142731\n",
      "5.99645208862\n",
      "5.99893656195\n",
      "6.00141487796\n",
      "6.00388706711\n",
      "6.0063531596\n",
      "6.00881318544\n",
      "6.0112671744\n",
      "6.01371515604\n",
      "6.0161571597\n",
      "6.0185932145\n",
      "6.02102334935\n",
      "6.02344759296\n",
      "6.02586597383\n",
      "6.02827852023\n",
      "6.03068526026\n",
      "6.0330862218\n",
      "6.03548143252\n",
      "6.03787091992\n",
      "6.04025471128\n",
      "6.04263283368\n",
      "6.04500531404\n",
      "6.04737217905\n",
      "6.04973345523\n",
      "6.05208916892\n",
      "6.05443934627\n",
      "6.05678401323\n",
      "6.05912319558\n",
      "6.06145691893\n",
      "6.06378520869\n",
      "6.0661080901\n",
      "6.06842558824\n",
      "6.070737728\n",
      "6.0730445341\n",
      "6.07534603109\n",
      "6.07764224335\n",
      "6.0799331951\n",
      "6.08221891038\n",
      "6.08449941308\n",
      "6.08677472691\n",
      "6.08904487545\n",
      "6.09130988208\n",
      "6.09356977005\n",
      "6.09582456243\n",
      "6.09807428217\n",
      "6.10031895202\n",
      "6.10255859461\n",
      "6.10479323241\n",
      "6.10702288774\n",
      "6.10924758276\n",
      "6.1114673395\n",
      "6.11368217983\n",
      "6.11589212548\n",
      "6.11809719804\n",
      "6.12029741895\n",
      "6.12249280951\n",
      "6.12468339089\n",
      "6.12686918411\n",
      "6.12905021006\n",
      "6.13122648948\n",
      "6.133398043\n",
      "6.13556489108\n",
      "6.13772705409\n",
      "6.13988455223\n",
      "6.14203740559\n",
      "6.14418563413\n",
      "6.14632925767\n",
      "6.14846829592\n",
      "6.15060276845\n",
      "6.1527326947\n",
      "6.15485809402\n",
      "6.15697898559\n",
      "6.15909538849\n",
      "6.1612073217\n",
      "6.16331480403\n",
      "6.16541785423\n",
      "6.16751649089\n",
      "6.16961073249\n",
      "6.17170059741\n",
      "6.1737861039\n",
      "6.17586727011\n",
      "6.17794411405\n",
      "6.18001665365\n",
      "6.18208490672\n",
      "6.18414889094\n",
      "6.1862086239\n",
      "6.18826412308\n",
      "6.19031540585\n",
      "6.19236248947\n",
      "6.1944053911\n",
      "6.19644412779\n",
      "6.19847871649\n",
      "6.20050917404\n",
      "6.20253551719\n",
      "6.20455776257\n",
      "6.20657592672\n",
      "6.2085900261\n",
      "6.21060007702\n",
      "6.21260609575\n",
      "6.21460809842\n",
      "6.21660610108\n",
      "6.21860011969\n",
      "6.2205901701\n",
      "6.22257626807\n",
      "6.22455842928\n",
      "6.22653666929\n",
      "6.22851100359\n",
      "6.23048144758\n",
      "6.23244801655\n",
      "6.23441072572\n",
      "6.2363695902\n",
      "6.23832462504\n",
      "6.24027584517\n",
      "6.24222326546\n",
      "6.24416690066\n",
      "6.24610676548\n",
      "6.24804287451\n",
      "6.24997524226\n",
      "6.25190388317\n",
      "6.25382881158\n",
      "6.25575004175\n",
      "6.25766758788\n",
      "6.25958146406\n",
      "6.26149168432\n",
      "6.26339826259\n",
      "6.26530121274\n",
      "6.26720054854\n",
      "6.26909628371\n",
      "6.27098843186\n",
      "6.27287700655\n",
      "6.27476202124\n",
      "6.27664348934\n",
      "6.27852142417\n",
      "6.28039583896\n",
      "6.2822667469\n",
      "6.28413416107\n",
      "6.28599809451\n",
      "6.28785856016\n",
      "6.28971557091\n",
      "6.29156913956\n",
      "6.29341927885\n",
      "6.29526600144\n",
      "6.29710931993\n",
      "6.29894924686\n",
      "6.30078579466\n",
      "6.30261897574\n",
      "6.30444880242\n",
      "6.30627528695\n",
      "6.30809844151\n",
      "6.30991827823\n",
      "6.31173480915\n",
      "6.31354804628\n",
      "6.31535800152\n",
      "6.31716468675\n",
      "6.31896811375\n",
      "6.32076829425\n",
      "6.32256523993\n",
      "6.32435896238\n",
      "6.32614947316\n",
      "6.32793678373\n",
      "6.32972090552\n",
      "6.33150184989\n",
      "6.33327962814\n",
      "6.3350542515\n",
      "6.33682573115\n",
      "6.3385940782\n",
      "6.34035930373\n",
      "6.34212141872\n",
      "6.34388043413\n",
      "6.34563636083\n",
      "6.34738920966\n",
      "6.34913899138\n",
      "6.35088571671\n",
      "6.35262939632\n",
      "6.3543700408\n",
      "6.3561076607\n",
      "6.35784226651\n",
      "6.35957386867\n",
      "6.36130247757\n",
      "6.36302810354\n",
      "6.36475075685\n",
      "6.36647044773\n",
      "6.36818718635\n",
      "6.36990098283\n",
      "6.37161184723\n",
      "6.37331978958\n",
      "6.37502481983\n",
      "6.3767269479\n",
      "6.37842618365\n",
      "6.3801225369\n",
      "6.38181601741\n",
      "6.38350663488\n",
      "6.385194399\n",
      "6.38687931936\n",
      "6.38856140555\n",
      "6.39024066707\n",
      "6.39191711339\n",
      "6.39359075395\n",
      "6.39526159812\n",
      "6.39692965522\n",
      "6.39859493454\n",
      "6.40025744531\n",
      "6.40191719673\n",
      "6.40357419793\n",
      "6.40522845803\n",
      "6.40687998607\n",
      "6.40852879106\n",
      "6.41017488197\n",
      "6.41181826771\n",
      "6.41345895717\n",
      "6.41509695917\n",
      "6.41673228251\n",
      "6.41836493594\n",
      "6.41999492815\n",
      "6.42162226781\n",
      "6.42324696353\n",
      "6.42486902391\n",
      "6.42648845746\n",
      "6.42810527268\n",
      "6.42971947804\n",
      "6.43133108193\n",
      "6.43294009274\n",
      "6.43454651879\n",
      "6.43615036837\n",
      "6.43775164974\n",
      "6.4393503711\n",
      "6.44094654063\n",
      "6.44254016647\n",
      "6.4441312567\n",
      "6.44571981939\n",
      "6.44730586254\n",
      "6.44888939415\n",
      "6.45047042214\n",
      "6.45204895444\n",
      "6.45362499889\n",
      "6.45519856334\n",
      "6.45676965557\n",
      "6.45833828334\n",
      "6.45990445438\n",
      "6.46146817635\n",
      "6.46302945692\n",
      "6.46458830369\n",
      "6.46614472424\n",
      "6.4676987261\n",
      "6.4692503168\n",
      "6.47079950378\n",
      "6.4723462945\n",
      "6.47389069635\n",
      "6.4754327167\n",
      "6.47697236289\n",
      "6.47850964221\n",
      "6.48004456193\n",
      "6.48157712928\n",
      "6.48310735146\n",
      "6.48463523564\n",
      "6.48616078894\n",
      "6.48768401848\n",
      "6.48920493133\n",
      "6.4907235345\n",
      "6.49223983502\n",
      "6.49375383985\n",
      "6.49526555594\n",
      "6.49677499019\n",
      "6.49828214948\n",
      "6.49978704066\n",
      "6.50128967054\n",
      "6.50279004592\n",
      "6.50428817354\n",
      "6.50578406013\n",
      "6.50727771239\n",
      "6.50876913697\n",
      "6.51025834052\n",
      "6.51174532964\n",
      "6.51323011091\n",
      "6.51471269087\n",
      "6.51619307604\n",
      "6.51767127291\n",
      "6.51914728794\n",
      "6.52062112756\n",
      "6.52209279817\n",
      "6.52356230615\n",
      "6.52502965784\n",
      "6.52649485957\n",
      "6.52795791762\n",
      "6.52941883826\n",
      "6.53087762773\n",
      "6.53233429222\n",
      "6.53378883793\n",
      "6.53524127101\n",
      "6.53669159759\n",
      "6.53813982377\n",
      "6.53958595562\n",
      "6.54102999919\n",
      "6.54247196051\n",
      "6.54391184556\n",
      "6.54534966033\n",
      "6.54678541076\n",
      "6.54821910276\n",
      "6.54965074223\n",
      "6.55108033504\n",
      "6.55250788703\n",
      "6.55393340403\n",
      "6.55535689181\n",
      "6.55677835616\n",
      "6.55819780281\n",
      "6.55961523749\n",
      "6.5610306659\n",
      "6.56244409369\n",
      "6.56385552653\n",
      "6.56526497004\n",
      "6.5666724298\n",
      "6.56807791141\n",
      "6.56948142041\n",
      "6.57088296234\n",
      "6.57228254269\n",
      "6.57368016696\n",
      "6.5750758406\n",
      "6.57646956905\n",
      "6.57786135772\n",
      "6.57925121201\n",
      "6.58063913728\n",
      "6.58202513889\n",
      "6.58340922216\n",
      "6.58479139239\n",
      "6.58617165485\n",
      "6.58755001482\n",
      "6.58892647753\n",
      "6.5903010482\n",
      "6.59167373201\n",
      "6.59304453414\n",
      "6.59441345975\n",
      "6.59578051396\n",
      "6.59714570189\n",
      "6.59850902861\n",
      "6.59987049921\n",
      "6.60123011873\n",
      "6.60258789219\n",
      "6.6039438246\n",
      "6.60529792095\n",
      "6.6066501862\n",
      "6.6080006253\n",
      "6.60934924317\n",
      "6.61069604472\n",
      "6.61204103483\n",
      "6.61338421838\n",
      "6.6147256002\n",
      "6.61606518513\n",
      "6.61740297797\n",
      "6.61873898352\n",
      "6.62007320653\n",
      "6.62140565176\n",
      "6.62273632395\n",
      "6.6240652278\n",
      "6.62539236801\n",
      "6.62671774925\n",
      "6.62804137618\n",
      "6.62936325344\n",
      "6.63068338564\n",
      "6.6320017774\n",
      "6.63331843328\n",
      "6.63463335786\n",
      "6.63594655569\n",
      "6.63725803128\n",
      "6.63856778917\n",
      "6.63987583383\n",
      "6.64118216974\n",
      "6.64248680137\n",
      "6.64378973315\n",
      "6.64509096951\n",
      "6.64639051485\n",
      "6.64768837356\n",
      "6.64898455002\n",
      "6.65027904859\n",
      "6.65157187359\n",
      "6.65286302935\n",
      "6.65415252018\n",
      "6.65544035037\n",
      "6.65672652418\n",
      "6.65801104587\n",
      "6.65929391968\n",
      "6.66057514984\n",
      "6.66185474055\n",
      "6.66313269599\n",
      "6.66440902035\n",
      "6.66568371778\n",
      "6.66695679243\n",
      "6.66822824842\n",
      "6.66949808986\n",
      "6.67076632085\n",
      "6.67203294546\n",
      "6.67329796777\n",
      "6.67456139181\n",
      "6.67582322163\n",
      "6.67708346125\n",
      "6.67834211465\n",
      "6.67959918584\n",
      "6.68085467879\n",
      "6.68210859745\n",
      "6.68336094577\n",
      "6.68461172767\n",
      "6.68586094707\n",
      "6.68710860787\n",
      "6.68835471395\n",
      "6.68959926918\n",
      "6.69084227742\n",
      "6.69208374251\n",
      "6.69332366827\n",
      "6.69456205852\n",
      "6.69579891706\n",
      "6.69703424767\n",
      "6.69826805412\n",
      "6.69950034016\n",
      "6.70073110955\n",
      "6.701960366\n",
      "6.70318811324\n",
      "6.70441435496\n",
      "6.70563909486\n",
      "6.7068623366\n",
      "6.70808408385\n",
      "6.70930434026\n",
      "6.71052310945\n",
      "6.71174039506\n",
      "6.71295620068\n",
      "6.71417052991\n",
      "6.71538338633\n",
      "6.71659477352\n",
      "6.71780469502\n",
      "6.71901315439\n",
      "6.72022015514\n",
      "6.72142570079\n",
      "6.72262979486\n",
      "6.72383244082\n",
      "6.72503364217\n",
      "6.72623340236\n",
      "6.72743172485\n",
      "6.72862861308\n",
      "6.72982407049\n",
      "6.73101810048\n",
      "6.73221070647\n",
      "6.73340189184\n",
      "6.73459165997\n",
      "6.73578001424\n",
      "6.736966958\n",
      "6.7381524946\n",
      "6.73933662736\n",
      "6.74051935961\n",
      "6.74170069465\n",
      "6.74288063579\n",
      "6.74405918631\n",
      "6.74523634948\n",
      "6.74641212857\n",
      "6.74758652683\n",
      "6.74875954749\n",
      "6.74993119379\n",
      "6.75110146894\n",
      "6.75227037614\n",
      "6.7534379186\n",
      "6.75460409949\n",
      "6.75576892198\n",
      "6.75693238925\n",
      "6.75809450443\n",
      "6.75925527066\n",
      "6.76041469108\n",
      "6.7615727688\n",
      "6.76272950693\n",
      "6.76388490856\n",
      "6.76503897678\n",
      "6.76619171466\n",
      "6.76734312527\n",
      "6.76849321165\n",
      "6.76964197685\n",
      "6.77078942391\n",
      "6.77193555584\n",
      "6.77308037566\n",
      "6.77422388636\n",
      "6.77536609094\n",
      "6.77650699237\n",
      "6.77764659364\n",
      "6.77878489769\n",
      "6.77992190747\n",
      "6.78105762594\n",
      "6.78219205601\n",
      "6.7833252006\n",
      "6.78445706264\n",
      "6.78558764501\n",
      "6.78671695061\n",
      "6.78784498231\n",
      "6.78897174299\n",
      "6.79009723551\n",
      "6.79122146273\n",
      "6.79234442747\n",
      "6.79346613258\n",
      "6.79458658088\n",
      "6.79570577517\n",
      "6.79682371827\n",
      "6.79794041297\n",
      "6.79905586206\n",
      "6.8001700683\n",
      "6.80128303447\n",
      "6.80239476332\n",
      "6.80350525761\n",
      "6.80461452006\n",
      "6.80572255342\n",
      "6.80682936039\n",
      "6.8079349437\n",
      "6.80903930604\n",
      "6.81014245012\n",
      "6.8112443786\n",
      "6.81234509418\n",
      "6.81344459951\n",
      "6.81454289726\n",
      "6.81563999007\n",
      "6.81673588059\n",
      "6.81783057145\n",
      "6.81892406528\n",
      "6.82001636467\n",
      "6.82110747226\n",
      "6.82219739062\n",
      "6.82328612236\n",
      "6.82437367004\n",
      "6.82546003626\n",
      "6.82654522356\n",
      "6.8276292345\n",
      "6.82871207164\n",
      "6.82979373751\n",
      "6.83087423465\n",
      "6.83195356557\n",
      "6.83303173279\n",
      "6.83410873881\n",
      "6.83518458615\n",
      "6.83625927728\n",
      "6.83733281469\n",
      "6.83840520085\n",
      "6.83947643823\n",
      "6.84054652929\n",
      "6.84161547648\n",
      "6.84268328224\n",
      "6.84374994901\n",
      "6.84481547921\n",
      "6.84587987526\n",
      "6.84694313959\n",
      "6.84800527458\n",
      "6.84906628263\n",
      "6.85012616615\n",
      "6.85118492749\n",
      "6.85224256905\n",
      "6.85329909319\n",
      "6.85435450226\n",
      "6.85540879861\n",
      "6.85646198459\n",
      "6.85751406255\n",
      "6.85856503479\n",
      "6.85961490365\n",
      "6.86066367145\n",
      "6.86171134048\n",
      "6.86275791305\n",
      "6.86380339145\n",
      "6.86484777797\n",
      "6.86589107488\n",
      "6.86693328446\n",
      "6.86797440897\n",
      "6.86901445067\n",
      "6.8700534118\n",
      "6.87109129461\n",
      "6.87212810134\n",
      "6.87316383421\n",
      "6.87419849545\n",
      "6.87523208728\n",
      "6.87626461189\n",
      "6.8772960715\n",
      "6.87832646829\n",
      "6.87935580446\n",
      "6.88038408219\n",
      "6.88141130364\n",
      "6.882437471\n",
      "6.88346258641\n",
      "6.88448665204\n",
      "6.88550967003\n",
      "6.88653164253\n",
      "6.88755257166\n",
      "6.88857245957\n",
      "6.88959130835\n",
      "6.89060912015\n",
      "6.89162589705\n",
      "6.89264164117\n",
      "6.8936563546\n",
      "6.89467003943\n",
      "6.89568269775\n",
      "6.89669433162\n",
      "6.89770494313\n",
      "6.89871453433\n",
      "6.89972310728\n",
      "6.90073066405\n",
      "6.90173720666\n",
      "6.90274273716\n",
      "6.90374725758\n",
      "6.90475076996\n",
      "6.90575327631\n",
      "6.90675477865\n",
      "6.90775527898\n"
     ]
    }
   ],
   "source": [
    "for i in range(1, 1001):\n",
    "    print np.log(i)"
   ]
  },
  {
   "cell_type": "code",
   "execution_count": null,
   "metadata": {
    "collapsed": true
   },
   "outputs": [],
   "source": []
  }
 ],
 "metadata": {
  "celltoolbar": "Slideshow",
  "kernelspec": {
   "display_name": "Python 2",
   "language": "python",
   "name": "python2"
  },
  "language_info": {
   "codemirror_mode": {
    "name": "ipython",
    "version": 2
   },
   "file_extension": ".py",
   "mimetype": "text/x-python",
   "name": "python",
   "nbconvert_exporter": "python",
   "pygments_lexer": "ipython2",
   "version": "2.7.12"
  },
  "latex_envs": {
   "bibliofile": "biblio.bib",
   "cite_by": "apalike",
   "current_citInitial": 1,
   "eqLabelWithNumbers": true,
   "eqNumInitial": 0
  },
  "toc": {
   "toc_cell": false,
   "toc_number_sections": false,
   "toc_section_display": "block",
   "toc_threshold": 6,
   "toc_window_display": true
  },
  "toc_position": {
   "height": "376px",
   "left": "1188.03px",
   "right": "20px",
   "top": "120px",
   "width": "206px"
  }
 },
 "nbformat": 4,
 "nbformat_minor": 0
}
