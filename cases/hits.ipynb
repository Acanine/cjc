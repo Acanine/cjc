{
 "cells": [
  {
   "cell_type": "markdown",
   "metadata": {
    "ExecuteTime": {
     "end_time": "2017-06-07T22:16:49.962995",
     "start_time": "2017-06-07T22:16:49.958338"
    },
    "slideshow": {
     "slide_type": "slide"
    }
   },
   "source": [
    "***\n",
    "***\n",
    "\n",
    "# Hits算法\n",
    "***\n",
    "***\n",
    "\n"
   ]
  },
  {
   "cell_type": "markdown",
   "metadata": {
    "slideshow": {
     "slide_type": "slide"
    }
   },
   "source": [
    "Jon Kleinberg于1999年在Journal of the ACM发表题为Authoritative sources in a hyperlinked environment的文章。\n",
    "\n",
    "对于一个网络G：\n",
    "\n",
    "- Certain pages are valuable because they provide information about a topic. These pages are called **authorities**, a.\n",
    "- Other pages are valuable because they tell you where to go to find out about that topic. These pages are called **hubs**, h."
   ]
  },
  {
   "cell_type": "markdown",
   "metadata": {
    "slideshow": {
     "slide_type": "subslide"
    }
   },
   "source": [
    "“a page is a good hub if it links to good authorities, and a page is a good authority if it is linked to by good hubs.”"
   ]
  },
  {
   "cell_type": "markdown",
   "metadata": {
    "slideshow": {
     "slide_type": "subslide"
    }
   },
   "source": [
    "Hits算法通过迭代的方法来计算权威度a和导航度h。其中：\n",
    "\n",
    "- 节点i的权威度aiai利用指向它的节点的在上一轮的导航度hlast和链接的权重来决定。 a=μLh\n",
    "- 节点i的导航度hihi利用指向它指向的节点在这一轮的权威度aiai和链接的权重来决定。h=λLa"
   ]
  },
  {
   "cell_type": "markdown",
   "metadata": {
    "slideshow": {
     "slide_type": "subslide"
    }
   },
   "source": [
    "> An important observation is that dead ends or spider traps do not prevent the HITS iteration from converging to a meaningful pair of vectors. Thus, we can work with dead ends or spider traps directly, with no “taxation” or alteration of the graph needed."
   ]
  },
  {
   "cell_type": "code",
   "execution_count": 79,
   "metadata": {
    "ExecuteTime": {
     "end_time": "2017-06-07T22:25:09.724450",
     "start_time": "2017-06-07T22:25:09.719509"
    },
    "collapsed": false,
    "slideshow": {
     "slide_type": "slide"
    }
   },
   "outputs": [],
   "source": [
    "%matplotlib inline\n",
    "import networkx as nx\n",
    "import matplotlib.pyplot as plt\n",
    "import numpy as np"
   ]
  },
  {
   "cell_type": "code",
   "execution_count": 3,
   "metadata": {
    "ExecuteTime": {
     "end_time": "2017-06-07T14:01:13.537751",
     "start_time": "2017-06-07T14:01:13.531778"
    },
    "collapsed": true,
    "slideshow": {
     "slide_type": "slide"
    }
   },
   "outputs": [],
   "source": [
    "G = nx.DiGraph()\n",
    "G.add_edge(1, 2, weight = 50)\n",
    "G.add_edge(1, 3, weight = 30)\n",
    "G.add_edge(3, 2, weight = 10)\n",
    "G.add_edge(2, 4, weight = 20)\n",
    "G.add_edge(2, 5, weight = 30)\n",
    "G.add_edge(5, 3, weight = 5)\n",
    "G.add_edge(4, 5, weight = 10)"
   ]
  },
  {
   "cell_type": "code",
   "execution_count": 4,
   "metadata": {
    "ExecuteTime": {
     "end_time": "2017-06-07T14:01:33.107922",
     "start_time": "2017-06-07T14:01:32.843070"
    },
    "collapsed": false,
    "slideshow": {
     "slide_type": "subslide"
    }
   },
   "outputs": [
    {
     "data": {
      "image/png": "[encoded data removed]",
      "text/plain": [
       "<matplotlib.figure.Figure at 0x112d2e590>"
      ]
     },
     "metadata": {},
     "output_type": "display_data"
    }
   ],
   "source": [
    "fig = plt.figure(figsize=(12, 5),facecolor='white')     \n",
    "pos={1: np.array([ 0.2,  0.5]),\n",
    " 2: np.array([ 0.4,  0.8]),\n",
    " 3: np.array([ 0.4,  0.2 ]),\n",
    " 4: np.array([ 0.6,  0.8]),\n",
    " 5: np.array([ 0.6,  0.2])}\n",
    "\n",
    "width=[float(d['weight']*.1) for (u,v,d) in G.edges(data=True)]\n",
    "edge_labels=dict([((u,v,),d['weight']) for u,v,d in G.edges(data=True)])\n",
    "nx.draw_networkx_edge_labels(G,pos,edge_labels=edge_labels, font_size = 15,alpha = .5)\n",
    "nx.draw(G, pos, node_size = 3000, node_color = 'green', \n",
    "        alpha = 0.2, width = width, edge_color='green',style='solid')\n",
    "nx.draw_networkx_labels(G,pos,font_size=18)\n",
    "plt.show() "
   ]
  },
  {
   "cell_type": "markdown",
   "metadata": {
    "slideshow": {
     "slide_type": "slide"
    }
   },
   "source": [
    "在networkx里，我们可以调用hits函数来采用迭代的方式实现hits算法。\n",
    "\n"
   ]
  },
  {
   "cell_type": "code",
   "execution_count": 64,
   "metadata": {
    "ExecuteTime": {
     "end_time": "2017-06-07T15:01:05.667619",
     "start_time": "2017-06-07T15:01:05.626645"
    },
    "collapsed": true,
    "slideshow": {
     "slide_type": "slide"
    }
   },
   "outputs": [],
   "source": [
    "# http://networkx.readthedocs.io/en/stable/_modules/networkx/algorithms/link_analysis/hits_alg.html#hits\n",
    "    \n",
    "def hits(G,max_iter=100,tol=1.0e-8,nstart=None,normalized=True):\n",
    "    \"\"\"Return HITS hubs and authorities values for nodes.\n",
    "\n",
    "    The HITS algorithm computes two numbers for a node.\n",
    "    Authorities estimates the node value based on the incoming links.\n",
    "    Hubs estimates the node value based on outgoing links.\n",
    "\n",
    "    Parameters\n",
    "    ----------\n",
    "    G : graph\n",
    "      A NetworkX graph\n",
    "\n",
    "    max_iter : interger, optional\n",
    "      Maximum number of iterations in power method.\n",
    "\n",
    "    tol : float, optional\n",
    "      Error tolerance used to check convergence in power method iteration.\n",
    "\n",
    "    nstart : dictionary, optional\n",
    "      Starting value of each node for power method iteration.\n",
    "\n",
    "    normalized : bool (default=True)\n",
    "       Normalize results by the sum of all of the values.\n",
    "\n",
    "    Returns\n",
    "    -------\n",
    "    (hubs,authorities) : two-tuple of dictionaries\n",
    "       Two dictionaries keyed by node containing the hub and authority\n",
    "       values.\n",
    "\n",
    "    Examples\n",
    "    --------\n",
    "    >>> G=nx.path_graph(4)\n",
    "    >>> h,a=nx.hits(G)\n",
    "\n",
    "    Notes\n",
    "    -----\n",
    "    The eigenvector calculation is done by the power iteration method\n",
    "    and has no guarantee of convergence.  The iteration will stop\n",
    "    after max_iter iterations or an error tolerance of\n",
    "    number_of_nodes(G)*tol has been reached.\n",
    "\n",
    "    The HITS algorithm was designed for directed graphs but this\n",
    "    algorithm does not check if the input graph is directed and will\n",
    "    execute on undirected graphs.\n",
    "\n",
    "    References\n",
    "    ----------\n",
    "    .. [1] A. Langville and C. Meyer,\n",
    "       \"A survey of eigenvector methods of web information retrieval.\"\n",
    "       http://citeseer.ist.psu.edu/713792.html\n",
    "    .. [2] Jon Kleinberg,\n",
    "       Authoritative sources in a hyperlinked environment\n",
    "       Journal of the ACM 46 (5): 604-32, 1999.\n",
    "       doi:10.1145/324133.324140.\n",
    "       http://www.cs.cornell.edu/home/kleinber/auth.pdf.\n",
    "    \"\"\"\n",
    "    if type(G) == nx.MultiGraph or type(G) == nx.MultiDiGraph:\n",
    "        raise Exception(\"hits() not defined for graphs with multiedges.\")\n",
    "    if len(G) == 0:\n",
    "        return {},{}\n",
    "    # choose fixed starting vector if not given\n",
    "    if nstart is None:\n",
    "        h=dict.fromkeys(G,1.0/G.number_of_nodes())\n",
    "    else:\n",
    "        h=nstart\n",
    "        # normalize starting vector\n",
    "        s=1.0/sum(h.values())\n",
    "        for k in h:\n",
    "            h[k]*=s\n",
    "    i=0\n",
    "    while True: # power iteration: make up to max_iter iterations\n",
    "        hlast=h\n",
    "        h=dict.fromkeys(hlast.keys(),0)\n",
    "        a=dict.fromkeys(hlast.keys(),0)\n",
    "        # this \"matrix multiply\" looks odd because it is\n",
    "        # doing a left multiply a^T=hlast^T*G\n",
    "        for n in h:\n",
    "            for nbr in G[n]:\n",
    "                a[nbr]+=hlast[n]*G[n][nbr].get('weight',1)\n",
    "        # now multiply h=Ga\n",
    "        for n in h:\n",
    "            for nbr in G[n]:\n",
    "                h[n]+=a[nbr]*G[n][nbr].get('weight',1)\n",
    "        # normalize vector\n",
    "        s=1.0/max(h.values())\n",
    "        for n in h: h[n]*=s\n",
    "        # normalize vector\n",
    "        s=1.0/max(a.values())\n",
    "        for n in a: a[n]*=s\n",
    "        # check convergence, l1 norm\n",
    "        err=sum([abs(h[n]-hlast[n]) for n in h])\n",
    "        if err < tol:\n",
    "            break\n",
    "        if i>max_iter:\n",
    "            raise NetworkXError(\\\n",
    "            \"HITS: power iteration failed to converge in %d iterations.\"%(i+1))\n",
    "        i+=1\n",
    "    if normalized:\n",
    "        s = 1.0/sum(a.values())\n",
    "        for n in a:\n",
    "            a[n] *= s\n",
    "        s = 1.0/sum(h.values())\n",
    "        for n in h:\n",
    "            h[n] *= s\n",
    "    return h,a"
   ]
  },
  {
   "cell_type": "markdown",
   "metadata": {
    "slideshow": {
     "slide_type": "slide"
    }
   },
   "source": [
    "首先，hits算法是从导航页面投票给权威页面。\n",
    "\n",
    "如果不指定，初始的导航度hub取值都一样。\n",
    "\n",
    "如上图共有五个节点，每一个节点的hub初始值为0.2。"
   ]
  },
  {
   "cell_type": "code",
   "execution_count": 50,
   "metadata": {
    "ExecuteTime": {
     "end_time": "2017-06-07T14:49:28.153432",
     "start_time": "2017-06-07T14:49:28.146268"
    },
    "collapsed": false,
    "slideshow": {
     "slide_type": "fragment"
    }
   },
   "outputs": [
    {
     "data": {
      "text/plain": [
       "{1: 0.2, 2: 0.2, 3: 0.2, 4: 0.2, 5: 0.2}"
      ]
     },
     "execution_count": 50,
     "metadata": {},
     "output_type": "execute_result"
    }
   ],
   "source": [
    "# choose fixed starting vector if not given\n",
    "nstart = None\n",
    "if nstart is None:\n",
    "    h=dict.fromkeys(G,1.0/G.number_of_nodes())  \n",
    "else: \n",
    "    h=nstart\n",
    "    # normalize starting vector\n",
    "    s=1.0/sum(h.values())\n",
    "    for k in h:\n",
    "        h[k]*=s\n",
    "        \n",
    "h"
   ]
  },
  {
   "cell_type": "markdown",
   "metadata": {
    "slideshow": {
     "slide_type": "slide"
    }
   },
   "source": [
    "然后，我们通过迭代的方法来计算权威度a和导航度h。其中：\n",
    "\n",
    "- 节点i的权威度ai利用指向它的节点的在上一轮的导航度hlast和链接的权重来决定。\n",
    "- 节点i的导航度hi利用指向它指向的节点在这一轮的权威度ai和链接的权重来决定。\n",
    "\n",
    "每一轮迭代的时候，我们让hlast = h，然后清空h和a。"
   ]
  },
  {
   "cell_type": "code",
   "execution_count": 54,
   "metadata": {
    "ExecuteTime": {
     "end_time": "2017-06-07T14:51:08.250931",
     "start_time": "2017-06-07T14:51:08.243763"
    },
    "collapsed": false,
    "slideshow": {
     "slide_type": "subslide"
    }
   },
   "outputs": [
    {
     "data": {
      "text/plain": [
       "({1: 0, 2: 0, 3: 0, 4: 0, 5: 0}, {1: 0, 2: 0, 3: 0, 4: 0, 5: 0})"
      ]
     },
     "execution_count": 54,
     "metadata": {},
     "output_type": "execute_result"
    }
   ],
   "source": [
    "h=dict.fromkeys(G,1.0/G.number_of_nodes())\n",
    "hlast=h\n",
    "h=dict.fromkeys(hlast.keys(),0)\n",
    "a=dict.fromkeys(hlast.keys(),0)\n",
    "a, h\n"
   ]
  },
  {
   "cell_type": "markdown",
   "metadata": {
    "slideshow": {
     "slide_type": "slide"
    }
   },
   "source": [
    "在networkx的网络对象G中，找到一个节点所链接的对象很容易，比如节点1所指向的节点2和3可以通过以下方法获得："
   ]
  },
  {
   "cell_type": "code",
   "execution_count": 72,
   "metadata": {
    "ExecuteTime": {
     "end_time": "2017-06-07T15:06:47.537779",
     "start_time": "2017-06-07T15:06:47.532830"
    },
    "collapsed": false,
    "slideshow": {
     "slide_type": "subslide"
    }
   },
   "outputs": [
    {
     "data": {
      "text/plain": [
       "{2: {'weight': 50}, 3: {'weight': 30}}"
      ]
     },
     "execution_count": 72,
     "metadata": {},
     "output_type": "execute_result"
    }
   ],
   "source": [
    "# node 1 points to node 2 and node 3\n",
    "G[1] "
   ]
  },
  {
   "cell_type": "markdown",
   "metadata": {
    "slideshow": {
     "slide_type": "slide"
    }
   },
   "source": [
    "按照上面的介绍：\n",
    "\n",
    "> 节点i的权威度ai利用指向它的节点的在上一轮的导航度hlast和链接的权重来决定。"
   ]
  },
  {
   "cell_type": "code",
   "execution_count": 73,
   "metadata": {
    "ExecuteTime": {
     "end_time": "2017-06-07T15:06:56.221305",
     "start_time": "2017-06-07T15:06:56.213258"
    },
    "collapsed": false,
    "slideshow": {
     "slide_type": "subslide"
    }
   },
   "outputs": [
    {
     "name": "stdout",
     "output_type": "stream",
     "text": [
      "node: 1\n",
      "1  votes for  2 : 50\n",
      "1  votes for  3 : 30\n",
      "node: 2\n",
      "2  votes for  4 : 20\n",
      "2  votes for  5 : 30\n",
      "node: 3\n",
      "3  votes for  2 : 10\n",
      "node: 4\n",
      "4  votes for  5 : 10\n",
      "node: 5\n",
      "5  votes for  3 : 5\n"
     ]
    },
    {
     "data": {
      "text/plain": [
       "{1: 0, 2: 108.0, 3: 63.0, 4: 36.0, 5: 72.0}"
      ]
     },
     "execution_count": 73,
     "metadata": {},
     "output_type": "execute_result"
    }
   ],
   "source": [
    "# this \"matrix multiply\" looks odd because it is\n",
    "# doing a left multiply a^T=hlast^T*G\n",
    "for n in h:\n",
    "    print 'node:', n\n",
    "    for nbr in G[n]:\n",
    "        print n, ' votes for ', nbr, ':',  G[n][nbr].get('weight', 1)\n",
    "        a[nbr]+=hlast[n]*G[n][nbr].get('weight',1)\n",
    "a"
   ]
  },
  {
   "cell_type": "markdown",
   "metadata": {
    "slideshow": {
     "slide_type": "slide"
    }
   },
   "source": [
    "类似的，按照以上逻辑\n",
    "\n",
    "> 节点i的导航度hi利用指向它指向的节点在这一轮的权威度ai和链接的权重来决定。\n",
    "\n"
   ]
  },
  {
   "cell_type": "code",
   "execution_count": 74,
   "metadata": {
    "ExecuteTime": {
     "end_time": "2017-06-07T15:07:01.772748",
     "start_time": "2017-06-07T15:07:01.764843"
    },
    "collapsed": false,
    "slideshow": {
     "slide_type": "subslide"
    }
   },
   "outputs": [
    {
     "name": "stdout",
     "output_type": "stream",
     "text": [
      "node: 1\n",
      "2  votes for  1 : 50\n",
      "3  votes for  1 : 30\n",
      "node: 2\n",
      "4  votes for  2 : 20\n",
      "5  votes for  2 : 30\n",
      "node: 3\n",
      "2  votes for  3 : 10\n",
      "node: 4\n",
      "5  votes for  4 : 10\n",
      "node: 5\n",
      "3  votes for  5 : 5\n"
     ]
    },
    {
     "data": {
      "text/plain": [
       "{1: 26730.0, 2: 10560.0, 3: 3960.0, 4: 2640.0, 5: 1155.0}"
      ]
     },
     "execution_count": 74,
     "metadata": {},
     "output_type": "execute_result"
    }
   ],
   "source": [
    "# now multiply h=Ga\n",
    "for n in h:\n",
    "    print 'node:', n\n",
    "    for nbr in G[n]:\n",
    "        print nbr, ' votes for ', n, ':',  G[n][nbr].get('weight', 1)\n",
    "        h[n]+=a[nbr]*G[n][nbr].get('weight',1)\n",
    "h"
   ]
  },
  {
   "cell_type": "markdown",
   "metadata": {
    "slideshow": {
     "slide_type": "slide"
    }
   },
   "source": [
    "每一轮都对计算的h和a进行归一化， 使得最大值为1。\n",
    "\n",
    "> While importance is divided among the successors of a page, as expressed by the transition matrix of the Web, the normal way to describe the computation of hubbiness and authority is to **add** the authority of successors to estimate hubbiness and to add hubbiness of predecessors to estimate authority. \n",
    "\n",
    "If that is all we did, then the hubbiness and authority values would typically grow beyond bounds. Thus, we normally scale the values of the vectors h and a so that the largest component is 1. An alternative is to scale so that the sum of components is 1."
   ]
  },
  {
   "cell_type": "code",
   "execution_count": 76,
   "metadata": {
    "ExecuteTime": {
     "end_time": "2017-06-07T15:07:28.930497",
     "start_time": "2017-06-07T15:07:28.922858"
    },
    "collapsed": false,
    "slideshow": {
     "slide_type": "subslide"
    }
   },
   "outputs": [
    {
     "data": {
      "text/plain": [
       "({1: 1.0,\n",
       "  2: 0.3950617283950617,\n",
       "  3: 0.14814814814814814,\n",
       "  4: 0.09876543209876543,\n",
       "  5: 0.043209876543209874},\n",
       " {1: 0.0,\n",
       "  2: 1.0,\n",
       "  3: 0.5833333333333333,\n",
       "  4: 0.3333333333333333,\n",
       "  5: 0.6666666666666666})"
      ]
     },
     "execution_count": 76,
     "metadata": {},
     "output_type": "execute_result"
    }
   ],
   "source": [
    "# normalize vector\n",
    "s=1.0/max(h.values())\n",
    "for n in h: h[n]*=s\n",
    "# normalize vector\n",
    "s=1.0/max(a.values())\n",
    "for n in a: a[n]*=s\n",
    "h, a"
   ]
  },
  {
   "cell_type": "markdown",
   "metadata": {
    "slideshow": {
     "slide_type": "slide"
    }
   },
   "source": [
    "可以检查每一轮迭代是否收敛，即与上一次结果相比相差多少。\n",
    "\n"
   ]
  },
  {
   "cell_type": "code",
   "execution_count": 77,
   "metadata": {
    "ExecuteTime": {
     "end_time": "2017-06-07T15:07:37.832615",
     "start_time": "2017-06-07T15:07:37.827313"
    },
    "collapsed": false,
    "slideshow": {
     "slide_type": "subslide"
    }
   },
   "outputs": [
    {
     "data": {
      "text/plain": [
       "1.3049382716049382"
      ]
     },
     "execution_count": 77,
     "metadata": {},
     "output_type": "execute_result"
    }
   ],
   "source": [
    "# check convergence, l1 norm\n",
    "err=sum([abs(h[n]-hlast[n]) for n in h])\n",
    "err"
   ]
  },
  {
   "cell_type": "markdown",
   "metadata": {
    "slideshow": {
     "slide_type": "slide"
    }
   },
   "source": [
    "写一个while循环，来实现多轮迭代的过程：\n"
   ]
  },
  {
   "cell_type": "code",
   "execution_count": 48,
   "metadata": {
    "ExecuteTime": {
     "end_time": "2017-06-07T14:41:58.563424",
     "start_time": "2017-06-07T14:41:58.543063"
    },
    "collapsed": false,
    "slideshow": {
     "slide_type": "subslide"
    }
   },
   "outputs": [
    {
     "data": {
      "text/plain": [
       "({1: 0.0,\n",
       "  2: 1.0,\n",
       "  3: 0.5869771534391885,\n",
       "  4: 1.2424173865033881e-09,\n",
       "  5: 2.010273559576297e-09},\n",
       " {1: 1.0,\n",
       "  2: 1.2595387930963707e-09,\n",
       "  3: 0.14790861375675435,\n",
       "  4: 2.973367754687863e-10,\n",
       "  5: 0.04340948853603804})"
      ]
     },
     "execution_count": 48,
     "metadata": {},
     "output_type": "execute_result"
    }
   ],
   "source": [
    "tol=1.0e-8\n",
    "max_iter=100\n",
    "i=0\n",
    "while True: # power iteration: make up to max_iter iterations\n",
    "    hlast=h\n",
    "    h=dict.fromkeys(hlast.keys(),0)\n",
    "    a=dict.fromkeys(hlast.keys(),0)\n",
    "    # this \"matrix multiply\" looks odd because it is\n",
    "    # doing a left multiply a^T=hlast^T*G\n",
    "    for n in h:\n",
    "        for nbr in G[n]:\n",
    "            a[nbr]+=hlast[n]*G[n][nbr].get('weight',1)\n",
    "    # now multiply h=Ga\n",
    "    for n in h:\n",
    "        for nbr in G[n]:\n",
    "            h[n]+=a[nbr]*G[n][nbr].get('weight',1)\n",
    "    # normalize vector\n",
    "    s=1.0/max(h.values())\n",
    "    for n in h: h[n]*=s\n",
    "    # normalize vector\n",
    "    s=1.0/max(a.values())\n",
    "    for n in a: a[n]*=s\n",
    "    # check convergence, l1 norm\n",
    "    err=sum([abs(h[n]-hlast[n]) for n in h])\n",
    "    if err < tol:\n",
    "        break\n",
    "    if i>max_iter:\n",
    "        raise NetworkXError(\\\n",
    "        \"HITS: power iteration failed to converge in %d iterations.\"%(i+1))\n",
    "    i+=1\n",
    "\n",
    "a, h"
   ]
  },
  {
   "cell_type": "markdown",
   "metadata": {
    "slideshow": {
     "slide_type": "slide"
    }
   },
   "source": [
    "注意，最后还可以把算的结果进行标准化，使得加总为1。"
   ]
  },
  {
   "cell_type": "code",
   "execution_count": 49,
   "metadata": {
    "ExecuteTime": {
     "end_time": "2017-06-07T14:42:28.438002",
     "start_time": "2017-06-07T14:42:28.429896"
    },
    "collapsed": false,
    "slideshow": {
     "slide_type": "subslide"
    }
   },
   "outputs": [
    {
     "data": {
      "text/plain": [
       "({1: 0.0,\n",
       "  2: 0.6301287928331256,\n",
       "  3: 0.36987120511726024,\n",
       "  4: 7.828829679522668e-10,\n",
       "  5: 1.2667312513601625e-09},\n",
       " {1: 0.8394063657461127,\n",
       "  2: 1.0572648808292696e-09,\n",
       "  3: 0.12415543193610266,\n",
       "  4: 2.495863820989218e-10,\n",
       "  5: 0.03643820101093324})"
      ]
     },
     "execution_count": 49,
     "metadata": {},
     "output_type": "execute_result"
    }
   ],
   "source": [
    "normalized = True\n",
    "if normalized:\n",
    "    s = 1.0/sum(a.values())\n",
    "    for n in a:\n",
    "        a[n] *= s\n",
    "    s = 1.0/sum(h.values())\n",
    "    for n in h:\n",
    "        h[n] *= s\n",
    "a, h"
   ]
  },
  {
   "cell_type": "markdown",
   "metadata": {
    "slideshow": {
     "slide_type": "slide"
    }
   },
   "source": [
    "# Computing hits with numpy\n",
    "\n",
    "除了采用迭代的方式计算外，还可以采用特征向量的方法来计算：\n",
    "\n",
    "The eigenvector calculation is done by the power iteration method and has no guarantee of convergence.\n",
    "\n",
    "因为LLT 和 LTL 不如L 和 LT那么稀疏, 我们通常采用迭代的方法计算a和h的方法。 “For Web-sized graphs, the only way of computing the solution to the hubs- and-authorities equations is iteratively.”"
   ]
  },
  {
   "cell_type": "code",
   "execution_count": 18,
   "metadata": {
    "ExecuteTime": {
     "end_time": "2017-06-07T14:10:20.665900",
     "start_time": "2017-06-07T14:10:20.641121"
    },
    "collapsed": true,
    "slideshow": {
     "slide_type": "subslide"
    }
   },
   "outputs": [],
   "source": [
    "def hub_matrix(G,nodelist=None):\n",
    "    \"\"\"Return the HITS hub matrix.\"\"\"\n",
    "    M=nx.to_numpy_matrix(G,nodelist=nodelist)\n",
    "    return M*M.T\n",
    "\n",
    "def authority_matrix(G,nodelist=None):\n",
    "    \"\"\"Return the HITS authority matrix.\"\"\"\n",
    "    M=nx.to_numpy_matrix(G,nodelist=nodelist)\n",
    "    return M.T*M\n",
    "\n",
    "def hits_numpy(G,normalized=True):\n",
    "    \"\"\"Return HITS hubs and authorities values for nodes.\n",
    "\n",
    "    The HITS algorithm computes two numbers for a node.\n",
    "    Authorities estimates the node value based on the incoming links.\n",
    "    Hubs estimates the node value based on outgoing links.\n",
    "\n",
    "    Parameters\n",
    "    ----------\n",
    "    G : graph\n",
    "      A NetworkX graph\n",
    "\n",
    "    normalized : bool (default=True)\n",
    "       Normalize results by the sum of all of the values.\n",
    "\n",
    "    Returns\n",
    "    -------\n",
    "    (hubs,authorities) : two-tuple of dictionaries\n",
    "       Two dictionaries keyed by node containing the hub and authority\n",
    "       values.\n",
    "\n",
    "    Examples\n",
    "    --------\n",
    "    >>> G=nx.path_graph(4)\n",
    "    >>> h,a=nx.hits(G)\n",
    "\n",
    "    Notes\n",
    "    -----\n",
    "    The eigenvector calculation uses NumPy's interface to LAPACK.\n",
    "\n",
    "    The HITS algorithm was designed for directed graphs but this\n",
    "    algorithm does not check if the input graph is directed and will\n",
    "    execute on undirected graphs.\n",
    "\n",
    "    References\n",
    "    ----------\n",
    "    .. [1] A. Langville and C. Meyer,\n",
    "       \"A survey of eigenvector methods of web information retrieval.\"\n",
    "       http://citeseer.ist.psu.edu/713792.html\n",
    "    .. [2] Jon Kleinberg,\n",
    "       Authoritative sources in a hyperlinked environment\n",
    "       Journal of the ACM 46 (5): 604-32, 1999.\n",
    "       doi:10.1145/324133.324140.\n",
    "       http://www.cs.cornell.edu/home/kleinber/auth.pdf.\n",
    "    \"\"\"\n",
    "    try:\n",
    "        import numpy as np\n",
    "    except ImportError:\n",
    "        raise ImportError(\\\n",
    "            \"hits_numpy() requires NumPy: http://scipy.org/\")\n",
    "    if len(G) == 0:\n",
    "        return {},{}\n",
    "    \n",
    "    H=nx.hub_matrix(G,G.nodes())\n",
    "    e,ev=np.linalg.eig(H)\n",
    "    m=e.argsort()[-1] # index of maximum eigenvalue\n",
    "    h=np.array(ev[:,m]).flatten()\n",
    "    A=nx.authority_matrix(G,G.nodes())\n",
    "    e,ev=np.linalg.eig(A)\n",
    "    m=e.argsort()[-1] # index of maximum eigenvalue\n",
    "    a=np.array(ev[:,m]).flatten()\n",
    "    if normalized:\n",
    "        h = h/h.sum()\n",
    "        a = a/a.sum()\n",
    "    else:\n",
    "        h = h/h.max()\n",
    "        a = a/a.max()\n",
    "    hubs=dict(zip(G.nodes(),map(float,h)))\n",
    "    authorities=dict(zip(G.nodes(),map(float,a)))\n",
    "    return hubs,authorities"
   ]
  },
  {
   "cell_type": "code",
   "execution_count": 6,
   "metadata": {
    "ExecuteTime": {
     "end_time": "2017-06-07T14:02:21.493196",
     "start_time": "2017-06-07T14:02:21.487528"
    },
    "collapsed": false,
    "slideshow": {
     "slide_type": "subslide"
    }
   },
   "outputs": [
    {
     "data": {
      "text/plain": [
       "matrix([[  0.,  50.,  30.,   0.,   0.],\n",
       "        [  0.,   0.,   0.,  20.,  30.],\n",
       "        [  0.,  10.,   0.,   0.,   0.],\n",
       "        [  0.,   0.,   0.,   0.,  10.],\n",
       "        [  0.,   0.,   5.,   0.,   0.]])"
      ]
     },
     "execution_count": 6,
     "metadata": {},
     "output_type": "execute_result"
    }
   ],
   "source": [
    "M = nx.to_numpy_matrix(G)\n",
    "M"
   ]
  },
  {
   "cell_type": "markdown",
   "metadata": {
    "slideshow": {
     "slide_type": "slide"
    }
   },
   "source": [
    "## Hub\n",
    "\n",
    "导航性"
   ]
  },
  {
   "cell_type": "code",
   "execution_count": 10,
   "metadata": {
    "ExecuteTime": {
     "end_time": "2017-06-07T14:03:03.733251",
     "start_time": "2017-06-07T14:03:03.727261"
    },
    "collapsed": false,
    "slideshow": {
     "slide_type": "subslide"
    }
   },
   "outputs": [
    {
     "data": {
      "text/plain": [
       "matrix([[  0.,   0.,   0.,   0.,   0.],\n",
       "        [ 50.,   0.,  10.,   0.,   0.],\n",
       "        [ 30.,   0.,   0.,   0.,   5.],\n",
       "        [  0.,  20.,   0.,   0.,   0.],\n",
       "        [  0.,  30.,   0.,  10.,   0.]])"
      ]
     },
     "execution_count": 10,
     "metadata": {},
     "output_type": "execute_result"
    }
   ],
   "source": [
    "M.T"
   ]
  },
  {
   "cell_type": "code",
   "execution_count": 9,
   "metadata": {
    "ExecuteTime": {
     "end_time": "2017-06-07T14:02:55.307463",
     "start_time": "2017-06-07T14:02:55.302043"
    },
    "collapsed": false,
    "slideshow": {
     "slide_type": "subslide"
    }
   },
   "outputs": [
    {
     "data": {
      "text/plain": [
       "matrix([[ 3400.,     0.,   500.,     0.,   150.],\n",
       "        [    0.,  1300.,     0.,   300.,     0.],\n",
       "        [  500.,     0.,   100.,     0.,     0.],\n",
       "        [    0.,   300.,     0.,   100.,     0.],\n",
       "        [  150.,     0.,     0.,     0.,    25.]])"
      ]
     },
     "execution_count": 9,
     "metadata": {},
     "output_type": "execute_result"
    }
   ],
   "source": [
    "M*(M.T)"
   ]
  },
  {
   "cell_type": "code",
   "execution_count": 36,
   "metadata": {
    "ExecuteTime": {
     "end_time": "2017-06-07T14:21:55.128198",
     "start_time": "2017-06-07T14:21:55.121731"
    },
    "collapsed": false,
    "slideshow": {
     "slide_type": "subslide"
    }
   },
   "outputs": [
    {
     "data": {
      "text/plain": [
       "matrix([[ 3400.,     0.,   500.,     0.,   150.],\n",
       "        [    0.,  1300.,     0.,   300.,     0.],\n",
       "        [  500.,     0.,   100.,     0.,     0.],\n",
       "        [    0.,   300.,     0.,   100.,     0.],\n",
       "        [  150.,     0.,     0.,     0.,    25.]])"
      ]
     },
     "execution_count": 36,
     "metadata": {},
     "output_type": "execute_result"
    }
   ],
   "source": [
    "M = nx.to_numpy_matrix(G)\n",
    "H=M*M.T\n",
    "H\n",
    "    "
   ]
  },
  {
   "cell_type": "code",
   "execution_count": 37,
   "metadata": {
    "ExecuteTime": {
     "end_time": "2017-06-07T14:21:56.666630",
     "start_time": "2017-06-07T14:21:56.663961"
    },
    "collapsed": false,
    "slideshow": {
     "slide_type": "subslide"
    }
   },
   "outputs": [],
   "source": [
    "# help(np.linalg.eig)"
   ]
  },
  {
   "cell_type": "code",
   "execution_count": 39,
   "metadata": {
    "ExecuteTime": {
     "end_time": "2017-06-07T14:22:03.359789",
     "start_time": "2017-06-07T14:22:03.353145"
    },
    "collapsed": false,
    "slideshow": {
     "slide_type": "subslide"
    }
   },
   "outputs": [
    {
     "name": "stdout",
     "output_type": "stream",
     "text": [
      "[  3.48046573e+03   1.70539354e-14   4.45342698e+01   1.37082039e+03\n",
      "   2.91796068e+01] \n",
      "\n",
      "[[  9.88326948e-01   1.27000127e-01   8.41475633e-02   4.65001400e-17\n",
      "   -8.49828802e-17]\n",
      " [ -1.05348126e-18   1.16684959e-16   1.10797159e-16   9.73248989e-01\n",
      "   -2.29752921e-01]\n",
      " [  1.46182069e-01  -6.35000635e-01  -7.58554544e-01  -5.44128764e-17\n",
      "    7.42004736e-16]\n",
      " [ -1.00917153e-19  -1.99336805e-16  -1.01470190e-15   2.29752921e-01\n",
      "    9.73248989e-01]\n",
      " [  4.29027673e-02  -7.62000762e-01   6.46153381e-01   7.21426956e-17\n",
      "   -6.86018605e-16]]\n"
     ]
    }
   ],
   "source": [
    "# Compute the eigenvalues and right eigenvectors of a square array.\n",
    "e,ev=np.linalg.eig(H)\n",
    "print e, '\\n'\n",
    "print ev"
   ]
  },
  {
   "cell_type": "code",
   "execution_count": 15,
   "metadata": {
    "ExecuteTime": {
     "end_time": "2017-06-07T14:08:46.288669",
     "start_time": "2017-06-07T14:08:46.283640"
    },
    "collapsed": false,
    "slideshow": {
     "slide_type": "subslide"
    }
   },
   "outputs": [
    {
     "data": {
      "text/plain": [
       "0"
      ]
     },
     "execution_count": 15,
     "metadata": {},
     "output_type": "execute_result"
    }
   ],
   "source": [
    "m=e.argsort()[-1] # index of maximum eigenvalue\n",
    "m"
   ]
  },
  {
   "cell_type": "code",
   "execution_count": 16,
   "metadata": {
    "ExecuteTime": {
     "end_time": "2017-06-07T14:08:55.014045",
     "start_time": "2017-06-07T14:08:55.008981"
    },
    "collapsed": false,
    "slideshow": {
     "slide_type": "subslide"
    }
   },
   "outputs": [
    {
     "data": {
      "text/plain": [
       "array([  9.88326948e-01,  -1.05348126e-18,   1.46182069e-01,\n",
       "        -1.00917153e-19,   4.29027673e-02])"
      ]
     },
     "execution_count": 16,
     "metadata": {},
     "output_type": "execute_result"
    }
   ],
   "source": [
    "h=np.array(ev[:,m]).flatten()\n",
    "h"
   ]
  },
  {
   "cell_type": "markdown",
   "metadata": {
    "slideshow": {
     "slide_type": "slide"
    }
   },
   "source": [
    "## Authority\n",
    "\n",
    "权威性"
   ]
  },
  {
   "cell_type": "code",
   "execution_count": 19,
   "metadata": {
    "ExecuteTime": {
     "end_time": "2017-06-07T14:10:58.717203",
     "start_time": "2017-06-07T14:10:58.711226"
    },
    "collapsed": false,
    "slideshow": {
     "slide_type": "subslide"
    }
   },
   "outputs": [
    {
     "data": {
      "text/plain": [
       "matrix([[    0.,     0.,     0.,     0.,     0.],\n",
       "        [    0.,  2600.,  1500.,     0.,     0.],\n",
       "        [    0.,  1500.,   925.,     0.,     0.],\n",
       "        [    0.,     0.,     0.,   400.,   600.],\n",
       "        [    0.,     0.,     0.,   600.,  1000.]])"
      ]
     },
     "execution_count": 19,
     "metadata": {},
     "output_type": "execute_result"
    }
   ],
   "source": [
    "A=M.T*M\n",
    "A"
   ]
  },
  {
   "cell_type": "code",
   "execution_count": 20,
   "metadata": {
    "ExecuteTime": {
     "end_time": "2017-06-07T14:11:32.814019",
     "start_time": "2017-06-07T14:11:32.806325"
    },
    "collapsed": false,
    "slideshow": {
     "slide_type": "subslide"
    }
   },
   "outputs": [
    {
     "data": {
      "text/plain": [
       "array([ 0.        ,  0.86240802,  0.5062138 ,  0.        ,  0.        ])"
      ]
     },
     "execution_count": 20,
     "metadata": {},
     "output_type": "execute_result"
    }
   ],
   "source": [
    "e,ev=np.linalg.eig(A)\n",
    "m=e.argsort()[-1] # index of maximum eigenvalue\n",
    "a=np.array(ev[:,m]).flatten()\n",
    "a"
   ]
  },
  {
   "cell_type": "code",
   "execution_count": 21,
   "metadata": {
    "ExecuteTime": {
     "end_time": "2017-06-07T14:12:19.041536",
     "start_time": "2017-06-07T14:12:19.034145"
    },
    "collapsed": false,
    "slideshow": {
     "slide_type": "subslide"
    }
   },
   "outputs": [
    {
     "data": {
      "text/plain": [
       "(array([ 0.        ,  0.63012879,  0.36987121,  0.        ,  0.        ]),\n",
       " array([  8.39406367e-01,  -8.94743260e-19,   1.24155432e-01,\n",
       "         -8.57110097e-20,   3.64382011e-02]))"
      ]
     },
     "execution_count": 21,
     "metadata": {},
     "output_type": "execute_result"
    }
   ],
   "source": [
    "normalized = True\n",
    "if normalized:\n",
    "    h = h/h.sum()\n",
    "    a = a/a.sum()\n",
    "else:\n",
    "    h = h/h.max()\n",
    "    a = a/a.max()\n",
    "a, h"
   ]
  },
  {
   "cell_type": "code",
   "execution_count": 22,
   "metadata": {
    "ExecuteTime": {
     "end_time": "2017-06-07T14:12:51.897791",
     "start_time": "2017-06-07T14:12:51.893046"
    },
    "collapsed": false,
    "slideshow": {
     "slide_type": "subslide"
    }
   },
   "outputs": [
    {
     "name": "stdout",
     "output_type": "stream",
     "text": [
      "{1: 0.8394063668430921, 2: -8.94743259991345e-19, 3: 0.12415543209835535, 4: -8.571100967854224e-20, 5: 0.03643820105855254} {1: 0.0, 2: 0.6301287941246466, 3: 0.3698712058753535, 4: 0.0, 5: 0.0}\n"
     ]
    }
   ],
   "source": [
    "hubs=dict(zip(G.nodes(),map(float,h)))\n",
    "authorities=dict(zip(G.nodes(),map(float,a)))\n",
    "print hubs,authorities"
   ]
  },
  {
   "cell_type": "code",
   "execution_count": 11,
   "metadata": {
    "ExecuteTime": {
     "end_time": "2017-06-07T14:03:52.423400",
     "start_time": "2017-06-07T14:03:52.414126"
    },
    "collapsed": false,
    "slideshow": {
     "slide_type": "slide"
    }
   },
   "outputs": [
    {
     "data": {
      "text/plain": [
       "({1: 0.8394063668430921,\n",
       "  2: -8.94743259991345e-19,\n",
       "  3: 0.12415543209835535,\n",
       "  4: -8.571100967854224e-20,\n",
       "  5: 0.03643820105855254},\n",
       " {1: 0.0, 2: 0.6301287941246466, 3: 0.3698712058753535, 4: 0.0, 5: 0.0})"
      ]
     },
     "execution_count": 11,
     "metadata": {},
     "output_type": "execute_result"
    }
   ],
   "source": [
    "hits_numpy(G)"
   ]
  }
 ],
 "metadata": {
  "celltoolbar": "Slideshow",
  "kernelspec": {
   "display_name": "Python 2",
   "language": "python",
   "name": "python2"
  },
  "language_info": {
   "codemirror_mode": {
    "name": "ipython",
    "version": 2
   },
   "file_extension": ".py",
   "mimetype": "text/x-python",
   "name": "python",
   "nbconvert_exporter": "python",
   "pygments_lexer": "ipython2",
   "version": "2.7.12"
  },
  "latex_envs": {
   "bibliofile": "biblio.bib",
   "cite_by": "apalike",
   "current_citInitial": 1,
   "eqLabelWithNumbers": true,
   "eqNumInitial": 0
  },
  "toc": {
   "toc_cell": false,
   "toc_number_sections": false,
   "toc_threshold": 6,
   "toc_window_display": true
  }
 },
 "nbformat": 4,
 "nbformat_minor": 0
}
