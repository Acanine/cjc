{
 "cells": [
  {
   "cell_type": "markdown",
   "metadata": {
    "slideshow": {
     "slide_type": "slide"
    }
   },
   "source": [
    "# Fitting exponential truncated power law using Python\n",
    "\n",
    "There is an equation of exponential truncated power law in the article [^1] below:\n",
    "\n",
    "$$P(r_g) = (r_g + r_g^0)^{-\\beta_r} e^{-r_g/K}$$\n",
    "\n",
    "\n",
    "[^1]: Gonzalez, M. C., Hidalgo, C. A., & Barabasi, A. L. (2008). Understanding individual human mobility patterns. Nature, 453(7196), 779-782.\n",
    "\n",
    "\n",
    "\n",
    "http://stackoverflow.com/questions/43444794/how-to-estimate-the-parameters-of-an-exponential-truncated-power-law"
   ]
  },
  {
   "cell_type": "code",
   "execution_count": 1,
   "metadata": {
    "ExecuteTime": {
     "end_time": "2017-04-20T13:52:45.405555",
     "start_time": "2017-04-20T13:52:45.285387"
    },
    "collapsed": false,
    "slideshow": {
     "slide_type": "slide"
    }
   },
   "outputs": [],
   "source": [
    "import numpy as np\n",
    "rg = np.array([ 20.7863444 ,   9.40547933,   8.70934714,   8.62690145,\n",
    "     7.16978087,   7.02575052,   6.45280959,   6.44755478,\n",
    "     5.16630287,   5.16092884,   5.15618737,   5.05610068,\n",
    "     4.87023561,   4.66753197,   4.41807645,   4.2635671 ,\n",
    "     3.54454372,   2.7087178 ,   2.39016885,   1.9483156 ,\n",
    "     1.78393238,   1.75432688,   1.12789787,   1.02098332,\n",
    "     0.92653501,   0.32586582,   0.1514813 ,   0.09722761,\n",
    "     0.        ,   0.        ])\n",
    "\n",
    "prg = np.array([ 0.        ,  0.03448276,  0.06896552,  0.10344828,  0.13793103,\n",
    "    0.17241379,  0.20689655,  0.24137931,  0.27586207,  0.31034483,\n",
    "    0.34482759,  0.37931034,  0.4137931 ,  0.44827586,  0.48275862,\n",
    "    0.51724138,  0.55172414,  0.5862069 ,  0.62068966,  0.65517241,\n",
    "    0.68965517,  0.72413793,  0.75862069,  0.79310345,  0.82758621,\n",
    "    0.86206897,  0.89655172,  0.93103448,  0.96551724,  1.        ])"
   ]
  },
  {
   "cell_type": "code",
   "execution_count": 2,
   "metadata": {
    "ExecuteTime": {
     "end_time": "2017-04-20T13:52:45.410352",
     "start_time": "2017-04-20T13:52:45.407127"
    },
    "collapsed": true,
    "slideshow": {
     "slide_type": "slide"
    }
   },
   "outputs": [],
   "source": [
    "# calculate P(rg)\n",
    "rg = sorted(rg, reverse=True)\n",
    "rg = np.array(rg)\n",
    "prg = np.arange(len(rg)) / float(len(rg)-1)"
   ]
  },
  {
   "cell_type": "code",
   "execution_count": 3,
   "metadata": {
    "ExecuteTime": {
     "end_time": "2017-04-20T13:52:45.426729",
     "start_time": "2017-04-20T13:52:45.412334"
    },
    "collapsed": false
   },
   "outputs": [
    {
     "data": {
      "text/plain": [
       "array([ 0.        ,  0.11111111,  0.22222222,  0.33333333,  0.44444444,\n",
       "        0.55555556,  0.66666667,  0.77777778,  0.88888889,  1.        ])"
      ]
     },
     "execution_count": 3,
     "metadata": {},
     "output_type": "execute_result"
    }
   ],
   "source": [
    "np.arange(10)/9.0"
   ]
  },
  {
   "cell_type": "code",
   "execution_count": 4,
   "metadata": {
    "ExecuteTime": {
     "end_time": "2017-04-20T13:52:45.432000",
     "start_time": "2017-04-20T13:52:45.428564"
    },
    "collapsed": false
   },
   "outputs": [
    {
     "data": {
      "text/plain": [
       "9.0"
      ]
     },
     "execution_count": 4,
     "metadata": {},
     "output_type": "execute_result"
    }
   ],
   "source": [
    "float(10-1)"
   ]
  },
  {
   "cell_type": "code",
   "execution_count": 5,
   "metadata": {
    "ExecuteTime": {
     "end_time": "2017-04-20T13:52:45.861858",
     "start_time": "2017-04-20T13:52:45.433486"
    },
    "collapsed": false,
    "slideshow": {
     "slide_type": "slide"
    }
   },
   "outputs": [
    {
     "name": "stdout",
     "output_type": "stream",
     "text": [
      "[ 0.666261   -0.16158776  3.72188538]\n",
      "[[ 0.01888237 -0.0060332  -0.03453856]\n",
      " [-0.0060332   0.00558652  0.02962351]\n",
      " [-0.03453856  0.02962351  0.16733668]]\n"
     ]
    }
   ],
   "source": [
    "def func(rg, rg0, beta, K):\n",
    "    return (rg + rg0) ** (-beta) * np.exp(-rg / K)\n",
    "\n",
    "from scipy import optimize\n",
    "popt, pcov = optimize.curve_fit(func, rg, prg)\n",
    "print popt\n",
    "print pcov\n"
   ]
  },
  {
   "cell_type": "code",
   "execution_count": 6,
   "metadata": {
    "ExecuteTime": {
     "end_time": "2017-04-20T13:52:46.881369",
     "start_time": "2017-04-20T13:52:45.863941"
    },
    "collapsed": false,
    "slideshow": {
     "slide_type": "slide"
    }
   },
   "outputs": [
    {
     "data": {
      "image/png": "[encoded data removed]",
      "text/plain": [
       "<matplotlib.figure.Figure at 0x10ce1a750>"
      ]
     },
     "metadata": {},
     "output_type": "display_data"
    }
   ],
   "source": [
    "%matplotlib inline\n",
    "import matplotlib.pyplot as plt\n",
    "\n",
    "plt.plot(rg, prg, 'bs', alpha = 0.3)\n",
    "plt.plot(rg, (rg+popt[0])**-(popt[1])*np.exp(-rg/popt[2]), 'r-' )\n",
    "plt.yscale('log')\n",
    "plt.xscale('log')\n",
    "plt.xlabel('$r_g$', fontsize = 20)\n",
    "plt.ylabel('$P(r_g)$', fontsize = 20)\n",
    "plt.show()"
   ]
  },
  {
   "cell_type": "code",
   "execution_count": null,
   "metadata": {
    "collapsed": true
   },
   "outputs": [],
   "source": []
  }
 ],
 "metadata": {
  "celltoolbar": "Slideshow",
  "kernelspec": {
   "display_name": "Python 2",
   "language": "python",
   "name": "python2"
  },
  "language_info": {
   "codemirror_mode": {
    "name": "ipython",
    "version": 2
   },
   "file_extension": ".py",
   "mimetype": "text/x-python",
   "name": "python",
   "nbconvert_exporter": "python",
   "pygments_lexer": "ipython2",
   "version": "2.7.12"
  },
  "latex_envs": {
   "bibliofile": "biblio.bib",
   "cite_by": "number",
   "current_citInitial": 1,
   "eqLabelWithNumbers": false,
   "eqNumInitial": 0
  },
  "toc": {
   "toc_cell": false,
   "toc_number_sections": false,
   "toc_threshold": 6,
   "toc_window_display": false
  }
 },
 "nbformat": 4,
 "nbformat_minor": 0
}
