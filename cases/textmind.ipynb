{
 "cells": [
  {
   "cell_type": "code",
   "execution_count": 37,
   "metadata": {
    "ExecuteTime": {
     "end_time": "2017-05-24T10:54:04.072845",
     "start_time": "2017-05-24T10:54:04.069545"
    },
    "collapsed": true
   },
   "outputs": [],
   "source": [
    "import pandas as pd\n",
    "from os import listdir\n"
   ]
  },
  {
   "cell_type": "markdown",
   "metadata": {
    "ExecuteTime": {
     "end_time": "2017-05-24T10:41:52.655858",
     "start_time": "2017-05-24T10:41:52.653273"
    }
   },
   "source": [
    "# files in dic folder"
   ]
  },
  {
   "cell_type": "code",
   "execution_count": 21,
   "metadata": {
    "ExecuteTime": {
     "end_time": "2017-05-24T10:47:32.951142",
     "start_time": "2017-05-24T10:47:32.944573"
    },
    "collapsed": false
   },
   "outputs": [],
   "source": [
    "dic = []\n",
    "path_dic = '/Users/chengjun/GitHub/WenXin/dic/'\n",
    "for i in listdir(path_dic):\n",
    "    try:\n",
    "        with open(path_dic+i) as f:\n",
    "            lines = f.readlines()\n",
    "        dic.append(lines)\n",
    "    except Exception as e:\n",
    "        print i, e\n",
    "        pass\n",
    "    "
   ]
  },
  {
   "cell_type": "code",
   "execution_count": 27,
   "metadata": {
    "ExecuteTime": {
     "end_time": "2017-05-24T10:49:07.376770",
     "start_time": "2017-05-24T10:49:07.371832"
    },
    "collapsed": false
   },
   "outputs": [
    {
     "name": "stdout",
     "output_type": "stream",
     "text": [
      "0\n",
      "%【说明】本文件内的词语为：CCPL在[Psychology/Love/tPast/tNow/tFuture]这几个类别下新增的词语及标注。\n",
      "爱一个人\tLove\n",
      "表白\tLove\n",
      "初恋\tLove\n",
      "单身\tLove\n",
      "1\n",
      "%【说明】本文件内的词语为：CCPL根据原有CLIWC类别，新增的词语及标注。\n",
      "超人\tAchieve\tLeisure\n",
      "曹操\tAchieve\tLeisure\n",
      "大牌\tAchieve\tLeisure\n",
      "走红\tAchieve\tLeisure\n",
      "2\n",
      "%【说明】本文件内的词语为：CLIWC原有的词汇。\n",
      "表演\tAchieve\tLeisure\n",
      "畅销\tAchieve\tLeisure\n",
      "关系\tAchieve\tSocial\n",
      "庆祝\tAchieve\tSocial\n",
      "3\n",
      "%【说明】本文件内的词语为：CCPL新增的时间词。\n",
      "曾经\ttPast\n",
      "从前\ttPast\n",
      "当初\ttPast\n",
      "当年\ttPast\n",
      "4\n",
      "%【说明】本文件内为：系统会输出结果的默认类别。。\n",
      "1\tFunct\n",
      "2\tPronoun\n",
      "3\tPPron\n",
      "4\tI\n",
      "5\n",
      "%【说明】本文件内的词语为：CLIWC中包含的所有通配符，未作增改。\n",
      "赢*\tAchieve\n",
      "奖*\tAffect\tAchieve\tPosEmo\n",
      "赞*\tAffect\tAchieve\tPosEmo\n",
      "愁*\tAffect\tAnx\tNegEmo\tSad\n",
      "6\n",
      "%【说明】本文件内的词语为：标点、符号列表。\n",
      "、\tComma\n",
      ",\tComma\n",
      "，\tComma\n",
      ".\tPeriod\n"
     ]
    }
   ],
   "source": [
    "for k, i in enumerate(dic):\n",
    "    print k\n",
    "    for j in i[:5]:\n",
    "        print j.strip()"
   ]
  },
  {
   "cell_type": "markdown",
   "metadata": {
    "collapsed": true
   },
   "source": [
    "# Data Folder"
   ]
  },
  {
   "cell_type": "code",
   "execution_count": 82,
   "metadata": {
    "ExecuteTime": {
     "end_time": "2017-05-24T11:27:29.890442",
     "start_time": "2017-05-24T11:27:29.754989"
    },
    "collapsed": false
   },
   "outputs": [
    {
     "name": "stdout",
     "output_type": "stream",
     "text": [
      "English [Errno 21] Is a directory: '/Users/chengjun/GitHub/WenXin/Data/English'\n"
     ]
    }
   ],
   "source": [
    "data = []\n",
    "path_data = '/Users/chengjun/GitHub/WenXin/Data/'\n",
    "files_data = listdir(path_data)\n",
    "for i in files_data:\n",
    "    try:\n",
    "        with open(path_data+i, mode='rb') as f:\n",
    "            lines = f.read()\n",
    "        data.append(lines)\n",
    "    except Exception as e:\n",
    "        print i, e\n",
    "        pass"
   ]
  },
  {
   "cell_type": "code",
   "execution_count": 74,
   "metadata": {
    "ExecuteTime": {
     "end_time": "2017-05-24T11:25:57.360441",
     "start_time": "2017-05-24T11:25:57.356282"
    },
    "collapsed": false
   },
   "outputs": [
    {
     "data": {
      "text/plain": [
       "'.DS_Store'"
      ]
     },
     "execution_count": 74,
     "metadata": {},
     "output_type": "execute_result"
    }
   ],
   "source": [
    "files_data[0]"
   ]
  },
  {
   "cell_type": "code",
   "execution_count": 75,
   "metadata": {
    "ExecuteTime": {
     "end_time": "2017-05-24T11:25:57.992091",
     "start_time": "2017-05-24T11:25:57.987392"
    },
    "collapsed": false
   },
   "outputs": [
    {
     "data": {
      "text/plain": [
       "57"
      ]
     },
     "execution_count": 75,
     "metadata": {},
     "output_type": "execute_result"
    }
   ],
   "source": [
    "len(data)"
   ]
  },
  {
   "cell_type": "code",
   "execution_count": 76,
   "metadata": {
    "ExecuteTime": {
     "end_time": "2017-05-24T11:25:58.871704",
     "start_time": "2017-05-24T11:25:58.867315"
    },
    "collapsed": false
   },
   "outputs": [
    {
     "data": {
      "text/plain": [
       "6148"
      ]
     },
     "execution_count": 76,
     "metadata": {},
     "output_type": "execute_result"
    }
   ],
   "source": [
    "len(data[0])"
   ]
  },
  {
   "cell_type": "code",
   "execution_count": 118,
   "metadata": {
    "ExecuteTime": {
     "end_time": "2017-05-24T11:37:26.059563",
     "start_time": "2017-05-24T11:37:26.053703"
    },
    "collapsed": false
   },
   "outputs": [
    {
     "name": "stdout",
     "output_type": "stream",
     "text": [
      "0 .DS_Store\n",
      "1 BIG2GBK.map\n",
      "2 BIG5.pdat\n",
      "3 BIG5.wordlist\n",
      "4 BiWord.big\n",
      "5 charset.type\n",
      "6 classifier.user\n",
      "7 cluster.user\n",
      "8 Configure.xml\n",
      "9 CoreDict.pdat\n",
      "10 CoreDict.pos\n",
      "11 CoreDict.unig\n",
      "12 cws.model\n",
      "13 DocExtractor.user\n",
      "14 English\n",
      "15 FieldDict.pdat\n",
      "16 FieldDict.pos\n",
      "17 FTU8.pdat\n",
      "18 FTU8.wordlist\n",
      "19 FTU82GBK.map\n",
      "20 GBK.pdat\n",
      "21 GBK.wordlist\n",
      "22 GBK2BIG.map\n",
      "23 GBK2FTU8.map\n",
      "24 GBK2GBKC.map\n",
      "25 GBK2UTF.map\n",
      "26 GBKA.pdat\n",
      "27 GBKA.wordlist\n",
      "28 GBKA2UTF.map\n",
      "29 GBKC.pdat\n",
      "30 GBKC.wordlist\n",
      "31 GBKC2GBK.map\n",
      "32 GranDict.pdat\n",
      "33 GranDict.pos\n",
      "34 ICTPOS.map\n",
      "35 keyExtract.user\n",
      "36 LJHtmlParser.user\n",
      "37 location.map\n",
      "38 location.pdat\n",
      "39 location.wordlist\n",
      "40 NewWord.lst\n",
      "41 NLPIR.ctx\n",
      "42 NLPIR.user\n",
      "43 NLPIR_First.map\n",
      "44 NLPIR_trial.user\n",
      "45 nr.ctx\n",
      "46 nr.fsa\n",
      "47 nr.role\n",
      "48 PKU.map\n",
      "49 PKU_First.map\n",
      "50 sentiment.pdat\n",
      "51 sentiment.ung\n",
      "52 summary.user\n",
      "53 UserDict.pdat\n",
      "54 UTF2GBK.map\n",
      "55 UTF2GBKA.map\n",
      "56 UTF8.pdat\n",
      "57 UTF8.wordlist\n"
     ]
    }
   ],
   "source": [
    "for k, i in enumerate(files_data):\n",
    "    print k, i"
   ]
  },
  {
   "cell_type": "code",
   "execution_count": 136,
   "metadata": {
    "ExecuteTime": {
     "end_time": "2017-05-24T11:40:05.798075",
     "start_time": "2017-05-24T11:40:05.794427"
    },
    "collapsed": false
   },
   "outputs": [
    {
     "name": "stdout",
     "output_type": "stream",
     "text": [
      "/Users/chengjun/GitHub/WenXin/Data/location.wordlist\n"
     ]
    }
   ],
   "source": [
    "myfile = path_data + files_data[39]\n",
    "print myfile"
   ]
  },
  {
   "cell_type": "code",
   "execution_count": 137,
   "metadata": {
    "ExecuteTime": {
     "end_time": "2017-05-24T11:40:06.428628",
     "start_time": "2017-05-24T11:40:06.425232"
    },
    "collapsed": false
   },
   "outputs": [],
   "source": [
    "with open(myfile, \"rb\") as f:\n",
    "    bytes = f.read()"
   ]
  },
  {
   "cell_type": "code",
   "execution_count": 148,
   "metadata": {
    "ExecuteTime": {
     "end_time": "2017-05-25T21:09:41.521750",
     "start_time": "2017-05-25T21:09:41.508307"
    },
    "collapsed": false
   },
   "outputs": [
    {
     "ename": "error",
     "evalue": "unpack requires a string argument of length 5",
     "output_type": "error",
     "traceback": [
      "\u001b[0;31m---------------------------------------------------------------------------\u001b[0m",
      "\u001b[0;31merror\u001b[0m                                     Traceback (most recent call last)",
      "\u001b[0;32m<ipython-input-148-0ac04f6b4120>\u001b[0m in \u001b[0;36m<module>\u001b[0;34m()\u001b[0m\n\u001b[1;32m      1\u001b[0m \u001b[0;32mimport\u001b[0m \u001b[0mstruct\u001b[0m\u001b[0;34m\u001b[0m\u001b[0m\n\u001b[0;32m----> 2\u001b[0;31m \u001b[0mstruct\u001b[0m\u001b[0;34m.\u001b[0m\u001b[0munpack\u001b[0m\u001b[0;34m(\u001b[0m\u001b[0;34m\"sssss\"\u001b[0m\u001b[0;34m,\u001b[0m \u001b[0mbytes\u001b[0m\u001b[0;34m[\u001b[0m\u001b[0;34m:\u001b[0m\u001b[0;36m20\u001b[0m\u001b[0;34m]\u001b[0m\u001b[0;34m)\u001b[0m\u001b[0;34m\u001b[0m\u001b[0m\n\u001b[0m",
      "\u001b[0;31merror\u001b[0m: unpack requires a string argument of length 5"
     ]
    }
   ],
   "source": [
    "import struct\n",
    "struct.unpack(\"sssss\", bytes[:20])"
   ]
  },
  {
   "cell_type": "code",
   "execution_count": 140,
   "metadata": {
    "ExecuteTime": {
     "end_time": "2017-05-24T11:40:11.080052",
     "start_time": "2017-05-24T11:40:11.065366"
    },
    "collapsed": false
   },
   "outputs": [
    {
     "ename": "error",
     "evalue": "unpack requires a string argument of length 106140",
     "output_type": "error",
     "traceback": [
      "\u001b[0;31m---------------------------------------------------------------------------\u001b[0m",
      "\u001b[0;31merror\u001b[0m                                     Traceback (most recent call last)",
      "\u001b[0;32m<ipython-input-140-f8ce24ccae5c>\u001b[0m in \u001b[0;36m<module>\u001b[0;34m()\u001b[0m\n\u001b[0;32m----> 1\u001b[0;31m \u001b[0mfs\u001b[0m \u001b[0;34m=\u001b[0m \u001b[0mstruct\u001b[0m\u001b[0;34m.\u001b[0m\u001b[0munpack\u001b[0m\u001b[0;34m(\u001b[0m\u001b[0;34m\"i\"\u001b[0m \u001b[0;34m*\u001b[0m \u001b[0;34m(\u001b[0m\u001b[0;34m(\u001b[0m\u001b[0mlen\u001b[0m\u001b[0;34m(\u001b[0m\u001b[0mbytes\u001b[0m\u001b[0;34m)\u001b[0m \u001b[0;34m-\u001b[0m\u001b[0;36m24\u001b[0m\u001b[0;34m)\u001b[0m \u001b[0;34m//\u001b[0m \u001b[0;36m4\u001b[0m\u001b[0;34m)\u001b[0m\u001b[0;34m,\u001b[0m \u001b[0mbytes\u001b[0m\u001b[0;34m[\u001b[0m\u001b[0;36m20\u001b[0m\u001b[0;34m:\u001b[0m\u001b[0;34m-\u001b[0m\u001b[0;36m4\u001b[0m\u001b[0;34m]\u001b[0m\u001b[0;34m)\u001b[0m\u001b[0;34m\u001b[0m\u001b[0m\n\u001b[0m",
      "\u001b[0;31merror\u001b[0m: unpack requires a string argument of length 106140"
     ]
    }
   ],
   "source": [
    "fs = struct.unpack(\"i\" * ((len(bytes) -24) // 4), bytes[20:-4])"
   ]
  },
  {
   "cell_type": "code",
   "execution_count": 141,
   "metadata": {
    "ExecuteTime": {
     "end_time": "2017-05-24T11:40:12.188892",
     "start_time": "2017-05-24T11:40:12.184369"
    },
    "collapsed": false
   },
   "outputs": [
    {
     "data": {
      "text/plain": [
       "26535"
      ]
     },
     "execution_count": 141,
     "metadata": {},
     "output_type": "execute_result"
    }
   ],
   "source": [
    "(len(bytes)-25)//4"
   ]
  },
  {
   "cell_type": "code",
   "execution_count": 142,
   "metadata": {
    "ExecuteTime": {
     "end_time": "2017-05-24T11:40:13.332566",
     "start_time": "2017-05-24T11:40:13.328063"
    },
    "collapsed": false
   },
   "outputs": [
    {
     "data": {
      "text/plain": [
       "446600"
      ]
     },
     "execution_count": 142,
     "metadata": {},
     "output_type": "execute_result"
    }
   ],
   "source": [
    "len(fs)"
   ]
  },
  {
   "cell_type": "code",
   "execution_count": 117,
   "metadata": {
    "ExecuteTime": {
     "end_time": "2017-05-24T11:35:35.119453",
     "start_time": "2017-05-24T11:35:35.113605"
    },
    "collapsed": false
   },
   "outputs": [
    {
     "data": {
      "text/plain": [
       "(17,\n",
       " 6,\n",
       " 1,\n",
       " 86,\n",
       " 134253,\n",
       " 82,\n",
       " 237136,\n",
       " 78,\n",
       " 229,\n",
       " 87,\n",
       " 1819,\n",
       " 87,\n",
       " 400,\n",
       " 87,\n",
       " 3488,\n",
       " 88,\n",
       " 0,\n",
       " 88,\n",
       " 0,\n",
       " 88)"
      ]
     },
     "execution_count": 117,
     "metadata": {},
     "output_type": "execute_result"
    }
   ],
   "source": [
    "fs[:20]"
   ]
  },
  {
   "cell_type": "code",
   "execution_count": 143,
   "metadata": {
    "ExecuteTime": {
     "end_time": "2017-05-25T16:35:13.113132",
     "start_time": "2017-05-25T16:35:13.108665"
    },
    "collapsed": false
   },
   "outputs": [
    {
     "data": {
      "text/plain": [
       "36000"
      ]
     },
     "execution_count": 143,
     "metadata": {},
     "output_type": "execute_result"
    }
   ],
   "source": [
    "1500*24"
   ]
  },
  {
   "cell_type": "code",
   "execution_count": null,
   "metadata": {
    "collapsed": true
   },
   "outputs": [],
   "source": []
  }
 ],
 "metadata": {
  "kernelspec": {
   "display_name": "Python 2",
   "language": "python",
   "name": "python2"
  },
  "language_info": {
   "codemirror_mode": {
    "name": "ipython",
    "version": 2
   },
   "file_extension": ".py",
   "mimetype": "text/x-python",
   "name": "python",
   "nbconvert_exporter": "python",
   "pygments_lexer": "ipython2",
   "version": "2.7.12"
  },
  "latex_envs": {
   "bibliofile": "biblio.bib",
   "cite_by": "apalike",
   "current_citInitial": 1,
   "eqLabelWithNumbers": true,
   "eqNumInitial": 0
  },
  "toc": {
   "toc_cell": false,
   "toc_number_sections": true,
   "toc_threshold": 6,
   "toc_window_display": false
  }
 },
 "nbformat": 4,
 "nbformat_minor": 0
}
