{
 "cells": [
  {
   "cell_type": "code",
   "execution_count": 28,
   "metadata": {
    "ExecuteTime": {
     "end_time": "2017-04-06T21:28:27.011777",
     "start_time": "2017-04-06T21:28:26.995015"
    },
    "collapsed": false
   },
   "outputs": [
    {
     "name": "stdout",
     "output_type": "stream",
     "text": [
      "0.3125 0.25 0.25 0.03125 0.03125 0.03125 0.03125 0.0625\n"
     ]
    }
   ],
   "source": [
    "steps = 11\n",
    "n = 8\n",
    "\n",
    "a  = [1.0/n for i in range(steps)]\n",
    "b = [1.0/n for i in range(steps)]\n",
    "b = [1.0/n for i in range(steps)]\n",
    "c = [1.0/n for i in range(steps)]\n",
    "d = [1.0/n for i in range(steps)]\n",
    "e = [1.0/n for i in range(steps)]\n",
    "f = [1.0/n for i in range(steps)]\n",
    "g = [1.0/n for i in range(steps)]\n",
    "h = [1.0/n for i in range(steps)]\n",
    "\n",
    "for i in range(steps-1):\n",
    "    a[i+1] = 0.5*d[i] + 0.5*e[i] + h[i] + f[i] + g[i]\n",
    "    b[i+1] = 0.5*a[i]\n",
    "    c[i+1] = 0.5*a[i]\n",
    "    d[i+1] = 0.5*b[i]\n",
    "    e[i+1] = 0.5*b[i]\n",
    "    f[i+1] = 0.5*c[i]\n",
    "    g[i+1] = 0.5*c[i]\n",
    "    h[i+1] = 0.5*d[i] + 0.5*e[i]\n",
    "    \n",
    "i = 1  \n",
    "print a[i+1], b[i+1], c[i+1], d[i+1], e[i+1], f[i+1], g[i+1], h[i+1]"
   ]
  },
  {
   "cell_type": "code",
   "execution_count": 22,
   "metadata": {
    "ExecuteTime": {
     "end_time": "2017-04-06T17:09:01.697692",
     "start_time": "2017-04-06T17:09:01.693540"
    },
    "collapsed": false
   },
   "outputs": [
    {
     "data": {
      "text/plain": [
       "0.3125"
      ]
     },
     "execution_count": 22,
     "metadata": {},
     "output_type": "execute_result"
    }
   ],
   "source": [
    "5.0/16"
   ]
  }
 ],
 "metadata": {
  "kernelspec": {
   "display_name": "Python 2",
   "language": "python",
   "name": "python2"
  },
  "language_info": {
   "codemirror_mode": {
    "name": "ipython",
    "version": 2
   },
   "file_extension": ".py",
   "mimetype": "text/x-python",
   "name": "python",
   "nbconvert_exporter": "python",
   "pygments_lexer": "ipython2",
   "version": "2.7.12"
  },
  "latex_envs": {
   "bibliofile": "biblio.bib",
   "cite_by": "apalike",
   "current_citInitial": 1,
   "eqLabelWithNumbers": true,
   "eqNumInitial": 0
  },
  "toc": {
   "toc_cell": false,
   "toc_number_sections": true,
   "toc_threshold": 6,
   "toc_window_display": false
  }
 },
 "nbformat": 4,
 "nbformat_minor": 0
}
