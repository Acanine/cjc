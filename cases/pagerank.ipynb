{
 "cells": [
  {
   "cell_type": "markdown",
   "metadata": {
    "slideshow": {
     "slide_type": "slide"
    }
   },
   "source": [
    "The main paper on IPython is definitively \\cite{PER-GRA:2007}. Other interesting references are certainly \\cite{mckinney2012python, rossant2013learning}. Interestingly, a presentation of the IPython notebook has also be published recently in Nature \\cite{shen2014interactive}.\n",
    "\n",
    "2017-05-30 01:42:19 "
   ]
  },
  {
   "cell_type": "code",
   "execution_count": 2,
   "metadata": {
    "ExecuteTime": {
     "end_time": "2017-05-30T01:37:35.423550",
     "start_time": "2017-05-30T01:37:35.420335"
    },
    "collapsed": false,
    "slideshow": {
     "slide_type": "slide"
    }
   },
   "outputs": [
    {
     "name": "stdout",
     "output_type": "stream",
     "text": [
      "0.3125\n"
     ]
    }
   ],
   "source": [
    "print 5.0/16"
   ]
  },
  {
   "cell_type": "code",
   "execution_count": 5,
   "metadata": {
    "ExecuteTime": {
     "end_time": "2017-05-30T01:41:49.559496",
     "start_time": "2017-05-30T01:41:49.541409"
    },
    "collapsed": false,
    "slideshow": {
     "slide_type": "slide"
    },
    "solution": "shown",
    "solution_first": true
   },
   "outputs": [
    {
     "name": "stdout",
     "output_type": "stream",
     "text": [
      "0.3125 0.25 0.25 0.03125 0.03125 0.03125 0.03125 0.0625\n"
     ]
    }
   ],
   "source": [
    "steps = 11\n",
    "n = 8\n",
    "\n",
    "a  = [1.0/n for i in range(steps)]\n",
    "b = [1.0/n for i in range(steps)]\n",
    "b = [1.0/n for i in range(steps)]\n",
    "c = [1.0/n for i in range(steps)]\n",
    "d = [1.0/n for i in range(steps)]\n",
    "e = [1.0/n for i in range(steps)]\n",
    "f = [1.0/n for i in range(steps)]\n",
    "g = [1.0/n for i in range(steps)]\n",
    "h = [1.0/n for i in range(steps)]\n",
    "\n",
    "for i in range(steps-1):\n",
    "    a[i+1] = 0.5*d[i] + 0.5*e[i] + h[i] + f[i] + g[i]\n",
    "    b[i+1] = 0.5*a[i]\n",
    "    c[i+1] = 0.5*a[i]\n",
    "    d[i+1] = 0.5*b[i]\n",
    "    e[i+1] = 0.5*b[i]\n",
    "    f[i+1] = 0.5*c[i]\n",
    "    g[i+1] = 0.5*c[i]\n",
    "    h[i+1] = 0.5*d[i] + 0.5*e[i]\n",
    "    \n",
    "i = 1  \n",
    "print a[i+1], b[i+1], c[i+1], d[i+1], e[i+1], f[i+1], g[i+1], h[i+1]"
   ]
  },
  {
   "cell_type": "markdown",
   "metadata": {
    "slideshow": {
     "slide_type": "slide"
    },
    "solution": "shown"
   },
   "source": [
    "$$ x = y^2 $$"
   ]
  },
  {
   "cell_type": "code",
   "execution_count": null,
   "metadata": {
    "collapsed": true,
    "slideshow": {
     "slide_type": "slide"
    }
   },
   "outputs": [],
   "source": []
  },
  {
   "cell_type": "markdown",
   "metadata": {
    "slideshow": {
     "slide_type": "slide"
    }
   },
   "source": [
    "# References\n",
    "\n",
    "<mark> <b>The bib file biblio.bib was not found\n",
    "\n",
    "</b> </mark>(<a id=\"cit-PER-GRA:2007\" href=\"#call-PER-GRA:2007\">?</a>) !! _This reference was not found in biblio.bib _ !!\n",
    "\n",
    "(<a id=\"cit-mckinney2012python\" href=\"#call-mckinney2012python\">?</a>) !! _This reference was not found in biblio.bib _ !!\n",
    "\n",
    "(<a id=\"cit-rossant2013learning\" href=\"#call-rossant2013learning\">?</a>) !! _This reference was not found in biblio.bib _ !!\n",
    "\n",
    "(<a id=\"cit-shen2014interactive\" href=\"#call-shen2014interactive\">?</a>) !! _This reference was not found in biblio.bib _ !!\n",
    "\n"
   ]
  }
 ],
 "metadata": {
  "_draft": {
   "nbviewer_url": "https://gist.github.com/13227d8c161c0caa9919e1161e52899d"
  },
  "celltoolbar": "Slideshow",
  "gist": {
   "data": {
    "description": "GitHub/cjc/cases/pagerank.ipynb",
    "public": true
   },
   "id": "13227d8c161c0caa9919e1161e52899d"
  },
  "kernelspec": {
   "display_name": "Python 2",
   "language": "python",
   "name": "python2"
  },
  "language_info": {
   "codemirror_mode": {
    "name": "ipython",
    "version": 2
   },
   "file_extension": ".py",
   "mimetype": "text/x-python",
   "name": "python",
   "nbconvert_exporter": "python",
   "pygments_lexer": "ipython2",
   "version": "2.7.12"
  },
  "latex_envs": {
   "bibliofile": "biblio.bib",
   "cite_by": "apalike",
   "current_citInitial": 1,
   "eqLabelWithNumbers": false,
   "eqNumInitial": 0
  },
  "toc": {
   "toc_cell": false,
   "toc_number_sections": false,
   "toc_threshold": 6,
   "toc_window_display": true
  }
 },
 "nbformat": 4,
 "nbformat_minor": 0
}
