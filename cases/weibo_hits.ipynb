{
 "cells": [
  {
   "cell_type": "markdown",
   "metadata": {},
   "source": [
    "# 微博大V的公共影响力"
   ]
  },
  {
   "cell_type": "code",
   "execution_count": 2,
   "metadata": {
    "ExecuteTime": {
     "end_time": "2017-03-16T19:04:01.777219",
     "start_time": "2017-03-16T19:04:01.770695"
    },
    "collapsed": false
   },
   "outputs": [],
   "source": [
    "%matplotlib inline\n",
    "\n",
    "import pandas as pd\n",
    "import numpy as np\n",
    "import matplotlib\n",
    "import matplotlib.cm as cm\n",
    "import matplotlib.pyplot as plt\n",
    "import networkx as nx\n",
    "import statsmodels.api as sm\n",
    "from collections import Counter, defaultdict\n",
    "matplotlib.rcParams['font.sans-serif'] = ['Microsoft YaHei'] #指定默认字体  "
   ]
  },
  {
   "cell_type": "code",
   "execution_count": 3,
   "metadata": {
    "ExecuteTime": {
     "end_time": "2017-03-16T19:04:02.127406",
     "start_time": "2017-03-16T19:04:02.101593"
    },
    "collapsed": true
   },
   "outputs": [],
   "source": [
    "def alloRegressPlot(xdata,ydata,col,mark,xlab,ylab, loglog):\n",
    "    x=np.log(xdata+1);y=np.log(ydata+1);\n",
    "    #x=np.log(xdata);y=np.log(ydata);\n",
    "    xx = sm.add_constant(x, prepend=True)\n",
    "    res = sm.OLS(y,xx).fit()\n",
    "    constant=res.params[0];beta=res.params[1]; r2=res.rsquared\n",
    "    plt.plot(xdata,ydata,mark,color=col)\n",
    "    if loglog == True:\n",
    "        plt.xscale('log');plt.yscale('log')\n",
    "    plt.xlabel(xlab);plt.ylabel(ylab)\n",
    "    minx,maxx=plt.xlim(); miny,maxy=plt.ylim()\n",
    "    plt.text(min(xdata)+(max(xdata)-min(xdata))/10,\n",
    "         min(ydata)+(max(ydata)-min(ydata))/2,\n",
    "         '$\\\\alpha$ = '+ str(np.round(beta,2)) + ' , ' \\\n",
    "         + '$R^2$ = ' + str(np.round(r2,2)) )\n",
    "    xs = np.linspace(min(xdata),max(xdata),100)\n",
    "    plt.plot(xs,np.exp(constant)*xs**beta,color='r',linestyle='-')\n",
    "\n",
    "def linearRegressPlot(xdata,ydata,col,mark,xlab,ylab):\n",
    "    x=xdata;y=ydata\n",
    "    xx = sm.add_constant(x, prepend=True)\n",
    "    res = sm.OLS(y,xx).fit()\n",
    "    constant=res.params[0];beta=res.params[1]; r2=res.rsquared\n",
    "    plt.plot(xdata,ydata,mark,color=col)\n",
    "    plt.xlabel(xlab);plt.ylabel(ylab)\n",
    "    minx,maxx=plt.xlim(); miny,maxy=plt.ylim()\n",
    "    plt.text(min(xdata)+(max(xdata)-min(xdata))/10,\n",
    "         min(ydata)+(max(ydata)-min(ydata))/2,\n",
    "         '$\\\\alpha$ = '+ str(np.round(beta,2)) + ' , ' \\\n",
    "         + '$R^2$ = ' + str(np.round(r2,2)) )\n",
    "    xs = np.linspace(min(xdata),max(xdata),100)\n",
    "    plt.plot(xs,constant + xs*beta,color='r',linestyle='-')"
   ]
  },
  {
   "cell_type": "markdown",
   "metadata": {},
   "source": [
    "# 基于事件类型的微博公众人物排行榜"
   ]
  },
  {
   "cell_type": "markdown",
   "metadata": {},
   "source": [
    "## 读入并清洗数据"
   ]
  },
  {
   "cell_type": "code",
   "execution_count": 12,
   "metadata": {
    "ExecuteTime": {
     "end_time": "2017-03-13T11:03:32.478864",
     "start_time": "2017-03-13T11:03:32.473543"
    },
    "collapsed": false
   },
   "outputs": [],
   "source": [
    "df = pd.read_csv('/Users/chengjun/github/cjc/data/weiboHits.txt',   encoding = 'gb18030', \n",
    "                delimiter='\\t', header = 0)"
   ]
  },
  {
   "cell_type": "code",
   "execution_count": 13,
   "metadata": {
    "ExecuteTime": {
     "end_time": "2017-03-13T11:03:33.030536",
     "start_time": "2017-03-13T11:03:33.012036"
    },
    "collapsed": false
   },
   "outputs": [
    {
     "data": {
      "text/html": [
       "<div>\n",
       "<table border=\"1\" class=\"dataframe\">\n",
       "  <thead>\n",
       "    <tr style=\"text-align: right;\">\n",
       "      <th></th>\n",
       "      <th>id</th>\n",
       "      <th>starname</th>\n",
       "      <th>议题</th>\n",
       "      <th>发文数</th>\n",
       "      <th>总评论数</th>\n",
       "      <th>总转发数</th>\n",
       "      <th>总点赞数</th>\n",
       "    </tr>\n",
       "  </thead>\n",
       "  <tbody>\n",
       "    <tr>\n",
       "      <th>0</th>\n",
       "      <td>1.0</td>\n",
       "      <td>周国平</td>\n",
       "      <td>国家议程</td>\n",
       "      <td>0.0</td>\n",
       "      <td>0.0</td>\n",
       "      <td>0.0</td>\n",
       "      <td>0.0</td>\n",
       "    </tr>\n",
       "    <tr>\n",
       "      <th>1</th>\n",
       "      <td>1.0</td>\n",
       "      <td>周国平</td>\n",
       "      <td>公权政策</td>\n",
       "      <td>0.0</td>\n",
       "      <td>0.0</td>\n",
       "      <td>0.0</td>\n",
       "      <td>0.0</td>\n",
       "    </tr>\n",
       "    <tr>\n",
       "      <th>2</th>\n",
       "      <td>1.0</td>\n",
       "      <td>周国平</td>\n",
       "      <td>法律案例</td>\n",
       "      <td>1.0</td>\n",
       "      <td>270.0</td>\n",
       "      <td>526.0</td>\n",
       "      <td>248.0</td>\n",
       "    </tr>\n",
       "    <tr>\n",
       "      <th>3</th>\n",
       "      <td>1.0</td>\n",
       "      <td>周国平</td>\n",
       "      <td>社会矛盾</td>\n",
       "      <td>0.0</td>\n",
       "      <td>0.0</td>\n",
       "      <td>0.0</td>\n",
       "      <td>0.0</td>\n",
       "    </tr>\n",
       "    <tr>\n",
       "      <th>4</th>\n",
       "      <td>1.0</td>\n",
       "      <td>周国平</td>\n",
       "      <td>灾难救助</td>\n",
       "      <td>0.0</td>\n",
       "      <td>0.0</td>\n",
       "      <td>0.0</td>\n",
       "      <td>0.0</td>\n",
       "    </tr>\n",
       "  </tbody>\n",
       "</table>\n",
       "</div>"
      ],
      "text/plain": [
       "    id starname    议题  发文数   总评论数   总转发数   总点赞数\n",
       "0  1.0      周国平  国家议程  0.0    0.0    0.0    0.0\n",
       "1  1.0      周国平  公权政策  0.0    0.0    0.0    0.0\n",
       "2  1.0      周国平  法律案例  1.0  270.0  526.0  248.0\n",
       "3  1.0      周国平  社会矛盾  0.0    0.0    0.0    0.0\n",
       "4  1.0      周国平  灾难救助  0.0    0.0    0.0    0.0"
      ]
     },
     "execution_count": 13,
     "metadata": {},
     "output_type": "execute_result"
    }
   ],
   "source": [
    "df[:5]"
   ]
  },
  {
   "cell_type": "code",
   "execution_count": 14,
   "metadata": {
    "ExecuteTime": {
     "end_time": "2017-03-13T11:04:14.140809",
     "start_time": "2017-03-13T11:04:14.134486"
    },
    "collapsed": true
   },
   "outputs": [],
   "source": [
    "df2 = df[df[u'发文数']!=0.0]"
   ]
  },
  {
   "cell_type": "code",
   "execution_count": 15,
   "metadata": {
    "ExecuteTime": {
     "end_time": "2017-03-13T11:04:19.984667",
     "start_time": "2017-03-13T11:04:19.980101"
    },
    "collapsed": false
   },
   "outputs": [
    {
     "data": {
      "text/plain": [
       "(1673, 1029)"
      ]
     },
     "execution_count": 15,
     "metadata": {},
     "output_type": "execute_result"
    }
   ],
   "source": [
    "len(df), len(df2)"
   ]
  },
  {
   "cell_type": "code",
   "execution_count": 18,
   "metadata": {
    "ExecuteTime": {
     "end_time": "2017-03-13T11:23:34.097639",
     "start_time": "2017-03-13T11:23:34.081598"
    },
    "collapsed": false
   },
   "outputs": [
    {
     "data": {
      "text/html": [
       "<div>\n",
       "<table border=\"1\" class=\"dataframe\">\n",
       "  <thead>\n",
       "    <tr style=\"text-align: right;\">\n",
       "      <th></th>\n",
       "      <th>id</th>\n",
       "      <th>starname</th>\n",
       "      <th>议题</th>\n",
       "      <th>发文数</th>\n",
       "      <th>总评论数</th>\n",
       "      <th>总转发数</th>\n",
       "      <th>总点赞数</th>\n",
       "    </tr>\n",
       "  </thead>\n",
       "  <tbody>\n",
       "    <tr>\n",
       "      <th>2</th>\n",
       "      <td>1.0</td>\n",
       "      <td>周国平</td>\n",
       "      <td>法律案例</td>\n",
       "      <td>1.0</td>\n",
       "      <td>270.0</td>\n",
       "      <td>526.0</td>\n",
       "      <td>248.0</td>\n",
       "    </tr>\n",
       "    <tr>\n",
       "      <th>6</th>\n",
       "      <td>2.0</td>\n",
       "      <td>章诒和</td>\n",
       "      <td>国家议程</td>\n",
       "      <td>10.0</td>\n",
       "      <td>826.0</td>\n",
       "      <td>2800.0</td>\n",
       "      <td>1893.0</td>\n",
       "    </tr>\n",
       "    <tr>\n",
       "      <th>7</th>\n",
       "      <td>2.0</td>\n",
       "      <td>章诒和</td>\n",
       "      <td>公权政策</td>\n",
       "      <td>5.0</td>\n",
       "      <td>442.0</td>\n",
       "      <td>1508.0</td>\n",
       "      <td>551.0</td>\n",
       "    </tr>\n",
       "    <tr>\n",
       "      <th>8</th>\n",
       "      <td>2.0</td>\n",
       "      <td>章诒和</td>\n",
       "      <td>法律案例</td>\n",
       "      <td>7.0</td>\n",
       "      <td>554.0</td>\n",
       "      <td>1992.0</td>\n",
       "      <td>1701.0</td>\n",
       "    </tr>\n",
       "    <tr>\n",
       "      <th>9</th>\n",
       "      <td>2.0</td>\n",
       "      <td>章诒和</td>\n",
       "      <td>社会矛盾</td>\n",
       "      <td>5.0</td>\n",
       "      <td>618.0</td>\n",
       "      <td>2366.0</td>\n",
       "      <td>752.0</td>\n",
       "    </tr>\n",
       "  </tbody>\n",
       "</table>\n",
       "</div>"
      ],
      "text/plain": [
       "    id starname    议题   发文数   总评论数    总转发数    总点赞数\n",
       "2  1.0      周国平  法律案例   1.0  270.0   526.0   248.0\n",
       "6  2.0      章诒和  国家议程  10.0  826.0  2800.0  1893.0\n",
       "7  2.0      章诒和  公权政策   5.0  442.0  1508.0   551.0\n",
       "8  2.0      章诒和  法律案例   7.0  554.0  1992.0  1701.0\n",
       "9  2.0      章诒和  社会矛盾   5.0  618.0  2366.0   752.0"
      ]
     },
     "execution_count": 18,
     "metadata": {},
     "output_type": "execute_result"
    }
   ],
   "source": [
    "df2[:5]"
   ]
  },
  {
   "cell_type": "code",
   "execution_count": 21,
   "metadata": {
    "ExecuteTime": {
     "end_time": "2017-03-13T11:24:04.706041",
     "start_time": "2017-03-13T11:24:04.679271"
    },
    "collapsed": false
   },
   "outputs": [],
   "source": [
    "df2.rename(columns={u'议题': 'issue', u'发文数': 'num', \\\n",
    "                    u'总评论数': 'comment', u'总转发数':'repost', u'总点赞数':'like'}, inplace=True)"
   ]
  },
  {
   "cell_type": "code",
   "execution_count": 22,
   "metadata": {
    "ExecuteTime": {
     "end_time": "2017-03-13T11:24:05.379527",
     "start_time": "2017-03-13T11:24:05.360948"
    },
    "collapsed": false
   },
   "outputs": [
    {
     "data": {
      "text/html": [
       "<div>\n",
       "<table border=\"1\" class=\"dataframe\">\n",
       "  <thead>\n",
       "    <tr style=\"text-align: right;\">\n",
       "      <th></th>\n",
       "      <th>id</th>\n",
       "      <th>starname</th>\n",
       "      <th>issue</th>\n",
       "      <th>num</th>\n",
       "      <th>comment</th>\n",
       "      <th>repost</th>\n",
       "      <th>like</th>\n",
       "    </tr>\n",
       "  </thead>\n",
       "  <tbody>\n",
       "    <tr>\n",
       "      <th>2</th>\n",
       "      <td>1.0</td>\n",
       "      <td>周国平</td>\n",
       "      <td>法律案例</td>\n",
       "      <td>1.0</td>\n",
       "      <td>270.0</td>\n",
       "      <td>526.0</td>\n",
       "      <td>248.0</td>\n",
       "    </tr>\n",
       "    <tr>\n",
       "      <th>6</th>\n",
       "      <td>2.0</td>\n",
       "      <td>章诒和</td>\n",
       "      <td>国家议程</td>\n",
       "      <td>10.0</td>\n",
       "      <td>826.0</td>\n",
       "      <td>2800.0</td>\n",
       "      <td>1893.0</td>\n",
       "    </tr>\n",
       "    <tr>\n",
       "      <th>7</th>\n",
       "      <td>2.0</td>\n",
       "      <td>章诒和</td>\n",
       "      <td>公权政策</td>\n",
       "      <td>5.0</td>\n",
       "      <td>442.0</td>\n",
       "      <td>1508.0</td>\n",
       "      <td>551.0</td>\n",
       "    </tr>\n",
       "    <tr>\n",
       "      <th>8</th>\n",
       "      <td>2.0</td>\n",
       "      <td>章诒和</td>\n",
       "      <td>法律案例</td>\n",
       "      <td>7.0</td>\n",
       "      <td>554.0</td>\n",
       "      <td>1992.0</td>\n",
       "      <td>1701.0</td>\n",
       "    </tr>\n",
       "    <tr>\n",
       "      <th>9</th>\n",
       "      <td>2.0</td>\n",
       "      <td>章诒和</td>\n",
       "      <td>社会矛盾</td>\n",
       "      <td>5.0</td>\n",
       "      <td>618.0</td>\n",
       "      <td>2366.0</td>\n",
       "      <td>752.0</td>\n",
       "    </tr>\n",
       "  </tbody>\n",
       "</table>\n",
       "</div>"
      ],
      "text/plain": [
       "    id starname issue   num  comment  repost    like\n",
       "2  1.0      周国平  法律案例   1.0    270.0   526.0   248.0\n",
       "6  2.0      章诒和  国家议程  10.0    826.0  2800.0  1893.0\n",
       "7  2.0      章诒和  公权政策   5.0    442.0  1508.0   551.0\n",
       "8  2.0      章诒和  法律案例   7.0    554.0  1992.0  1701.0\n",
       "9  2.0      章诒和  社会矛盾   5.0    618.0  2366.0   752.0"
      ]
     },
     "execution_count": 22,
     "metadata": {},
     "output_type": "execute_result"
    }
   ],
   "source": [
    "df2[:5]"
   ]
  },
  {
   "cell_type": "code",
   "execution_count": 37,
   "metadata": {
    "ExecuteTime": {
     "end_time": "2017-03-13T11:30:58.462716",
     "start_time": "2017-03-13T11:30:58.456015"
    },
    "collapsed": false
   },
   "outputs": [
    {
     "data": {
      "text/plain": [
       "760"
      ]
     },
     "execution_count": 37,
     "metadata": {},
     "output_type": "execute_result"
    }
   ],
   "source": [
    "df2 = df2.dropna()\n",
    "len(df2)"
   ]
  },
  {
   "cell_type": "markdown",
   "metadata": {},
   "source": [
    "## 描述分析"
   ]
  },
  {
   "cell_type": "code",
   "execution_count": 41,
   "metadata": {
    "ExecuteTime": {
     "end_time": "2017-03-13T11:32:21.175952",
     "start_time": "2017-03-13T11:32:19.085821"
    },
    "collapsed": false
   },
   "outputs": [
    {
     "data": {
      "image/png": "[encoded data removed]",
      "text/plain": [
       "<matplotlib.figure.Figure at 0x1175d3050>"
      ]
     },
     "metadata": {},
     "output_type": "display_data"
    }
   ],
   "source": [
    "matplotlib.style.use('fivethirtyeight')\n",
    "\n",
    "alloRegressPlot(np.array(df2.comment), np.array(df2.like),\\\n",
    "                'blue','o','$Comments$','$Likes$', loglog=True)"
   ]
  },
  {
   "cell_type": "code",
   "execution_count": 43,
   "metadata": {
    "ExecuteTime": {
     "end_time": "2017-03-13T11:33:42.506771",
     "start_time": "2017-03-13T11:33:40.450017"
    },
    "collapsed": false
   },
   "outputs": [
    {
     "data": {
      "image/png": "[encoded data removed]",
      "text/plain": [
       "<matplotlib.figure.Figure at 0x117e78c10>"
      ]
     },
     "metadata": {},
     "output_type": "display_data"
    }
   ],
   "source": [
    "matplotlib.style.use('fivethirtyeight')\n",
    "\n",
    "alloRegressPlot(np.array(df2.comment), np.array(df2.repost),\\\n",
    "                'green','o','$Comments$','$Reposts$', loglog=True)"
   ]
  },
  {
   "cell_type": "code",
   "execution_count": 44,
   "metadata": {
    "ExecuteTime": {
     "end_time": "2017-03-13T11:35:38.318634",
     "start_time": "2017-03-13T11:35:36.416817"
    },
    "collapsed": false
   },
   "outputs": [
    {
     "data": {
      "image/png": "[encoded data removed]",
      "text/plain": [
       "<matplotlib.figure.Figure at 0x117e6c250>"
      ]
     },
     "metadata": {},
     "output_type": "display_data"
    }
   ],
   "source": [
    "matplotlib.style.use('fivethirtyeight')\n",
    "\n",
    "alloRegressPlot(np.array(df2.num), np.array(df2.comment),\\\n",
    "                'green','o','$Nums$','$Comments$', loglog=True)"
   ]
  },
  {
   "cell_type": "code",
   "execution_count": 46,
   "metadata": {
    "ExecuteTime": {
     "end_time": "2017-03-13T11:37:23.015601",
     "start_time": "2017-03-13T11:37:21.013135"
    },
    "collapsed": false
   },
   "outputs": [
    {
     "data": {
      "image/png": "[encoded data removed]",
      "text/plain": [
       "<matplotlib.figure.Figure at 0x1180c0dd0>"
      ]
     },
     "metadata": {},
     "output_type": "display_data"
    }
   ],
   "source": [
    "matplotlib.style.use('fivethirtyeight')\n",
    "\n",
    "alloRegressPlot(np.array(df2.num), np.array(df2.repost),\\\n",
    "                'green','o','$Nums$','$Reposts$', loglog=True)"
   ]
  },
  {
   "cell_type": "markdown",
   "metadata": {},
   "source": [
    "## 参与度"
   ]
  },
  {
   "cell_type": "markdown",
   "metadata": {},
   "source": [
    "- 基本假设1：一个好的“Authority”页面会被很多好的“Hub”页面指向；\n",
    "- 基本假设2：一个好的“Hub”页面会指向很多好的“Authority”页面；\n",
    "\n",
    "Hub --> Authority"
   ]
  },
  {
   "cell_type": "code",
   "execution_count": 89,
   "metadata": {
    "ExecuteTime": {
     "end_time": "2017-03-13T12:15:47.674994",
     "start_time": "2017-03-13T12:15:47.618610"
    },
    "collapsed": false
   },
   "outputs": [],
   "source": [
    "G = nx.DiGraph()\n",
    "for i in df2.index:\n",
    "    G.add_edge(df2.starname[i], df2.issue[i], weight = df2.num[i])"
   ]
  },
  {
   "cell_type": "code",
   "execution_count": 90,
   "metadata": {
    "ExecuteTime": {
     "end_time": "2017-03-13T12:15:48.801682",
     "start_time": "2017-03-13T12:15:48.797222"
    },
    "collapsed": false
   },
   "outputs": [
    {
     "data": {
      "text/plain": [
       "'Name: \\nType: DiGraph\\nNumber of nodes: 239\\nNumber of edges: 760\\nAverage in degree:   3.1799\\nAverage out degree:   3.1799'"
      ]
     },
     "execution_count": 90,
     "metadata": {},
     "output_type": "execute_result"
    }
   ],
   "source": [
    "nx.info(G)"
   ]
  },
  {
   "cell_type": "code",
   "execution_count": 94,
   "metadata": {
    "ExecuteTime": {
     "end_time": "2017-03-13T12:16:53.937157",
     "start_time": "2017-03-13T12:16:53.872361"
    },
    "collapsed": false
   },
   "outputs": [
    {
     "data": {
      "text/html": [
       "<div>\n",
       "<table border=\"1\" class=\"dataframe\">\n",
       "  <thead>\n",
       "    <tr style=\"text-align: right;\">\n",
       "      <th></th>\n",
       "      <th>star</th>\n",
       "      <th>hub_num</th>\n",
       "    </tr>\n",
       "  </thead>\n",
       "  <tbody>\n",
       "    <tr>\n",
       "      <th>36</th>\n",
       "      <td>老沉</td>\n",
       "      <td>0.090319</td>\n",
       "    </tr>\n",
       "    <tr>\n",
       "      <th>166</th>\n",
       "      <td>胡舒立</td>\n",
       "      <td>0.045833</td>\n",
       "    </tr>\n",
       "    <tr>\n",
       "      <th>178</th>\n",
       "      <td>陈士渠</td>\n",
       "      <td>0.042904</td>\n",
       "    </tr>\n",
       "    <tr>\n",
       "      <th>86</th>\n",
       "      <td>袁莉wsj</td>\n",
       "      <td>0.038166</td>\n",
       "    </tr>\n",
       "    <tr>\n",
       "      <th>135</th>\n",
       "      <td>袁国宝</td>\n",
       "      <td>0.033005</td>\n",
       "    </tr>\n",
       "    <tr>\n",
       "      <th>51</th>\n",
       "      <td>罗昌平</td>\n",
       "      <td>0.029902</td>\n",
       "    </tr>\n",
       "    <tr>\n",
       "      <th>222</th>\n",
       "      <td>盘锦周恩义</td>\n",
       "      <td>0.029604</td>\n",
       "    </tr>\n",
       "    <tr>\n",
       "      <th>52</th>\n",
       "      <td>宋鸿兵</td>\n",
       "      <td>0.023252</td>\n",
       "    </tr>\n",
       "    <tr>\n",
       "      <th>84</th>\n",
       "      <td>鞍钢郭明义</td>\n",
       "      <td>0.021244</td>\n",
       "    </tr>\n",
       "    <tr>\n",
       "      <th>98</th>\n",
       "      <td>侯宁</td>\n",
       "      <td>0.020755</td>\n",
       "    </tr>\n",
       "    <tr>\n",
       "      <th>154</th>\n",
       "      <td>闾丘露薇</td>\n",
       "      <td>0.020639</td>\n",
       "    </tr>\n",
       "    <tr>\n",
       "      <th>4</th>\n",
       "      <td>十年砍柴</td>\n",
       "      <td>0.019317</td>\n",
       "    </tr>\n",
       "    <tr>\n",
       "      <th>131</th>\n",
       "      <td>潘石屹</td>\n",
       "      <td>0.015981</td>\n",
       "    </tr>\n",
       "    <tr>\n",
       "      <th>221</th>\n",
       "      <td>李开复</td>\n",
       "      <td>0.015770</td>\n",
       "    </tr>\n",
       "    <tr>\n",
       "      <th>50</th>\n",
       "      <td>王冉</td>\n",
       "      <td>0.015542</td>\n",
       "    </tr>\n",
       "    <tr>\n",
       "      <th>73</th>\n",
       "      <td>王克勤</td>\n",
       "      <td>0.015476</td>\n",
       "    </tr>\n",
       "    <tr>\n",
       "      <th>74</th>\n",
       "      <td>刘春</td>\n",
       "      <td>0.015459</td>\n",
       "    </tr>\n",
       "    <tr>\n",
       "      <th>111</th>\n",
       "      <td>叶檀</td>\n",
       "      <td>0.012850</td>\n",
       "    </tr>\n",
       "    <tr>\n",
       "      <th>1</th>\n",
       "      <td>御史在途</td>\n",
       "      <td>0.011898</td>\n",
       "    </tr>\n",
       "    <tr>\n",
       "      <th>171</th>\n",
       "      <td>姚晨</td>\n",
       "      <td>0.010953</td>\n",
       "    </tr>\n",
       "    <tr>\n",
       "      <th>209</th>\n",
       "      <td>陈鸣明</td>\n",
       "      <td>0.010469</td>\n",
       "    </tr>\n",
       "    <tr>\n",
       "      <th>129</th>\n",
       "      <td>黄晓明</td>\n",
       "      <td>0.010154</td>\n",
       "    </tr>\n",
       "    <tr>\n",
       "      <th>124</th>\n",
       "      <td>曹景行</td>\n",
       "      <td>0.010151</td>\n",
       "    </tr>\n",
       "    <tr>\n",
       "      <th>32</th>\n",
       "      <td>贾樟柯</td>\n",
       "      <td>0.010103</td>\n",
       "    </tr>\n",
       "    <tr>\n",
       "      <th>155</th>\n",
       "      <td>庹祖海TuoZuhai</td>\n",
       "      <td>0.009757</td>\n",
       "    </tr>\n",
       "    <tr>\n",
       "      <th>211</th>\n",
       "      <td>陈坤</td>\n",
       "      <td>0.009441</td>\n",
       "    </tr>\n",
       "    <tr>\n",
       "      <th>143</th>\n",
       "      <td>水皮</td>\n",
       "      <td>0.009148</td>\n",
       "    </tr>\n",
       "    <tr>\n",
       "      <th>0</th>\n",
       "      <td>李晨</td>\n",
       "      <td>0.009045</td>\n",
       "    </tr>\n",
       "    <tr>\n",
       "      <th>66</th>\n",
       "      <td>周鸿_</td>\n",
       "      <td>0.009044</td>\n",
       "    </tr>\n",
       "    <tr>\n",
       "      <th>182</th>\n",
       "      <td>牛文文</td>\n",
       "      <td>0.008343</td>\n",
       "    </tr>\n",
       "    <tr>\n",
       "      <th>...</th>\n",
       "      <td>...</td>\n",
       "      <td>...</td>\n",
       "    </tr>\n",
       "    <tr>\n",
       "      <th>225</th>\n",
       "      <td>老李飞刀</td>\n",
       "      <td>0.000257</td>\n",
       "    </tr>\n",
       "    <tr>\n",
       "      <th>220</th>\n",
       "      <td>那英</td>\n",
       "      <td>0.000257</td>\n",
       "    </tr>\n",
       "    <tr>\n",
       "      <th>38</th>\n",
       "      <td>加藤嘉一</td>\n",
       "      <td>0.000257</td>\n",
       "    </tr>\n",
       "    <tr>\n",
       "      <th>186</th>\n",
       "      <td>许小年</td>\n",
       "      <td>0.000257</td>\n",
       "    </tr>\n",
       "    <tr>\n",
       "      <th>192</th>\n",
       "      <td>林更新</td>\n",
       "      <td>0.000257</td>\n",
       "    </tr>\n",
       "    <tr>\n",
       "      <th>172</th>\n",
       "      <td>黄磊微博</td>\n",
       "      <td>0.000257</td>\n",
       "    </tr>\n",
       "    <tr>\n",
       "      <th>139</th>\n",
       "      <td>袁腾飞</td>\n",
       "      <td>0.000249</td>\n",
       "    </tr>\n",
       "    <tr>\n",
       "      <th>58</th>\n",
       "      <td>周立波</td>\n",
       "      <td>0.000218</td>\n",
       "    </tr>\n",
       "    <tr>\n",
       "      <th>127</th>\n",
       "      <td>倪正东</td>\n",
       "      <td>0.000218</td>\n",
       "    </tr>\n",
       "    <tr>\n",
       "      <th>230</th>\n",
       "      <td>韩志国</td>\n",
       "      <td>0.000218</td>\n",
       "    </tr>\n",
       "    <tr>\n",
       "      <th>158</th>\n",
       "      <td>李稻葵</td>\n",
       "      <td>0.000218</td>\n",
       "    </tr>\n",
       "    <tr>\n",
       "      <th>54</th>\n",
       "      <td>唐骏</td>\n",
       "      <td>0.000218</td>\n",
       "    </tr>\n",
       "    <tr>\n",
       "      <th>189</th>\n",
       "      <td>刘五一</td>\n",
       "      <td>0.000218</td>\n",
       "    </tr>\n",
       "    <tr>\n",
       "      <th>76</th>\n",
       "      <td>俞永福</td>\n",
       "      <td>0.000218</td>\n",
       "    </tr>\n",
       "    <tr>\n",
       "      <th>105</th>\n",
       "      <td>易中天</td>\n",
       "      <td>0.000209</td>\n",
       "    </tr>\n",
       "    <tr>\n",
       "      <th>148</th>\n",
       "      <td>马伊_</td>\n",
       "      <td>0.000174</td>\n",
       "    </tr>\n",
       "    <tr>\n",
       "      <th>43</th>\n",
       "      <td>思想说</td>\n",
       "      <td>0.000163</td>\n",
       "    </tr>\n",
       "    <tr>\n",
       "      <th>208</th>\n",
       "      <td>马伯庸</td>\n",
       "      <td>0.000105</td>\n",
       "    </tr>\n",
       "    <tr>\n",
       "      <th>185</th>\n",
       "      <td>郭敬明</td>\n",
       "      <td>0.000105</td>\n",
       "    </tr>\n",
       "    <tr>\n",
       "      <th>224</th>\n",
       "      <td>李学凌</td>\n",
       "      <td>0.000105</td>\n",
       "    </tr>\n",
       "    <tr>\n",
       "      <th>40</th>\n",
       "      <td>林心如</td>\n",
       "      <td>0.000105</td>\n",
       "    </tr>\n",
       "    <tr>\n",
       "      <th>6</th>\n",
       "      <td>胡德平</td>\n",
       "      <td>0.000105</td>\n",
       "    </tr>\n",
       "    <tr>\n",
       "      <th>199</th>\n",
       "      <td>石康</td>\n",
       "      <td>0.000105</td>\n",
       "    </tr>\n",
       "    <tr>\n",
       "      <th>2</th>\n",
       "      <td>郭斯特</td>\n",
       "      <td>0.000105</td>\n",
       "    </tr>\n",
       "    <tr>\n",
       "      <th>153</th>\n",
       "      <td>曹凤岐</td>\n",
       "      <td>0.000098</td>\n",
       "    </tr>\n",
       "    <tr>\n",
       "      <th>123</th>\n",
       "      <td>周国平</td>\n",
       "      <td>0.000068</td>\n",
       "    </tr>\n",
       "    <tr>\n",
       "      <th>91</th>\n",
       "      <td>撒贝宁</td>\n",
       "      <td>0.000068</td>\n",
       "    </tr>\n",
       "    <tr>\n",
       "      <th>41</th>\n",
       "      <td>同道大叔</td>\n",
       "      <td>0.000057</td>\n",
       "    </tr>\n",
       "    <tr>\n",
       "      <th>23</th>\n",
       "      <td>papi酱</td>\n",
       "      <td>0.000049</td>\n",
       "    </tr>\n",
       "    <tr>\n",
       "      <th>232</th>\n",
       "      <td>杨毅</td>\n",
       "      <td>0.000049</td>\n",
       "    </tr>\n",
       "  </tbody>\n",
       "</table>\n",
       "<p>233 rows × 2 columns</p>\n",
       "</div>"
      ],
      "text/plain": [
       "            star   hub_num\n",
       "36            老沉  0.090319\n",
       "166          胡舒立  0.045833\n",
       "178          陈士渠  0.042904\n",
       "86         袁莉wsj  0.038166\n",
       "135          袁国宝  0.033005\n",
       "51           罗昌平  0.029902\n",
       "222        盘锦周恩义  0.029604\n",
       "52           宋鸿兵  0.023252\n",
       "84         鞍钢郭明义  0.021244\n",
       "98            侯宁  0.020755\n",
       "154         闾丘露薇  0.020639\n",
       "4           十年砍柴  0.019317\n",
       "131          潘石屹  0.015981\n",
       "221          李开复  0.015770\n",
       "50            王冉  0.015542\n",
       "73           王克勤  0.015476\n",
       "74            刘春  0.015459\n",
       "111           叶檀  0.012850\n",
       "1           御史在途  0.011898\n",
       "171           姚晨  0.010953\n",
       "209          陈鸣明  0.010469\n",
       "129          黄晓明  0.010154\n",
       "124          曹景行  0.010151\n",
       "32           贾樟柯  0.010103\n",
       "155  庹祖海TuoZuhai  0.009757\n",
       "211           陈坤  0.009441\n",
       "143           水皮  0.009148\n",
       "0             李晨  0.009045\n",
       "66           周鸿_  0.009044\n",
       "182          牛文文  0.008343\n",
       "..           ...       ...\n",
       "225         老李飞刀  0.000257\n",
       "220           那英  0.000257\n",
       "38          加藤嘉一  0.000257\n",
       "186          许小年  0.000257\n",
       "192          林更新  0.000257\n",
       "172         黄磊微博  0.000257\n",
       "139          袁腾飞  0.000249\n",
       "58           周立波  0.000218\n",
       "127          倪正东  0.000218\n",
       "230          韩志国  0.000218\n",
       "158          李稻葵  0.000218\n",
       "54            唐骏  0.000218\n",
       "189          刘五一  0.000218\n",
       "76           俞永福  0.000218\n",
       "105          易中天  0.000209\n",
       "148          马伊_  0.000174\n",
       "43           思想说  0.000163\n",
       "208          马伯庸  0.000105\n",
       "185          郭敬明  0.000105\n",
       "224          李学凌  0.000105\n",
       "40           林心如  0.000105\n",
       "6            胡德平  0.000105\n",
       "199           石康  0.000105\n",
       "2            郭斯特  0.000105\n",
       "153          曹凤岐  0.000098\n",
       "123          周国平  0.000068\n",
       "91           撒贝宁  0.000068\n",
       "41          同道大叔  0.000057\n",
       "23         papi酱  0.000049\n",
       "232           杨毅  0.000049\n",
       "\n",
       "[233 rows x 2 columns]"
      ]
     },
     "execution_count": 94,
     "metadata": {},
     "output_type": "execute_result"
    }
   ],
   "source": [
    "h, a = nx.hits(G)\n",
    "\n",
    "stars =  df2.starname.unique().tolist()\n",
    "issues = df2.issue.unique().tolist()\n",
    "\n",
    "hub_dic = {}\n",
    "for i in stars:\n",
    "    hub_dic[i]=h[i]\n",
    "    \n",
    "star_df = pd.DataFrame(hub_dic.items(), columns = ['star', 'hub_num'])\n",
    "star_df.sort_values(by = 'hub_num', ascending = False)"
   ]
  },
  {
   "cell_type": "code",
   "execution_count": 73,
   "metadata": {
    "ExecuteTime": {
     "end_time": "2017-03-13T11:56:16.763389",
     "start_time": "2017-03-13T11:56:16.759661"
    },
    "collapsed": false
   },
   "outputs": [
    {
     "name": "stdout",
     "output_type": "stream",
     "text": [
      "法律案例 0.105124364728\n",
      "国家议程 0.076103313983\n",
      "公权政策 0.169128698448\n",
      "社会矛盾 0.0881125038008\n",
      "灾难救助 0.399284926008\n",
      "涉外涉军 0.162246193032\n"
     ]
    }
   ],
   "source": [
    "for i in issues:\n",
    "    print i, a[i]"
   ]
  },
  {
   "cell_type": "code",
   "execution_count": 70,
   "metadata": {
    "ExecuteTime": {
     "end_time": "2017-03-13T11:54:36.580446",
     "start_time": "2017-03-13T11:54:36.577160"
    },
    "collapsed": true
   },
   "outputs": [],
   "source": [
    "star_hub = [h[i] for i in stars] # stars have only hub values\n",
    "issue_authority = [a[i] for i in issues]"
   ]
  },
  {
   "cell_type": "code",
   "execution_count": 71,
   "metadata": {
    "ExecuteTime": {
     "end_time": "2017-03-13T11:54:47.317690",
     "start_time": "2017-03-13T11:54:47.313624"
    },
    "collapsed": false
   },
   "outputs": [
    {
     "data": {
      "text/plain": [
       "(233, 6)"
      ]
     },
     "execution_count": 71,
     "metadata": {},
     "output_type": "execute_result"
    }
   ],
   "source": [
    "len(star_hub), len(issue_authority)"
   ]
  },
  {
   "cell_type": "markdown",
   "metadata": {},
   "source": [
    "## 影响力"
   ]
  },
  {
   "cell_type": "code",
   "execution_count": 87,
   "metadata": {
    "ExecuteTime": {
     "end_time": "2017-03-13T12:15:38.853297",
     "start_time": "2017-03-13T12:15:38.797429"
    },
    "collapsed": true
   },
   "outputs": [],
   "source": [
    "G1 = nx.DiGraph()\n",
    "for i in df2.index:\n",
    "    G1.add_edge(df2.starname[i], df2.issue[i], weight = df2.repost[i])"
   ]
  },
  {
   "cell_type": "code",
   "execution_count": 95,
   "metadata": {
    "ExecuteTime": {
     "end_time": "2017-03-13T12:17:08.892961",
     "start_time": "2017-03-13T12:17:08.778398"
    },
    "collapsed": false
   },
   "outputs": [
    {
     "data": {
      "text/html": [
       "<div>\n",
       "<table border=\"1\" class=\"dataframe\">\n",
       "  <thead>\n",
       "    <tr style=\"text-align: right;\">\n",
       "      <th></th>\n",
       "      <th>star</th>\n",
       "      <th>hub_influence</th>\n",
       "    </tr>\n",
       "  </thead>\n",
       "  <tbody>\n",
       "    <tr>\n",
       "      <th>80</th>\n",
       "      <td>韩寒</td>\n",
       "      <td>1.042157e-01</td>\n",
       "    </tr>\n",
       "    <tr>\n",
       "      <th>188</th>\n",
       "      <td>芙蓉姐姐</td>\n",
       "      <td>4.487297e-02</td>\n",
       "    </tr>\n",
       "    <tr>\n",
       "      <th>129</th>\n",
       "      <td>黄晓明</td>\n",
       "      <td>4.267078e-02</td>\n",
       "    </tr>\n",
       "    <tr>\n",
       "      <th>171</th>\n",
       "      <td>姚晨</td>\n",
       "      <td>4.067966e-02</td>\n",
       "    </tr>\n",
       "    <tr>\n",
       "      <th>100</th>\n",
       "      <td>杨幂</td>\n",
       "      <td>3.956712e-02</td>\n",
       "    </tr>\n",
       "    <tr>\n",
       "      <th>221</th>\n",
       "      <td>李开复</td>\n",
       "      <td>3.878906e-02</td>\n",
       "    </tr>\n",
       "    <tr>\n",
       "      <th>71</th>\n",
       "      <td>加措活佛-慈爱基金</td>\n",
       "      <td>3.604740e-02</td>\n",
       "    </tr>\n",
       "    <tr>\n",
       "      <th>211</th>\n",
       "      <td>陈坤</td>\n",
       "      <td>3.259674e-02</td>\n",
       "    </tr>\n",
       "    <tr>\n",
       "      <th>163</th>\n",
       "      <td>何炅</td>\n",
       "      <td>3.042808e-02</td>\n",
       "    </tr>\n",
       "    <tr>\n",
       "      <th>216</th>\n",
       "      <td>唐嫣</td>\n",
       "      <td>2.987967e-02</td>\n",
       "    </tr>\n",
       "    <tr>\n",
       "      <th>168</th>\n",
       "      <td>李小璐super璐</td>\n",
       "      <td>2.903469e-02</td>\n",
       "    </tr>\n",
       "    <tr>\n",
       "      <th>0</th>\n",
       "      <td>李晨</td>\n",
       "      <td>2.420867e-02</td>\n",
       "    </tr>\n",
       "    <tr>\n",
       "      <th>159</th>\n",
       "      <td>刘诗诗</td>\n",
       "      <td>2.415578e-02</td>\n",
       "    </tr>\n",
       "    <tr>\n",
       "      <th>10</th>\n",
       "      <td>张杰</td>\n",
       "      <td>2.152448e-02</td>\n",
       "    </tr>\n",
       "    <tr>\n",
       "      <th>75</th>\n",
       "      <td>刘同</td>\n",
       "      <td>2.033249e-02</td>\n",
       "    </tr>\n",
       "    <tr>\n",
       "      <th>228</th>\n",
       "      <td>谢娜</td>\n",
       "      <td>1.952420e-02</td>\n",
       "    </tr>\n",
       "    <tr>\n",
       "      <th>131</th>\n",
       "      <td>潘石屹</td>\n",
       "      <td>1.643728e-02</td>\n",
       "    </tr>\n",
       "    <tr>\n",
       "      <th>72</th>\n",
       "      <td>范冰冰</td>\n",
       "      <td>1.524568e-02</td>\n",
       "    </tr>\n",
       "    <tr>\n",
       "      <th>51</th>\n",
       "      <td>罗昌平</td>\n",
       "      <td>1.493492e-02</td>\n",
       "    </tr>\n",
       "    <tr>\n",
       "      <th>36</th>\n",
       "      <td>老沉</td>\n",
       "      <td>1.417038e-02</td>\n",
       "    </tr>\n",
       "    <tr>\n",
       "      <th>217</th>\n",
       "      <td>吴奇隆</td>\n",
       "      <td>1.402003e-02</td>\n",
       "    </tr>\n",
       "    <tr>\n",
       "      <th>210</th>\n",
       "      <td>李冰冰</td>\n",
       "      <td>1.373613e-02</td>\n",
       "    </tr>\n",
       "    <tr>\n",
       "      <th>7</th>\n",
       "      <td>angelababy</td>\n",
       "      <td>1.069840e-02</td>\n",
       "    </tr>\n",
       "    <tr>\n",
       "      <th>162</th>\n",
       "      <td>李维嘉</td>\n",
       "      <td>1.025167e-02</td>\n",
       "    </tr>\n",
       "    <tr>\n",
       "      <th>99</th>\n",
       "      <td>休闲璐</td>\n",
       "      <td>9.570440e-03</td>\n",
       "    </tr>\n",
       "    <tr>\n",
       "      <th>161</th>\n",
       "      <td>王尼玛</td>\n",
       "      <td>9.343329e-03</td>\n",
       "    </tr>\n",
       "    <tr>\n",
       "      <th>130</th>\n",
       "      <td>岳云鹏</td>\n",
       "      <td>9.264760e-03</td>\n",
       "    </tr>\n",
       "    <tr>\n",
       "      <th>154</th>\n",
       "      <td>闾丘露薇</td>\n",
       "      <td>9.176530e-03</td>\n",
       "    </tr>\n",
       "    <tr>\n",
       "      <th>74</th>\n",
       "      <td>刘春</td>\n",
       "      <td>8.845131e-03</td>\n",
       "    </tr>\n",
       "    <tr>\n",
       "      <th>70</th>\n",
       "      <td>王小川</td>\n",
       "      <td>7.636878e-03</td>\n",
       "    </tr>\n",
       "    <tr>\n",
       "      <th>...</th>\n",
       "      <td>...</td>\n",
       "      <td>...</td>\n",
       "    </tr>\n",
       "    <tr>\n",
       "      <th>208</th>\n",
       "      <td>马伯庸</td>\n",
       "      <td>3.030595e-05</td>\n",
       "    </tr>\n",
       "    <tr>\n",
       "      <th>53</th>\n",
       "      <td>老徐时评</td>\n",
       "      <td>2.705376e-05</td>\n",
       "    </tr>\n",
       "    <tr>\n",
       "      <th>46</th>\n",
       "      <td>亦舒</td>\n",
       "      <td>2.665888e-05</td>\n",
       "    </tr>\n",
       "    <tr>\n",
       "      <th>204</th>\n",
       "      <td>朱永新</td>\n",
       "      <td>2.547233e-05</td>\n",
       "    </tr>\n",
       "    <tr>\n",
       "      <th>220</th>\n",
       "      <td>那英</td>\n",
       "      <td>2.221574e-05</td>\n",
       "    </tr>\n",
       "    <tr>\n",
       "      <th>9</th>\n",
       "      <td>于丹</td>\n",
       "      <td>2.043215e-05</td>\n",
       "    </tr>\n",
       "    <tr>\n",
       "      <th>164</th>\n",
       "      <td>尹鸿</td>\n",
       "      <td>2.033262e-05</td>\n",
       "    </tr>\n",
       "    <tr>\n",
       "      <th>180</th>\n",
       "      <td>阚治东</td>\n",
       "      <td>2.031153e-05</td>\n",
       "    </tr>\n",
       "    <tr>\n",
       "      <th>123</th>\n",
       "      <td>周国平</td>\n",
       "      <td>1.845222e-05</td>\n",
       "    </tr>\n",
       "    <tr>\n",
       "      <th>34</th>\n",
       "      <td>陈东有</td>\n",
       "      <td>1.800492e-05</td>\n",
       "    </tr>\n",
       "    <tr>\n",
       "      <th>25</th>\n",
       "      <td>杨建国</td>\n",
       "      <td>1.767317e-05</td>\n",
       "    </tr>\n",
       "    <tr>\n",
       "      <th>43</th>\n",
       "      <td>思想说</td>\n",
       "      <td>1.672529e-05</td>\n",
       "    </tr>\n",
       "    <tr>\n",
       "      <th>158</th>\n",
       "      <td>李稻葵</td>\n",
       "      <td>1.057715e-05</td>\n",
       "    </tr>\n",
       "    <tr>\n",
       "      <th>126</th>\n",
       "      <td>爱国者冯军</td>\n",
       "      <td>6.927957e-06</td>\n",
       "    </tr>\n",
       "    <tr>\n",
       "      <th>225</th>\n",
       "      <td>老李飞刀</td>\n",
       "      <td>6.770510e-06</td>\n",
       "    </tr>\n",
       "    <tr>\n",
       "      <th>232</th>\n",
       "      <td>杨毅</td>\n",
       "      <td>6.415067e-06</td>\n",
       "    </tr>\n",
       "    <tr>\n",
       "      <th>199</th>\n",
       "      <td>石康</td>\n",
       "      <td>4.422759e-06</td>\n",
       "    </tr>\n",
       "    <tr>\n",
       "      <th>173</th>\n",
       "      <td>智化人生</td>\n",
       "      <td>4.185628e-06</td>\n",
       "    </tr>\n",
       "    <tr>\n",
       "      <th>145</th>\n",
       "      <td>甘肃梁和平</td>\n",
       "      <td>2.570234e-06</td>\n",
       "    </tr>\n",
       "    <tr>\n",
       "      <th>76</th>\n",
       "      <td>俞永福</td>\n",
       "      <td>2.067146e-06</td>\n",
       "    </tr>\n",
       "    <tr>\n",
       "      <th>85</th>\n",
       "      <td>林炎志</td>\n",
       "      <td>1.880386e-06</td>\n",
       "    </tr>\n",
       "    <tr>\n",
       "      <th>54</th>\n",
       "      <td>唐骏</td>\n",
       "      <td>1.795550e-06</td>\n",
       "    </tr>\n",
       "    <tr>\n",
       "      <th>153</th>\n",
       "      <td>曹凤岐</td>\n",
       "      <td>1.439479e-06</td>\n",
       "    </tr>\n",
       "    <tr>\n",
       "      <th>127</th>\n",
       "      <td>倪正东</td>\n",
       "      <td>1.267447e-06</td>\n",
       "    </tr>\n",
       "    <tr>\n",
       "      <th>224</th>\n",
       "      <td>李学凌</td>\n",
       "      <td>1.105690e-06</td>\n",
       "    </tr>\n",
       "    <tr>\n",
       "      <th>97</th>\n",
       "      <td>佳桐</td>\n",
       "      <td>7.652577e-07</td>\n",
       "    </tr>\n",
       "    <tr>\n",
       "      <th>91</th>\n",
       "      <td>撒贝宁</td>\n",
       "      <td>7.016053e-07</td>\n",
       "    </tr>\n",
       "    <tr>\n",
       "      <th>197</th>\n",
       "      <td>瘦马</td>\n",
       "      <td>4.231569e-07</td>\n",
       "    </tr>\n",
       "    <tr>\n",
       "      <th>189</th>\n",
       "      <td>刘五一</td>\n",
       "      <td>6.035463e-08</td>\n",
       "    </tr>\n",
       "    <tr>\n",
       "      <th>181</th>\n",
       "      <td>成都王文华</td>\n",
       "      <td>0.000000e+00</td>\n",
       "    </tr>\n",
       "  </tbody>\n",
       "</table>\n",
       "<p>233 rows × 2 columns</p>\n",
       "</div>"
      ],
      "text/plain": [
       "           star  hub_influence\n",
       "80           韩寒   1.042157e-01\n",
       "188        芙蓉姐姐   4.487297e-02\n",
       "129         黄晓明   4.267078e-02\n",
       "171          姚晨   4.067966e-02\n",
       "100          杨幂   3.956712e-02\n",
       "221         李开复   3.878906e-02\n",
       "71    加措活佛-慈爱基金   3.604740e-02\n",
       "211          陈坤   3.259674e-02\n",
       "163          何炅   3.042808e-02\n",
       "216          唐嫣   2.987967e-02\n",
       "168   李小璐super璐   2.903469e-02\n",
       "0            李晨   2.420867e-02\n",
       "159         刘诗诗   2.415578e-02\n",
       "10           张杰   2.152448e-02\n",
       "75           刘同   2.033249e-02\n",
       "228          谢娜   1.952420e-02\n",
       "131         潘石屹   1.643728e-02\n",
       "72          范冰冰   1.524568e-02\n",
       "51          罗昌平   1.493492e-02\n",
       "36           老沉   1.417038e-02\n",
       "217         吴奇隆   1.402003e-02\n",
       "210         李冰冰   1.373613e-02\n",
       "7    angelababy   1.069840e-02\n",
       "162         李维嘉   1.025167e-02\n",
       "99          休闲璐   9.570440e-03\n",
       "161         王尼玛   9.343329e-03\n",
       "130         岳云鹏   9.264760e-03\n",
       "154        闾丘露薇   9.176530e-03\n",
       "74           刘春   8.845131e-03\n",
       "70          王小川   7.636878e-03\n",
       "..          ...            ...\n",
       "208         马伯庸   3.030595e-05\n",
       "53         老徐时评   2.705376e-05\n",
       "46           亦舒   2.665888e-05\n",
       "204         朱永新   2.547233e-05\n",
       "220          那英   2.221574e-05\n",
       "9            于丹   2.043215e-05\n",
       "164          尹鸿   2.033262e-05\n",
       "180         阚治东   2.031153e-05\n",
       "123         周国平   1.845222e-05\n",
       "34          陈东有   1.800492e-05\n",
       "25          杨建国   1.767317e-05\n",
       "43          思想说   1.672529e-05\n",
       "158         李稻葵   1.057715e-05\n",
       "126       爱国者冯军   6.927957e-06\n",
       "225        老李飞刀   6.770510e-06\n",
       "232          杨毅   6.415067e-06\n",
       "199          石康   4.422759e-06\n",
       "173        智化人生   4.185628e-06\n",
       "145       甘肃梁和平   2.570234e-06\n",
       "76          俞永福   2.067146e-06\n",
       "85          林炎志   1.880386e-06\n",
       "54           唐骏   1.795550e-06\n",
       "153         曹凤岐   1.439479e-06\n",
       "127         倪正东   1.267447e-06\n",
       "224         李学凌   1.105690e-06\n",
       "97           佳桐   7.652577e-07\n",
       "91          撒贝宁   7.016053e-07\n",
       "197          瘦马   4.231569e-07\n",
       "189         刘五一   6.035463e-08\n",
       "181       成都王文华   0.000000e+00\n",
       "\n",
       "[233 rows x 2 columns]"
      ]
     },
     "execution_count": 95,
     "metadata": {},
     "output_type": "execute_result"
    }
   ],
   "source": [
    "h1, a1 = nx.hits(G1)\n",
    "\n",
    "stars =  df2.starname.unique().tolist()\n",
    "issues = df2.issue.unique().tolist()\n",
    "\n",
    "hub_dic1 = {}\n",
    "for i in stars:\n",
    "    hub_dic1[i]=h1[i]\n",
    "    \n",
    "star_df1 = pd.DataFrame(hub_dic1.items(), columns = ['star', 'hub_influence'])\n",
    "star_df1.sort_values(by = 'hub_influence', ascending = False)"
   ]
  },
  {
   "cell_type": "code",
   "execution_count": 121,
   "metadata": {
    "ExecuteTime": {
     "end_time": "2017-03-13T12:45:25.564350",
     "start_time": "2017-03-13T12:45:25.560167"
    },
    "collapsed": false
   },
   "outputs": [
    {
     "name": "stdout",
     "output_type": "stream",
     "text": [
      "法律案例 0.0823103603834\n",
      "国家议程 0.0734241646607\n",
      "公权政策 0.0354031808585\n",
      "社会矛盾 0.194502497789\n",
      "灾难救助 0.496435785085\n",
      "涉外涉军 0.117924011224\n"
     ]
    }
   ],
   "source": [
    "for i in issues:\n",
    "    print i, a1[i]"
   ]
  },
  {
   "cell_type": "markdown",
   "metadata": {},
   "source": [
    "## 合并数据"
   ]
  },
  {
   "cell_type": "code",
   "execution_count": 96,
   "metadata": {
    "ExecuteTime": {
     "end_time": "2017-03-13T12:17:13.451082",
     "start_time": "2017-03-13T12:17:13.441260"
    },
    "collapsed": false
   },
   "outputs": [
    {
     "data": {
      "text/html": [
       "<div>\n",
       "<table border=\"1\" class=\"dataframe\">\n",
       "  <thead>\n",
       "    <tr style=\"text-align: right;\">\n",
       "      <th></th>\n",
       "      <th>star</th>\n",
       "      <th>hub_num</th>\n",
       "    </tr>\n",
       "  </thead>\n",
       "  <tbody>\n",
       "    <tr>\n",
       "      <th>0</th>\n",
       "      <td>李晨</td>\n",
       "      <td>0.009045</td>\n",
       "    </tr>\n",
       "    <tr>\n",
       "      <th>1</th>\n",
       "      <td>御史在途</td>\n",
       "      <td>0.011898</td>\n",
       "    </tr>\n",
       "    <tr>\n",
       "      <th>2</th>\n",
       "      <td>郭斯特</td>\n",
       "      <td>0.000105</td>\n",
       "    </tr>\n",
       "    <tr>\n",
       "      <th>3</th>\n",
       "      <td>苏芩</td>\n",
       "      <td>0.002021</td>\n",
       "    </tr>\n",
       "    <tr>\n",
       "      <th>4</th>\n",
       "      <td>十年砍柴</td>\n",
       "      <td>0.019317</td>\n",
       "    </tr>\n",
       "  </tbody>\n",
       "</table>\n",
       "</div>"
      ],
      "text/plain": [
       "   star   hub_num\n",
       "0    李晨  0.009045\n",
       "1  御史在途  0.011898\n",
       "2   郭斯特  0.000105\n",
       "3    苏芩  0.002021\n",
       "4  十年砍柴  0.019317"
      ]
     },
     "execution_count": 96,
     "metadata": {},
     "output_type": "execute_result"
    }
   ],
   "source": [
    "star_df[:5]"
   ]
  },
  {
   "cell_type": "code",
   "execution_count": 97,
   "metadata": {
    "ExecuteTime": {
     "end_time": "2017-03-13T12:17:14.033638",
     "start_time": "2017-03-13T12:17:14.024339"
    },
    "collapsed": false
   },
   "outputs": [
    {
     "data": {
      "text/html": [
       "<div>\n",
       "<table border=\"1\" class=\"dataframe\">\n",
       "  <thead>\n",
       "    <tr style=\"text-align: right;\">\n",
       "      <th></th>\n",
       "      <th>star</th>\n",
       "      <th>hub_influence</th>\n",
       "    </tr>\n",
       "  </thead>\n",
       "  <tbody>\n",
       "    <tr>\n",
       "      <th>0</th>\n",
       "      <td>李晨</td>\n",
       "      <td>0.024209</td>\n",
       "    </tr>\n",
       "    <tr>\n",
       "      <th>1</th>\n",
       "      <td>御史在途</td>\n",
       "      <td>0.001142</td>\n",
       "    </tr>\n",
       "    <tr>\n",
       "      <th>2</th>\n",
       "      <td>郭斯特</td>\n",
       "      <td>0.000759</td>\n",
       "    </tr>\n",
       "    <tr>\n",
       "      <th>3</th>\n",
       "      <td>苏芩</td>\n",
       "      <td>0.003314</td>\n",
       "    </tr>\n",
       "    <tr>\n",
       "      <th>4</th>\n",
       "      <td>十年砍柴</td>\n",
       "      <td>0.001949</td>\n",
       "    </tr>\n",
       "  </tbody>\n",
       "</table>\n",
       "</div>"
      ],
      "text/plain": [
       "   star  hub_influence\n",
       "0    李晨       0.024209\n",
       "1  御史在途       0.001142\n",
       "2   郭斯特       0.000759\n",
       "3    苏芩       0.003314\n",
       "4  十年砍柴       0.001949"
      ]
     },
     "execution_count": 97,
     "metadata": {},
     "output_type": "execute_result"
    }
   ],
   "source": [
    "star_df1[:5]"
   ]
  },
  {
   "cell_type": "code",
   "execution_count": 100,
   "metadata": {
    "ExecuteTime": {
     "end_time": "2017-03-13T12:19:41.855852",
     "start_time": "2017-03-13T12:19:41.843155"
    },
    "collapsed": false
   },
   "outputs": [
    {
     "data": {
      "text/html": [
       "<div>\n",
       "<table border=\"1\" class=\"dataframe\">\n",
       "  <thead>\n",
       "    <tr style=\"text-align: right;\">\n",
       "      <th></th>\n",
       "      <th>star</th>\n",
       "      <th>hub_num</th>\n",
       "      <th>hub_influence</th>\n",
       "    </tr>\n",
       "  </thead>\n",
       "  <tbody>\n",
       "    <tr>\n",
       "      <th>0</th>\n",
       "      <td>李晨</td>\n",
       "      <td>0.009045</td>\n",
       "      <td>0.024209</td>\n",
       "    </tr>\n",
       "    <tr>\n",
       "      <th>1</th>\n",
       "      <td>御史在途</td>\n",
       "      <td>0.011898</td>\n",
       "      <td>0.001142</td>\n",
       "    </tr>\n",
       "    <tr>\n",
       "      <th>2</th>\n",
       "      <td>郭斯特</td>\n",
       "      <td>0.000105</td>\n",
       "      <td>0.000759</td>\n",
       "    </tr>\n",
       "    <tr>\n",
       "      <th>3</th>\n",
       "      <td>苏芩</td>\n",
       "      <td>0.002021</td>\n",
       "      <td>0.003314</td>\n",
       "    </tr>\n",
       "    <tr>\n",
       "      <th>4</th>\n",
       "      <td>十年砍柴</td>\n",
       "      <td>0.019317</td>\n",
       "      <td>0.001949</td>\n",
       "    </tr>\n",
       "  </tbody>\n",
       "</table>\n",
       "</div>"
      ],
      "text/plain": [
       "   star   hub_num  hub_influence\n",
       "0    李晨  0.009045       0.024209\n",
       "1  御史在途  0.011898       0.001142\n",
       "2   郭斯特  0.000105       0.000759\n",
       "3    苏芩  0.002021       0.003314\n",
       "4  十年砍柴  0.019317       0.001949"
      ]
     },
     "execution_count": 100,
     "metadata": {},
     "output_type": "execute_result"
    }
   ],
   "source": [
    "dat = pd.merge(star_df, star_df1, on='star')\n",
    "dat[:5]"
   ]
  },
  {
   "cell_type": "code",
   "execution_count": 104,
   "metadata": {
    "ExecuteTime": {
     "end_time": "2017-03-13T12:22:58.548011",
     "start_time": "2017-03-13T12:22:58.540014"
    },
    "collapsed": false
   },
   "outputs": [],
   "source": [
    "# dat.to_csv('/Users/chengjun/github/cjc/data/weiboHits_results.txt', encoding = 'utf8',\\\n",
    "#         sep=',', columns=None, header=True, index=False)"
   ]
  },
  {
   "cell_type": "code",
   "execution_count": 106,
   "metadata": {
    "ExecuteTime": {
     "end_time": "2017-03-13T12:24:10.795387",
     "start_time": "2017-03-13T12:24:09.408765"
    },
    "collapsed": false
   },
   "outputs": [
    {
     "data": {
      "image/png": "[encoded data removed]",
      "text/plain": [
       "<matplotlib.figure.Figure at 0x118626a50>"
      ]
     },
     "metadata": {},
     "output_type": "display_data"
    }
   ],
   "source": [
    "plt.plot(dat.hub_num, dat.hub_influence, 'ro')\n",
    "plt.xscale('log');plt.yscale('log')\n",
    "plt.show()"
   ]
  },
  {
   "cell_type": "code",
   "execution_count": 120,
   "metadata": {
    "ExecuteTime": {
     "end_time": "2017-03-13T12:29:30.361733",
     "start_time": "2017-03-13T12:29:28.096004"
    },
    "collapsed": false
   },
   "outputs": [
    {
     "data": {
      "image/png": "[encoded data removed]",
      "text/plain": [
       "<matplotlib.figure.Figure at 0x11abf1f90>"
      ]
     },
     "metadata": {},
     "output_type": "display_data"
    }
   ],
   "source": [
    "matplotlib.style.use('fivethirtyeight')\n",
    "\n",
    "alloRegressPlot(np.array(dat.hub_num)*100000000, np.array(dat.hub_influence)*100000000,\\\n",
    "                'green','o','$Hub\\;(Num)$','$Hub\\;(Influence)$', loglog=True)"
   ]
  },
  {
   "cell_type": "markdown",
   "metadata": {
    "collapsed": true
   },
   "source": [
    "# 基于事件的微博公众人物排行榜"
   ]
  },
  {
   "cell_type": "markdown",
   "metadata": {},
   "source": [
    "## 读入数据"
   ]
  },
  {
   "cell_type": "code",
   "execution_count": 45,
   "metadata": {
    "ExecuteTime": {
     "end_time": "2017-03-17T18:20:41.012645",
     "start_time": "2017-03-17T18:20:40.764465"
    },
    "collapsed": false
   },
   "outputs": [
    {
     "data": {
      "text/html": [
       "<div>\n",
       "<table border=\"1\" class=\"dataframe\">\n",
       "  <thead>\n",
       "    <tr style=\"text-align: right;\">\n",
       "      <th></th>\n",
       "      <th>user</th>\n",
       "      <th>event</th>\n",
       "      <th>post</th>\n",
       "      <th>trans</th>\n",
       "    </tr>\n",
       "  </thead>\n",
       "  <tbody>\n",
       "    <tr>\n",
       "      <th>0</th>\n",
       "      <td>angelababy</td>\n",
       "      <td>芦山地震</td>\n",
       "      <td>3</td>\n",
       "      <td>7565</td>\n",
       "    </tr>\n",
       "    <tr>\n",
       "      <th>1</th>\n",
       "      <td>angelababy</td>\n",
       "      <td>马航失联</td>\n",
       "      <td>2</td>\n",
       "      <td>9979</td>\n",
       "    </tr>\n",
       "    <tr>\n",
       "      <th>2</th>\n",
       "      <td>angelababy</td>\n",
       "      <td>女排奥运夺冠</td>\n",
       "      <td>1</td>\n",
       "      <td>31729</td>\n",
       "    </tr>\n",
       "  </tbody>\n",
       "</table>\n",
       "</div>"
      ],
      "text/plain": [
       "         user   event  post  trans\n",
       "0  angelababy    芦山地震     3   7565\n",
       "1  angelababy    马航失联     2   9979\n",
       "2  angelababy  女排奥运夺冠     1  31729"
      ]
     },
     "execution_count": 45,
     "metadata": {},
     "output_type": "execute_result"
    }
   ],
   "source": [
    "de = pd.read_excel('/Users/chengjun/github/cjc/data/Hits_weibo_events.xlsx',   \n",
    "                delimiter=',', header = 0)\n",
    "de[:3]"
   ]
  },
  {
   "cell_type": "code",
   "execution_count": 46,
   "metadata": {
    "ExecuteTime": {
     "end_time": "2017-03-17T18:20:42.970036",
     "start_time": "2017-03-17T18:20:42.962981"
    },
    "collapsed": false
   },
   "outputs": [
    {
     "data": {
      "text/plain": [
       "(6962, 8490062, 63, 233)"
      ]
     },
     "execution_count": 46,
     "metadata": {},
     "output_type": "execute_result"
    }
   ],
   "source": [
    "de.post.sum(), de.trans.sum(), len(de.event.unique()), len(de.user.unique())"
   ]
  },
  {
   "cell_type": "code",
   "execution_count": 47,
   "metadata": {
    "ExecuteTime": {
     "end_time": "2017-03-17T18:20:47.294146",
     "start_time": "2017-03-17T18:20:45.186839"
    },
    "collapsed": false
   },
   "outputs": [
    {
     "data": {
      "image/png": "[encoded data removed]",
      "text/plain": [
       "<matplotlib.figure.Figure at 0x11958b9d0>"
      ]
     },
     "metadata": {},
     "output_type": "display_data"
    }
   ],
   "source": [
    "matplotlib.style.use('fivethirtyeight')\n",
    "\n",
    "alloRegressPlot(np.array(de.post), np.array(de.trans),\\\n",
    "                'blue','o','$Posts$','$Reposts$', loglog=True)"
   ]
  },
  {
   "cell_type": "markdown",
   "metadata": {},
   "source": [
    "## 计算参与度和影响力"
   ]
  },
  {
   "cell_type": "code",
   "execution_count": 48,
   "metadata": {
    "ExecuteTime": {
     "end_time": "2017-03-17T18:20:50.485177",
     "start_time": "2017-03-17T18:20:50.230270"
    },
    "collapsed": false
   },
   "outputs": [],
   "source": [
    "G = nx.DiGraph()\n",
    "for i in de.index:\n",
    "    G.add_edge(de.user[i], de.event[i], weight = de.post[i])\n",
    "    \n",
    "G1 = nx.DiGraph()\n",
    "for i in de.index:\n",
    "    G1.add_edge(de.user[i], de.event[i], weight = de.trans[i])"
   ]
  },
  {
   "cell_type": "code",
   "execution_count": 49,
   "metadata": {
    "ExecuteTime": {
     "end_time": "2017-03-17T18:20:51.387091",
     "start_time": "2017-03-17T18:20:51.275475"
    },
    "collapsed": false
   },
   "outputs": [
    {
     "data": {
      "text/html": [
       "<div>\n",
       "<table border=\"1\" class=\"dataframe\">\n",
       "  <thead>\n",
       "    <tr style=\"text-align: right;\">\n",
       "      <th></th>\n",
       "      <th>star</th>\n",
       "      <th>hub_num</th>\n",
       "    </tr>\n",
       "  </thead>\n",
       "  <tbody>\n",
       "    <tr>\n",
       "      <th>38</th>\n",
       "      <td>老沉</td>\n",
       "      <td>0.156704</td>\n",
       "    </tr>\n",
       "    <tr>\n",
       "      <th>170</th>\n",
       "      <td>胡舒立</td>\n",
       "      <td>0.051260</td>\n",
       "    </tr>\n",
       "    <tr>\n",
       "      <th>90</th>\n",
       "      <td>袁莉wsj</td>\n",
       "      <td>0.046309</td>\n",
       "    </tr>\n",
       "    <tr>\n",
       "      <th>56</th>\n",
       "      <td>宋鸿兵</td>\n",
       "      <td>0.039688</td>\n",
       "    </tr>\n",
       "    <tr>\n",
       "      <th>181</th>\n",
       "      <td>陈士渠</td>\n",
       "      <td>0.038170</td>\n",
       "    </tr>\n",
       "  </tbody>\n",
       "</table>\n",
       "</div>"
      ],
      "text/plain": [
       "      star   hub_num\n",
       "38      老沉  0.156704\n",
       "170    胡舒立  0.051260\n",
       "90   袁莉wsj  0.046309\n",
       "56     宋鸿兵  0.039688\n",
       "181    陈士渠  0.038170"
      ]
     },
     "execution_count": 49,
     "metadata": {},
     "output_type": "execute_result"
    }
   ],
   "source": [
    "h, a = nx.hits(G)\n",
    "\n",
    "stars =  de.user.unique().tolist()\n",
    "issues = de.event.unique().tolist()\n",
    "\n",
    "hub_dic = {}\n",
    "for i in stars:\n",
    "    hub_dic[i]=h[i]\n",
    "    \n",
    "star_df = pd.DataFrame(hub_dic.items(), columns = ['star', 'hub_num'])\n",
    "star_df.sort_values(by = 'hub_num', ascending = False)[:5]"
   ]
  },
  {
   "cell_type": "code",
   "execution_count": 50,
   "metadata": {
    "ExecuteTime": {
     "end_time": "2017-03-17T18:20:52.634219",
     "start_time": "2017-03-17T18:20:52.419267"
    },
    "collapsed": false
   },
   "outputs": [
    {
     "data": {
      "text/html": [
       "<div>\n",
       "<table border=\"1\" class=\"dataframe\">\n",
       "  <thead>\n",
       "    <tr style=\"text-align: right;\">\n",
       "      <th></th>\n",
       "      <th>star</th>\n",
       "      <th>hub_influence</th>\n",
       "    </tr>\n",
       "  </thead>\n",
       "  <tbody>\n",
       "    <tr>\n",
       "      <th>83</th>\n",
       "      <td>韩寒</td>\n",
       "      <td>0.250116</td>\n",
       "    </tr>\n",
       "    <tr>\n",
       "      <th>75</th>\n",
       "      <td>加措活佛-慈爱基金</td>\n",
       "      <td>0.074563</td>\n",
       "    </tr>\n",
       "    <tr>\n",
       "      <th>204</th>\n",
       "      <td>李开复</td>\n",
       "      <td>0.055236</td>\n",
       "    </tr>\n",
       "    <tr>\n",
       "      <th>61</th>\n",
       "      <td>陈坤</td>\n",
       "      <td>0.051161</td>\n",
       "    </tr>\n",
       "    <tr>\n",
       "      <th>62</th>\n",
       "      <td>杨幂</td>\n",
       "      <td>0.048763</td>\n",
       "    </tr>\n",
       "  </tbody>\n",
       "</table>\n",
       "</div>"
      ],
      "text/plain": [
       "          star  hub_influence\n",
       "83          韩寒       0.250116\n",
       "75   加措活佛-慈爱基金       0.074563\n",
       "204        李开复       0.055236\n",
       "61          陈坤       0.051161\n",
       "62          杨幂       0.048763"
      ]
     },
     "execution_count": 50,
     "metadata": {},
     "output_type": "execute_result"
    }
   ],
   "source": [
    "h1, a1 = nx.hits(G1)\n",
    "\n",
    "stars =  de.user.unique().tolist()\n",
    "issues = de.event.unique().tolist()\n",
    "\n",
    "hub_dic1 = {}\n",
    "for i in stars:\n",
    "    hub_dic1[i]=h1[i]\n",
    "    \n",
    "star_df1 = pd.DataFrame(hub_dic1.items(), columns = ['star', 'hub_influence'])\n",
    "star_df1.sort_values(by = 'hub_influence', ascending = False)[:5]"
   ]
  },
  {
   "cell_type": "code",
   "execution_count": 51,
   "metadata": {
    "ExecuteTime": {
     "end_time": "2017-03-17T18:20:53.593231",
     "start_time": "2017-03-17T18:20:53.580883"
    },
    "collapsed": false
   },
   "outputs": [
    {
     "data": {
      "text/html": [
       "<div>\n",
       "<table border=\"1\" class=\"dataframe\">\n",
       "  <thead>\n",
       "    <tr style=\"text-align: right;\">\n",
       "      <th></th>\n",
       "      <th>issue</th>\n",
       "      <th>authority_num</th>\n",
       "    </tr>\n",
       "  </thead>\n",
       "  <tbody>\n",
       "    <tr>\n",
       "      <th>51</th>\n",
       "      <td>马航失联</td>\n",
       "      <td>0.197055</td>\n",
       "    </tr>\n",
       "    <tr>\n",
       "      <th>37</th>\n",
       "      <td>棱镜门</td>\n",
       "      <td>0.096338</td>\n",
       "    </tr>\n",
       "    <tr>\n",
       "      <th>15</th>\n",
       "      <td>薄熙来</td>\n",
       "      <td>0.094438</td>\n",
       "    </tr>\n",
       "    <tr>\n",
       "      <th>21</th>\n",
       "      <td>芦山地震</td>\n",
       "      <td>0.065983</td>\n",
       "    </tr>\n",
       "    <tr>\n",
       "      <th>23</th>\n",
       "      <td>美国大选</td>\n",
       "      <td>0.062662</td>\n",
       "    </tr>\n",
       "  </tbody>\n",
       "</table>\n",
       "</div>"
      ],
      "text/plain": [
       "   issue  authority_num\n",
       "51  马航失联       0.197055\n",
       "37   棱镜门       0.096338\n",
       "15   薄熙来       0.094438\n",
       "21  芦山地震       0.065983\n",
       "23  美国大选       0.062662"
      ]
     },
     "execution_count": 51,
     "metadata": {},
     "output_type": "execute_result"
    }
   ],
   "source": [
    "authority_dic = {}\n",
    "for i in issues:\n",
    "    authority_dic[i]=a[i]\n",
    "    \n",
    "issue_df = pd.DataFrame(authority_dic.items(), columns = ['issue', 'authority_num'])\n",
    "issue_df.sort_values(by = 'authority_num', ascending = False)[:5]"
   ]
  },
  {
   "cell_type": "code",
   "execution_count": 52,
   "metadata": {
    "ExecuteTime": {
     "end_time": "2017-03-17T18:20:55.141581",
     "start_time": "2017-03-17T18:20:55.129139"
    },
    "collapsed": false
   },
   "outputs": [
    {
     "data": {
      "text/html": [
       "<div>\n",
       "<table border=\"1\" class=\"dataframe\">\n",
       "  <thead>\n",
       "    <tr style=\"text-align: right;\">\n",
       "      <th></th>\n",
       "      <th>issue</th>\n",
       "      <th>authority_influence</th>\n",
       "    </tr>\n",
       "  </thead>\n",
       "  <tbody>\n",
       "    <tr>\n",
       "      <th>21</th>\n",
       "      <td>芦山地震</td>\n",
       "      <td>0.493021</td>\n",
       "    </tr>\n",
       "    <tr>\n",
       "      <th>40</th>\n",
       "      <td>南海仲裁案</td>\n",
       "      <td>0.111005</td>\n",
       "    </tr>\n",
       "    <tr>\n",
       "      <th>50</th>\n",
       "      <td>穹顶之下</td>\n",
       "      <td>0.051366</td>\n",
       "    </tr>\n",
       "    <tr>\n",
       "      <th>27</th>\n",
       "      <td>天津港爆炸</td>\n",
       "      <td>0.037842</td>\n",
       "    </tr>\n",
       "    <tr>\n",
       "      <th>51</th>\n",
       "      <td>马航失联</td>\n",
       "      <td>0.037126</td>\n",
       "    </tr>\n",
       "  </tbody>\n",
       "</table>\n",
       "</div>"
      ],
      "text/plain": [
       "    issue  authority_influence\n",
       "21   芦山地震             0.493021\n",
       "40  南海仲裁案             0.111005\n",
       "50   穹顶之下             0.051366\n",
       "27  天津港爆炸             0.037842\n",
       "51   马航失联             0.037126"
      ]
     },
     "execution_count": 52,
     "metadata": {},
     "output_type": "execute_result"
    }
   ],
   "source": [
    "authority_dic1 = {}\n",
    "for i in issues:\n",
    "    authority_dic1[i]=a1[i]\n",
    "    \n",
    "issue_df1 = pd.DataFrame(authority_dic1.items(), columns = ['issue', 'authority_influence'])\n",
    "issue_df1.sort_values(by = 'authority_influence', ascending = False)[:5]"
   ]
  },
  {
   "cell_type": "markdown",
   "metadata": {},
   "source": [
    "## 合并数据"
   ]
  },
  {
   "cell_type": "code",
   "execution_count": 53,
   "metadata": {
    "ExecuteTime": {
     "end_time": "2017-03-17T18:20:57.539348",
     "start_time": "2017-03-17T18:20:57.522545"
    },
    "collapsed": false
   },
   "outputs": [
    {
     "data": {
      "text/html": [
       "<div>\n",
       "<table border=\"1\" class=\"dataframe\">\n",
       "  <thead>\n",
       "    <tr style=\"text-align: right;\">\n",
       "      <th></th>\n",
       "      <th>star</th>\n",
       "      <th>hub_num</th>\n",
       "      <th>hub_influence</th>\n",
       "    </tr>\n",
       "  </thead>\n",
       "  <tbody>\n",
       "    <tr>\n",
       "      <th>0</th>\n",
       "      <td>李晨</td>\n",
       "      <td>0.006369</td>\n",
       "      <td>9.269666e-03</td>\n",
       "    </tr>\n",
       "    <tr>\n",
       "      <th>1</th>\n",
       "      <td>御史在途</td>\n",
       "      <td>0.008121</td>\n",
       "      <td>4.101802e-04</td>\n",
       "    </tr>\n",
       "    <tr>\n",
       "      <th>2</th>\n",
       "      <td>郭斯特</td>\n",
       "      <td>0.000040</td>\n",
       "      <td>1.888101e-03</td>\n",
       "    </tr>\n",
       "    <tr>\n",
       "      <th>3</th>\n",
       "      <td>撒贝宁</td>\n",
       "      <td>0.000055</td>\n",
       "      <td>7.033468e-07</td>\n",
       "    </tr>\n",
       "    <tr>\n",
       "      <th>4</th>\n",
       "      <td>十年砍柴</td>\n",
       "      <td>0.011392</td>\n",
       "      <td>6.217104e-04</td>\n",
       "    </tr>\n",
       "  </tbody>\n",
       "</table>\n",
       "</div>"
      ],
      "text/plain": [
       "   star   hub_num  hub_influence\n",
       "0    李晨  0.006369   9.269666e-03\n",
       "1  御史在途  0.008121   4.101802e-04\n",
       "2   郭斯特  0.000040   1.888101e-03\n",
       "3   撒贝宁  0.000055   7.033468e-07\n",
       "4  十年砍柴  0.011392   6.217104e-04"
      ]
     },
     "execution_count": 53,
     "metadata": {},
     "output_type": "execute_result"
    }
   ],
   "source": [
    "star_dat = pd.merge(star_df, star_df1, on='star')\n",
    "star_dat[:5]"
   ]
  },
  {
   "cell_type": "code",
   "execution_count": 54,
   "metadata": {
    "ExecuteTime": {
     "end_time": "2017-03-17T18:20:58.304348",
     "start_time": "2017-03-17T18:20:58.290088"
    },
    "collapsed": false
   },
   "outputs": [
    {
     "data": {
      "text/html": [
       "<div>\n",
       "<table border=\"1\" class=\"dataframe\">\n",
       "  <thead>\n",
       "    <tr style=\"text-align: right;\">\n",
       "      <th></th>\n",
       "      <th>issue</th>\n",
       "      <th>authority_num</th>\n",
       "      <th>authority_influence</th>\n",
       "    </tr>\n",
       "  </thead>\n",
       "  <tbody>\n",
       "    <tr>\n",
       "      <th>0</th>\n",
       "      <td>海天盛宴事件</td>\n",
       "      <td>0.001049</td>\n",
       "      <td>0.000016</td>\n",
       "    </tr>\n",
       "    <tr>\n",
       "      <th>1</th>\n",
       "      <td>房姐事件</td>\n",
       "      <td>0.002198</td>\n",
       "      <td>0.000060</td>\n",
       "    </tr>\n",
       "    <tr>\n",
       "      <th>2</th>\n",
       "      <td>G20</td>\n",
       "      <td>0.008399</td>\n",
       "      <td>0.000325</td>\n",
       "    </tr>\n",
       "    <tr>\n",
       "      <th>3</th>\n",
       "      <td>校长开房</td>\n",
       "      <td>0.001678</td>\n",
       "      <td>0.002748</td>\n",
       "    </tr>\n",
       "    <tr>\n",
       "      <th>4</th>\n",
       "      <td>刘铁男案</td>\n",
       "      <td>0.011594</td>\n",
       "      <td>0.017091</td>\n",
       "    </tr>\n",
       "  </tbody>\n",
       "</table>\n",
       "</div>"
      ],
      "text/plain": [
       "    issue  authority_num  authority_influence\n",
       "0  海天盛宴事件       0.001049             0.000016\n",
       "1    房姐事件       0.002198             0.000060\n",
       "2     G20       0.008399             0.000325\n",
       "3    校长开房       0.001678             0.002748\n",
       "4    刘铁男案       0.011594             0.017091"
      ]
     },
     "execution_count": 54,
     "metadata": {},
     "output_type": "execute_result"
    }
   ],
   "source": [
    "event_dat = pd.merge(issue_df, issue_df1, on='issue')\n",
    "event_dat[:5]"
   ]
  },
  {
   "cell_type": "code",
   "execution_count": 55,
   "metadata": {
    "ExecuteTime": {
     "end_time": "2017-03-17T18:21:02.671468",
     "start_time": "2017-03-17T18:21:00.105912"
    },
    "collapsed": false
   },
   "outputs": [
    {
     "data": {
      "image/png": "[encoded data removed]",
      "text/plain": [
       "<matplotlib.figure.Figure at 0x118fc4ad0>"
      ]
     },
     "metadata": {},
     "output_type": "display_data"
    }
   ],
   "source": [
    "matplotlib.style.use('fivethirtyeight')\n",
    "\n",
    "alloRegressPlot(np.array(star_dat.hub_num)*100000000, np.array(star_dat.hub_influence)*100000000,\\\n",
    "                'green','o','$Hub\\;(Num)$','$Hub\\;(Influence)$', loglog=True)"
   ]
  },
  {
   "cell_type": "code",
   "execution_count": 56,
   "metadata": {
    "ExecuteTime": {
     "end_time": "2017-03-17T18:21:06.119351",
     "start_time": "2017-03-17T18:21:03.737454"
    },
    "collapsed": false
   },
   "outputs": [
    {
     "data": {
      "image/png": "[encoded data removed]",
      "text/plain": [
       "<matplotlib.figure.Figure at 0x1194c4610>"
      ]
     },
     "metadata": {},
     "output_type": "display_data"
    }
   ],
   "source": [
    "matplotlib.style.use('fivethirtyeight')\n",
    "\n",
    "alloRegressPlot(np.array(event_dat.authority_num)*100000000, np.array(event_dat.authority_influence)*100000000,\\\n",
    "                'blue','o','$Authority\\;(Num)$','$Authority\\;(Influence)$', loglog=True)"
   ]
  },
  {
   "cell_type": "markdown",
   "metadata": {},
   "source": [
    "## 保存数据"
   ]
  },
  {
   "cell_type": "code",
   "execution_count": 57,
   "metadata": {
    "ExecuteTime": {
     "end_time": "2017-03-17T18:21:25.966204",
     "start_time": "2017-03-17T18:21:25.943420"
    },
    "collapsed": true
   },
   "outputs": [],
   "source": [
    "event_dat.to_excel('/Users/chengjun/github/cjc/data/Hits_weibo_event_authority.xlsx')"
   ]
  },
  {
   "cell_type": "code",
   "execution_count": 58,
   "metadata": {
    "ExecuteTime": {
     "end_time": "2017-03-17T18:21:26.752970",
     "start_time": "2017-03-17T18:21:26.705461"
    },
    "collapsed": false
   },
   "outputs": [],
   "source": [
    "star_dat.to_excel('/Users/chengjun/github/cjc/data/Hits_weibo_star_hub.xlsx')"
   ]
  },
  {
   "cell_type": "code",
   "execution_count": null,
   "metadata": {
    "collapsed": true
   },
   "outputs": [],
   "source": []
  }
 ],
 "metadata": {
  "kernelspec": {
   "display_name": "Python 2",
   "language": "python",
   "name": "python2"
  },
  "language_info": {
   "codemirror_mode": {
    "name": "ipython",
    "version": 2
   },
   "file_extension": ".py",
   "mimetype": "text/x-python",
   "name": "python",
   "nbconvert_exporter": "python",
   "pygments_lexer": "ipython2",
   "version": "2.7.12"
  },
  "latex_envs": {
   "bibliofile": "biblio.bib",
   "cite_by": "apalike",
   "current_citInitial": 1,
   "eqLabelWithNumbers": true,
   "eqNumInitial": 0
  },
  "toc": {
   "toc_cell": false,
   "toc_number_sections": true,
   "toc_threshold": 6,
   "toc_window_display": true
  }
 },
 "nbformat": 4,
 "nbformat_minor": 0
}
